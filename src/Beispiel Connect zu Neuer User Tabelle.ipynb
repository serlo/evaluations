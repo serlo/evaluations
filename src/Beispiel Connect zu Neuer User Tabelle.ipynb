{
 "cells": [
  {
   "cell_type": "code",
   "execution_count": 1,
   "id": "04446c33",
   "metadata": {},
   "outputs": [
    {
     "data": {
      "text/plain": [
       "[('shubh', 269673),\n",
       " ('Lillllllllyyy', 269731),\n",
       " ('haeftdfsaq4d5326', 269672),\n",
       " ('angi', 163726),\n",
       " ('Quante', 146388),\n",
       " ('kevingook', 146440),\n",
       " ('katjadunn', 146668),\n",
       " ('Jaantj', 146671),\n",
       " ('StefanL38', 147624),\n",
       " ('ruchertora', 147647)]"
      ]
     },
     "execution_count": 1,
     "metadata": {},
     "output_type": "execute_result"
    }
   ],
   "source": [
    "import psycopg2\n",
    "\n",
    "user_db = psycopg2.connect(\n",
    "    database='kratos',\n",
    "    host='localhost',\n",
    "    user='serlo',\n",
    "    password='secret',\n",
    ")\n",
    "\n",
    "def user_query(sql):\n",
    "    cursor = user_db.cursor()\n",
    "    cursor.execute(sql)\n",
    "    return cursor.fetchall()\n",
    "\n",
    "\n",
    "def get_10_teachers():\n",
    "    return user_query(\n",
    "        \"\"\"\n",
    "        SELECT traits ->> 'username', (metadata_public ->> 'legacy_id')::int FROM identities \n",
    "            WHERE traits ->> 'interest' = 'teacher' \n",
    "            LIMIT 10\n",
    "        \"\"\"\n",
    "    )\n",
    "\n",
    "get_10_teachers()\n",
    "\n",
    "# legacy_id (the second value in the set) can be used to join information from mysql about the user"
   ]
  },
  {
   "cell_type": "code",
   "execution_count": null,
   "id": "1b46d30d",
   "metadata": {},
   "outputs": [],
   "source": []
  }
 ],
 "metadata": {
  "kernelspec": {
   "display_name": "Python 3 (ipykernel)",
   "language": "python",
   "name": "python3"
  },
  "language_info": {
   "codemirror_mode": {
    "name": "ipython",
    "version": 3
   },
   "file_extension": ".py",
   "mimetype": "text/x-python",
   "name": "python",
   "nbconvert_exporter": "python",
   "pygments_lexer": "ipython3",
   "version": "3.8.10"
  }
 },
 "nbformat": 4,
 "nbformat_minor": 5
}
