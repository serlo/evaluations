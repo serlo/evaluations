{
 "cells": [
  {
   "cell_type": "code",
   "execution_count": 1,
   "id": "9037980c",
   "metadata": {},
   "outputs": [],
   "source": [
    "\"\"\"\n",
    "While doing '2024-06-03 Inhalte nach Schultyp' \n",
    "I noticed some differences between the metadata query and another way of getting entities.\n",
    "So, I decided to investigate it further and came to some interesting results.\n",
    "If you want a TD;DR, scroll down\n",
    "\"\"\"\n",
    "\n",
    "%run 'get_all_entities_from_taxonomy_tree.ipynb'"
   ]
  },
  {
   "cell_type": "code",
   "execution_count": 2,
   "id": "61035f32",
   "metadata": {},
   "outputs": [
    {
     "name": "stdout",
     "output_type": "stream",
     "text": [
      "\n",
      "This is a simple entity query.\n",
      "Total not trashed entities of types supported by metadata query: 13964\n",
      "Total such German ones: 12266\n",
      "\n"
     ]
    }
   ],
   "source": [
    "def naive_entities_query(instance_id=None):\n",
    "    return queryone(\n",
    "        \"\"\"\n",
    "    SELECT COUNT(*) FROM entity\n",
    "    JOIN uuid ON uuid.id = entity.id\n",
    "    JOIN type ON type_id = type.id\n",
    "    WHERE trashed = 0\n",
    "        AND (%s is NULL OR entity.instance_id = %s)\n",
    "        AND type.name IN (\"applet\", \"article\", \"course\", \"text-exercise\",\n",
    "                          \"text-exercise-group\", \"video\")\n",
    "    \"\"\",\n",
    "        [instance_id, instance_id],\n",
    "    )[0]\n",
    "\n",
    "\n",
    "all_naive = naive_entities_query()\n",
    "all_naive_german = naive_entities_query(1)\n",
    "\n",
    "print(\n",
    "    f\"\"\"\n",
    "This is a simple entity query.\n",
    "Total not trashed entities of types supported by metadata query: {all_naive}\n",
    "Total such German ones: {all_naive_german}\n",
    "\"\"\"\n",
    ")"
   ]
  },
  {
   "cell_type": "code",
   "execution_count": 3,
   "id": "3fdd22d7",
   "metadata": {},
   "outputs": [
    {
     "name": "stdout",
     "output_type": "stream",
     "text": [
      "\n",
      "This is a query for live entities (again just the supported types by metadata query).\n",
      "Total: 11072\n",
      "German: 9701\n",
      "\n",
      "As you can see, there is a lot of entities without any revision\n",
      "All instances: 2892\n",
      "German: 2565\n",
      "\n"
     ]
    }
   ],
   "source": [
    "def entities_with_current_revision(instance_id=None):\n",
    "    return queryone(\n",
    "        \"\"\"\n",
    "    SELECT COUNT(*) FROM entity\n",
    "    JOIN uuid ON uuid.id = entity.id\n",
    "    JOIN entity_revision ON entity_revision.id = current_revision_id\n",
    "    JOIN type ON type_id = type.id\n",
    "    WHERE trashed = 0\n",
    "        AND (%s is NULL OR entity.instance_id = %s)\n",
    "        AND type.name IN (\"applet\", \"article\", \"course\", \"text-exercise\",\n",
    "                          \"text-exercise-group\", \"video\")\n",
    "    \"\"\",\n",
    "        [instance_id, instance_id],\n",
    "    )[0]\n",
    "\n",
    "\n",
    "all_current = entities_with_current_revision()\n",
    "all_current_german = entities_with_current_revision(1)\n",
    "difference_all_current = all_naive - all_current\n",
    "\n",
    "print(\n",
    "    f\"\"\"\n",
    "This is a query for live entities (again just the supported types by metadata query).\n",
    "Total: {all_current}\n",
    "German: {all_current_german}\n",
    "\n",
    "As you can see, there is a lot of entities without any revision\n",
    "All instances: {difference_all_current}\n",
    "German: {all_naive_german - all_current_german}\n",
    "\"\"\"\n",
    ")"
   ]
  },
  {
   "cell_type": "code",
   "execution_count": 4,
   "id": "7f8c1d31",
   "metadata": {},
   "outputs": [
    {
     "name": "stdout",
     "output_type": "stream",
     "text": [
      "\n",
      "If we apply the license filter we have the following result:\n",
      "Total with license: 9903\n",
      "German with license: 8532\n",
      "\n",
      "Now, a lot of entities are excluded, because they haven't any license that are valid in the database.\n",
      "All excluded: 1169\n",
      "German excluded: 1169\n",
      "\n"
     ]
    }
   ],
   "source": [
    "def entities_with_valid_license(instance_id=None):\n",
    "    return queryall(\n",
    "        \"\"\"\n",
    "    SELECT entity.id FROM entity\n",
    "    JOIN uuid ON uuid.id = entity.id\n",
    "    JOIN type ON type_id = type.id\n",
    "    JOIN entity_revision on current_revision_id = entity_revision.id\n",
    "    JOIN license ON license.id = entity.license_id\n",
    "    WHERE trashed = 0\n",
    "        AND (%s is NULL OR entity.instance_id = %s)\n",
    "        AND type.name IN (\"applet\", \"article\", \"course\", \"text-exercise\",\n",
    "                          \"text-exercise-group\", \"video\")\n",
    "    \"\"\",\n",
    "        [instance_id, instance_id],\n",
    "    )\n",
    "\n",
    "\n",
    "all_license = entities_with_valid_license()\n",
    "german_license = entities_with_valid_license(1)\n",
    "\n",
    "# Different from the previous one, we have to see how many rows are there, because we groupby the count\n",
    "number_all_license = len(all_license)\n",
    "number_german_license = len(german_license)\n",
    "difference_all_license = number_all_license - all_current\n",
    "\n",
    "\n",
    "difference_all_license = all_current - number_all_license\n",
    "\n",
    "print(\n",
    "    f\"\"\"\n",
    "If we apply the license filter we have the following result:\n",
    "Total with license: {number_all_license}\n",
    "German with license: {number_german_license}\n",
    "\n",
    "Now, a lot of entities are excluded, because they haven't any license that are valid in the database.\n",
    "All excluded: {difference_all_license}\n",
    "German excluded: {all_current_german - number_german_license}\n",
    "\"\"\"\n",
    ")"
   ]
  },
  {
   "cell_type": "code",
   "execution_count": 5,
   "id": "d5bedf7b",
   "metadata": {},
   "outputs": [
    {
     "name": "stdout",
     "output_type": "stream",
     "text": [
      "\n",
      "And if we go on filter the ones without taxonomies we get\n",
      "Total with taxonomy: 9616\n",
      "German: 8258\n",
      "\n",
      "It means we have 287 entities without any taxonomy. \n",
      "In German instance it is 274\n",
      "\n"
     ]
    }
   ],
   "source": [
    "# The function get_entities_with_taxonomy() is in the get_all_entities_from_taxonomy_tree.ipynb\n",
    "all_with_taxonomy = get_entities_with_taxonomy()\n",
    "german_with_taxonomy = get_entities_with_taxonomy(1)\n",
    "\n",
    "# Different from the previous one, we have to see how many rows are there, because we groupby the count\n",
    "number_all_with_taxonomy = len(all_with_taxonomy)\n",
    "number_german_with_taxonomy = len(german_with_taxonomy)\n",
    "difference_with_taxonomy = number_all_license - number_all_with_taxonomy\n",
    "\n",
    "print(\n",
    "    f\"\"\"\n",
    "And if we go on filter the ones without taxonomies we get\n",
    "Total with taxonomy: {number_all_with_taxonomy}\n",
    "German: {number_german_with_taxonomy}\n",
    "\n",
    "It means we have {difference_with_taxonomy} entities without any taxonomy. \n",
    "In German instance it is {number_german_license - number_german_with_taxonomy}\n",
    "\"\"\"\n",
    ")"
   ]
  },
  {
   "cell_type": "code",
   "execution_count": 6,
   "id": "f8cc74dc",
   "metadata": {},
   "outputs": [
    {
     "data": {
      "text/markdown": [
       "### Last Update: 2024-06-13"
      ],
      "text/plain": [
       "<IPython.core.display.Markdown object>"
      ]
     },
     "metadata": {},
     "output_type": "display_data"
    },
    {
     "name": "stdout",
     "output_type": "stream",
     "text": [
      "\n",
      "Now lets see the metadata query \n",
      "All metadata entities 8733\n",
      "German: 7375\n",
      "\n"
     ]
    }
   ],
   "source": [
    "\"\"\"\n",
    "Metadata query as it is BEFORE merging the entity_revision_field into entity_revision\n",
    "Current query in production with some changes\n",
    "See https://github.com/serlo/api.serlo.org/blob/production/packages/server/src/schema/metadata/resolvers.ts\n",
    "I removed the limit and the pagination and added a parameter for querying the subject, \n",
    "in order to know how many are in German mathematics instance.\n",
    "\n",
    "\n",
    "NOTE: the merging of the entity_revision_field may occur in productionsoon,\n",
    "so we could adapt and rerun this notebooke then\n",
    "\"\"\"\n",
    "from datetime import date\n",
    "\n",
    "display(Markdown(f\"### Last Update: {date.today()}\"))\n",
    "\n",
    "\n",
    "def metadata_query(subdomain=None, subject_id=None):\n",
    "    return queryall(\n",
    "        \"\"\"\n",
    "       WITH RECURSIVE subject_mapping AS (\n",
    "            SELECT\n",
    "                subject.id AS term_taxonomy_id,\n",
    "                subject.id AS subject_id,\n",
    "                root.id AS root_id\n",
    "            FROM term_taxonomy root\n",
    "            JOIN term_taxonomy subject ON subject.parent_id = root.id\n",
    "            WHERE root.parent_id IS NULL\n",
    "            OR root.id IN (106081, 146728)\n",
    "\n",
    "            UNION\n",
    "\n",
    "            SELECT\n",
    "                child.id,\n",
    "                subject_mapping.subject_id,\n",
    "                subject_mapping.root_id\n",
    "            FROM term_taxonomy child\n",
    "            JOIN subject_mapping ON subject_mapping.term_taxonomy_id = child.parent_id\n",
    "            -- \"Fächer im Aufbau\" taxonomy is on the level of normal Serlo subjects, therefore we need a level below it.\n",
    "            -- \"Partner\" taxonomy is below the subject \"Mathematik\", but we only want the entities with the specific partner as the subject.\n",
    "            WHERE child.parent_id NOT IN (87993, 106081, 146728)\n",
    "                -- Exclude content under \"Baustelle\", \"Community\", \"Zum Testen\" and \"Testbereich\" taxonomies\n",
    "                AND child.id NOT IN (75211, 105140, 107772, 135390, 25107, 106082)\n",
    "        )\n",
    "        SELECT\n",
    "            entity.id,\n",
    "            JSON_ARRAYAGG(subject_mapping.subject_id) AS subjectIds,\n",
    "            type.name AS resourceType,\n",
    "            MIN(field_title.value) AS title,\n",
    "            MIN(field_description.value) AS description,\n",
    "            entity.date AS dateCreated,\n",
    "            entity_revision.date AS dateModified,\n",
    "            entity.current_revision_id AS currentRevisionId,\n",
    "            license.url AS licenseUrl,\n",
    "            license.original_author_url as originalAuthorUrl,\n",
    "            instance.subdomain AS instance,\n",
    "            JSON_ARRAYAGG(term_taxonomy.id) AS taxonomyTermIds,\n",
    "            JSON_OBJECTAGG(term_taxonomy.id, term.name) AS termNames,\n",
    "            JSON_OBJECTAGG(user.id, user.username) AS authors,\n",
    "            JSON_OBJECTAGG(all_revisions_of_entity.id, user.id) AS authorEdits\n",
    "        FROM entity\n",
    "        JOIN uuid ON uuid.id = entity.id\n",
    "        JOIN instance ON entity.instance_id = instance.id\n",
    "        JOIN type on entity.type_id = type.id\n",
    "        JOIN license on license.id = entity.license_id\n",
    "        JOIN entity_revision ON entity.current_revision_id = entity_revision.id\n",
    "        LEFT JOIN entity_revision_field field_title on\n",
    "            field_title.entity_revision_id = entity_revision.id AND\n",
    "            field_title.field = \"title\"\n",
    "        LEFT JOIN entity_revision_field field_description on\n",
    "            field_description.entity_revision_id = entity_revision.id AND\n",
    "            field_description.field = \"meta_description\"\n",
    "        JOIN term_taxonomy_entity on term_taxonomy_entity.entity_id = entity.id\n",
    "        JOIN term_taxonomy on term_taxonomy_entity.term_taxonomy_id = term_taxonomy.id\n",
    "        JOIN term on term_taxonomy.term_id = term.id\n",
    "        JOIN entity_revision all_revisions_of_entity ON all_revisions_of_entity.repository_id = entity.id\n",
    "        JOIN user ON all_revisions_of_entity.author_id = user.id\n",
    "        JOIN subject_mapping on subject_mapping.term_taxonomy_id = term_taxonomy_entity.term_taxonomy_id\n",
    "        WHERE (%s is NULL OR instance.subdomain = %s)\n",
    "            AND uuid.trashed = 0\n",
    "            AND type.name IN (\"applet\", \"article\", \"course\", \"text-exercise\",\n",
    "                              \"text-exercise-group\", \"video\")\n",
    "            AND (%s is NULL OR subject_mapping.subject_id = %s)\n",
    "            AND NOT subject_mapping.subject_id = 146728\n",
    "        GROUP BY entity.id\n",
    "        ORDER BY entity.id\n",
    "        \"\"\",\n",
    "        [subdomain, subdomain, subject_id, subject_id],\n",
    "    )\n",
    "\n",
    "\n",
    "all_metadata = len(metadata_query())\n",
    "all_metadata_german = len(metadata_query(\"de\"))\n",
    "print(\n",
    "    f\"\"\"\n",
    "Now lets see the metadata query \n",
    "All metadata entities {all_metadata}\n",
    "German: {all_metadata_german}\n",
    "\"\"\"\n",
    ")"
   ]
  },
  {
   "cell_type": "code",
   "execution_count": 7,
   "id": "326269fe",
   "metadata": {},
   "outputs": [
    {
     "name": "stdout",
     "output_type": "stream",
     "text": [
      "\n",
      "Ok, the difference may be caused by the fact that we filter out entities under \n",
      "Testbereich etc.\n",
      "If we query metadata without any filter, we get:\n",
      "\n",
      "Total: 9616\n",
      "German: 8258\n",
      "\n",
      "Alright, are metadata query and query filtering out entities without taxonomy equal? True\n",
      "\n"
     ]
    }
   ],
   "source": [
    "def metadata_query_no_filter(subdomain=None, subject_id=None):\n",
    "    return queryall(\n",
    "        \"\"\"\n",
    "        WITH RECURSIVE subject_mapping AS (\n",
    "            SELECT\n",
    "                subject.id AS term_taxonomy_id,\n",
    "                subject.id AS subject_id,\n",
    "                root.id AS root_id\n",
    "            FROM term_taxonomy root\n",
    "            JOIN term_taxonomy subject ON subject.parent_id = root.id\n",
    "            WHERE root.parent_id IS NULL\n",
    "\n",
    "            UNION\n",
    "\n",
    "            SELECT\n",
    "                child.id,\n",
    "                subject_mapping.subject_id,\n",
    "                subject_mapping.root_id\n",
    "            FROM term_taxonomy child\n",
    "            JOIN subject_mapping ON subject_mapping.term_taxonomy_id = child.parent_id\n",
    "        )\n",
    "        SELECT\n",
    "           entity_id\n",
    "        FROM entity\n",
    "        JOIN uuid ON uuid.id = entity.id\n",
    "        JOIN instance ON entity.instance_id = instance.id\n",
    "        JOIN type on entity.type_id = type.id\n",
    "        JOIN license on license.id = entity.license_id\n",
    "        JOIN entity_revision ON entity.current_revision_id = entity_revision.id\n",
    "        LEFT JOIN entity_revision_field field_title on\n",
    "            field_title.entity_revision_id = entity_revision.id AND\n",
    "            field_title.field = \"title\"\n",
    "        LEFT JOIN entity_revision_field field_description on\n",
    "            field_description.entity_revision_id = entity_revision.id AND\n",
    "            field_description.field = \"meta_description\"\n",
    "        JOIN term_taxonomy_entity on term_taxonomy_entity.entity_id = entity.id\n",
    "        JOIN term_taxonomy on term_taxonomy_entity.term_taxonomy_id = term_taxonomy.id\n",
    "        JOIN term on term_taxonomy.term_id = term.id\n",
    "        JOIN entity_revision all_revisions_of_entity ON all_revisions_of_entity.repository_id = entity.id\n",
    "        JOIN user ON all_revisions_of_entity.author_id = user.id\n",
    "        JOIN subject_mapping on subject_mapping.term_taxonomy_id = term_taxonomy_entity.term_taxonomy_id\n",
    "        WHERE (%s is NULL OR instance.subdomain = %s)\n",
    "            AND uuid.trashed = 0\n",
    "            AND type.name IN (\"applet\", \"article\", \"course\", \"text-exercise\",\n",
    "                              \"text-exercise-group\", \"video\")\n",
    "            -- added to check how much are under Math\n",
    "            AND (%s is NULL OR subject_mapping.subject_id = %s)\n",
    "        GROUP BY entity.id\n",
    "        ORDER BY entity.id\n",
    "        \"\"\",\n",
    "        [subdomain, subdomain, subject_id, subject_id],\n",
    "    )\n",
    "\n",
    "\n",
    "metadata_no_filter = len(metadata_query_no_filter())\n",
    "german_no_filter = len(metadata_query_no_filter(\"de\"))\n",
    "\n",
    "print(\n",
    "    f\"\"\"\n",
    "Ok, the difference may be caused by the fact that we filter out entities under \n",
    "Testbereich etc.\n",
    "If we query metadata without any filter, we get:\n",
    "\n",
    "Total: {metadata_no_filter}\n",
    "German: {german_no_filter}\n",
    "\n",
    "Alright, are metadata query and query filtering out entities without taxonomy equal? {number_all_with_taxonomy == metadata_no_filter}\n",
    "\"\"\"\n",
    ")"
   ]
  },
  {
   "cell_type": "code",
   "execution_count": 8,
   "id": "f9c6bc1c",
   "metadata": {},
   "outputs": [],
   "source": [
    "# explanation\n",
    "%run 'get_all_entities_from_taxonomy_tree.ipynb'"
   ]
  },
  {
   "cell_type": "code",
   "execution_count": 9,
   "id": "11a0f1d4",
   "metadata": {},
   "outputs": [
    {
     "name": "stdout",
     "output_type": "stream",
     "text": [
      "\n",
      "Now, querying from the taxonomy tree (it means, we start from German root \n",
      "taxonomy and go down to all entities) is somehow getting less than querying from the\n",
      "instance \n",
      "From taxonomy tree 8220\n",
      "Difference: 38\n",
      "\n",
      "This happens because there are some taxonomies similar as German Root, i.e. they don't have parent and\n",
      "are in the German instance.\n",
      "\n",
      "Anyway, I think it is safe to keep using get_all_entities_from_taxonomy_tree in the notebook for Schultypen\n",
      "\n"
     ]
    }
   ],
   "source": [
    "german_tree = len(get_all_entities_from_taxonomy_tree([3]))\n",
    "print(\n",
    "    f\"\"\"\n",
    "Now, querying from the taxonomy tree (it means, we start from German root \n",
    "taxonomy and go down to all entities) is somehow getting less than querying from the\n",
    "instance \n",
    "From taxonomy tree {german_tree}\n",
    "Difference: {german_no_filter - german_tree}\n",
    "\n",
    "This happens because there are some taxonomies similar as German Root, i.e. they don't have parent and\n",
    "are in the German instance.\n",
    "\n",
    "Anyway, I think it is safe to keep using get_all_entities_from_taxonomy_tree in the notebook for Schultypen\n",
    "\"\"\"\n",
    ")"
   ]
  },
  {
   "cell_type": "code",
   "execution_count": 10,
   "id": "8c8d239a",
   "metadata": {},
   "outputs": [],
   "source": [
    "# explanation\n",
    "%run 'get_all_entities_from_taxonomy_tree.ipynb'"
   ]
  },
  {
   "cell_type": "code",
   "execution_count": 11,
   "id": "bb5c1d40",
   "metadata": {},
   "outputs": [
    {
     "name": "stdout",
     "output_type": "stream",
     "text": [
      "\n",
      "At last, regarding German mathematics we get the following results\n",
      "\n",
      "using the (modified) metadata query: 5557\n",
      "and getting the entities from taxonomy tree: 5525\n",
      "\n",
      "Difference: 32\n",
      "\n",
      "I can't really explain why there is this difference, but I think anyway it is safe to ignore it.\n",
      "\n"
     ]
    }
   ],
   "source": [
    "math_metadata = len(metadata_query_no_filter(\"de\", 5))\n",
    "math_from_tree = len(get_all_entities_from_taxonomy_tree([5]))\n",
    "\n",
    "print(\n",
    "    f\"\"\"\n",
    "At last, regarding German mathematics we get the following results\n",
    "\n",
    "using the (modified) metadata query: {math_metadata}\n",
    "and getting the entities from taxonomy tree: {math_from_tree}\n",
    "\n",
    "Difference: {math_metadata - math_from_tree}\n",
    "\n",
    "I can't really explain why there is this difference, but I think anyway it is safe to ignore it.\n",
    "\"\"\"\n",
    ")"
   ]
  },
  {
   "cell_type": "code",
   "execution_count": 12,
   "id": "649d2af8",
   "metadata": {},
   "outputs": [
    {
     "data": {
      "text/markdown": [
       "\n",
       "# Results\n",
       "\n",
       "### There are a lot of entities (2892) without any current revisions \n",
       "Of course, some of them are just waiting for review, but I think we just have a bad use of the platforma,\n",
       "that the content unit could take care of.\n",
       "### Metadata Query is excluding a lot of entities (1169) which have license that isn't found in the database \n",
       "Since we changed the way of handling the license, they are probably valid.  \n",
       "_Action_: Stop filtering the license in the metadata query and handle it in another way.\n",
       "### There are some entities (287) without any taxomomy. These are they: \n"
      ],
      "text/plain": [
       "<IPython.core.display.Markdown object>"
      ]
     },
     "metadata": {},
     "output_type": "display_data"
    },
    {
     "data": {
      "text/markdown": [
       "[https://serlo.org/21071](https://serlo.org/21071)"
      ],
      "text/plain": [
       "<IPython.core.display.Markdown object>"
      ]
     },
     "metadata": {},
     "output_type": "display_data"
    },
    {
     "data": {
      "text/markdown": [
       "[https://serlo.org/21073](https://serlo.org/21073)"
      ],
      "text/plain": [
       "<IPython.core.display.Markdown object>"
      ]
     },
     "metadata": {},
     "output_type": "display_data"
    },
    {
     "data": {
      "text/markdown": [
       "[https://serlo.org/22676](https://serlo.org/22676)"
      ],
      "text/plain": [
       "<IPython.core.display.Markdown object>"
      ]
     },
     "metadata": {},
     "output_type": "display_data"
    },
    {
     "data": {
      "text/markdown": [
       "[https://serlo.org/22685](https://serlo.org/22685)"
      ],
      "text/plain": [
       "<IPython.core.display.Markdown object>"
      ]
     },
     "metadata": {},
     "output_type": "display_data"
    },
    {
     "data": {
      "text/markdown": [
       "[https://serlo.org/22686](https://serlo.org/22686)"
      ],
      "text/plain": [
       "<IPython.core.display.Markdown object>"
      ]
     },
     "metadata": {},
     "output_type": "display_data"
    },
    {
     "data": {
      "text/markdown": [
       "[https://serlo.org/22687](https://serlo.org/22687)"
      ],
      "text/plain": [
       "<IPython.core.display.Markdown object>"
      ]
     },
     "metadata": {},
     "output_type": "display_data"
    },
    {
     "data": {
      "text/markdown": [
       "[https://serlo.org/22688](https://serlo.org/22688)"
      ],
      "text/plain": [
       "<IPython.core.display.Markdown object>"
      ]
     },
     "metadata": {},
     "output_type": "display_data"
    },
    {
     "data": {
      "text/markdown": [
       "[https://serlo.org/22689](https://serlo.org/22689)"
      ],
      "text/plain": [
       "<IPython.core.display.Markdown object>"
      ]
     },
     "metadata": {},
     "output_type": "display_data"
    },
    {
     "data": {
      "text/markdown": [
       "[https://serlo.org/22692](https://serlo.org/22692)"
      ],
      "text/plain": [
       "<IPython.core.display.Markdown object>"
      ]
     },
     "metadata": {},
     "output_type": "display_data"
    },
    {
     "data": {
      "text/markdown": [
       "[https://serlo.org/22695](https://serlo.org/22695)"
      ],
      "text/plain": [
       "<IPython.core.display.Markdown object>"
      ]
     },
     "metadata": {},
     "output_type": "display_data"
    },
    {
     "data": {
      "text/markdown": [
       "[https://serlo.org/22708](https://serlo.org/22708)"
      ],
      "text/plain": [
       "<IPython.core.display.Markdown object>"
      ]
     },
     "metadata": {},
     "output_type": "display_data"
    },
    {
     "data": {
      "text/markdown": [
       "[https://serlo.org/22713](https://serlo.org/22713)"
      ],
      "text/plain": [
       "<IPython.core.display.Markdown object>"
      ]
     },
     "metadata": {},
     "output_type": "display_data"
    },
    {
     "data": {
      "text/markdown": [
       "[https://serlo.org/22716](https://serlo.org/22716)"
      ],
      "text/plain": [
       "<IPython.core.display.Markdown object>"
      ]
     },
     "metadata": {},
     "output_type": "display_data"
    },
    {
     "data": {
      "text/markdown": [
       "[https://serlo.org/22719](https://serlo.org/22719)"
      ],
      "text/plain": [
       "<IPython.core.display.Markdown object>"
      ]
     },
     "metadata": {},
     "output_type": "display_data"
    },
    {
     "data": {
      "text/markdown": [
       "[https://serlo.org/22723](https://serlo.org/22723)"
      ],
      "text/plain": [
       "<IPython.core.display.Markdown object>"
      ]
     },
     "metadata": {},
     "output_type": "display_data"
    },
    {
     "data": {
      "text/markdown": [
       "[https://serlo.org/22726](https://serlo.org/22726)"
      ],
      "text/plain": [
       "<IPython.core.display.Markdown object>"
      ]
     },
     "metadata": {},
     "output_type": "display_data"
    },
    {
     "data": {
      "text/markdown": [
       "[https://serlo.org/25157](https://serlo.org/25157)"
      ],
      "text/plain": [
       "<IPython.core.display.Markdown object>"
      ]
     },
     "metadata": {},
     "output_type": "display_data"
    },
    {
     "data": {
      "text/markdown": [
       "[https://serlo.org/25390](https://serlo.org/25390)"
      ],
      "text/plain": [
       "<IPython.core.display.Markdown object>"
      ]
     },
     "metadata": {},
     "output_type": "display_data"
    },
    {
     "data": {
      "text/markdown": [
       "[https://serlo.org/25398](https://serlo.org/25398)"
      ],
      "text/plain": [
       "<IPython.core.display.Markdown object>"
      ]
     },
     "metadata": {},
     "output_type": "display_data"
    },
    {
     "data": {
      "text/markdown": [
       "[https://serlo.org/25400](https://serlo.org/25400)"
      ],
      "text/plain": [
       "<IPython.core.display.Markdown object>"
      ]
     },
     "metadata": {},
     "output_type": "display_data"
    },
    {
     "data": {
      "text/markdown": [
       "[https://serlo.org/25402](https://serlo.org/25402)"
      ],
      "text/plain": [
       "<IPython.core.display.Markdown object>"
      ]
     },
     "metadata": {},
     "output_type": "display_data"
    },
    {
     "data": {
      "text/markdown": [
       "[https://serlo.org/25404](https://serlo.org/25404)"
      ],
      "text/plain": [
       "<IPython.core.display.Markdown object>"
      ]
     },
     "metadata": {},
     "output_type": "display_data"
    },
    {
     "data": {
      "text/markdown": [
       "[https://serlo.org/25406](https://serlo.org/25406)"
      ],
      "text/plain": [
       "<IPython.core.display.Markdown object>"
      ]
     },
     "metadata": {},
     "output_type": "display_data"
    },
    {
     "data": {
      "text/markdown": [
       "[https://serlo.org/26467](https://serlo.org/26467)"
      ],
      "text/plain": [
       "<IPython.core.display.Markdown object>"
      ]
     },
     "metadata": {},
     "output_type": "display_data"
    },
    {
     "data": {
      "text/markdown": [
       "[https://serlo.org/26470](https://serlo.org/26470)"
      ],
      "text/plain": [
       "<IPython.core.display.Markdown object>"
      ]
     },
     "metadata": {},
     "output_type": "display_data"
    },
    {
     "data": {
      "text/markdown": [
       "[https://serlo.org/26477](https://serlo.org/26477)"
      ],
      "text/plain": [
       "<IPython.core.display.Markdown object>"
      ]
     },
     "metadata": {},
     "output_type": "display_data"
    },
    {
     "data": {
      "text/markdown": [
       "[https://serlo.org/26483](https://serlo.org/26483)"
      ],
      "text/plain": [
       "<IPython.core.display.Markdown object>"
      ]
     },
     "metadata": {},
     "output_type": "display_data"
    },
    {
     "data": {
      "text/markdown": [
       "[https://serlo.org/26487](https://serlo.org/26487)"
      ],
      "text/plain": [
       "<IPython.core.display.Markdown object>"
      ]
     },
     "metadata": {},
     "output_type": "display_data"
    },
    {
     "data": {
      "text/markdown": [
       "[https://serlo.org/26489](https://serlo.org/26489)"
      ],
      "text/plain": [
       "<IPython.core.display.Markdown object>"
      ]
     },
     "metadata": {},
     "output_type": "display_data"
    },
    {
     "data": {
      "text/markdown": [
       "[https://serlo.org/26493](https://serlo.org/26493)"
      ],
      "text/plain": [
       "<IPython.core.display.Markdown object>"
      ]
     },
     "metadata": {},
     "output_type": "display_data"
    },
    {
     "data": {
      "text/markdown": [
       "[https://serlo.org/27676](https://serlo.org/27676)"
      ],
      "text/plain": [
       "<IPython.core.display.Markdown object>"
      ]
     },
     "metadata": {},
     "output_type": "display_data"
    },
    {
     "data": {
      "text/markdown": [
       "[https://serlo.org/27678](https://serlo.org/27678)"
      ],
      "text/plain": [
       "<IPython.core.display.Markdown object>"
      ]
     },
     "metadata": {},
     "output_type": "display_data"
    },
    {
     "data": {
      "text/markdown": [
       "[https://serlo.org/27681](https://serlo.org/27681)"
      ],
      "text/plain": [
       "<IPython.core.display.Markdown object>"
      ]
     },
     "metadata": {},
     "output_type": "display_data"
    },
    {
     "data": {
      "text/markdown": [
       "[https://serlo.org/27803](https://serlo.org/27803)"
      ],
      "text/plain": [
       "<IPython.core.display.Markdown object>"
      ]
     },
     "metadata": {},
     "output_type": "display_data"
    },
    {
     "data": {
      "text/markdown": [
       "[https://serlo.org/28451](https://serlo.org/28451)"
      ],
      "text/plain": [
       "<IPython.core.display.Markdown object>"
      ]
     },
     "metadata": {},
     "output_type": "display_data"
    },
    {
     "data": {
      "text/markdown": [
       "[https://serlo.org/28459](https://serlo.org/28459)"
      ],
      "text/plain": [
       "<IPython.core.display.Markdown object>"
      ]
     },
     "metadata": {},
     "output_type": "display_data"
    },
    {
     "data": {
      "text/markdown": [
       "[https://serlo.org/28466](https://serlo.org/28466)"
      ],
      "text/plain": [
       "<IPython.core.display.Markdown object>"
      ]
     },
     "metadata": {},
     "output_type": "display_data"
    },
    {
     "data": {
      "text/markdown": [
       "[https://serlo.org/28479](https://serlo.org/28479)"
      ],
      "text/plain": [
       "<IPython.core.display.Markdown object>"
      ]
     },
     "metadata": {},
     "output_type": "display_data"
    },
    {
     "data": {
      "text/markdown": [
       "[https://serlo.org/28481](https://serlo.org/28481)"
      ],
      "text/plain": [
       "<IPython.core.display.Markdown object>"
      ]
     },
     "metadata": {},
     "output_type": "display_data"
    },
    {
     "data": {
      "text/markdown": [
       "[https://serlo.org/28485](https://serlo.org/28485)"
      ],
      "text/plain": [
       "<IPython.core.display.Markdown object>"
      ]
     },
     "metadata": {},
     "output_type": "display_data"
    },
    {
     "data": {
      "text/markdown": [
       "[https://serlo.org/28487](https://serlo.org/28487)"
      ],
      "text/plain": [
       "<IPython.core.display.Markdown object>"
      ]
     },
     "metadata": {},
     "output_type": "display_data"
    },
    {
     "data": {
      "text/markdown": [
       "[https://serlo.org/28489](https://serlo.org/28489)"
      ],
      "text/plain": [
       "<IPython.core.display.Markdown object>"
      ]
     },
     "metadata": {},
     "output_type": "display_data"
    },
    {
     "data": {
      "text/markdown": [
       "[https://serlo.org/29565](https://serlo.org/29565)"
      ],
      "text/plain": [
       "<IPython.core.display.Markdown object>"
      ]
     },
     "metadata": {},
     "output_type": "display_data"
    },
    {
     "data": {
      "text/markdown": [
       "[https://serlo.org/29655](https://serlo.org/29655)"
      ],
      "text/plain": [
       "<IPython.core.display.Markdown object>"
      ]
     },
     "metadata": {},
     "output_type": "display_data"
    },
    {
     "data": {
      "text/markdown": [
       "[https://serlo.org/30124](https://serlo.org/30124)"
      ],
      "text/plain": [
       "<IPython.core.display.Markdown object>"
      ]
     },
     "metadata": {},
     "output_type": "display_data"
    },
    {
     "data": {
      "text/markdown": [
       "[https://serlo.org/30282](https://serlo.org/30282)"
      ],
      "text/plain": [
       "<IPython.core.display.Markdown object>"
      ]
     },
     "metadata": {},
     "output_type": "display_data"
    },
    {
     "data": {
      "text/markdown": [
       "[https://serlo.org/30287](https://serlo.org/30287)"
      ],
      "text/plain": [
       "<IPython.core.display.Markdown object>"
      ]
     },
     "metadata": {},
     "output_type": "display_data"
    },
    {
     "data": {
      "text/markdown": [
       "[https://serlo.org/30393](https://serlo.org/30393)"
      ],
      "text/plain": [
       "<IPython.core.display.Markdown object>"
      ]
     },
     "metadata": {},
     "output_type": "display_data"
    },
    {
     "data": {
      "text/markdown": [
       "[https://serlo.org/31114](https://serlo.org/31114)"
      ],
      "text/plain": [
       "<IPython.core.display.Markdown object>"
      ]
     },
     "metadata": {},
     "output_type": "display_data"
    },
    {
     "data": {
      "text/markdown": [
       "[https://serlo.org/31129](https://serlo.org/31129)"
      ],
      "text/plain": [
       "<IPython.core.display.Markdown object>"
      ]
     },
     "metadata": {},
     "output_type": "display_data"
    },
    {
     "data": {
      "text/markdown": [
       "[https://serlo.org/31145](https://serlo.org/31145)"
      ],
      "text/plain": [
       "<IPython.core.display.Markdown object>"
      ]
     },
     "metadata": {},
     "output_type": "display_data"
    },
    {
     "data": {
      "text/markdown": [
       "[https://serlo.org/31739](https://serlo.org/31739)"
      ],
      "text/plain": [
       "<IPython.core.display.Markdown object>"
      ]
     },
     "metadata": {},
     "output_type": "display_data"
    },
    {
     "data": {
      "text/markdown": [
       "[https://serlo.org/31740](https://serlo.org/31740)"
      ],
      "text/plain": [
       "<IPython.core.display.Markdown object>"
      ]
     },
     "metadata": {},
     "output_type": "display_data"
    },
    {
     "data": {
      "text/markdown": [
       "[https://serlo.org/31751](https://serlo.org/31751)"
      ],
      "text/plain": [
       "<IPython.core.display.Markdown object>"
      ]
     },
     "metadata": {},
     "output_type": "display_data"
    },
    {
     "data": {
      "text/markdown": [
       "[https://serlo.org/31754](https://serlo.org/31754)"
      ],
      "text/plain": [
       "<IPython.core.display.Markdown object>"
      ]
     },
     "metadata": {},
     "output_type": "display_data"
    },
    {
     "data": {
      "text/markdown": [
       "[https://serlo.org/31824](https://serlo.org/31824)"
      ],
      "text/plain": [
       "<IPython.core.display.Markdown object>"
      ]
     },
     "metadata": {},
     "output_type": "display_data"
    },
    {
     "data": {
      "text/markdown": [
       "[https://serlo.org/31829](https://serlo.org/31829)"
      ],
      "text/plain": [
       "<IPython.core.display.Markdown object>"
      ]
     },
     "metadata": {},
     "output_type": "display_data"
    },
    {
     "data": {
      "text/markdown": [
       "[https://serlo.org/32181](https://serlo.org/32181)"
      ],
      "text/plain": [
       "<IPython.core.display.Markdown object>"
      ]
     },
     "metadata": {},
     "output_type": "display_data"
    },
    {
     "data": {
      "text/markdown": [
       "[https://serlo.org/32183](https://serlo.org/32183)"
      ],
      "text/plain": [
       "<IPython.core.display.Markdown object>"
      ]
     },
     "metadata": {},
     "output_type": "display_data"
    },
    {
     "data": {
      "text/markdown": [
       "[https://serlo.org/32412](https://serlo.org/32412)"
      ],
      "text/plain": [
       "<IPython.core.display.Markdown object>"
      ]
     },
     "metadata": {},
     "output_type": "display_data"
    },
    {
     "data": {
      "text/markdown": [
       "[https://serlo.org/32414](https://serlo.org/32414)"
      ],
      "text/plain": [
       "<IPython.core.display.Markdown object>"
      ]
     },
     "metadata": {},
     "output_type": "display_data"
    },
    {
     "data": {
      "text/markdown": [
       "[https://serlo.org/32416](https://serlo.org/32416)"
      ],
      "text/plain": [
       "<IPython.core.display.Markdown object>"
      ]
     },
     "metadata": {},
     "output_type": "display_data"
    },
    {
     "data": {
      "text/markdown": [
       "[https://serlo.org/32418](https://serlo.org/32418)"
      ],
      "text/plain": [
       "<IPython.core.display.Markdown object>"
      ]
     },
     "metadata": {},
     "output_type": "display_data"
    },
    {
     "data": {
      "text/markdown": [
       "[https://serlo.org/32768](https://serlo.org/32768)"
      ],
      "text/plain": [
       "<IPython.core.display.Markdown object>"
      ]
     },
     "metadata": {},
     "output_type": "display_data"
    },
    {
     "data": {
      "text/markdown": [
       "[https://serlo.org/32775](https://serlo.org/32775)"
      ],
      "text/plain": [
       "<IPython.core.display.Markdown object>"
      ]
     },
     "metadata": {},
     "output_type": "display_data"
    },
    {
     "data": {
      "text/markdown": [
       "[https://serlo.org/32787](https://serlo.org/32787)"
      ],
      "text/plain": [
       "<IPython.core.display.Markdown object>"
      ]
     },
     "metadata": {},
     "output_type": "display_data"
    },
    {
     "data": {
      "text/markdown": [
       "[https://serlo.org/32905](https://serlo.org/32905)"
      ],
      "text/plain": [
       "<IPython.core.display.Markdown object>"
      ]
     },
     "metadata": {},
     "output_type": "display_data"
    },
    {
     "data": {
      "text/markdown": [
       "[https://serlo.org/32916](https://serlo.org/32916)"
      ],
      "text/plain": [
       "<IPython.core.display.Markdown object>"
      ]
     },
     "metadata": {},
     "output_type": "display_data"
    },
    {
     "data": {
      "text/markdown": [
       "[https://serlo.org/32986](https://serlo.org/32986)"
      ],
      "text/plain": [
       "<IPython.core.display.Markdown object>"
      ]
     },
     "metadata": {},
     "output_type": "display_data"
    },
    {
     "data": {
      "text/markdown": [
       "[https://serlo.org/32989](https://serlo.org/32989)"
      ],
      "text/plain": [
       "<IPython.core.display.Markdown object>"
      ]
     },
     "metadata": {},
     "output_type": "display_data"
    },
    {
     "data": {
      "text/markdown": [
       "[https://serlo.org/33006](https://serlo.org/33006)"
      ],
      "text/plain": [
       "<IPython.core.display.Markdown object>"
      ]
     },
     "metadata": {},
     "output_type": "display_data"
    },
    {
     "data": {
      "text/markdown": [
       "[https://serlo.org/33013](https://serlo.org/33013)"
      ],
      "text/plain": [
       "<IPython.core.display.Markdown object>"
      ]
     },
     "metadata": {},
     "output_type": "display_data"
    },
    {
     "data": {
      "text/markdown": [
       "[https://serlo.org/33016](https://serlo.org/33016)"
      ],
      "text/plain": [
       "<IPython.core.display.Markdown object>"
      ]
     },
     "metadata": {},
     "output_type": "display_data"
    },
    {
     "data": {
      "text/markdown": [
       "[https://serlo.org/33018](https://serlo.org/33018)"
      ],
      "text/plain": [
       "<IPython.core.display.Markdown object>"
      ]
     },
     "metadata": {},
     "output_type": "display_data"
    },
    {
     "data": {
      "text/markdown": [
       "[https://serlo.org/33022](https://serlo.org/33022)"
      ],
      "text/plain": [
       "<IPython.core.display.Markdown object>"
      ]
     },
     "metadata": {},
     "output_type": "display_data"
    },
    {
     "data": {
      "text/markdown": [
       "[https://serlo.org/33026](https://serlo.org/33026)"
      ],
      "text/plain": [
       "<IPython.core.display.Markdown object>"
      ]
     },
     "metadata": {},
     "output_type": "display_data"
    },
    {
     "data": {
      "text/markdown": [
       "[https://serlo.org/33418](https://serlo.org/33418)"
      ],
      "text/plain": [
       "<IPython.core.display.Markdown object>"
      ]
     },
     "metadata": {},
     "output_type": "display_data"
    },
    {
     "data": {
      "text/markdown": [
       "[https://serlo.org/33530](https://serlo.org/33530)"
      ],
      "text/plain": [
       "<IPython.core.display.Markdown object>"
      ]
     },
     "metadata": {},
     "output_type": "display_data"
    },
    {
     "data": {
      "text/markdown": [
       "[https://serlo.org/33995](https://serlo.org/33995)"
      ],
      "text/plain": [
       "<IPython.core.display.Markdown object>"
      ]
     },
     "metadata": {},
     "output_type": "display_data"
    },
    {
     "data": {
      "text/markdown": [
       "[https://serlo.org/33998](https://serlo.org/33998)"
      ],
      "text/plain": [
       "<IPython.core.display.Markdown object>"
      ]
     },
     "metadata": {},
     "output_type": "display_data"
    },
    {
     "data": {
      "text/markdown": [
       "[https://serlo.org/34000](https://serlo.org/34000)"
      ],
      "text/plain": [
       "<IPython.core.display.Markdown object>"
      ]
     },
     "metadata": {},
     "output_type": "display_data"
    },
    {
     "data": {
      "text/markdown": [
       "[https://serlo.org/34003](https://serlo.org/34003)"
      ],
      "text/plain": [
       "<IPython.core.display.Markdown object>"
      ]
     },
     "metadata": {},
     "output_type": "display_data"
    },
    {
     "data": {
      "text/markdown": [
       "[https://serlo.org/34005](https://serlo.org/34005)"
      ],
      "text/plain": [
       "<IPython.core.display.Markdown object>"
      ]
     },
     "metadata": {},
     "output_type": "display_data"
    },
    {
     "data": {
      "text/markdown": [
       "[https://serlo.org/34007](https://serlo.org/34007)"
      ],
      "text/plain": [
       "<IPython.core.display.Markdown object>"
      ]
     },
     "metadata": {},
     "output_type": "display_data"
    },
    {
     "data": {
      "text/markdown": [
       "[https://serlo.org/34009](https://serlo.org/34009)"
      ],
      "text/plain": [
       "<IPython.core.display.Markdown object>"
      ]
     },
     "metadata": {},
     "output_type": "display_data"
    },
    {
     "data": {
      "text/markdown": [
       "[https://serlo.org/34011](https://serlo.org/34011)"
      ],
      "text/plain": [
       "<IPython.core.display.Markdown object>"
      ]
     },
     "metadata": {},
     "output_type": "display_data"
    },
    {
     "data": {
      "text/markdown": [
       "[https://serlo.org/34056](https://serlo.org/34056)"
      ],
      "text/plain": [
       "<IPython.core.display.Markdown object>"
      ]
     },
     "metadata": {},
     "output_type": "display_data"
    },
    {
     "data": {
      "text/markdown": [
       "[https://serlo.org/34060](https://serlo.org/34060)"
      ],
      "text/plain": [
       "<IPython.core.display.Markdown object>"
      ]
     },
     "metadata": {},
     "output_type": "display_data"
    },
    {
     "data": {
      "text/markdown": [
       "[https://serlo.org/34067](https://serlo.org/34067)"
      ],
      "text/plain": [
       "<IPython.core.display.Markdown object>"
      ]
     },
     "metadata": {},
     "output_type": "display_data"
    },
    {
     "data": {
      "text/markdown": [
       "[https://serlo.org/34075](https://serlo.org/34075)"
      ],
      "text/plain": [
       "<IPython.core.display.Markdown object>"
      ]
     },
     "metadata": {},
     "output_type": "display_data"
    },
    {
     "data": {
      "text/markdown": [
       "[https://serlo.org/34278](https://serlo.org/34278)"
      ],
      "text/plain": [
       "<IPython.core.display.Markdown object>"
      ]
     },
     "metadata": {},
     "output_type": "display_data"
    },
    {
     "data": {
      "text/markdown": [
       "[https://serlo.org/34548](https://serlo.org/34548)"
      ],
      "text/plain": [
       "<IPython.core.display.Markdown object>"
      ]
     },
     "metadata": {},
     "output_type": "display_data"
    },
    {
     "data": {
      "text/markdown": [
       "[https://serlo.org/34553](https://serlo.org/34553)"
      ],
      "text/plain": [
       "<IPython.core.display.Markdown object>"
      ]
     },
     "metadata": {},
     "output_type": "display_data"
    },
    {
     "data": {
      "text/markdown": [
       "[https://serlo.org/34644](https://serlo.org/34644)"
      ],
      "text/plain": [
       "<IPython.core.display.Markdown object>"
      ]
     },
     "metadata": {},
     "output_type": "display_data"
    },
    {
     "data": {
      "text/markdown": [
       "[https://serlo.org/34654](https://serlo.org/34654)"
      ],
      "text/plain": [
       "<IPython.core.display.Markdown object>"
      ]
     },
     "metadata": {},
     "output_type": "display_data"
    },
    {
     "data": {
      "text/markdown": [
       "[https://serlo.org/34656](https://serlo.org/34656)"
      ],
      "text/plain": [
       "<IPython.core.display.Markdown object>"
      ]
     },
     "metadata": {},
     "output_type": "display_data"
    },
    {
     "data": {
      "text/markdown": [
       "[https://serlo.org/34666](https://serlo.org/34666)"
      ],
      "text/plain": [
       "<IPython.core.display.Markdown object>"
      ]
     },
     "metadata": {},
     "output_type": "display_data"
    },
    {
     "data": {
      "text/markdown": [
       "[https://serlo.org/34676](https://serlo.org/34676)"
      ],
      "text/plain": [
       "<IPython.core.display.Markdown object>"
      ]
     },
     "metadata": {},
     "output_type": "display_data"
    },
    {
     "data": {
      "text/markdown": [
       "[https://serlo.org/34690](https://serlo.org/34690)"
      ],
      "text/plain": [
       "<IPython.core.display.Markdown object>"
      ]
     },
     "metadata": {},
     "output_type": "display_data"
    },
    {
     "data": {
      "text/markdown": [
       "[https://serlo.org/34692](https://serlo.org/34692)"
      ],
      "text/plain": [
       "<IPython.core.display.Markdown object>"
      ]
     },
     "metadata": {},
     "output_type": "display_data"
    },
    {
     "data": {
      "text/markdown": [
       "[https://serlo.org/34822](https://serlo.org/34822)"
      ],
      "text/plain": [
       "<IPython.core.display.Markdown object>"
      ]
     },
     "metadata": {},
     "output_type": "display_data"
    },
    {
     "data": {
      "text/markdown": [
       "[https://serlo.org/34823](https://serlo.org/34823)"
      ],
      "text/plain": [
       "<IPython.core.display.Markdown object>"
      ]
     },
     "metadata": {},
     "output_type": "display_data"
    },
    {
     "data": {
      "text/markdown": [
       "[https://serlo.org/34836](https://serlo.org/34836)"
      ],
      "text/plain": [
       "<IPython.core.display.Markdown object>"
      ]
     },
     "metadata": {},
     "output_type": "display_data"
    },
    {
     "data": {
      "text/markdown": [
       "[https://serlo.org/34846](https://serlo.org/34846)"
      ],
      "text/plain": [
       "<IPython.core.display.Markdown object>"
      ]
     },
     "metadata": {},
     "output_type": "display_data"
    },
    {
     "data": {
      "text/markdown": [
       "[https://serlo.org/34860](https://serlo.org/34860)"
      ],
      "text/plain": [
       "<IPython.core.display.Markdown object>"
      ]
     },
     "metadata": {},
     "output_type": "display_data"
    },
    {
     "data": {
      "text/markdown": [
       "[https://serlo.org/34865](https://serlo.org/34865)"
      ],
      "text/plain": [
       "<IPython.core.display.Markdown object>"
      ]
     },
     "metadata": {},
     "output_type": "display_data"
    },
    {
     "data": {
      "text/markdown": [
       "[https://serlo.org/34876](https://serlo.org/34876)"
      ],
      "text/plain": [
       "<IPython.core.display.Markdown object>"
      ]
     },
     "metadata": {},
     "output_type": "display_data"
    },
    {
     "data": {
      "text/markdown": [
       "[https://serlo.org/34878](https://serlo.org/34878)"
      ],
      "text/plain": [
       "<IPython.core.display.Markdown object>"
      ]
     },
     "metadata": {},
     "output_type": "display_data"
    },
    {
     "data": {
      "text/markdown": [
       "[https://serlo.org/34880](https://serlo.org/34880)"
      ],
      "text/plain": [
       "<IPython.core.display.Markdown object>"
      ]
     },
     "metadata": {},
     "output_type": "display_data"
    },
    {
     "data": {
      "text/markdown": [
       "[https://serlo.org/34896](https://serlo.org/34896)"
      ],
      "text/plain": [
       "<IPython.core.display.Markdown object>"
      ]
     },
     "metadata": {},
     "output_type": "display_data"
    },
    {
     "data": {
      "text/markdown": [
       "[https://serlo.org/34897](https://serlo.org/34897)"
      ],
      "text/plain": [
       "<IPython.core.display.Markdown object>"
      ]
     },
     "metadata": {},
     "output_type": "display_data"
    },
    {
     "data": {
      "text/markdown": [
       "[https://serlo.org/34898](https://serlo.org/34898)"
      ],
      "text/plain": [
       "<IPython.core.display.Markdown object>"
      ]
     },
     "metadata": {},
     "output_type": "display_data"
    },
    {
     "data": {
      "text/markdown": [
       "[https://serlo.org/34901](https://serlo.org/34901)"
      ],
      "text/plain": [
       "<IPython.core.display.Markdown object>"
      ]
     },
     "metadata": {},
     "output_type": "display_data"
    },
    {
     "data": {
      "text/markdown": [
       "[https://serlo.org/34903](https://serlo.org/34903)"
      ],
      "text/plain": [
       "<IPython.core.display.Markdown object>"
      ]
     },
     "metadata": {},
     "output_type": "display_data"
    },
    {
     "data": {
      "text/markdown": [
       "[https://serlo.org/34906](https://serlo.org/34906)"
      ],
      "text/plain": [
       "<IPython.core.display.Markdown object>"
      ]
     },
     "metadata": {},
     "output_type": "display_data"
    },
    {
     "data": {
      "text/markdown": [
       "[https://serlo.org/34907](https://serlo.org/34907)"
      ],
      "text/plain": [
       "<IPython.core.display.Markdown object>"
      ]
     },
     "metadata": {},
     "output_type": "display_data"
    },
    {
     "data": {
      "text/markdown": [
       "[https://serlo.org/34910](https://serlo.org/34910)"
      ],
      "text/plain": [
       "<IPython.core.display.Markdown object>"
      ]
     },
     "metadata": {},
     "output_type": "display_data"
    },
    {
     "data": {
      "text/markdown": [
       "[https://serlo.org/34912](https://serlo.org/34912)"
      ],
      "text/plain": [
       "<IPython.core.display.Markdown object>"
      ]
     },
     "metadata": {},
     "output_type": "display_data"
    },
    {
     "data": {
      "text/markdown": [
       "[https://serlo.org/34914](https://serlo.org/34914)"
      ],
      "text/plain": [
       "<IPython.core.display.Markdown object>"
      ]
     },
     "metadata": {},
     "output_type": "display_data"
    },
    {
     "data": {
      "text/markdown": [
       "[https://serlo.org/34916](https://serlo.org/34916)"
      ],
      "text/plain": [
       "<IPython.core.display.Markdown object>"
      ]
     },
     "metadata": {},
     "output_type": "display_data"
    },
    {
     "data": {
      "text/markdown": [
       "[https://serlo.org/34917](https://serlo.org/34917)"
      ],
      "text/plain": [
       "<IPython.core.display.Markdown object>"
      ]
     },
     "metadata": {},
     "output_type": "display_data"
    },
    {
     "data": {
      "text/markdown": [
       "[https://serlo.org/34920](https://serlo.org/34920)"
      ],
      "text/plain": [
       "<IPython.core.display.Markdown object>"
      ]
     },
     "metadata": {},
     "output_type": "display_data"
    },
    {
     "data": {
      "text/markdown": [
       "[https://serlo.org/34922](https://serlo.org/34922)"
      ],
      "text/plain": [
       "<IPython.core.display.Markdown object>"
      ]
     },
     "metadata": {},
     "output_type": "display_data"
    },
    {
     "data": {
      "text/markdown": [
       "[https://serlo.org/34924](https://serlo.org/34924)"
      ],
      "text/plain": [
       "<IPython.core.display.Markdown object>"
      ]
     },
     "metadata": {},
     "output_type": "display_data"
    },
    {
     "data": {
      "text/markdown": [
       "[https://serlo.org/34927](https://serlo.org/34927)"
      ],
      "text/plain": [
       "<IPython.core.display.Markdown object>"
      ]
     },
     "metadata": {},
     "output_type": "display_data"
    },
    {
     "data": {
      "text/markdown": [
       "[https://serlo.org/34928](https://serlo.org/34928)"
      ],
      "text/plain": [
       "<IPython.core.display.Markdown object>"
      ]
     },
     "metadata": {},
     "output_type": "display_data"
    },
    {
     "data": {
      "text/markdown": [
       "[https://serlo.org/34931](https://serlo.org/34931)"
      ],
      "text/plain": [
       "<IPython.core.display.Markdown object>"
      ]
     },
     "metadata": {},
     "output_type": "display_data"
    },
    {
     "data": {
      "text/markdown": [
       "[https://serlo.org/34932](https://serlo.org/34932)"
      ],
      "text/plain": [
       "<IPython.core.display.Markdown object>"
      ]
     },
     "metadata": {},
     "output_type": "display_data"
    },
    {
     "data": {
      "text/markdown": [
       "[https://serlo.org/34935](https://serlo.org/34935)"
      ],
      "text/plain": [
       "<IPython.core.display.Markdown object>"
      ]
     },
     "metadata": {},
     "output_type": "display_data"
    },
    {
     "data": {
      "text/markdown": [
       "[https://serlo.org/34951](https://serlo.org/34951)"
      ],
      "text/plain": [
       "<IPython.core.display.Markdown object>"
      ]
     },
     "metadata": {},
     "output_type": "display_data"
    },
    {
     "data": {
      "text/markdown": [
       "[https://serlo.org/34959](https://serlo.org/34959)"
      ],
      "text/plain": [
       "<IPython.core.display.Markdown object>"
      ]
     },
     "metadata": {},
     "output_type": "display_data"
    },
    {
     "data": {
      "text/markdown": [
       "[https://serlo.org/34961](https://serlo.org/34961)"
      ],
      "text/plain": [
       "<IPython.core.display.Markdown object>"
      ]
     },
     "metadata": {},
     "output_type": "display_data"
    },
    {
     "data": {
      "text/markdown": [
       "[https://serlo.org/34965](https://serlo.org/34965)"
      ],
      "text/plain": [
       "<IPython.core.display.Markdown object>"
      ]
     },
     "metadata": {},
     "output_type": "display_data"
    },
    {
     "data": {
      "text/markdown": [
       "[https://serlo.org/34972](https://serlo.org/34972)"
      ],
      "text/plain": [
       "<IPython.core.display.Markdown object>"
      ]
     },
     "metadata": {},
     "output_type": "display_data"
    },
    {
     "data": {
      "text/markdown": [
       "[https://serlo.org/34978](https://serlo.org/34978)"
      ],
      "text/plain": [
       "<IPython.core.display.Markdown object>"
      ]
     },
     "metadata": {},
     "output_type": "display_data"
    },
    {
     "data": {
      "text/markdown": [
       "[https://serlo.org/34979](https://serlo.org/34979)"
      ],
      "text/plain": [
       "<IPython.core.display.Markdown object>"
      ]
     },
     "metadata": {},
     "output_type": "display_data"
    },
    {
     "data": {
      "text/markdown": [
       "[https://serlo.org/34980](https://serlo.org/34980)"
      ],
      "text/plain": [
       "<IPython.core.display.Markdown object>"
      ]
     },
     "metadata": {},
     "output_type": "display_data"
    },
    {
     "data": {
      "text/markdown": [
       "[https://serlo.org/34981](https://serlo.org/34981)"
      ],
      "text/plain": [
       "<IPython.core.display.Markdown object>"
      ]
     },
     "metadata": {},
     "output_type": "display_data"
    },
    {
     "data": {
      "text/markdown": [
       "[https://serlo.org/34987](https://serlo.org/34987)"
      ],
      "text/plain": [
       "<IPython.core.display.Markdown object>"
      ]
     },
     "metadata": {},
     "output_type": "display_data"
    },
    {
     "data": {
      "text/markdown": [
       "[https://serlo.org/35005](https://serlo.org/35005)"
      ],
      "text/plain": [
       "<IPython.core.display.Markdown object>"
      ]
     },
     "metadata": {},
     "output_type": "display_data"
    },
    {
     "data": {
      "text/markdown": [
       "[https://serlo.org/35024](https://serlo.org/35024)"
      ],
      "text/plain": [
       "<IPython.core.display.Markdown object>"
      ]
     },
     "metadata": {},
     "output_type": "display_data"
    },
    {
     "data": {
      "text/markdown": [
       "[https://serlo.org/35026](https://serlo.org/35026)"
      ],
      "text/plain": [
       "<IPython.core.display.Markdown object>"
      ]
     },
     "metadata": {},
     "output_type": "display_data"
    },
    {
     "data": {
      "text/markdown": [
       "[https://serlo.org/35028](https://serlo.org/35028)"
      ],
      "text/plain": [
       "<IPython.core.display.Markdown object>"
      ]
     },
     "metadata": {},
     "output_type": "display_data"
    },
    {
     "data": {
      "text/markdown": [
       "[https://serlo.org/35030](https://serlo.org/35030)"
      ],
      "text/plain": [
       "<IPython.core.display.Markdown object>"
      ]
     },
     "metadata": {},
     "output_type": "display_data"
    },
    {
     "data": {
      "text/markdown": [
       "[https://serlo.org/35032](https://serlo.org/35032)"
      ],
      "text/plain": [
       "<IPython.core.display.Markdown object>"
      ]
     },
     "metadata": {},
     "output_type": "display_data"
    },
    {
     "data": {
      "text/markdown": [
       "[https://serlo.org/35034](https://serlo.org/35034)"
      ],
      "text/plain": [
       "<IPython.core.display.Markdown object>"
      ]
     },
     "metadata": {},
     "output_type": "display_data"
    },
    {
     "data": {
      "text/markdown": [
       "[https://serlo.org/35036](https://serlo.org/35036)"
      ],
      "text/plain": [
       "<IPython.core.display.Markdown object>"
      ]
     },
     "metadata": {},
     "output_type": "display_data"
    },
    {
     "data": {
      "text/markdown": [
       "[https://serlo.org/35038](https://serlo.org/35038)"
      ],
      "text/plain": [
       "<IPython.core.display.Markdown object>"
      ]
     },
     "metadata": {},
     "output_type": "display_data"
    },
    {
     "data": {
      "text/markdown": [
       "[https://serlo.org/35040](https://serlo.org/35040)"
      ],
      "text/plain": [
       "<IPython.core.display.Markdown object>"
      ]
     },
     "metadata": {},
     "output_type": "display_data"
    },
    {
     "data": {
      "text/markdown": [
       "[https://serlo.org/35043](https://serlo.org/35043)"
      ],
      "text/plain": [
       "<IPython.core.display.Markdown object>"
      ]
     },
     "metadata": {},
     "output_type": "display_data"
    },
    {
     "data": {
      "text/markdown": [
       "[https://serlo.org/35045](https://serlo.org/35045)"
      ],
      "text/plain": [
       "<IPython.core.display.Markdown object>"
      ]
     },
     "metadata": {},
     "output_type": "display_data"
    },
    {
     "data": {
      "text/markdown": [
       "[https://serlo.org/35047](https://serlo.org/35047)"
      ],
      "text/plain": [
       "<IPython.core.display.Markdown object>"
      ]
     },
     "metadata": {},
     "output_type": "display_data"
    },
    {
     "data": {
      "text/markdown": [
       "[https://serlo.org/35049](https://serlo.org/35049)"
      ],
      "text/plain": [
       "<IPython.core.display.Markdown object>"
      ]
     },
     "metadata": {},
     "output_type": "display_data"
    },
    {
     "data": {
      "text/markdown": [
       "[https://serlo.org/35051](https://serlo.org/35051)"
      ],
      "text/plain": [
       "<IPython.core.display.Markdown object>"
      ]
     },
     "metadata": {},
     "output_type": "display_data"
    },
    {
     "data": {
      "text/markdown": [
       "[https://serlo.org/35053](https://serlo.org/35053)"
      ],
      "text/plain": [
       "<IPython.core.display.Markdown object>"
      ]
     },
     "metadata": {},
     "output_type": "display_data"
    },
    {
     "data": {
      "text/markdown": [
       "[https://serlo.org/35057](https://serlo.org/35057)"
      ],
      "text/plain": [
       "<IPython.core.display.Markdown object>"
      ]
     },
     "metadata": {},
     "output_type": "display_data"
    },
    {
     "data": {
      "text/markdown": [
       "[https://serlo.org/35060](https://serlo.org/35060)"
      ],
      "text/plain": [
       "<IPython.core.display.Markdown object>"
      ]
     },
     "metadata": {},
     "output_type": "display_data"
    },
    {
     "data": {
      "text/markdown": [
       "[https://serlo.org/35064](https://serlo.org/35064)"
      ],
      "text/plain": [
       "<IPython.core.display.Markdown object>"
      ]
     },
     "metadata": {},
     "output_type": "display_data"
    },
    {
     "data": {
      "text/markdown": [
       "[https://serlo.org/35066](https://serlo.org/35066)"
      ],
      "text/plain": [
       "<IPython.core.display.Markdown object>"
      ]
     },
     "metadata": {},
     "output_type": "display_data"
    },
    {
     "data": {
      "text/markdown": [
       "[https://serlo.org/35171](https://serlo.org/35171)"
      ],
      "text/plain": [
       "<IPython.core.display.Markdown object>"
      ]
     },
     "metadata": {},
     "output_type": "display_data"
    },
    {
     "data": {
      "text/markdown": [
       "[https://serlo.org/35174](https://serlo.org/35174)"
      ],
      "text/plain": [
       "<IPython.core.display.Markdown object>"
      ]
     },
     "metadata": {},
     "output_type": "display_data"
    },
    {
     "data": {
      "text/markdown": [
       "[https://serlo.org/35178](https://serlo.org/35178)"
      ],
      "text/plain": [
       "<IPython.core.display.Markdown object>"
      ]
     },
     "metadata": {},
     "output_type": "display_data"
    },
    {
     "data": {
      "text/markdown": [
       "[https://serlo.org/35180](https://serlo.org/35180)"
      ],
      "text/plain": [
       "<IPython.core.display.Markdown object>"
      ]
     },
     "metadata": {},
     "output_type": "display_data"
    },
    {
     "data": {
      "text/markdown": [
       "[https://serlo.org/35213](https://serlo.org/35213)"
      ],
      "text/plain": [
       "<IPython.core.display.Markdown object>"
      ]
     },
     "metadata": {},
     "output_type": "display_data"
    },
    {
     "data": {
      "text/markdown": [
       "[https://serlo.org/35225](https://serlo.org/35225)"
      ],
      "text/plain": [
       "<IPython.core.display.Markdown object>"
      ]
     },
     "metadata": {},
     "output_type": "display_data"
    },
    {
     "data": {
      "text/markdown": [
       "[https://serlo.org/35227](https://serlo.org/35227)"
      ],
      "text/plain": [
       "<IPython.core.display.Markdown object>"
      ]
     },
     "metadata": {},
     "output_type": "display_data"
    },
    {
     "data": {
      "text/markdown": [
       "[https://serlo.org/35241](https://serlo.org/35241)"
      ],
      "text/plain": [
       "<IPython.core.display.Markdown object>"
      ]
     },
     "metadata": {},
     "output_type": "display_data"
    },
    {
     "data": {
      "text/markdown": [
       "[https://serlo.org/35244](https://serlo.org/35244)"
      ],
      "text/plain": [
       "<IPython.core.display.Markdown object>"
      ]
     },
     "metadata": {},
     "output_type": "display_data"
    },
    {
     "data": {
      "text/markdown": [
       "[https://serlo.org/35247](https://serlo.org/35247)"
      ],
      "text/plain": [
       "<IPython.core.display.Markdown object>"
      ]
     },
     "metadata": {},
     "output_type": "display_data"
    },
    {
     "data": {
      "text/markdown": [
       "[https://serlo.org/35250](https://serlo.org/35250)"
      ],
      "text/plain": [
       "<IPython.core.display.Markdown object>"
      ]
     },
     "metadata": {},
     "output_type": "display_data"
    },
    {
     "data": {
      "text/markdown": [
       "[https://serlo.org/35252](https://serlo.org/35252)"
      ],
      "text/plain": [
       "<IPython.core.display.Markdown object>"
      ]
     },
     "metadata": {},
     "output_type": "display_data"
    },
    {
     "data": {
      "text/markdown": [
       "[https://serlo.org/35291](https://serlo.org/35291)"
      ],
      "text/plain": [
       "<IPython.core.display.Markdown object>"
      ]
     },
     "metadata": {},
     "output_type": "display_data"
    },
    {
     "data": {
      "text/markdown": [
       "[https://serlo.org/35299](https://serlo.org/35299)"
      ],
      "text/plain": [
       "<IPython.core.display.Markdown object>"
      ]
     },
     "metadata": {},
     "output_type": "display_data"
    },
    {
     "data": {
      "text/markdown": [
       "[https://serlo.org/35301](https://serlo.org/35301)"
      ],
      "text/plain": [
       "<IPython.core.display.Markdown object>"
      ]
     },
     "metadata": {},
     "output_type": "display_data"
    },
    {
     "data": {
      "text/markdown": [
       "[https://serlo.org/35303](https://serlo.org/35303)"
      ],
      "text/plain": [
       "<IPython.core.display.Markdown object>"
      ]
     },
     "metadata": {},
     "output_type": "display_data"
    },
    {
     "data": {
      "text/markdown": [
       "[https://serlo.org/35314](https://serlo.org/35314)"
      ],
      "text/plain": [
       "<IPython.core.display.Markdown object>"
      ]
     },
     "metadata": {},
     "output_type": "display_data"
    },
    {
     "data": {
      "text/markdown": [
       "[https://serlo.org/35315](https://serlo.org/35315)"
      ],
      "text/plain": [
       "<IPython.core.display.Markdown object>"
      ]
     },
     "metadata": {},
     "output_type": "display_data"
    },
    {
     "data": {
      "text/markdown": [
       "[https://serlo.org/35318](https://serlo.org/35318)"
      ],
      "text/plain": [
       "<IPython.core.display.Markdown object>"
      ]
     },
     "metadata": {},
     "output_type": "display_data"
    },
    {
     "data": {
      "text/markdown": [
       "[https://serlo.org/35322](https://serlo.org/35322)"
      ],
      "text/plain": [
       "<IPython.core.display.Markdown object>"
      ]
     },
     "metadata": {},
     "output_type": "display_data"
    },
    {
     "data": {
      "text/markdown": [
       "[https://serlo.org/35324](https://serlo.org/35324)"
      ],
      "text/plain": [
       "<IPython.core.display.Markdown object>"
      ]
     },
     "metadata": {},
     "output_type": "display_data"
    },
    {
     "data": {
      "text/markdown": [
       "[https://serlo.org/35330](https://serlo.org/35330)"
      ],
      "text/plain": [
       "<IPython.core.display.Markdown object>"
      ]
     },
     "metadata": {},
     "output_type": "display_data"
    },
    {
     "data": {
      "text/markdown": [
       "[https://serlo.org/35334](https://serlo.org/35334)"
      ],
      "text/plain": [
       "<IPython.core.display.Markdown object>"
      ]
     },
     "metadata": {},
     "output_type": "display_data"
    },
    {
     "data": {
      "text/markdown": [
       "[https://serlo.org/35336](https://serlo.org/35336)"
      ],
      "text/plain": [
       "<IPython.core.display.Markdown object>"
      ]
     },
     "metadata": {},
     "output_type": "display_data"
    },
    {
     "data": {
      "text/markdown": [
       "[https://serlo.org/35338](https://serlo.org/35338)"
      ],
      "text/plain": [
       "<IPython.core.display.Markdown object>"
      ]
     },
     "metadata": {},
     "output_type": "display_data"
    },
    {
     "data": {
      "text/markdown": [
       "[https://serlo.org/35340](https://serlo.org/35340)"
      ],
      "text/plain": [
       "<IPython.core.display.Markdown object>"
      ]
     },
     "metadata": {},
     "output_type": "display_data"
    },
    {
     "data": {
      "text/markdown": [
       "[https://serlo.org/35346](https://serlo.org/35346)"
      ],
      "text/plain": [
       "<IPython.core.display.Markdown object>"
      ]
     },
     "metadata": {},
     "output_type": "display_data"
    },
    {
     "data": {
      "text/markdown": [
       "[https://serlo.org/35348](https://serlo.org/35348)"
      ],
      "text/plain": [
       "<IPython.core.display.Markdown object>"
      ]
     },
     "metadata": {},
     "output_type": "display_data"
    },
    {
     "data": {
      "text/markdown": [
       "[https://serlo.org/35359](https://serlo.org/35359)"
      ],
      "text/plain": [
       "<IPython.core.display.Markdown object>"
      ]
     },
     "metadata": {},
     "output_type": "display_data"
    },
    {
     "data": {
      "text/markdown": [
       "[https://serlo.org/35402](https://serlo.org/35402)"
      ],
      "text/plain": [
       "<IPython.core.display.Markdown object>"
      ]
     },
     "metadata": {},
     "output_type": "display_data"
    },
    {
     "data": {
      "text/markdown": [
       "[https://serlo.org/35445](https://serlo.org/35445)"
      ],
      "text/plain": [
       "<IPython.core.display.Markdown object>"
      ]
     },
     "metadata": {},
     "output_type": "display_data"
    },
    {
     "data": {
      "text/markdown": [
       "[https://serlo.org/35451](https://serlo.org/35451)"
      ],
      "text/plain": [
       "<IPython.core.display.Markdown object>"
      ]
     },
     "metadata": {},
     "output_type": "display_data"
    },
    {
     "data": {
      "text/markdown": [
       "[https://serlo.org/38946](https://serlo.org/38946)"
      ],
      "text/plain": [
       "<IPython.core.display.Markdown object>"
      ]
     },
     "metadata": {},
     "output_type": "display_data"
    },
    {
     "data": {
      "text/markdown": [
       "[https://serlo.org/39540](https://serlo.org/39540)"
      ],
      "text/plain": [
       "<IPython.core.display.Markdown object>"
      ]
     },
     "metadata": {},
     "output_type": "display_data"
    },
    {
     "data": {
      "text/markdown": [
       "[https://serlo.org/39722](https://serlo.org/39722)"
      ],
      "text/plain": [
       "<IPython.core.display.Markdown object>"
      ]
     },
     "metadata": {},
     "output_type": "display_data"
    },
    {
     "data": {
      "text/markdown": [
       "[https://serlo.org/40491](https://serlo.org/40491)"
      ],
      "text/plain": [
       "<IPython.core.display.Markdown object>"
      ]
     },
     "metadata": {},
     "output_type": "display_data"
    },
    {
     "data": {
      "text/markdown": [
       "[https://serlo.org/40492](https://serlo.org/40492)"
      ],
      "text/plain": [
       "<IPython.core.display.Markdown object>"
      ]
     },
     "metadata": {},
     "output_type": "display_data"
    },
    {
     "data": {
      "text/markdown": [
       "[https://serlo.org/41720](https://serlo.org/41720)"
      ],
      "text/plain": [
       "<IPython.core.display.Markdown object>"
      ]
     },
     "metadata": {},
     "output_type": "display_data"
    },
    {
     "data": {
      "text/markdown": [
       "[https://serlo.org/46895](https://serlo.org/46895)"
      ],
      "text/plain": [
       "<IPython.core.display.Markdown object>"
      ]
     },
     "metadata": {},
     "output_type": "display_data"
    },
    {
     "data": {
      "text/markdown": [
       "[https://serlo.org/46898](https://serlo.org/46898)"
      ],
      "text/plain": [
       "<IPython.core.display.Markdown object>"
      ]
     },
     "metadata": {},
     "output_type": "display_data"
    },
    {
     "data": {
      "text/markdown": [
       "[https://serlo.org/46907](https://serlo.org/46907)"
      ],
      "text/plain": [
       "<IPython.core.display.Markdown object>"
      ]
     },
     "metadata": {},
     "output_type": "display_data"
    },
    {
     "data": {
      "text/markdown": [
       "[https://serlo.org/46909](https://serlo.org/46909)"
      ],
      "text/plain": [
       "<IPython.core.display.Markdown object>"
      ]
     },
     "metadata": {},
     "output_type": "display_data"
    },
    {
     "data": {
      "text/markdown": [
       "[https://serlo.org/46917](https://serlo.org/46917)"
      ],
      "text/plain": [
       "<IPython.core.display.Markdown object>"
      ]
     },
     "metadata": {},
     "output_type": "display_data"
    },
    {
     "data": {
      "text/markdown": [
       "[https://serlo.org/46920](https://serlo.org/46920)"
      ],
      "text/plain": [
       "<IPython.core.display.Markdown object>"
      ]
     },
     "metadata": {},
     "output_type": "display_data"
    },
    {
     "data": {
      "text/markdown": [
       "[https://serlo.org/46921](https://serlo.org/46921)"
      ],
      "text/plain": [
       "<IPython.core.display.Markdown object>"
      ]
     },
     "metadata": {},
     "output_type": "display_data"
    },
    {
     "data": {
      "text/markdown": [
       "[https://serlo.org/46922](https://serlo.org/46922)"
      ],
      "text/plain": [
       "<IPython.core.display.Markdown object>"
      ]
     },
     "metadata": {},
     "output_type": "display_data"
    },
    {
     "data": {
      "text/markdown": [
       "[https://serlo.org/46949](https://serlo.org/46949)"
      ],
      "text/plain": [
       "<IPython.core.display.Markdown object>"
      ]
     },
     "metadata": {},
     "output_type": "display_data"
    },
    {
     "data": {
      "text/markdown": [
       "[https://serlo.org/46951](https://serlo.org/46951)"
      ],
      "text/plain": [
       "<IPython.core.display.Markdown object>"
      ]
     },
     "metadata": {},
     "output_type": "display_data"
    },
    {
     "data": {
      "text/markdown": [
       "[https://serlo.org/46955](https://serlo.org/46955)"
      ],
      "text/plain": [
       "<IPython.core.display.Markdown object>"
      ]
     },
     "metadata": {},
     "output_type": "display_data"
    },
    {
     "data": {
      "text/markdown": [
       "[https://serlo.org/46959](https://serlo.org/46959)"
      ],
      "text/plain": [
       "<IPython.core.display.Markdown object>"
      ]
     },
     "metadata": {},
     "output_type": "display_data"
    },
    {
     "data": {
      "text/markdown": [
       "[https://serlo.org/46962](https://serlo.org/46962)"
      ],
      "text/plain": [
       "<IPython.core.display.Markdown object>"
      ]
     },
     "metadata": {},
     "output_type": "display_data"
    },
    {
     "data": {
      "text/markdown": [
       "[https://serlo.org/46965](https://serlo.org/46965)"
      ],
      "text/plain": [
       "<IPython.core.display.Markdown object>"
      ]
     },
     "metadata": {},
     "output_type": "display_data"
    },
    {
     "data": {
      "text/markdown": [
       "[https://serlo.org/46967](https://serlo.org/46967)"
      ],
      "text/plain": [
       "<IPython.core.display.Markdown object>"
      ]
     },
     "metadata": {},
     "output_type": "display_data"
    },
    {
     "data": {
      "text/markdown": [
       "[https://serlo.org/46968](https://serlo.org/46968)"
      ],
      "text/plain": [
       "<IPython.core.display.Markdown object>"
      ]
     },
     "metadata": {},
     "output_type": "display_data"
    },
    {
     "data": {
      "text/markdown": [
       "[https://serlo.org/46972](https://serlo.org/46972)"
      ],
      "text/plain": [
       "<IPython.core.display.Markdown object>"
      ]
     },
     "metadata": {},
     "output_type": "display_data"
    },
    {
     "data": {
      "text/markdown": [
       "[https://serlo.org/46974](https://serlo.org/46974)"
      ],
      "text/plain": [
       "<IPython.core.display.Markdown object>"
      ]
     },
     "metadata": {},
     "output_type": "display_data"
    },
    {
     "data": {
      "text/markdown": [
       "[https://serlo.org/46977](https://serlo.org/46977)"
      ],
      "text/plain": [
       "<IPython.core.display.Markdown object>"
      ]
     },
     "metadata": {},
     "output_type": "display_data"
    },
    {
     "data": {
      "text/markdown": [
       "[https://serlo.org/47068](https://serlo.org/47068)"
      ],
      "text/plain": [
       "<IPython.core.display.Markdown object>"
      ]
     },
     "metadata": {},
     "output_type": "display_data"
    },
    {
     "data": {
      "text/markdown": [
       "[https://serlo.org/47078](https://serlo.org/47078)"
      ],
      "text/plain": [
       "<IPython.core.display.Markdown object>"
      ]
     },
     "metadata": {},
     "output_type": "display_data"
    },
    {
     "data": {
      "text/markdown": [
       "[https://serlo.org/47080](https://serlo.org/47080)"
      ],
      "text/plain": [
       "<IPython.core.display.Markdown object>"
      ]
     },
     "metadata": {},
     "output_type": "display_data"
    },
    {
     "data": {
      "text/markdown": [
       "[https://serlo.org/47082](https://serlo.org/47082)"
      ],
      "text/plain": [
       "<IPython.core.display.Markdown object>"
      ]
     },
     "metadata": {},
     "output_type": "display_data"
    },
    {
     "data": {
      "text/markdown": [
       "[https://serlo.org/47098](https://serlo.org/47098)"
      ],
      "text/plain": [
       "<IPython.core.display.Markdown object>"
      ]
     },
     "metadata": {},
     "output_type": "display_data"
    },
    {
     "data": {
      "text/markdown": [
       "[https://serlo.org/47843](https://serlo.org/47843)"
      ],
      "text/plain": [
       "<IPython.core.display.Markdown object>"
      ]
     },
     "metadata": {},
     "output_type": "display_data"
    },
    {
     "data": {
      "text/markdown": [
       "[https://serlo.org/47989](https://serlo.org/47989)"
      ],
      "text/plain": [
       "<IPython.core.display.Markdown object>"
      ]
     },
     "metadata": {},
     "output_type": "display_data"
    },
    {
     "data": {
      "text/markdown": [
       "[https://serlo.org/48889](https://serlo.org/48889)"
      ],
      "text/plain": [
       "<IPython.core.display.Markdown object>"
      ]
     },
     "metadata": {},
     "output_type": "display_data"
    },
    {
     "data": {
      "text/markdown": [
       "[https://serlo.org/50092](https://serlo.org/50092)"
      ],
      "text/plain": [
       "<IPython.core.display.Markdown object>"
      ]
     },
     "metadata": {},
     "output_type": "display_data"
    },
    {
     "data": {
      "text/markdown": [
       "[https://serlo.org/61715](https://serlo.org/61715)"
      ],
      "text/plain": [
       "<IPython.core.display.Markdown object>"
      ]
     },
     "metadata": {},
     "output_type": "display_data"
    },
    {
     "data": {
      "text/markdown": [
       "[https://serlo.org/61743](https://serlo.org/61743)"
      ],
      "text/plain": [
       "<IPython.core.display.Markdown object>"
      ]
     },
     "metadata": {},
     "output_type": "display_data"
    },
    {
     "data": {
      "text/markdown": [
       "[https://serlo.org/64118](https://serlo.org/64118)"
      ],
      "text/plain": [
       "<IPython.core.display.Markdown object>"
      ]
     },
     "metadata": {},
     "output_type": "display_data"
    },
    {
     "data": {
      "text/markdown": [
       "[https://serlo.org/64343](https://serlo.org/64343)"
      ],
      "text/plain": [
       "<IPython.core.display.Markdown object>"
      ]
     },
     "metadata": {},
     "output_type": "display_data"
    },
    {
     "data": {
      "text/markdown": [
       "[https://serlo.org/73159](https://serlo.org/73159)"
      ],
      "text/plain": [
       "<IPython.core.display.Markdown object>"
      ]
     },
     "metadata": {},
     "output_type": "display_data"
    },
    {
     "data": {
      "text/markdown": [
       "[https://serlo.org/73166](https://serlo.org/73166)"
      ],
      "text/plain": [
       "<IPython.core.display.Markdown object>"
      ]
     },
     "metadata": {},
     "output_type": "display_data"
    },
    {
     "data": {
      "text/markdown": [
       "[https://serlo.org/73283](https://serlo.org/73283)"
      ],
      "text/plain": [
       "<IPython.core.display.Markdown object>"
      ]
     },
     "metadata": {},
     "output_type": "display_data"
    },
    {
     "data": {
      "text/markdown": [
       "[https://serlo.org/73405](https://serlo.org/73405)"
      ],
      "text/plain": [
       "<IPython.core.display.Markdown object>"
      ]
     },
     "metadata": {},
     "output_type": "display_data"
    },
    {
     "data": {
      "text/markdown": [
       "[https://serlo.org/73425](https://serlo.org/73425)"
      ],
      "text/plain": [
       "<IPython.core.display.Markdown object>"
      ]
     },
     "metadata": {},
     "output_type": "display_data"
    },
    {
     "data": {
      "text/markdown": [
       "[https://serlo.org/73501](https://serlo.org/73501)"
      ],
      "text/plain": [
       "<IPython.core.display.Markdown object>"
      ]
     },
     "metadata": {},
     "output_type": "display_data"
    },
    {
     "data": {
      "text/markdown": [
       "[https://serlo.org/73540](https://serlo.org/73540)"
      ],
      "text/plain": [
       "<IPython.core.display.Markdown object>"
      ]
     },
     "metadata": {},
     "output_type": "display_data"
    },
    {
     "data": {
      "text/markdown": [
       "[https://serlo.org/73584](https://serlo.org/73584)"
      ],
      "text/plain": [
       "<IPython.core.display.Markdown object>"
      ]
     },
     "metadata": {},
     "output_type": "display_data"
    },
    {
     "data": {
      "text/markdown": [
       "[https://serlo.org/73835](https://serlo.org/73835)"
      ],
      "text/plain": [
       "<IPython.core.display.Markdown object>"
      ]
     },
     "metadata": {},
     "output_type": "display_data"
    },
    {
     "data": {
      "text/markdown": [
       "[https://serlo.org/73928](https://serlo.org/73928)"
      ],
      "text/plain": [
       "<IPython.core.display.Markdown object>"
      ]
     },
     "metadata": {},
     "output_type": "display_data"
    },
    {
     "data": {
      "text/markdown": [
       "[https://serlo.org/73944](https://serlo.org/73944)"
      ],
      "text/plain": [
       "<IPython.core.display.Markdown object>"
      ]
     },
     "metadata": {},
     "output_type": "display_data"
    },
    {
     "data": {
      "text/markdown": [
       "[https://serlo.org/74031](https://serlo.org/74031)"
      ],
      "text/plain": [
       "<IPython.core.display.Markdown object>"
      ]
     },
     "metadata": {},
     "output_type": "display_data"
    },
    {
     "data": {
      "text/markdown": [
       "[https://serlo.org/76354](https://serlo.org/76354)"
      ],
      "text/plain": [
       "<IPython.core.display.Markdown object>"
      ]
     },
     "metadata": {},
     "output_type": "display_data"
    },
    {
     "data": {
      "text/markdown": [
       "[https://serlo.org/78492](https://serlo.org/78492)"
      ],
      "text/plain": [
       "<IPython.core.display.Markdown object>"
      ]
     },
     "metadata": {},
     "output_type": "display_data"
    },
    {
     "data": {
      "text/markdown": [
       "[https://serlo.org/80811](https://serlo.org/80811)"
      ],
      "text/plain": [
       "<IPython.core.display.Markdown object>"
      ]
     },
     "metadata": {},
     "output_type": "display_data"
    },
    {
     "data": {
      "text/markdown": [
       "[https://serlo.org/80818](https://serlo.org/80818)"
      ],
      "text/plain": [
       "<IPython.core.display.Markdown object>"
      ]
     },
     "metadata": {},
     "output_type": "display_data"
    },
    {
     "data": {
      "text/markdown": [
       "[https://serlo.org/80821](https://serlo.org/80821)"
      ],
      "text/plain": [
       "<IPython.core.display.Markdown object>"
      ]
     },
     "metadata": {},
     "output_type": "display_data"
    },
    {
     "data": {
      "text/markdown": [
       "[https://serlo.org/80824](https://serlo.org/80824)"
      ],
      "text/plain": [
       "<IPython.core.display.Markdown object>"
      ]
     },
     "metadata": {},
     "output_type": "display_data"
    },
    {
     "data": {
      "text/markdown": [
       "[https://serlo.org/80829](https://serlo.org/80829)"
      ],
      "text/plain": [
       "<IPython.core.display.Markdown object>"
      ]
     },
     "metadata": {},
     "output_type": "display_data"
    },
    {
     "data": {
      "text/markdown": [
       "[https://serlo.org/80836](https://serlo.org/80836)"
      ],
      "text/plain": [
       "<IPython.core.display.Markdown object>"
      ]
     },
     "metadata": {},
     "output_type": "display_data"
    },
    {
     "data": {
      "text/markdown": [
       "[https://serlo.org/80842](https://serlo.org/80842)"
      ],
      "text/plain": [
       "<IPython.core.display.Markdown object>"
      ]
     },
     "metadata": {},
     "output_type": "display_data"
    },
    {
     "data": {
      "text/markdown": [
       "[https://serlo.org/85056](https://serlo.org/85056)"
      ],
      "text/plain": [
       "<IPython.core.display.Markdown object>"
      ]
     },
     "metadata": {},
     "output_type": "display_data"
    },
    {
     "data": {
      "text/markdown": [
       "[https://serlo.org/86389](https://serlo.org/86389)"
      ],
      "text/plain": [
       "<IPython.core.display.Markdown object>"
      ]
     },
     "metadata": {},
     "output_type": "display_data"
    },
    {
     "data": {
      "text/markdown": [
       "[https://serlo.org/91638](https://serlo.org/91638)"
      ],
      "text/plain": [
       "<IPython.core.display.Markdown object>"
      ]
     },
     "metadata": {},
     "output_type": "display_data"
    },
    {
     "data": {
      "text/markdown": [
       "[https://serlo.org/92438](https://serlo.org/92438)"
      ],
      "text/plain": [
       "<IPython.core.display.Markdown object>"
      ]
     },
     "metadata": {},
     "output_type": "display_data"
    },
    {
     "data": {
      "text/markdown": [
       "[https://serlo.org/102203](https://serlo.org/102203)"
      ],
      "text/plain": [
       "<IPython.core.display.Markdown object>"
      ]
     },
     "metadata": {},
     "output_type": "display_data"
    },
    {
     "data": {
      "text/markdown": [
       "[https://serlo.org/102299](https://serlo.org/102299)"
      ],
      "text/plain": [
       "<IPython.core.display.Markdown object>"
      ]
     },
     "metadata": {},
     "output_type": "display_data"
    },
    {
     "data": {
      "text/markdown": [
       "[https://serlo.org/103857](https://serlo.org/103857)"
      ],
      "text/plain": [
       "<IPython.core.display.Markdown object>"
      ]
     },
     "metadata": {},
     "output_type": "display_data"
    },
    {
     "data": {
      "text/markdown": [
       "[https://serlo.org/105900](https://serlo.org/105900)"
      ],
      "text/plain": [
       "<IPython.core.display.Markdown object>"
      ]
     },
     "metadata": {},
     "output_type": "display_data"
    },
    {
     "data": {
      "text/markdown": [
       "[https://serlo.org/116343](https://serlo.org/116343)"
      ],
      "text/plain": [
       "<IPython.core.display.Markdown object>"
      ]
     },
     "metadata": {},
     "output_type": "display_data"
    },
    {
     "data": {
      "text/markdown": [
       "[https://serlo.org/121942](https://serlo.org/121942)"
      ],
      "text/plain": [
       "<IPython.core.display.Markdown object>"
      ]
     },
     "metadata": {},
     "output_type": "display_data"
    },
    {
     "data": {
      "text/markdown": [
       "[https://serlo.org/123700](https://serlo.org/123700)"
      ],
      "text/plain": [
       "<IPython.core.display.Markdown object>"
      ]
     },
     "metadata": {},
     "output_type": "display_data"
    },
    {
     "data": {
      "text/markdown": [
       "[https://serlo.org/141954](https://serlo.org/141954)"
      ],
      "text/plain": [
       "<IPython.core.display.Markdown object>"
      ]
     },
     "metadata": {},
     "output_type": "display_data"
    },
    {
     "data": {
      "text/markdown": [
       "[https://serlo.org/143436](https://serlo.org/143436)"
      ],
      "text/plain": [
       "<IPython.core.display.Markdown object>"
      ]
     },
     "metadata": {},
     "output_type": "display_data"
    },
    {
     "data": {
      "text/markdown": [
       "[https://serlo.org/146616](https://serlo.org/146616)"
      ],
      "text/plain": [
       "<IPython.core.display.Markdown object>"
      ]
     },
     "metadata": {},
     "output_type": "display_data"
    },
    {
     "data": {
      "text/markdown": [
       "[https://serlo.org/146635](https://serlo.org/146635)"
      ],
      "text/plain": [
       "<IPython.core.display.Markdown object>"
      ]
     },
     "metadata": {},
     "output_type": "display_data"
    },
    {
     "data": {
      "text/markdown": [
       "[https://serlo.org/146646](https://serlo.org/146646)"
      ],
      "text/plain": [
       "<IPython.core.display.Markdown object>"
      ]
     },
     "metadata": {},
     "output_type": "display_data"
    },
    {
     "data": {
      "text/markdown": [
       "[https://serlo.org/149487](https://serlo.org/149487)"
      ],
      "text/plain": [
       "<IPython.core.display.Markdown object>"
      ]
     },
     "metadata": {},
     "output_type": "display_data"
    },
    {
     "data": {
      "text/markdown": [
       "[https://serlo.org/166743](https://serlo.org/166743)"
      ],
      "text/plain": [
       "<IPython.core.display.Markdown object>"
      ]
     },
     "metadata": {},
     "output_type": "display_data"
    },
    {
     "data": {
      "text/markdown": [
       "[https://serlo.org/166963](https://serlo.org/166963)"
      ],
      "text/plain": [
       "<IPython.core.display.Markdown object>"
      ]
     },
     "metadata": {},
     "output_type": "display_data"
    },
    {
     "data": {
      "text/markdown": [
       "[https://serlo.org/173783](https://serlo.org/173783)"
      ],
      "text/plain": [
       "<IPython.core.display.Markdown object>"
      ]
     },
     "metadata": {},
     "output_type": "display_data"
    },
    {
     "data": {
      "text/markdown": [
       "[https://serlo.org/174232](https://serlo.org/174232)"
      ],
      "text/plain": [
       "<IPython.core.display.Markdown object>"
      ]
     },
     "metadata": {},
     "output_type": "display_data"
    },
    {
     "data": {
      "text/markdown": [
       "[https://serlo.org/178833](https://serlo.org/178833)"
      ],
      "text/plain": [
       "<IPython.core.display.Markdown object>"
      ]
     },
     "metadata": {},
     "output_type": "display_data"
    },
    {
     "data": {
      "text/markdown": [
       "[https://serlo.org/183053](https://serlo.org/183053)"
      ],
      "text/plain": [
       "<IPython.core.display.Markdown object>"
      ]
     },
     "metadata": {},
     "output_type": "display_data"
    },
    {
     "data": {
      "text/markdown": [
       "[https://serlo.org/183072](https://serlo.org/183072)"
      ],
      "text/plain": [
       "<IPython.core.display.Markdown object>"
      ]
     },
     "metadata": {},
     "output_type": "display_data"
    },
    {
     "data": {
      "text/markdown": [
       "[https://serlo.org/183096](https://serlo.org/183096)"
      ],
      "text/plain": [
       "<IPython.core.display.Markdown object>"
      ]
     },
     "metadata": {},
     "output_type": "display_data"
    },
    {
     "data": {
      "text/markdown": [
       "[https://serlo.org/183115](https://serlo.org/183115)"
      ],
      "text/plain": [
       "<IPython.core.display.Markdown object>"
      ]
     },
     "metadata": {},
     "output_type": "display_data"
    },
    {
     "data": {
      "text/markdown": [
       "[https://serlo.org/183136](https://serlo.org/183136)"
      ],
      "text/plain": [
       "<IPython.core.display.Markdown object>"
      ]
     },
     "metadata": {},
     "output_type": "display_data"
    },
    {
     "data": {
      "text/markdown": [
       "[https://serlo.org/184437](https://serlo.org/184437)"
      ],
      "text/plain": [
       "<IPython.core.display.Markdown object>"
      ]
     },
     "metadata": {},
     "output_type": "display_data"
    },
    {
     "data": {
      "text/markdown": [
       "[https://serlo.org/189592](https://serlo.org/189592)"
      ],
      "text/plain": [
       "<IPython.core.display.Markdown object>"
      ]
     },
     "metadata": {},
     "output_type": "display_data"
    },
    {
     "data": {
      "text/markdown": [
       "[https://serlo.org/190431](https://serlo.org/190431)"
      ],
      "text/plain": [
       "<IPython.core.display.Markdown object>"
      ]
     },
     "metadata": {},
     "output_type": "display_data"
    },
    {
     "data": {
      "text/markdown": [
       "[https://serlo.org/203215](https://serlo.org/203215)"
      ],
      "text/plain": [
       "<IPython.core.display.Markdown object>"
      ]
     },
     "metadata": {},
     "output_type": "display_data"
    },
    {
     "data": {
      "text/markdown": [
       "[https://serlo.org/217141](https://serlo.org/217141)"
      ],
      "text/plain": [
       "<IPython.core.display.Markdown object>"
      ]
     },
     "metadata": {},
     "output_type": "display_data"
    },
    {
     "data": {
      "text/markdown": [
       "[https://serlo.org/221326](https://serlo.org/221326)"
      ],
      "text/plain": [
       "<IPython.core.display.Markdown object>"
      ]
     },
     "metadata": {},
     "output_type": "display_data"
    },
    {
     "data": {
      "text/markdown": [
       "[https://serlo.org/222411](https://serlo.org/222411)"
      ],
      "text/plain": [
       "<IPython.core.display.Markdown object>"
      ]
     },
     "metadata": {},
     "output_type": "display_data"
    },
    {
     "data": {
      "text/markdown": [
       "[https://serlo.org/223423](https://serlo.org/223423)"
      ],
      "text/plain": [
       "<IPython.core.display.Markdown object>"
      ]
     },
     "metadata": {},
     "output_type": "display_data"
    },
    {
     "data": {
      "text/markdown": [
       "[https://serlo.org/226107](https://serlo.org/226107)"
      ],
      "text/plain": [
       "<IPython.core.display.Markdown object>"
      ]
     },
     "metadata": {},
     "output_type": "display_data"
    },
    {
     "data": {
      "text/markdown": [
       "[https://serlo.org/251303](https://serlo.org/251303)"
      ],
      "text/plain": [
       "<IPython.core.display.Markdown object>"
      ]
     },
     "metadata": {},
     "output_type": "display_data"
    }
   ],
   "source": [
    "all_license_elements = [row[0] for row in all_license]\n",
    "all_with_taxonomy_elements = [row[0] for row in all_with_taxonomy]\n",
    "\n",
    "without_taxonomy = set(all_license_elements) - set(all_with_taxonomy_elements)\n",
    "\n",
    "display(\n",
    "    Markdown(\n",
    "        f\"\"\"\n",
    "# Results\n",
    "\n",
    "### There are a lot of entities ({difference_all_current}) without any current revisions \n",
    "Of course, some of them are just waiting for review, but I think we just have a bad use of the platforma,\n",
    "that the content unit could take care of.\n",
    "### Metadata Query is excluding a lot of entities ({difference_all_license}) which have license that isn't found in the database \n",
    "Since we changed the way of handling the license, they are probably valid.  \n",
    "_Action_: Stop filtering the license in the metadata query and handle it in another way.\n",
    "### There are some entities ({difference_with_taxonomy}) without any taxomomy. These are they: \n",
    "\"\"\"\n",
    "    )\n",
    ")\n",
    "for t in sorted(without_taxonomy):\n",
    "    display(Markdown(f\"[https://serlo.org/{t}](https://serlo.org/{t})\"))"
   ]
  }
 ],
 "metadata": {
  "kernelspec": {
   "display_name": "Python 3 (ipykernel)",
   "language": "python",
   "name": "python3"
  },
  "language_info": {
   "codemirror_mode": {
    "name": "ipython",
    "version": 3
   },
   "file_extension": ".py",
   "mimetype": "text/x-python",
   "name": "python",
   "nbconvert_exporter": "python",
   "pygments_lexer": "ipython3",
   "version": "3.8.10"
  }
 },
 "nbformat": 4,
 "nbformat_minor": 5
}
