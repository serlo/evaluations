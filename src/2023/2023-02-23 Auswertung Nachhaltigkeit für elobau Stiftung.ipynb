{
 "cells": [
  {
   "cell_type": "code",
   "execution_count": 1,
   "id": "reverse-medicaid",
   "metadata": {},
   "outputs": [
    {
     "name": "stderr",
     "output_type": "stream",
     "text": [
      "/home/kulla/.local/share/asdf/installs/python/3.9.1/lib/python3.9/site-packages/pandas/compat/__init__.py:97: UserWarning: Could not import the lzma module. Your installed Python is incomplete. Attempting to use lzma compression will result in a RuntimeError.\n",
      "  warnings.warn(msg)\n"
     ]
    }
   ],
   "source": [
    "import pandas as pd\n",
    "import matplotlib.pyplot as plt\n",
    "import mysql.connector\n",
    "\n",
    "db = mysql.connector.connect(\n",
    "    host=\"localhost\",\n",
    "    user=\"root\",\n",
    "    password=\"secret\",\n",
    "    port=\"3306\",\n",
    "    database=\"serlo\",\n",
    "    charset=\"latin1\"\n",
    ")\n",
    "\n",
    "pd.set_option('display.max_rows', None)"
   ]
  },
  {
   "cell_type": "code",
   "execution_count": 2,
   "id": "pointed-instrumentation",
   "metadata": {},
   "outputs": [],
   "source": [
    "from IPython.display import display, Markdown\n",
    "\n",
    "def fix_encoding(title):\n",
    "    return bytes(title, \"latin1\").decode(\"utf8\")\n",
    "\n",
    "def m(text):\n",
    "    display(Markdown(text))"
   ]
  },
  {
   "cell_type": "code",
   "execution_count": 3,
   "id": "verified-entry",
   "metadata": {},
   "outputs": [],
   "source": [
    "def cached(func):\n",
    "    cache = dict()\n",
    "    \n",
    "    def return_func(arg):\n",
    "        if (arg in cache):\n",
    "            return cache[arg]\n",
    "        else:\n",
    "            result = func(arg)\n",
    "            cache[arg] = result\n",
    "            return result\n",
    "    \n",
    "    return return_func\n",
    "\n",
    "def query(sql):\n",
    "    c = db.cursor()\n",
    "    c.execute(sql)\n",
    "    \n",
    "    return c.fetchall()\n",
    "\n",
    "def querySingleton(sql):\n",
    "    return [ x[0] for x in query(sql) ]\n",
    "\n",
    "@cached\n",
    "def getParent(termId):\n",
    "    return querySingleton(\"\"\"\n",
    "        select parent_id from term_taxonomy where id = %s;\n",
    "    \"\"\" % termId)[0]\n",
    "\n",
    "def getTermName(termId):\n",
    "    return fix_encoding(querySingleton(\"\"\"\n",
    "        select term.name from term_taxonomy\n",
    "        join term on term.id = term_taxonomy.term_id\n",
    "        where term_taxonomy.id = %s;\n",
    "    \"\"\" % termId)[0])\n",
    "\n",
    "@cached\n",
    "def getSubject(termId):\n",
    "    #if int(termId) in [79733, 81317, 20852, 87814, 87827, 85477, 87860, 75049, 76750, 87496, 75678, 91252, 91253]:\n",
    "    #    return \"Prüfungsbereich Mathematik\"\n",
    "    if int(termId) in [106082]:\n",
    "        return getTermName(termId)\n",
    "    \n",
    "    parent = getParent(termId)\n",
    "    \n",
    "    if parent == 106081:\n",
    "        return getTermName(termId)\n",
    "    \n",
    "    if parent == None:\n",
    "        return None\n",
    "    \n",
    "    grandparent = getParent(parent)\n",
    "        \n",
    "    return getSubject(parent) if grandparent != None else getTermName(termId)\n",
    "\n",
    "@cached\n",
    "def getSubjectFromUuid(uuid):\n",
    "    taxonomyTerms = querySingleton(f\"\"\"\n",
    "        select term_taxonomy.id from term_taxonomy\n",
    "        where term_taxonomy.id  = {uuid};\n",
    "    \"\"\")\n",
    "    \n",
    "    if len(taxonomyTerms) > 0:\n",
    "        return getSubject(taxonomyTerms[0])\n",
    "    \n",
    "    taxonomyTerms = querySingleton(f\"\"\"\n",
    "        select term_taxonomy_id from term_taxonomy_entity\n",
    "        where term_taxonomy_entity.entity_id  = {uuid};\n",
    "    \"\"\")\n",
    "    \n",
    "    if len(taxonomyTerms) > 0:\n",
    "        return getSubject(taxonomyTerms[0])\n",
    "\n",
    "    parents = querySingleton(f\"\"\"\n",
    "        select parent_id from entity_link\n",
    "        where entity_link.child_id  = {uuid};\n",
    "    \"\"\")\n",
    "    \n",
    "    if len(parents) > 0:\n",
    "        return getSubjectFromUuid(parents[0])\n",
    "    \n",
    "    parents = query(f\"\"\"\n",
    "        select parent_id, uuid_id from comment\n",
    "        where comment.id  = {uuid};\n",
    "    \"\"\")\n",
    "    \n",
    "    if len(parents) > 0:\n",
    "        parent_id, uuid_id = parents[0]\n",
    "        \n",
    "        if parent_id:\n",
    "            return getSubjectFromUuid(parent_id)\n",
    "        else:\n",
    "            return getSubjectFromUuid(uuid_id)\n",
    "    \n",
    "    parents = querySingleton(f\"\"\"\n",
    "        select repository_id from entity_revision\n",
    "        where entity_revision.id  = {uuid};\n",
    "    \"\"\")\n",
    "    \n",
    "    if len(parents) > 0:\n",
    "        return getSubjectFromUuid(parents[0])\n",
    "    \n",
    "    return None\n",
    "\n",
    "#for uuid in [3, 82047, 127338, 63496, 1, 170741, 167497, 93379, 93387]:\n",
    "#    display(getSubjectFromUuid(uuid))"
   ]
  },
  {
   "cell_type": "code",
   "execution_count": 4,
   "id": "south-completion",
   "metadata": {},
   "outputs": [],
   "source": [
    "@cached\n",
    "def getEntityTypeFromUuid(uuid):\n",
    "    results = querySingleton(f\"\"\"\n",
    "        select type.name\n",
    "        from type\n",
    "        join entity on entity.type_id = type.id\n",
    "        where entity.id = {uuid}\n",
    "    \"\"\")\n",
    "    \n",
    "    if len(results) > 0:\n",
    "        return results[0]\n",
    "    \n",
    "    results = querySingleton(f\"\"\"\n",
    "        select type.name\n",
    "        from type\n",
    "        join entity on entity.type_id = type.id\n",
    "        join entity_revision on entity.id = entity_revision.repository_id\n",
    "        where entity_revision.id = {uuid}\n",
    "    \"\"\")\n",
    "    \n",
    "    if len(results) > 0:\n",
    "        return results[0]\n",
    "    \n",
    "    return None"
   ]
  },
  {
   "cell_type": "code",
   "execution_count": 5,
   "id": "adverse-crowd",
   "metadata": {},
   "outputs": [],
   "source": [
    "@cached\n",
    "def getInstanceFromUuid(uuid):\n",
    "    results = querySingleton(f\"\"\"\n",
    "        select instance.subdomain\n",
    "        from term_taxonomy\n",
    "        join term on term_taxonomy.term_id = term.id\n",
    "        join instance on instance.id = term.instance_id\n",
    "        where term_taxonomy.id = {uuid}\n",
    "    \"\"\")\n",
    "    \n",
    "    if len(results) > 0:\n",
    "        return results[0]\n",
    "\n",
    "    results = querySingleton(f\"\"\"\n",
    "        select instance.subdomain\n",
    "        from entity\n",
    "        join instance on instance.id = entity.instance_id\n",
    "        where entity.id = {uuid};\n",
    "    \"\"\")\n",
    "    \n",
    "    if len(results) > 0:\n",
    "        return results[0]\n",
    "    \n",
    "    results = querySingleton(f\"\"\"\n",
    "        select instance.subdomain\n",
    "        from comment\n",
    "        join instance on instance.id = comment.instance_id\n",
    "        where comment.id = {uuid};\n",
    "    \"\"\")\n",
    "    \n",
    "    if len(results) > 0:\n",
    "        return results[0]\n",
    "    \n",
    "    parents = querySingleton(f\"\"\"\n",
    "        select repository_id from entity_revision\n",
    "        where entity_revision.id  = {uuid};\n",
    "    \"\"\")\n",
    "    \n",
    "    if len(parents) > 0:\n",
    "        return getInstanceFromUuid(parents[0])\n",
    "    \n",
    "    return None\n",
    "\n",
    "#for uuid in [82047, 127338, 63496, 1, 170741, 167497, 93379, 93387]:\n",
    "#    display(getInstanceFromUuid(uuid))"
   ]
  },
  {
   "cell_type": "code",
   "execution_count": 9,
   "id": "premium-brave",
   "metadata": {},
   "outputs": [],
   "source": [
    "def event_category(row):\n",
    "    # mysql> select * from event;\n",
    "    # +----+-----------------------------+-------------+\n",
    "    # | id | name                        | description |\n",
    "    # +----+-----------------------------+-------------+\n",
    "    # |  1 | taxonomy/term/associate     | NULL        |\n",
    "    # |  2 | taxonomy/term/create        | NULL        |\n",
    "    # |  3 | license/object/set          | NULL        |\n",
    "    # |  4 | entity/create               | NULL        |\n",
    "    # |  5 | entity/revision/add         | NULL        |\n",
    "    # |  6 | entity/revision/checkout    | NULL        |\n",
    "    # |  7 | entity/link/create          | NULL        |\n",
    "    # |  8 | discussion/create           | NULL        |\n",
    "    # |  9 | discussion/comment/create   | NULL        |\n",
    "    # | 10 | uuid/trash                  | NULL        |\n",
    "    # | 11 | entity/revision/reject      | NULL        |\n",
    "    # | 12 | taxonomy/term/update        | NULL        |\n",
    "    # | 13 | uuid/restore                | NULL        |\n",
    "    # | 14 | discussion/comment/archive  | NULL        |\n",
    "    # | 15 | taxonomy/term/parent/change | NULL        |\n",
    "    # | 16 | discussion/restore          | NULL        |\n",
    "    # | 17 | taxonomy/term/dissociate    | NULL        |\n",
    "    # | 18 | entity/link/remove          | NULL        |\n",
    "    # +----+-----------------------------+-------------+\n",
    "    \n",
    "    event_id, uuid_type = row[0], row[1]\n",
    "    \n",
    "    if event_id in [10,13] and uuid_type ==\"comment\":\n",
    "        return \"moderation\"\n",
    "    elif event_id in [1,2,7, 12,15, 17, 18]:\n",
    "        return \"taxonomy-architekt\"\n",
    "    elif event_id in [4,5]:\n",
    "        return \"edit\"\n",
    "    elif event_id in [11,6]:\n",
    "        return \"review\"\n",
    "    elif event_id in [14,16]:\n",
    "        return \"moderation\"\n",
    "    elif event_id in [8,9]:\n",
    "        return \"commenting\"\n",
    "    elif event_id in [10, 13, 3]:\n",
    "        return \"admin\"\n",
    "    \n",
    "def delete_consecutive_events(df):\n",
    "    df.sort_values([\"user_id\", \"date\"], inplace=True)\n",
    "    df[\"time_diff_seconds\"] = df[\"date\"].diff().map(lambda x: x.total_seconds())\n",
    "    \n",
    "    to_delete = (df[\"time_diff_seconds\"] >= 0) & (df[\"time_diff_seconds\"] < 3)\n",
    "    df.drop(df[to_delete].index, inplace=True)\n",
    "    df.drop(\"time_diff_seconds\", axis=1, inplace=True)\n",
    "    \n",
    "    return df"
   ]
  },
  {
   "cell_type": "code",
   "execution_count": 19,
   "id": "colonial-prompt",
   "metadata": {},
   "outputs": [],
   "source": [
    "def load_event_log():\n",
    "    d = pd.read_sql(\"\"\"\n",
    "        select\n",
    "            event_log.id as event_log_id,\n",
    "            event_log.date,\n",
    "            user.id as user_id,\n",
    "            event.id as event_id,\n",
    "            event.name as event_name,\n",
    "            user.username,\n",
    "            event_log.uuid_id as uuid,\n",
    "            uuid.trashed as uuid_trashed,\n",
    "            uuid.discriminator as uuid_type\n",
    "        from event_log\n",
    "        join user on user.id = event_log.actor_id\n",
    "        join event on event.id = event_log.event_id\n",
    "        join uuid on event_log.uuid_id = uuid.id\n",
    "        where year(event_log.date) >= 2018\n",
    "            and event_log.event_id in (4,5)\n",
    "        order by event_log.id\n",
    "    \"\"\", db)\n",
    "    d.set_index(\"event_log_id\", inplace=True)\n",
    "    delete_consecutive_events(d)\n",
    "    d.sort_values([\"event_log_id\"], inplace=True)\n",
    "    \n",
    "    d[\"subject\"] = d[\"uuid\"].map(getSubjectFromUuid)\n",
    "    d[\"instance\"] = d[\"uuid\"].map(getInstanceFromUuid)\n",
    "    d[\"entity_type\"] = d[\"uuid\"].map(getEntityTypeFromUuid)\n",
    "    d[\"event_category\"] = d[[\"event_id\", \"uuid_type\"]].apply(event_category, axis=1)\n",
    "    \n",
    "    return d"
   ]
  },
  {
   "cell_type": "code",
   "execution_count": 20,
   "id": "parliamentary-artwork",
   "metadata": {},
   "outputs": [],
   "source": [
    "df = load_event_log()"
   ]
  },
  {
   "cell_type": "code",
   "execution_count": 21,
   "id": "intimate-miracle",
   "metadata": {},
   "outputs": [],
   "source": [
    "df[\"year\"] = df[\"date\"].map(lambda x: x.year)"
   ]
  },
  {
   "cell_type": "code",
   "execution_count": 22,
   "id": "revised-pioneer",
   "metadata": {},
   "outputs": [
    {
     "data": {
      "text/html": [
       "<div>\n",
       "<style scoped>\n",
       "    .dataframe tbody tr th:only-of-type {\n",
       "        vertical-align: middle;\n",
       "    }\n",
       "\n",
       "    .dataframe tbody tr th {\n",
       "        vertical-align: top;\n",
       "    }\n",
       "\n",
       "    .dataframe thead th {\n",
       "        text-align: right;\n",
       "    }\n",
       "</style>\n",
       "<table border=\"1\" class=\"dataframe\">\n",
       "  <thead>\n",
       "    <tr style=\"text-align: right;\">\n",
       "      <th></th>\n",
       "      <th>date</th>\n",
       "      <th>user_id</th>\n",
       "      <th>event_id</th>\n",
       "      <th>event_name</th>\n",
       "      <th>username</th>\n",
       "      <th>uuid</th>\n",
       "      <th>uuid_trashed</th>\n",
       "      <th>uuid_type</th>\n",
       "      <th>subject</th>\n",
       "      <th>instance</th>\n",
       "      <th>entity_type</th>\n",
       "      <th>event_category</th>\n",
       "      <th>year</th>\n",
       "    </tr>\n",
       "    <tr>\n",
       "      <th>event_log_id</th>\n",
       "      <th></th>\n",
       "      <th></th>\n",
       "      <th></th>\n",
       "      <th></th>\n",
       "      <th></th>\n",
       "      <th></th>\n",
       "      <th></th>\n",
       "      <th></th>\n",
       "      <th></th>\n",
       "      <th></th>\n",
       "      <th></th>\n",
       "      <th></th>\n",
       "      <th></th>\n",
       "    </tr>\n",
       "  </thead>\n",
       "  <tbody>\n",
       "    <tr>\n",
       "      <th>193360</th>\n",
       "      <td>2018-01-01 15:36:17</td>\n",
       "      <td>62384</td>\n",
       "      <td>5</td>\n",
       "      <td>entity/revision/add</td>\n",
       "      <td>Rebi</td>\n",
       "      <td>93379</td>\n",
       "      <td>0</td>\n",
       "      <td>entityRevision</td>\n",
       "      <td>Mathe</td>\n",
       "      <td>de</td>\n",
       "      <td>text-solution</td>\n",
       "      <td>edit</td>\n",
       "      <td>2018</td>\n",
       "    </tr>\n",
       "    <tr>\n",
       "      <th>193362</th>\n",
       "      <td>2018-01-01 15:38:00</td>\n",
       "      <td>62384</td>\n",
       "      <td>5</td>\n",
       "      <td>entity/revision/add</td>\n",
       "      <td>Rebi</td>\n",
       "      <td>93380</td>\n",
       "      <td>0</td>\n",
       "      <td>entityRevision</td>\n",
       "      <td>Mathe</td>\n",
       "      <td>de</td>\n",
       "      <td>text-solution</td>\n",
       "      <td>edit</td>\n",
       "      <td>2018</td>\n",
       "    </tr>\n",
       "    <tr>\n",
       "      <th>193367</th>\n",
       "      <td>2018-01-02 10:41:16</td>\n",
       "      <td>70443</td>\n",
       "      <td>5</td>\n",
       "      <td>entity/revision/add</td>\n",
       "      <td>sansmile</td>\n",
       "      <td>93381</td>\n",
       "      <td>0</td>\n",
       "      <td>entityRevision</td>\n",
       "      <td>Biologie</td>\n",
       "      <td>de</td>\n",
       "      <td>article</td>\n",
       "      <td>edit</td>\n",
       "      <td>2018</td>\n",
       "    </tr>\n",
       "    <tr>\n",
       "      <th>193371</th>\n",
       "      <td>2018-01-02 10:53:29</td>\n",
       "      <td>10</td>\n",
       "      <td>5</td>\n",
       "      <td>entity/revision/add</td>\n",
       "      <td>Simon</td>\n",
       "      <td>93382</td>\n",
       "      <td>0</td>\n",
       "      <td>pageRevision</td>\n",
       "      <td>None</td>\n",
       "      <td>None</td>\n",
       "      <td>None</td>\n",
       "      <td>edit</td>\n",
       "      <td>2018</td>\n",
       "    </tr>\n",
       "    <tr>\n",
       "      <th>193373</th>\n",
       "      <td>2018-01-02 12:03:13</td>\n",
       "      <td>10</td>\n",
       "      <td>5</td>\n",
       "      <td>entity/revision/add</td>\n",
       "      <td>Simon</td>\n",
       "      <td>93383</td>\n",
       "      <td>0</td>\n",
       "      <td>entityRevision</td>\n",
       "      <td>Community</td>\n",
       "      <td>de</td>\n",
       "      <td>article</td>\n",
       "      <td>edit</td>\n",
       "      <td>2018</td>\n",
       "    </tr>\n",
       "  </tbody>\n",
       "</table>\n",
       "</div>"
      ],
      "text/plain": [
       "                            date  user_id  event_id           event_name  \\\n",
       "event_log_id                                                               \n",
       "193360       2018-01-01 15:36:17    62384         5  entity/revision/add   \n",
       "193362       2018-01-01 15:38:00    62384         5  entity/revision/add   \n",
       "193367       2018-01-02 10:41:16    70443         5  entity/revision/add   \n",
       "193371       2018-01-02 10:53:29       10         5  entity/revision/add   \n",
       "193373       2018-01-02 12:03:13       10         5  entity/revision/add   \n",
       "\n",
       "              username   uuid  uuid_trashed       uuid_type    subject  \\\n",
       "event_log_id                                                             \n",
       "193360            Rebi  93379             0  entityRevision      Mathe   \n",
       "193362            Rebi  93380             0  entityRevision      Mathe   \n",
       "193367        sansmile  93381             0  entityRevision   Biologie   \n",
       "193371           Simon  93382             0    pageRevision       None   \n",
       "193373           Simon  93383             0  entityRevision  Community   \n",
       "\n",
       "             instance    entity_type event_category  year  \n",
       "event_log_id                                               \n",
       "193360             de  text-solution           edit  2018  \n",
       "193362             de  text-solution           edit  2018  \n",
       "193367             de        article           edit  2018  \n",
       "193371           None           None           edit  2018  \n",
       "193373             de        article           edit  2018  "
      ]
     },
     "execution_count": 22,
     "metadata": {},
     "output_type": "execute_result"
    }
   ],
   "source": [
    "df.head()"
   ]
  },
  {
   "cell_type": "code",
   "execution_count": 25,
   "id": "refined-staff",
   "metadata": {},
   "outputs": [
    {
     "data": {
      "text/markdown": [
       "# Jahr 2019"
      ],
      "text/plain": [
       "<IPython.core.display.Markdown object>"
      ]
     },
     "metadata": {},
     "output_type": "display_data"
    },
    {
     "data": {
      "text/markdown": [
       "Anzahl Bearbeitungen: 628"
      ],
      "text/plain": [
       "<IPython.core.display.Markdown object>"
      ]
     },
     "metadata": {},
     "output_type": "display_data"
    },
    {
     "data": {
      "text/markdown": [
       "Davon Neuerstellungen: 80"
      ],
      "text/plain": [
       "<IPython.core.display.Markdown object>"
      ]
     },
     "metadata": {},
     "output_type": "display_data"
    },
    {
     "data": {
      "text/markdown": [
       "# Jahr 2020"
      ],
      "text/plain": [
       "<IPython.core.display.Markdown object>"
      ]
     },
     "metadata": {},
     "output_type": "display_data"
    },
    {
     "data": {
      "text/markdown": [
       "Anzahl Bearbeitungen: 215"
      ],
      "text/plain": [
       "<IPython.core.display.Markdown object>"
      ]
     },
     "metadata": {},
     "output_type": "display_data"
    },
    {
     "data": {
      "text/markdown": [
       "Davon Neuerstellungen: 32"
      ],
      "text/plain": [
       "<IPython.core.display.Markdown object>"
      ]
     },
     "metadata": {},
     "output_type": "display_data"
    },
    {
     "data": {
      "text/markdown": [
       "# Jahr 2021"
      ],
      "text/plain": [
       "<IPython.core.display.Markdown object>"
      ]
     },
     "metadata": {},
     "output_type": "display_data"
    },
    {
     "data": {
      "text/markdown": [
       "Anzahl Bearbeitungen: 447"
      ],
      "text/plain": [
       "<IPython.core.display.Markdown object>"
      ]
     },
     "metadata": {},
     "output_type": "display_data"
    },
    {
     "data": {
      "text/markdown": [
       "Davon Neuerstellungen: 89"
      ],
      "text/plain": [
       "<IPython.core.display.Markdown object>"
      ]
     },
     "metadata": {},
     "output_type": "display_data"
    },
    {
     "data": {
      "text/markdown": [
       "# Jahr 2022"
      ],
      "text/plain": [
       "<IPython.core.display.Markdown object>"
      ]
     },
     "metadata": {},
     "output_type": "display_data"
    },
    {
     "data": {
      "text/markdown": [
       "Anzahl Bearbeitungen: 529"
      ],
      "text/plain": [
       "<IPython.core.display.Markdown object>"
      ]
     },
     "metadata": {},
     "output_type": "display_data"
    },
    {
     "data": {
      "text/markdown": [
       "Davon Neuerstellungen: 71"
      ],
      "text/plain": [
       "<IPython.core.display.Markdown object>"
      ]
     },
     "metadata": {},
     "output_type": "display_data"
    }
   ],
   "source": [
    "for year in [2019,2020,2021,2022]:\n",
    "    m(f\"# Jahr {year}\")\n",
    "    \n",
    "    edits = len(df[(df[\"year\"] == year) & \n",
    "                   (df[\"subject\"] == \"Nachhaltigkeit\") &\n",
    "                   (df[\"event_category\"] == \"edit\")])\n",
    "    \n",
    "    m(f\"Anzahl Bearbeitungen: {edits}\")\n",
    "    \n",
    "    edits = len(df[(df[\"year\"] == year) & \n",
    "                   (df[\"subject\"] == \"Nachhaltigkeit\") &\n",
    "                   (df[\"event_id\"] == 4)])\n",
    "    \n",
    "    m(f\"Davon Neuerstellungen: {edits}\")"
   ]
  }
 ],
 "metadata": {
  "kernelspec": {
   "display_name": "Python 3",
   "language": "python",
   "name": "python3"
  },
  "language_info": {
   "codemirror_mode": {
    "name": "ipython",
    "version": 3
   },
   "file_extension": ".py",
   "mimetype": "text/x-python",
   "name": "python",
   "nbconvert_exporter": "python",
   "pygments_lexer": "ipython3",
   "version": "3.9.1"
  }
 },
 "nbformat": 4,
 "nbformat_minor": 5
}
