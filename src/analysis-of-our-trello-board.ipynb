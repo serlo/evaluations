{
 "cells": [
  {
   "cell_type": "markdown",
   "id": "78b8c5de",
   "metadata": {},
   "source": [
    "# Table of contents\n",
    "\n",
    "* [Number of finished cards per month](#finished-cards-bar)\n",
    "* [Rolling number of finished cards in last 30 days](#finished-cards-rolling)\n",
    "* [Finished feature cards per month](#finished-feature-cards-per-month)\n",
    "* [Rolling view: Finished feature cards in the last 30 days](#finished-cards-rolling-features)\n",
    "* [Current cards in development](#development-cards)\n",
    "* [Changelog](#changelog)\n",
    "\n",
    "# Date of last generation"
   ]
  },
  {
   "cell_type": "code",
   "execution_count": 2,
   "id": "0fefe4ae",
   "metadata": {},
   "outputs": [
    {
     "name": "stdout",
     "output_type": "stream",
     "text": [
      "Time of last creation of this analysis: 2023-10-06 00:11:10.939516\n"
     ]
    }
   ],
   "source": [
    "import datetime\n",
    "\n",
    "current_datetime = datetime.datetime.now()\n",
    "\n",
    "print(\"Time of last creation of this analysis:\", current_datetime)"
   ]
  },
  {
   "cell_type": "markdown",
   "id": "fdc6b3b7",
   "metadata": {},
   "source": [
    "# Get API key and token for accessing the Trello API\n",
    "\n",
    "Go to https://trello.com/power-ups/admin to access your token (see https://developer.atlassian.com/cloud/trello/guides/rest-api/authorization/ for documentation). Open https://trello.com/1/authorize?expiration=1day&name=MyPersonalToken&scope=read&response_type=token&key=YourAPIKey with replacing `YourAPIKey` with your personal key in order to generate your token."
   ]
  },
  {
   "cell_type": "code",
   "execution_count": 3,
   "id": "71f6dc40",
   "metadata": {},
   "outputs": [],
   "source": [
    "import os\n",
    "\n",
    "API_KEY = os.environ.get(\"TRELLO_API_KEY\", None)\n",
    "TOKEN = os.environ.get(\"TRELLO_TOKEN\", None)\n",
    "\n",
    "from getpass import getpass\n",
    "\n",
    "if API_KEY is None:\n",
    "    API_KEY = getpass(\"Trello API Key\")\n",
    "\n",
    "if TOKEN is None:\n",
    "    TOKEN = getpass(\"Trello Token\")"
   ]
  },
  {
   "cell_type": "markdown",
   "id": "c187ae5f",
   "metadata": {},
   "source": [
    "# Download all cards"
   ]
  },
  {
   "cell_type": "code",
   "execution_count": 4,
   "id": "9e4bfba3",
   "metadata": {},
   "outputs": [
    {
     "name": "stdout",
     "output_type": "stream",
     "text": [
      "Downloaded cards: 318\n"
     ]
    }
   ],
   "source": [
    "import requests\n",
    "import json\n",
    "\n",
    "BOARD_ID = 'pfDnwT4D'\n",
    "\n",
    "def api_call(endpoint, additional_params):\n",
    "    params = {\n",
    "        'key': API_KEY,\n",
    "        'token': TOKEN,\n",
    "        'limit': 1000,\n",
    "    }\n",
    "    params.update(additional_params)\n",
    "    \n",
    "    response = requests.get(\n",
    "            f\"https://api.trello.com/1{endpoint}\",\n",
    "            headers={ \"Accept\": \"application/json\" },\n",
    "            params=params\n",
    "    )\n",
    "\n",
    "    if response.status_code == 200:\n",
    "        return response.json()\n",
    "    else:\n",
    "        print(f\"Request failed with status code {response.status_code}\")\n",
    "            \n",
    "def get_cards(board_id):\n",
    "    return api_call(f\"/boards/{board_id}/cards\", { 'filter': 'all' })\n",
    "        \n",
    "cards = get_cards(BOARD_ID)\n",
    "\n",
    "print(f\"Downloaded cards: {len(cards)}\")"
   ]
  },
  {
   "cell_type": "code",
   "execution_count": 5,
   "id": "08e82934",
   "metadata": {},
   "outputs": [],
   "source": [
    "def get_actions(card_id):\n",
    "    return api_call(f\"/cards/{card_id}/actions\", { \"filter\": \"updateCard:idList,copyCard,createCard,convertToCardFromCheckItem\", })\n",
    "\n",
    "for card in cards:\n",
    "    card[\"actions\"] = list(reversed(get_actions(card[\"id\"])))"
   ]
  },
  {
   "cell_type": "code",
   "execution_count": 6,
   "id": "5de620f0",
   "metadata": {},
   "outputs": [],
   "source": [
    "def get_lists(board_id):\n",
    "    return api_call(f\"/boards/{board_id}/lists\", {})\n",
    "\n",
    "lists = get_lists(BOARD_ID)\n",
    "list_id2list_name = dict((l[\"id\"], l[\"name\"]) for l in lists)\n",
    "list_name2list_id = dict((l[\"name\"], l[\"id\"]) for l in lists)"
   ]
  },
  {
   "cell_type": "markdown",
   "id": "03b32dd8",
   "metadata": {},
   "source": [
    "# Validation of the data"
   ]
  },
  {
   "cell_type": "code",
   "execution_count": 7,
   "id": "e1e7ac0f",
   "metadata": {},
   "outputs": [
    {
     "name": "stdout",
     "output_type": "stream",
     "text": [
      "Invalid cards: 0\n"
     ]
    }
   ],
   "source": [
    "def is_move_action(action):\n",
    "    return \"listBefore\" in action[\"data\"] and \"listAfter\" in action[\"data\"]\n",
    "\n",
    "for card in cards:\n",
    "    card[\"actions\"] = [action for (index, action) in enumerate(card[\"actions\"]) if (action[\"type\"] != \"updateCard\" and index == 0) or is_move_action(action)]\n",
    "    \n",
    "def is_valid_card(card):\n",
    "    return len(card[\"actions\"]) > 0 and is_first_action_copy_or_create(card) and is_tail_of_actions_move_actions(card)\n",
    "\n",
    "def is_first_action_copy_or_create(card):\n",
    "    return card[\"actions\"][0][\"type\"] in [\"createCard\", \"copyCard\", \"convertToCardFromCheckItem\"]\n",
    "\n",
    "def is_tail_of_actions_move_actions(card):\n",
    "    return all(is_move_action(action) for action in card[\"actions\"][1:])\n",
    "\n",
    "valid_cards = [card for card in cards if is_valid_card(card)]\n",
    "invalid_cards = [card for card in cards if not is_valid_card(card)]\n",
    "\n",
    "print(f\"Invalid cards: {len(invalid_cards)}\")\n",
    "\n",
    "for card in invalid_cards:\n",
    "    print(card[\"name\"])\n",
    "    prettyprint(card[\"actions\"])"
   ]
  },
  {
   "cell_type": "markdown",
   "id": "e779566c",
   "metadata": {},
   "source": [
    "# Helper function for displaying cards"
   ]
  },
  {
   "cell_type": "code",
   "execution_count": 8,
   "id": "7ca3f8fd",
   "metadata": {},
   "outputs": [
    {
     "data": {
      "text/plain": [
       "{'63bc34d346143f025ffe3152': Timedelta('0 days 00:00:20.845000'),\n",
       " '6374b6c8d908a5001de2fa7b': Timedelta('0 days 00:00:00'),\n",
       " '6374b6c8d908a5001de2fa7c': Timedelta('0 days 00:00:00'),\n",
       " '6374b70b76ae9a0265bb679b': Timedelta('0 days 00:00:00'),\n",
       " '6374b723ad21d7062366f9b6': Timedelta('0 days 00:00:00'),\n",
       " '641838c6ee62b9f7a7fa8ac2': Timedelta('0 days 00:00:00'),\n",
       " '6374b72bcbb33c0681d4b99b': Timedelta('65 days 10:13:54.944019')}"
      ]
     },
     "execution_count": 8,
     "metadata": {},
     "output_type": "execute_result"
    }
   ],
   "source": [
    "import pandas as pd\n",
    "\n",
    "from datetime import timezone, datetime\n",
    "\n",
    "def get_time_in_lists(card):\n",
    "    result = dict((l[\"id\"], pd.Timedelta(0)) for l in lists)\n",
    "    \n",
    "    if card[\"idList\"] not in result:\n",
    "        result[card[\"idList\"]] = pd.Timedelta(0)\n",
    "    \n",
    "    last_time = pd.to_datetime(card[\"actions\"][0][\"date\"]) \n",
    "    \n",
    "    for action in card[\"actions\"][1:]:\n",
    "        diff = pd.to_datetime(action[\"date\"]) - last_time\n",
    "        \n",
    "        if action[\"data\"][\"listBefore\"][\"id\"] in result:\n",
    "            result[action[\"data\"][\"listBefore\"][\"id\"]] += diff\n",
    "        \n",
    "        last_time = pd.to_datetime(action[\"date\"])\n",
    "    \n",
    "    result[card[\"idList\"]] += pd.to_datetime(datetime.now(timezone.utc))-last_time\n",
    "    \n",
    "    return result\n",
    "\n",
    "get_time_in_lists(cards[200])"
   ]
  },
  {
   "cell_type": "code",
   "execution_count": 9,
   "id": "79385bb8",
   "metadata": {},
   "outputs": [
    {
     "data": {
      "text/plain": [
       "'2023-08-01T11:58:49.621Z'"
      ]
     },
     "execution_count": 9,
     "metadata": {},
     "output_type": "execute_result"
    }
   ],
   "source": [
    "def get_last_move_date(card):\n",
    "    dates = [a[\"date\"] for a in card[\"actions\"] if is_move_action(a) or a[\"type\"] in [\"createCard\", \"copyCard\"]]\n",
    "             \n",
    "    return max(dates)\n",
    "\n",
    "get_last_move_date(cards[200])"
   ]
  },
  {
   "cell_type": "code",
   "execution_count": 10,
   "id": "7c75603a",
   "metadata": {},
   "outputs": [
    {
     "data": {
      "text/html": [
       "<div style=\"padding: 1em; border: 3px black solid; border-radius: 1em; background: #f2f2f2\"><h3><a href=\"https://trello.com/c/Ic4PZXwg/129-bugs\">Bugs</a> (03.05.2023)</h3><ul><li>Entwicklung: 0 days, 0 hours, 0 minutes, 0 seconds</li><li>Feedback / Blocked: 0 days, 0 hours, 0 minutes, 0 seconds</li><li>Testen / PR Review: 0 days, 0 hours, 0 minutes, 0 seconds</li><li><b>Enticklung + Testen: 0 days, 0 hours, 0 minutes, 0 seconds</b></li><li>Gesamt: 0 days, 0 hours, 0 minutes, 0 seconds</li></ul></div>"
      ],
      "text/plain": [
       "<IPython.core.display.HTML object>"
      ]
     },
     "metadata": {},
     "output_type": "display_data"
    }
   ],
   "source": [
    "from IPython.display import display, HTML, Markdown\n",
    "\n",
    "def print_card(card, display_time=True, display_last_move_date=True):\n",
    "    html = '<div style=\"padding: 1em; border: 3px black solid; border-radius: 1em; background: #f2f2f2\">'\n",
    "    \n",
    "    if len(card[\"labels\"]) > 0:\n",
    "        html += '<div>'\n",
    "        for label in card[\"labels\"]:\n",
    "            html += f'<span style=\"display: inline-block; border: 1px black solid; padding: 0.25em; border-radius: 0.125em; margin-right: 1em; background: #e0e0e0\">{label[\"name\"]}</span>'\n",
    "        html += '</div>'\n",
    "    \n",
    "    if display_last_move_date:\n",
    "        last_move_date = pd.to_datetime(get_last_move_date(card)).strftime('%d.%m.%Y')\n",
    "        last_move_date = f\" ({last_move_date})\"\n",
    "    else:\n",
    "        last_move_date = \"\"\n",
    "    \n",
    "    html += f'<h3><a href=\"{card[\"url\"]}\">{card[\"name\"]}</a>{last_move_date}</h3>'\n",
    "    \n",
    "    if display_time:\n",
    "        time_in_lists = get_time_in_lists(card)\n",
    "\n",
    "        html += \"<ul>\"\n",
    "        for list_name in [\"Entwicklung\", \"Feedback / Blocked\", \"Testen / PR Review\"]:\n",
    "            t = prettyprint_timedelta(time_in_lists[list_name2list_id[list_name]])\n",
    "            html += f'<li>{list_name}: {t}</li>'\n",
    "\n",
    "        t = prettyprint_timedelta(time_in_lists[list_name2list_id[\"Entwicklung\"]] + time_in_lists[list_name2list_id[\"Testen / PR Review\"]])\n",
    "        html += f'<li><b>Enticklung + Testen: {t}</b></li>'\n",
    "\n",
    "        t = prettyprint_timedelta(time_in_lists[list_name2list_id[\"Entwicklung\"]] + time_in_lists[list_name2list_id[\"Testen / PR Review\"]] + time_in_lists[list_name2list_id[\"Feedback / Blocked\"]])\n",
    "        html += f'<li>Gesamt: {t}</li>'\n",
    "        html += \"</ul>\"\n",
    "    \n",
    "    html += '</div>'\n",
    "    \n",
    "    display(HTML(html))\n",
    "    \n",
    "def prettyprint_timedelta(timedelta_value):\n",
    "    return f\"{timedelta_value.days} days, {timedelta_value.seconds // 3600} hours, {timedelta_value.seconds // 60 % 60} minutes, {timedelta_value.seconds % 60} seconds\"\n",
    "    \n",
    "print_card(cards[146])"
   ]
  },
  {
   "cell_type": "markdown",
   "id": "f86a4627",
   "metadata": {},
   "source": [
    "# <span id=\"finished-cards-bar\">Finished cards per month</span>"
   ]
  },
  {
   "cell_type": "code",
   "execution_count": 11,
   "id": "138ca19c",
   "metadata": {},
   "outputs": [
    {
     "name": "stdout",
     "output_type": "stream",
     "text": [
      "Finished cards: 129\n"
     ]
    }
   ],
   "source": [
    "finished_cards = [card for card in cards if card[\"idList\"] == list_name2list_id[\"Veröffentlicht (kann genutzt werden)\"]]\n",
    "\n",
    "print(f\"Finished cards: {len(finished_cards)}\")"
   ]
  },
  {
   "cell_type": "code",
   "execution_count": 12,
   "id": "a2fc2dbf",
   "metadata": {},
   "outputs": [
    {
     "data": {
      "image/png": "[encoded data removed]",
      "text/plain": [
       "<Figure size 1440x720 with 1 Axes>"
      ]
     },
     "metadata": {
      "needs_background": "light"
     },
     "output_type": "display_data"
    }
   ],
   "source": [
    "import pandas as pd\n",
    "import matplotlib.pyplot as plt\n",
    "\n",
    "def plot(resample_time=\"1M\", score_per_card= lambda x: 1, title=\"Count of finished cards\", cards=finished_cards):\n",
    "    data = dict((get_last_move_date(card), score_per_card(card)) for card in cards)\n",
    "    df = pd.DataFrame.from_dict(data, orient='index', columns=['Finished Cards'])\n",
    "    df.index = pd.to_datetime(df.index)\n",
    "    df.head()\n",
    "    \n",
    "    df = df.resample(resample_time).sum()\n",
    "    ax = df.plot(figsize=(20,10), kind=\"bar\", legend=False, color='forestgreen')\n",
    "    plt.ylabel(title)\n",
    "    \n",
    "    for index, row in enumerate(df[\"Finished Cards\"]):\n",
    "        ax.text(index, 1, str(int(row)), ha='center', va='bottom', fontsize=\"large\", color=\"black\" if row < 2 else \"white\")\n",
    "    \n",
    "    plt.xticks(range(len(df.index)), [f\"{d.month}/{d.year}\" for d in df.index], rotation=45)\n",
    "    plt.show()\n",
    "    \n",
    "plot(resample_time=\"1M\")"
   ]
  },
  {
   "cell_type": "markdown",
   "id": "156bf5cb",
   "metadata": {},
   "source": [
    "# <span id=\"finished-cards-rolling\">Rolling view: Finished cards in the last 30 days</span>"
   ]
  },
  {
   "cell_type": "code",
   "execution_count": 18,
   "id": "059f20bd",
   "metadata": {},
   "outputs": [
    {
     "data": {
      "image/png": "[encoded data removed]",
      "text/plain": [
       "<Figure size 1440x720 with 1 Axes>"
      ]
     },
     "metadata": {
      "needs_background": "light"
     },
     "output_type": "display_data"
    }
   ],
   "source": [
    "def plot_rolling(days=30, score_per_card= lambda x: 1, title=\"Count of completed tasks within last 30 days\", cards=finished_cards):\n",
    "    data = dict((get_last_move_date(card), score_per_card(card)) for card in cards)\n",
    "    df = pd.DataFrame.from_dict(data, orient='index', columns=['Finished Cards'])\n",
    "    df.index = pd.to_datetime(df.index)\n",
    "    df.head()\n",
    "    \n",
    "    df = df.resample(\"1D\").sum().rolling(window=days, min_periods=days).sum()\n",
    "    df = df[days:]\n",
    "    df.plot(figsize=(20,10), legend=False, color=\"forestgreen\", fontsize=\"large\")\n",
    "    plt.ylabel(title)\n",
    "    plt.show()\n",
    "\n",
    "plot_rolling()"
   ]
  },
  {
   "cell_type": "markdown",
   "id": "fdc27873",
   "metadata": {},
   "source": [
    "# <span id=\"finished-feature-cards-per-month\">Finished feature cards per month</span>"
   ]
  },
  {
   "cell_type": "code",
   "execution_count": 17,
   "id": "81df393e",
   "metadata": {},
   "outputs": [
    {
     "data": {
      "image/png": "[encoded data removed]",
      "text/plain": [
       "<Figure size 1440x720 with 1 Axes>"
      ]
     },
     "metadata": {
      "needs_background": "light"
     },
     "output_type": "display_data"
    }
   ],
   "source": [
    "def is_feature(card):\n",
    "    return any(label[\"name\"] == \"Feature\" or label[\"name\"] == \"Mini-Feature\" for label in card[\"labels\"])\n",
    "\n",
    "finished_features = [c for c in finished_cards if is_feature(c)]\n",
    "\n",
    "plot(cards=finished_features)"
   ]
  },
  {
   "cell_type": "markdown",
   "id": "4ad1c3d2",
   "metadata": {},
   "source": [
    "# <span id=\"finished-cards-rolling-features\">Rolling view: Finished feature cards in the last 30 days</span>"
   ]
  },
  {
   "cell_type": "code",
   "execution_count": 20,
   "id": "2e171f52",
   "metadata": {},
   "outputs": [
    {
     "data": {
      "image/png": "[encoded data removed]",
      "text/plain": [
       "<Figure size 1440x720 with 1 Axes>"
      ]
     },
     "metadata": {
      "needs_background": "light"
     },
     "output_type": "display_data"
    }
   ],
   "source": [
    "plot_rolling(cards=finished_features)"
   ]
  },
  {
   "cell_type": "markdown",
   "id": "878fbbac",
   "metadata": {},
   "source": [
    "# <span id=\"development-cards\">Current cards in development</span>"
   ]
  },
  {
   "cell_type": "code",
   "execution_count": 12,
   "id": "2ec71359",
   "metadata": {
    "scrolled": false
   },
   "outputs": [
    {
     "data": {
      "text/markdown": [
       "## Aktuelle Karten in \"Entwicklung\""
      ],
      "text/plain": [
       "<IPython.core.display.Markdown object>"
      ]
     },
     "metadata": {},
     "output_type": "display_data"
    },
    {
     "data": {
      "text/html": [
       "<div style=\"padding: 1em; border: 3px black solid; border-radius: 1em; background: #f2f2f2\"><div><span style=\"display: inline-block; border: 1px black solid; padding: 0.25em; border-radius: 0.125em; margin-right: 1em; background: #e0e0e0\">Dev</span></div><h3><a href=\"https://trello.com/c/A74gO1Hu/309-letzte-table-und-layout-plugins-migrieren\">Letzte \"table\" und \"layout\" Plugins migrieren</a></h3><ul><li>Entwicklung: 10 days, 11 hours, 57 minutes, 23 seconds</li><li>Feedback / Blocked: 0 days, 0 hours, 0 minutes, 0 seconds</li><li>Testen / PR Review: 2 days, 20 hours, 6 minutes, 58 seconds</li><li><b>Enticklung + Testen: 13 days, 8 hours, 4 minutes, 21 seconds</b></li><li>Gesamt: 13 days, 8 hours, 4 minutes, 21 seconds</li></ul></div>"
      ],
      "text/plain": [
       "<IPython.core.display.HTML object>"
      ]
     },
     "metadata": {},
     "output_type": "display_data"
    },
    {
     "data": {
      "text/html": [
       "<div style=\"padding: 1em; border: 3px black solid; border-radius: 1em; background: #f2f2f2\"><div><span style=\"display: inline-block; border: 1px black solid; padding: 0.25em; border-radius: 0.125em; margin-right: 1em; background: #e0e0e0\">Dev</span><span style=\"display: inline-block; border: 1px black solid; padding: 0.25em; border-radius: 0.125em; margin-right: 1em; background: #e0e0e0\">S</span></div><h3><a href=\"https://trello.com/c/EHPHBwxn/328-upgrade-pdfserloorg-packages-and-increase-serverless-timeout\">Upgrade pdf.serlo.org packages and increase serverless timeout</a></h3><ul><li>Entwicklung: 4 days, 1 hours, 39 minutes, 55 seconds</li><li>Feedback / Blocked: 0 days, 0 hours, 0 minutes, 0 seconds</li><li>Testen / PR Review: 0 days, 0 hours, 0 minutes, 0 seconds</li><li><b>Enticklung + Testen: 4 days, 1 hours, 39 minutes, 55 seconds</b></li><li>Gesamt: 4 days, 1 hours, 39 minutes, 55 seconds</li></ul></div>"
      ],
      "text/plain": [
       "<IPython.core.display.HTML object>"
      ]
     },
     "metadata": {},
     "output_type": "display_data"
    },
    {
     "data": {
      "text/html": [
       "<div style=\"padding: 1em; border: 3px black solid; border-radius: 1em; background: #f2f2f2\"><div><span style=\"display: inline-block; border: 1px black solid; padding: 0.25em; border-radius: 0.125em; margin-right: 1em; background: #e0e0e0\">M</span><span style=\"display: inline-block; border: 1px black solid; padding: 0.25em; border-radius: 0.125em; margin-right: 1em; background: #e0e0e0\">Editor</span><span style=\"display: inline-block; border: 1px black solid; padding: 0.25em; border-radius: 0.125em; margin-right: 1em; background: #e0e0e0\">Feature</span></div><h3><a href=\"https://trello.com/c/hspbZkXu/136-planung-userstories-f%C3%BCr-das-n%C3%A4chste-jahr-update-lenabi-meilensteine\">Planung Userstories für das nächste Jahr (Update LENABI-Meilensteine)</a></h3><ul><li>Entwicklung: 38 days, 11 hours, 33 minutes, 31 seconds</li><li>Feedback / Blocked: 6 days, 20 hours, 31 minutes, 56 seconds</li><li>Testen / PR Review: 0 days, 0 hours, 0 minutes, 0 seconds</li><li><b>Enticklung + Testen: 38 days, 11 hours, 33 minutes, 31 seconds</b></li><li>Gesamt: 45 days, 8 hours, 5 minutes, 27 seconds</li></ul></div>"
      ],
      "text/plain": [
       "<IPython.core.display.HTML object>"
      ]
     },
     "metadata": {},
     "output_type": "display_data"
    },
    {
     "data": {
      "text/html": [
       "<div style=\"padding: 1em; border: 3px black solid; border-radius: 1em; background: #f2f2f2\"><div><span style=\"display: inline-block; border: 1px black solid; padding: 0.25em; border-radius: 0.125em; margin-right: 1em; background: #e0e0e0\">Feature</span><span style=\"display: inline-block; border: 1px black solid; padding: 0.25em; border-radius: 0.125em; margin-right: 1em; background: #e0e0e0\">UX</span><span style=\"display: inline-block; border: 1px black solid; padding: 0.25em; border-radius: 0.125em; margin-right: 1em; background: #e0e0e0\">Editor</span><span style=\"display: inline-block; border: 1px black solid; padding: 0.25em; border-radius: 0.125em; margin-right: 1em; background: #e0e0e0\">Infra</span></div><h3><a href=\"https://trello.com/c/8RC0c7nu/252-ki-produkt-aufgabenerstellung\">KI Produkt: Aufgabenerstellung</a></h3><ul><li>Entwicklung: 39 days, 2 hours, 34 minutes, 28 seconds</li><li>Feedback / Blocked: 0 days, 0 hours, 0 minutes, 0 seconds</li><li>Testen / PR Review: 0 days, 0 hours, 0 minutes, 0 seconds</li><li><b>Enticklung + Testen: 39 days, 2 hours, 34 minutes, 28 seconds</b></li><li>Gesamt: 39 days, 2 hours, 34 minutes, 28 seconds</li></ul></div>"
      ],
      "text/plain": [
       "<IPython.core.display.HTML object>"
      ]
     },
     "metadata": {},
     "output_type": "display_data"
    },
    {
     "data": {
      "text/html": [
       "<div style=\"padding: 1em; border: 3px black solid; border-radius: 1em; background: #f2f2f2\"><div><span style=\"display: inline-block; border: 1px black solid; padding: 0.25em; border-radius: 0.125em; margin-right: 1em; background: #e0e0e0\">Editor</span><span style=\"display: inline-block; border: 1px black solid; padding: 0.25em; border-radius: 0.125em; margin-right: 1em; background: #e0e0e0\">Dev</span></div><h3><a href=\"https://trello.com/c/u8uQID6M/314-merge-editor-rendering-systems\">Merge Editor Rendering systems</a></h3><ul><li>Entwicklung: 1 days, 7 hours, 5 minutes, 49 seconds</li><li>Feedback / Blocked: 0 days, 0 hours, 0 minutes, 0 seconds</li><li>Testen / PR Review: 0 days, 0 hours, 0 minutes, 0 seconds</li><li><b>Enticklung + Testen: 1 days, 7 hours, 5 minutes, 49 seconds</b></li><li>Gesamt: 1 days, 7 hours, 5 minutes, 49 seconds</li></ul></div>"
      ],
      "text/plain": [
       "<IPython.core.display.HTML object>"
      ]
     },
     "metadata": {},
     "output_type": "display_data"
    },
    {
     "data": {
      "text/html": [
       "<div style=\"padding: 1em; border: 3px black solid; border-radius: 1em; background: #f2f2f2\"><div><span style=\"display: inline-block; border: 1px black solid; padding: 0.25em; border-radius: 0.125em; margin-right: 1em; background: #e0e0e0\">Feature</span><span style=\"display: inline-block; border: 1px black solid; padding: 0.25em; border-radius: 0.125em; margin-right: 1em; background: #e0e0e0\">Editor</span><span style=\"display: inline-block; border: 1px black solid; padding: 0.25em; border-radius: 0.125em; margin-right: 1em; background: #e0e0e0\">M</span><span style=\"display: inline-block; border: 1px black solid; padding: 0.25em; border-radius: 0.125em; margin-right: 1em; background: #e0e0e0\">LENABI</span><span style=\"display: inline-block; border: 1px black solid; padding: 0.25em; border-radius: 0.125em; margin-right: 1em; background: #e0e0e0\">UX</span></div><h3><a href=\"https://trello.com/c/pIaQccPX/326-improve-box-plugin\">Improve box plugin</a></h3><ul><li>Entwicklung: 5 days, 6 hours, 2 minutes, 0 seconds</li><li>Feedback / Blocked: 0 days, 0 hours, 0 minutes, 0 seconds</li><li>Testen / PR Review: 0 days, 0 hours, 0 minutes, 0 seconds</li><li><b>Enticklung + Testen: 5 days, 6 hours, 2 minutes, 0 seconds</b></li><li>Gesamt: 5 days, 6 hours, 2 minutes, 0 seconds</li></ul></div>"
      ],
      "text/plain": [
       "<IPython.core.display.HTML object>"
      ]
     },
     "metadata": {},
     "output_type": "display_data"
    },
    {
     "data": {
      "text/html": [
       "<div style=\"padding: 1em; border: 3px black solid; border-radius: 1em; background: #f2f2f2\"><div><span style=\"display: inline-block; border: 1px black solid; padding: 0.25em; border-radius: 0.125em; margin-right: 1em; background: #e0e0e0\">Dev</span><span style=\"display: inline-block; border: 1px black solid; padding: 0.25em; border-radius: 0.125em; margin-right: 1em; background: #e0e0e0\">M</span></div><h3><a href=\"https://trello.com/c/JlQ6mztD/234-daten-von-statsserloorg-in-einem-jupyter-notebook-abbilden\">Daten von stats.serlo.org in einem Jupyter Notebook abbilden</a></h3><ul><li>Entwicklung: 40 days, 9 hours, 51 minutes, 56 seconds</li><li>Feedback / Blocked: 0 days, 0 hours, 0 minutes, 0 seconds</li><li>Testen / PR Review: 0 days, 0 hours, 0 minutes, 0 seconds</li><li><b>Enticklung + Testen: 40 days, 9 hours, 51 minutes, 56 seconds</b></li><li>Gesamt: 40 days, 9 hours, 51 minutes, 56 seconds</li></ul></div>"
      ],
      "text/plain": [
       "<IPython.core.display.HTML object>"
      ]
     },
     "metadata": {},
     "output_type": "display_data"
    },
    {
     "data": {
      "text/html": [
       "<div style=\"padding: 1em; border: 3px black solid; border-radius: 1em; background: #f2f2f2\"><div><span style=\"display: inline-block; border: 1px black solid; padding: 0.25em; border-radius: 0.125em; margin-right: 1em; background: #e0e0e0\">Feature</span><span style=\"display: inline-block; border: 1px black solid; padding: 0.25em; border-radius: 0.125em; margin-right: 1em; background: #e0e0e0\">LENABI</span><span style=\"display: inline-block; border: 1px black solid; padding: 0.25em; border-radius: 0.125em; margin-right: 1em; background: #e0e0e0\">M</span></div><h3><a href=\"https://trello.com/c/JwDkiMc2/302-auswertung-von-aufgabenordnern\">Auswertung von Aufgabenordnern</a></h3><ul><li>Entwicklung: 4 days, 7 hours, 49 minutes, 34 seconds</li><li>Feedback / Blocked: 0 days, 0 hours, 0 minutes, 0 seconds</li><li>Testen / PR Review: 0 days, 0 hours, 0 minutes, 0 seconds</li><li><b>Enticklung + Testen: 4 days, 7 hours, 49 minutes, 34 seconds</b></li><li>Gesamt: 4 days, 7 hours, 49 minutes, 34 seconds</li></ul></div>"
      ],
      "text/plain": [
       "<IPython.core.display.HTML object>"
      ]
     },
     "metadata": {},
     "output_type": "display_data"
    },
    {
     "data": {
      "text/html": [
       "<div style=\"padding: 1em; border: 3px black solid; border-radius: 1em; background: #f2f2f2\"><div><span style=\"display: inline-block; border: 1px black solid; padding: 0.25em; border-radius: 0.125em; margin-right: 1em; background: #e0e0e0\">Editor</span><span style=\"display: inline-block; border: 1px black solid; padding: 0.25em; border-radius: 0.125em; margin-right: 1em; background: #e0e0e0\">LENABI M2.9</span><span style=\"display: inline-block; border: 1px black solid; padding: 0.25em; border-radius: 0.125em; margin-right: 1em; background: #e0e0e0\">Feature</span><span style=\"display: inline-block; border: 1px black solid; padding: 0.25em; border-radius: 0.125em; margin-right: 1em; background: #e0e0e0\">M</span></div><h3><a href=\"https://trello.com/c/W6ZXhNpv/95-anchor-sprungmarke\">Anchor / Sprungmarke</a></h3><ul><li>Entwicklung: 12 days, 16 hours, 41 minutes, 12 seconds</li><li>Feedback / Blocked: 27 days, 0 hours, 59 minutes, 52 seconds</li><li>Testen / PR Review: 63 days, 4 hours, 0 minutes, 30 seconds</li><li><b>Enticklung + Testen: 75 days, 20 hours, 41 minutes, 42 seconds</b></li><li>Gesamt: 102 days, 21 hours, 41 minutes, 35 seconds</li></ul></div>"
      ],
      "text/plain": [
       "<IPython.core.display.HTML object>"
      ]
     },
     "metadata": {},
     "output_type": "display_data"
    },
    {
     "data": {
      "text/markdown": [
       "## Aktuelle Karten in \"Feedback / Blocked\""
      ],
      "text/plain": [
       "<IPython.core.display.Markdown object>"
      ]
     },
     "metadata": {},
     "output_type": "display_data"
    },
    {
     "data": {
      "text/html": [
       "<div style=\"padding: 1em; border: 3px black solid; border-radius: 1em; background: #f2f2f2\"><div><span style=\"display: inline-block; border: 1px black solid; padding: 0.25em; border-radius: 0.125em; margin-right: 1em; background: #e0e0e0\">LENABI AP 4: SSO</span><span style=\"display: inline-block; border: 1px black solid; padding: 0.25em; border-radius: 0.125em; margin-right: 1em; background: #e0e0e0\">Feature</span><span style=\"display: inline-block; border: 1px black solid; padding: 0.25em; border-radius: 0.125em; margin-right: 1em; background: #e0e0e0\">M</span></div><h3><a href=\"https://trello.com/c/Ty1wr26Q/142-data-wallet-ist-im-test-system-nutzbar\">Data-Wallet ist im Test-System nutzbar</a></h3><ul><li>Entwicklung: 15 days, 3 hours, 16 minutes, 41 seconds</li><li>Feedback / Blocked: 25 days, 6 hours, 34 minutes, 2 seconds</li><li>Testen / PR Review: 0 days, 0 hours, 0 minutes, 0 seconds</li><li><b>Enticklung + Testen: 15 days, 3 hours, 16 minutes, 41 seconds</b></li><li>Gesamt: 40 days, 9 hours, 50 minutes, 43 seconds</li></ul></div>"
      ],
      "text/plain": [
       "<IPython.core.display.HTML object>"
      ]
     },
     "metadata": {},
     "output_type": "display_data"
    },
    {
     "data": {
      "text/html": [
       "<div style=\"padding: 1em; border: 3px black solid; border-radius: 1em; background: #f2f2f2\"><div><span style=\"display: inline-block; border: 1px black solid; padding: 0.25em; border-radius: 0.125em; margin-right: 1em; background: #e0e0e0\">M</span><span style=\"display: inline-block; border: 1px black solid; padding: 0.25em; border-radius: 0.125em; margin-right: 1em; background: #e0e0e0\">Feature</span><span style=\"display: inline-block; border: 1px black solid; padding: 0.25em; border-radius: 0.125em; margin-right: 1em; background: #e0e0e0\">Bereit für Entwicklung</span></div><h3><a href=\"https://trello.com/c/m8Vmb2re/117-fake-accounts-l%C3%B6schen\">Fake-Accounts löschen</a></h3><ul><li>Entwicklung: 15 days, 7 hours, 52 minutes, 18 seconds</li><li>Feedback / Blocked: 8 days, 1 hours, 16 minutes, 34 seconds</li><li>Testen / PR Review: 0 days, 0 hours, 0 minutes, 0 seconds</li><li><b>Enticklung + Testen: 15 days, 7 hours, 52 minutes, 18 seconds</b></li><li>Gesamt: 23 days, 9 hours, 8 minutes, 52 seconds</li></ul></div>"
      ],
      "text/plain": [
       "<IPython.core.display.HTML object>"
      ]
     },
     "metadata": {},
     "output_type": "display_data"
    },
    {
     "data": {
      "text/html": [
       "<div style=\"padding: 1em; border: 3px black solid; border-radius: 1em; background: #f2f2f2\"><div><span style=\"display: inline-block; border: 1px black solid; padding: 0.25em; border-radius: 0.125em; margin-right: 1em; background: #e0e0e0\">Bug</span></div><h3><a href=\"https://trello.com/c/poLzwD9t/305-opening-an-exercise-redirects-to-other-exercise\">Opening an exercise redirects to other exercise</a></h3><ul><li>Entwicklung: 0 days, 0 hours, 0 minutes, 0 seconds</li><li>Feedback / Blocked: 5 days, 7 hours, 23 minutes, 4 seconds</li><li>Testen / PR Review: 0 days, 0 hours, 0 minutes, 0 seconds</li><li><b>Enticklung + Testen: 0 days, 0 hours, 0 minutes, 0 seconds</b></li><li>Gesamt: 5 days, 7 hours, 23 minutes, 4 seconds</li></ul></div>"
      ],
      "text/plain": [
       "<IPython.core.display.HTML object>"
      ]
     },
     "metadata": {},
     "output_type": "display_data"
    },
    {
     "data": {
      "text/html": [
       "<div style=\"padding: 1em; border: 3px black solid; border-radius: 1em; background: #f2f2f2\"><div><span style=\"display: inline-block; border: 1px black solid; padding: 0.25em; border-radius: 0.125em; margin-right: 1em; background: #e0e0e0\">Dev</span><span style=\"display: inline-block; border: 1px black solid; padding: 0.25em; border-radius: 0.125em; margin-right: 1em; background: #e0e0e0\">Editor</span></div><h3><a href=\"https://trello.com/c/ngfMhH2U/291-remove-old-plugins-from-frontend\">Remove old plugins from frontend</a></h3><ul><li>Entwicklung: 0 days, 0 hours, 37 minutes, 2 seconds</li><li>Feedback / Blocked: 8 days, 4 hours, 19 minutes, 41 seconds</li><li>Testen / PR Review: 0 days, 0 hours, 0 minutes, 0 seconds</li><li><b>Enticklung + Testen: 0 days, 0 hours, 37 minutes, 2 seconds</b></li><li>Gesamt: 8 days, 4 hours, 56 minutes, 43 seconds</li></ul></div>"
      ],
      "text/plain": [
       "<IPython.core.display.HTML object>"
      ]
     },
     "metadata": {},
     "output_type": "display_data"
    },
    {
     "data": {
      "text/markdown": [
       "## Aktuelle Karten in \"Testen / PR Review\""
      ],
      "text/plain": [
       "<IPython.core.display.Markdown object>"
      ]
     },
     "metadata": {},
     "output_type": "display_data"
    },
    {
     "data": {
      "text/html": [
       "<div style=\"padding: 1em; border: 3px black solid; border-radius: 1em; background: #f2f2f2\"><div><span style=\"display: inline-block; border: 1px black solid; padding: 0.25em; border-radius: 0.125em; margin-right: 1em; background: #e0e0e0\">Feature</span><span style=\"display: inline-block; border: 1px black solid; padding: 0.25em; border-radius: 0.125em; margin-right: 1em; background: #e0e0e0\">M</span></div><h3><a href=\"https://trello.com/c/grHyKLRZ/209-prototyp-%C3%BCbersichtliche-aufgabensammlung\">Prototyp übersichtliche Aufgabensammlung</a></h3><ul><li>Entwicklung: 36 days, 2 hours, 28 minutes, 31 seconds</li><li>Feedback / Blocked: 19 days, 20 hours, 1 minutes, 25 seconds</li><li>Testen / PR Review: 2 days, 9 hours, 22 minutes, 33 seconds</li><li><b>Enticklung + Testen: 38 days, 11 hours, 51 minutes, 5 seconds</b></li><li>Gesamt: 58 days, 7 hours, 52 minutes, 30 seconds</li></ul></div>"
      ],
      "text/plain": [
       "<IPython.core.display.HTML object>"
      ]
     },
     "metadata": {},
     "output_type": "display_data"
    }
   ],
   "source": [
    "from IPython.display import display, Markdown\n",
    "\n",
    "for list_name in [\"Entwicklung\", \"Feedback / Blocked\", \"Testen / PR Review\"]:\n",
    "    display(Markdown(f'## Aktuelle Karten in \"{list_name}\"'))\n",
    "    current_cards = [card for card in cards if card[\"idList\"] == list_name2list_id[list_name] and not card[\"closed\"]]\n",
    "    \n",
    "    for c in current_cards:\n",
    "        print_card(c, display_last_move_date=False)"
   ]
  },
  {
   "cell_type": "markdown",
   "id": "2dab756b",
   "metadata": {},
   "source": [
    "# <span id=\"changelog\">Changelog</span>"
   ]
  },
  {
   "cell_type": "code",
   "execution_count": 13,
   "id": "d7c27e97",
   "metadata": {
    "scrolled": false
   },
   "outputs": [
    {
     "data": {
      "text/markdown": [
       "## 9/2023"
      ],
      "text/plain": [
       "<IPython.core.display.Markdown object>"
      ]
     },
     "metadata": {},
     "output_type": "display_data"
    },
    {
     "data": {
      "text/html": [
       "<div style=\"padding: 1em; border: 3px black solid; border-radius: 1em; background: #f2f2f2\"><div><span style=\"display: inline-block; border: 1px black solid; padding: 0.25em; border-radius: 0.125em; margin-right: 1em; background: #e0e0e0\">Mini-Feature</span><span style=\"display: inline-block; border: 1px black solid; padding: 0.25em; border-radius: 0.125em; margin-right: 1em; background: #e0e0e0\">Serlo Editor Verbreitung</span><span style=\"display: inline-block; border: 1px black solid; padding: 0.25em; border-radius: 0.125em; margin-right: 1em; background: #e0e0e0\">Bug</span></div><h3><a href=\"https://trello.com/c/XfFDP3Fm/329-rlp-image-embedding-change-alignment-and-hide-file-name\">RLP Image Embedding: Change Alignment and hide file name</a> (30.09.2023)</h3></div>"
      ],
      "text/plain": [
       "<IPython.core.display.HTML object>"
      ]
     },
     "metadata": {},
     "output_type": "display_data"
    },
    {
     "data": {
      "text/html": [
       "<div style=\"padding: 1em; border: 3px black solid; border-radius: 1em; background: #f2f2f2\"><div><span style=\"display: inline-block; border: 1px black solid; padding: 0.25em; border-radius: 0.125em; margin-right: 1em; background: #e0e0e0\">Dev</span></div><h3><a href=\"https://trello.com/c/ygnvctbA/327-list-of-injection-plugins\">list of injection plugins</a> (28.09.2023)</h3></div>"
      ],
      "text/plain": [
       "<IPython.core.display.HTML object>"
      ]
     },
     "metadata": {},
     "output_type": "display_data"
    },
    {
     "data": {
      "text/html": [
       "<div style=\"padding: 1em; border: 3px black solid; border-radius: 1em; background: #f2f2f2\"><div><span style=\"display: inline-block; border: 1px black solid; padding: 0.25em; border-radius: 0.125em; margin-right: 1em; background: #e0e0e0\">Dev</span></div><h3><a href=\"https://trello.com/c/T27nlgm2/315-remove-legacy-code-from-frontend\">Remove legacy code from frontend</a> (26.09.2023)</h3></div>"
      ],
      "text/plain": [
       "<IPython.core.display.HTML object>"
      ]
     },
     "metadata": {},
     "output_type": "display_data"
    },
    {
     "data": {
      "text/html": [
       "<div style=\"padding: 1em; border: 3px black solid; border-radius: 1em; background: #f2f2f2\"><div><span style=\"display: inline-block; border: 1px black solid; padding: 0.25em; border-radius: 0.125em; margin-right: 1em; background: #e0e0e0\">LENABI AP 2: Editor</span><span style=\"display: inline-block; border: 1px black solid; padding: 0.25em; border-radius: 0.125em; margin-right: 1em; background: #e0e0e0\">Editor</span><span style=\"display: inline-block; border: 1px black solid; padding: 0.25em; border-radius: 0.125em; margin-right: 1em; background: #e0e0e0\">LENABI Feature: Editor</span><span style=\"display: inline-block; border: 1px black solid; padding: 0.25em; border-radius: 0.125em; margin-right: 1em; background: #e0e0e0\">ohne User Story</span></div><h3><a href=\"https://trello.com/c/2sYViGC5/323-focus-autofocus-verbesserungen\">Focus: Autofocus Verbesserungen</a> (26.09.2023)</h3></div>"
      ],
      "text/plain": [
       "<IPython.core.display.HTML object>"
      ]
     },
     "metadata": {},
     "output_type": "display_data"
    },
    {
     "data": {
      "text/html": [
       "<div style=\"padding: 1em; border: 3px black solid; border-radius: 1em; background: #f2f2f2\"><div><span style=\"display: inline-block; border: 1px black solid; padding: 0.25em; border-radius: 0.125em; margin-right: 1em; background: #e0e0e0\">LENABI AP 2: Editor</span><span style=\"display: inline-block; border: 1px black solid; padding: 0.25em; border-radius: 0.125em; margin-right: 1em; background: #e0e0e0\">Editor</span><span style=\"display: inline-block; border: 1px black solid; padding: 0.25em; border-radius: 0.125em; margin-right: 1em; background: #e0e0e0\">LENABI Feature: Editor</span><span style=\"display: inline-block; border: 1px black solid; padding: 0.25em; border-radius: 0.125em; margin-right: 1em; background: #e0e0e0\">ohne User Story</span><span style=\"display: inline-block; border: 1px black solid; padding: 0.25em; border-radius: 0.125em; margin-right: 1em; background: #e0e0e0\">Dev</span></div><h3><a href=\"https://trello.com/c/fYLl7Y7l/324-focus-genaue-analyse-und-versuch-eine-abstraktionsebene-zu-bauen\">Focus: Genaue Analyse und versuch eine Abstraktionsebene zu bauen</a> (20.09.2023)</h3></div>"
      ],
      "text/plain": [
       "<IPython.core.display.HTML object>"
      ]
     },
     "metadata": {},
     "output_type": "display_data"
    },
    {
     "data": {
      "text/html": [
       "<div style=\"padding: 1em; border: 3px black solid; border-radius: 1em; background: #f2f2f2\"><div><span style=\"display: inline-block; border: 1px black solid; padding: 0.25em; border-radius: 0.125em; margin-right: 1em; background: #e0e0e0\">Bug</span></div><h3><a href=\"https://trello.com/c/5ye5JDou/285-l%C3%B6sung-l%C3%A4sst-sich-nicht-speichern\">Lösung lässt sich nicht speichern</a> (19.09.2023)</h3></div>"
      ],
      "text/plain": [
       "<IPython.core.display.HTML object>"
      ]
     },
     "metadata": {},
     "output_type": "display_data"
    },
    {
     "data": {
      "text/html": [
       "<div style=\"padding: 1em; border: 3px black solid; border-radius: 1em; background: #f2f2f2\"><div><span style=\"display: inline-block; border: 1px black solid; padding: 0.25em; border-radius: 0.125em; margin-right: 1em; background: #e0e0e0\">Feature</span><span style=\"display: inline-block; border: 1px black solid; padding: 0.25em; border-radius: 0.125em; margin-right: 1em; background: #e0e0e0\">LENABI-Feature: Kommentarsystem</span><span style=\"display: inline-block; border: 1px black solid; padding: 0.25em; border-radius: 0.125em; margin-right: 1em; background: #e0e0e0\">UX</span><span style=\"display: inline-block; border: 1px black solid; padding: 0.25em; border-radius: 0.125em; margin-right: 1em; background: #e0e0e0\">S</span></div><h3><a href=\"https://trello.com/c/fGckdzpM/267-kommentar-tasksystem-alte-kommentare-nach-status-sortieren\">Kommentar/Tasksystem Alte Kommentare nach Status sortieren</a> (11.09.2023)</h3></div>"
      ],
      "text/plain": [
       "<IPython.core.display.HTML object>"
      ]
     },
     "metadata": {},
     "output_type": "display_data"
    },
    {
     "data": {
      "text/html": [
       "<div style=\"padding: 1em; border: 3px black solid; border-radius: 1em; background: #f2f2f2\"><div><span style=\"display: inline-block; border: 1px black solid; padding: 0.25em; border-radius: 0.125em; margin-right: 1em; background: #e0e0e0\">Feature</span><span style=\"display: inline-block; border: 1px black solid; padding: 0.25em; border-radius: 0.125em; margin-right: 1em; background: #e0e0e0\">LENABI-Feature: Kommentarsystem</span><span style=\"display: inline-block; border: 1px black solid; padding: 0.25em; border-radius: 0.125em; margin-right: 1em; background: #e0e0e0\">UX</span><span style=\"display: inline-block; border: 1px black solid; padding: 0.25em; border-radius: 0.125em; margin-right: 1em; background: #e0e0e0\">M</span></div><h3><a href=\"https://trello.com/c/qNKNKvyk/268-kommentar-tasksystem-kommentare-nach-status-filtern\">Kommentar/Tasksystem Kommentare nach Status filtern</a> (08.09.2023)</h3></div>"
      ],
      "text/plain": [
       "<IPython.core.display.HTML object>"
      ]
     },
     "metadata": {},
     "output_type": "display_data"
    },
    {
     "data": {
      "text/html": [
       "<div style=\"padding: 1em; border: 3px black solid; border-radius: 1em; background: #f2f2f2\"><div><span style=\"display: inline-block; border: 1px black solid; padding: 0.25em; border-radius: 0.125em; margin-right: 1em; background: #e0e0e0\">Bug</span></div><h3><a href=\"https://trello.com/c/ZalaCcve/281-bestimmte-aufgabe-l%C3%A4sst-sich-nicht-editieren\">Bestimmte Aufgabe lässt sich nicht editieren</a> (07.09.2023)</h3></div>"
      ],
      "text/plain": [
       "<IPython.core.display.HTML object>"
      ]
     },
     "metadata": {},
     "output_type": "display_data"
    },
    {
     "data": {
      "text/html": [
       "<div style=\"padding: 1em; border: 3px black solid; border-radius: 1em; background: #f2f2f2\"><div><span style=\"display: inline-block; border: 1px black solid; padding: 0.25em; border-radius: 0.125em; margin-right: 1em; background: #e0e0e0\">Dev</span><span style=\"display: inline-block; border: 1px black solid; padding: 0.25em; border-radius: 0.125em; margin-right: 1em; background: #e0e0e0\">M</span></div><h3><a href=\"https://trello.com/c/CcowXuBY/199-migrate-remaining-legacy-editor-states\">Migrate remaining legacy Editor states</a> (06.09.2023)</h3></div>"
      ],
      "text/plain": [
       "<IPython.core.display.HTML object>"
      ]
     },
     "metadata": {},
     "output_type": "display_data"
    },
    {
     "data": {
      "text/html": [
       "<div style=\"padding: 1em; border: 3px black solid; border-radius: 1em; background: #f2f2f2\"><div><span style=\"display: inline-block; border: 1px black solid; padding: 0.25em; border-radius: 0.125em; margin-right: 1em; background: #e0e0e0\">M</span><span style=\"display: inline-block; border: 1px black solid; padding: 0.25em; border-radius: 0.125em; margin-right: 1em; background: #e0e0e0\">Feature</span></div><h3><a href=\"https://trello.com/c/nJcQBanp/250-ki-prototyp-schwierigkeitsgrade-von-inhalten-anpassen\">KI Prototyp: Schwierigkeitsgrade von Inhalten anpassen</a> (06.09.2023)</h3></div>"
      ],
      "text/plain": [
       "<IPython.core.display.HTML object>"
      ]
     },
     "metadata": {},
     "output_type": "display_data"
    },
    {
     "data": {
      "text/html": [
       "<div style=\"padding: 1em; border: 3px black solid; border-radius: 1em; background: #f2f2f2\"><div><span style=\"display: inline-block; border: 1px black solid; padding: 0.25em; border-radius: 0.125em; margin-right: 1em; background: #e0e0e0\">Bug</span></div><h3><a href=\"https://trello.com/c/H3eIoRy2/279-ux-zeilenabst%C3%A4nde-und-formelumgebung\">UX Zeilenabstände und Formelumgebung</a> (05.09.2023)</h3></div>"
      ],
      "text/plain": [
       "<IPython.core.display.HTML object>"
      ]
     },
     "metadata": {},
     "output_type": "display_data"
    },
    {
     "data": {
      "text/html": [
       "<div style=\"padding: 1em; border: 3px black solid; border-radius: 1em; background: #f2f2f2\"><div><span style=\"display: inline-block; border: 1px black solid; padding: 0.25em; border-radius: 0.125em; margin-right: 1em; background: #e0e0e0\">Bug</span></div><h3><a href=\"https://trello.com/c/9bkKf26X/278-tabellenspalten-lassen-sich-nicht-l%C3%B6schen\">Tabellenspalten lassen sich nicht löschen</a> (05.09.2023)</h3></div>"
      ],
      "text/plain": [
       "<IPython.core.display.HTML object>"
      ]
     },
     "metadata": {},
     "output_type": "display_data"
    },
    {
     "data": {
      "text/html": [
       "<div style=\"padding: 1em; border: 3px black solid; border-radius: 1em; background: #f2f2f2\"><div><span style=\"display: inline-block; border: 1px black solid; padding: 0.25em; border-radius: 0.125em; margin-right: 1em; background: #e0e0e0\">Feature</span><span style=\"display: inline-block; border: 1px black solid; padding: 0.25em; border-radius: 0.125em; margin-right: 1em; background: #e0e0e0\">S</span></div><h3><a href=\"https://trello.com/c/UfsqDmbk/165-audio-dateien-einbinden\">Audio-Dateien einbinden</a> (04.09.2023)</h3></div>"
      ],
      "text/plain": [
       "<IPython.core.display.HTML object>"
      ]
     },
     "metadata": {},
     "output_type": "display_data"
    },
    {
     "data": {
      "text/html": [
       "<div style=\"padding: 1em; border: 3px black solid; border-radius: 1em; background: #f2f2f2\"><div><span style=\"display: inline-block; border: 1px black solid; padding: 0.25em; border-radius: 0.125em; margin-right: 1em; background: #e0e0e0\">Bug</span></div><h3><a href=\"https://trello.com/c/uc8Ibr5O/276-br%C3%BCche-in-matheformeln-sind-abgeschnitten\">Brüche in Matheformeln sind abgeschnitten</a> (01.09.2023)</h3></div>"
      ],
      "text/plain": [
       "<IPython.core.display.HTML object>"
      ]
     },
     "metadata": {},
     "output_type": "display_data"
    },
    {
     "data": {
      "text/html": [
       "<div style=\"padding: 1em; border: 3px black solid; border-radius: 1em; background: #f2f2f2\"><div><span style=\"display: inline-block; border: 1px black solid; padding: 0.25em; border-radius: 0.125em; margin-right: 1em; background: #e0e0e0\">Bug</span></div><h3><a href=\"https://trello.com/c/hCLS1f2O/263-closing-latex-dialog-causes-focus-forwarding\">Closing LaTeX Dialog causes Focus-Forwarding</a> (01.09.2023)</h3></div>"
      ],
      "text/plain": [
       "<IPython.core.display.HTML object>"
      ]
     },
     "metadata": {},
     "output_type": "display_data"
    },
    {
     "data": {
      "text/markdown": [
       "## 8/2023"
      ],
      "text/plain": [
       "<IPython.core.display.Markdown object>"
      ]
     },
     "metadata": {},
     "output_type": "display_data"
    },
    {
     "data": {
      "text/html": [
       "<div style=\"padding: 1em; border: 3px black solid; border-radius: 1em; background: #f2f2f2\"><div><span style=\"display: inline-block; border: 1px black solid; padding: 0.25em; border-radius: 0.125em; margin-right: 1em; background: #e0e0e0\">Editor</span><span style=\"display: inline-block; border: 1px black solid; padding: 0.25em; border-radius: 0.125em; margin-right: 1em; background: #e0e0e0\">Dev</span><span style=\"display: inline-block; border: 1px black solid; padding: 0.25em; border-radius: 0.125em; margin-right: 1em; background: #e0e0e0\">ohne User Story</span><span style=\"display: inline-block; border: 1px black solid; padding: 0.25em; border-radius: 0.125em; margin-right: 1em; background: #e0e0e0\">M</span></div><h3><a href=\"https://trello.com/c/HfvUQ16R/266-release-version-110-of-serlo-editor-for-edu-sharing\">Release version 1.1.0 of Serlo Editor for edu-sharing</a> (30.08.2023)</h3></div>"
      ],
      "text/plain": [
       "<IPython.core.display.HTML object>"
      ]
     },
     "metadata": {},
     "output_type": "display_data"
    },
    {
     "data": {
      "text/html": [
       "<div style=\"padding: 1em; border: 3px black solid; border-radius: 1em; background: #f2f2f2\"><div><span style=\"display: inline-block; border: 1px black solid; padding: 0.25em; border-radius: 0.125em; margin-right: 1em; background: #e0e0e0\">S</span><span style=\"display: inline-block; border: 1px black solid; padding: 0.25em; border-radius: 0.125em; margin-right: 1em; background: #e0e0e0\">Dev</span></div><h3><a href=\"https://trello.com/c/91KdBAcs/232-die-w%C3%B6chentlichen-statistiken-erg%C3%A4nzen\">Die wöchentlichen Statistiken ergänzen</a> (29.08.2023)</h3></div>"
      ],
      "text/plain": [
       "<IPython.core.display.HTML object>"
      ]
     },
     "metadata": {},
     "output_type": "display_data"
    },
    {
     "data": {
      "text/html": [
       "<div style=\"padding: 1em; border: 3px black solid; border-radius: 1em; background: #f2f2f2\"><div><span style=\"display: inline-block; border: 1px black solid; padding: 0.25em; border-radius: 0.125em; margin-right: 1em; background: #e0e0e0\">Mini-Feature</span><span style=\"display: inline-block; border: 1px black solid; padding: 0.25em; border-radius: 0.125em; margin-right: 1em; background: #e0e0e0\">Dev</span></div><h3><a href=\"https://trello.com/c/Bq99eXSS/270-review-encoding-in-local-dev-setup-for-serlo-mysql-database\">Review encoding in local dev setup for serlo-mysql-database</a> (28.08.2023)</h3></div>"
      ],
      "text/plain": [
       "<IPython.core.display.HTML object>"
      ]
     },
     "metadata": {},
     "output_type": "display_data"
    },
    {
     "data": {
      "text/html": [
       "<div style=\"padding: 1em; border: 3px black solid; border-radius: 1em; background: #f2f2f2\"><div><span style=\"display: inline-block; border: 1px black solid; padding: 0.25em; border-radius: 0.125em; margin-right: 1em; background: #e0e0e0\">Editor</span><span style=\"display: inline-block; border: 1px black solid; padding: 0.25em; border-radius: 0.125em; margin-right: 1em; background: #e0e0e0\">Feature</span><span style=\"display: inline-block; border: 1px black solid; padding: 0.25em; border-radius: 0.125em; margin-right: 1em; background: #e0e0e0\">LENABI M2.9</span><span style=\"display: inline-block; border: 1px black solid; padding: 0.25em; border-radius: 0.125em; margin-right: 1em; background: #e0e0e0\">M</span><span style=\"display: inline-block; border: 1px black solid; padding: 0.25em; border-radius: 0.125em; margin-right: 1em; background: #e0e0e0\">Bereit für Entwicklung</span></div><h3><a href=\"https://trello.com/c/9k9AVe7z/171-plugins-einf%C3%BCgen-im-text-plugin\">Plugins einfügen im Text Plugin</a> (28.08.2023)</h3></div>"
      ],
      "text/plain": [
       "<IPython.core.display.HTML object>"
      ]
     },
     "metadata": {},
     "output_type": "display_data"
    },
    {
     "data": {
      "text/html": [
       "<div style=\"padding: 1em; border: 3px black solid; border-radius: 1em; background: #f2f2f2\"><div><span style=\"display: inline-block; border: 1px black solid; padding: 0.25em; border-radius: 0.125em; margin-right: 1em; background: #e0e0e0\">Editor</span><span style=\"display: inline-block; border: 1px black solid; padding: 0.25em; border-radius: 0.125em; margin-right: 1em; background: #e0e0e0\">LENABI M2.9</span><span style=\"display: inline-block; border: 1px black solid; padding: 0.25em; border-radius: 0.125em; margin-right: 1em; background: #e0e0e0\">Feature</span><span style=\"display: inline-block; border: 1px black solid; padding: 0.25em; border-radius: 0.125em; margin-right: 1em; background: #e0e0e0\">Bereit für Entwicklung</span><span style=\"display: inline-block; border: 1px black solid; padding: 0.25em; border-radius: 0.125em; margin-right: 1em; background: #e0e0e0\">M</span></div><h3><a href=\"https://trello.com/c/4E6S9P2W/87-neuer-absatz-vs-neue-zeile\">Neuer Absatz vs neue Zeile</a> (28.08.2023)</h3></div>"
      ],
      "text/plain": [
       "<IPython.core.display.HTML object>"
      ]
     },
     "metadata": {},
     "output_type": "display_data"
    },
    {
     "data": {
      "text/html": [
       "<div style=\"padding: 1em; border: 3px black solid; border-radius: 1em; background: #f2f2f2\"><div><span style=\"display: inline-block; border: 1px black solid; padding: 0.25em; border-radius: 0.125em; margin-right: 1em; background: #e0e0e0\">Editor</span></div><h3><a href=\"https://trello.com/c/qsQQpL2l/173-editor-einheitliche-ui\">Editor: Einheitliche UI</a> (28.08.2023)</h3></div>"
      ],
      "text/plain": [
       "<IPython.core.display.HTML object>"
      ]
     },
     "metadata": {},
     "output_type": "display_data"
    },
    {
     "data": {
      "text/html": [
       "<div style=\"padding: 1em; border: 3px black solid; border-radius: 1em; background: #f2f2f2\"><div><span style=\"display: inline-block; border: 1px black solid; padding: 0.25em; border-radius: 0.125em; margin-right: 1em; background: #e0e0e0\">Dev</span><span style=\"display: inline-block; border: 1px black solid; padding: 0.25em; border-radius: 0.125em; margin-right: 1em; background: #e0e0e0\">M</span></div><h3><a href=\"https://trello.com/c/vQXZ50mp/239-fix-encoding-error-in-mysql\">Fix encoding error in MySQL</a> (28.08.2023)</h3></div>"
      ],
      "text/plain": [
       "<IPython.core.display.HTML object>"
      ]
     },
     "metadata": {},
     "output_type": "display_data"
    },
    {
     "data": {
      "text/html": [
       "<div style=\"padding: 1em; border: 3px black solid; border-radius: 1em; background: #f2f2f2\"><div><span style=\"display: inline-block; border: 1px black solid; padding: 0.25em; border-radius: 0.125em; margin-right: 1em; background: #e0e0e0\">Mini-Feature</span><span style=\"display: inline-block; border: 1px black solid; padding: 0.25em; border-radius: 0.125em; margin-right: 1em; background: #e0e0e0\">LENABI AP 1: Content- und Metadaten-API</span></div><h3><a href=\"https://trello.com/c/CcN6QQTN/264-webcontent-als-type-bei-mainentityofpage-hinzugef%C3%BCgt\">WebContent als Type bei mainEntityOfPage hinzugefügt</a> (24.08.2023)</h3></div>"
      ],
      "text/plain": [
       "<IPython.core.display.HTML object>"
      ]
     },
     "metadata": {},
     "output_type": "display_data"
    },
    {
     "data": {
      "text/html": [
       "<div style=\"padding: 1em; border: 3px black solid; border-radius: 1em; background: #f2f2f2\"><div><span style=\"display: inline-block; border: 1px black solid; padding: 0.25em; border-radius: 0.125em; margin-right: 1em; background: #e0e0e0\">Mini-Feature</span><span style=\"display: inline-block; border: 1px black solid; padding: 0.25em; border-radius: 0.125em; margin-right: 1em; background: #e0e0e0\">LENABI AP 1: Content- und Metadaten-API</span></div><h3><a href=\"https://trello.com/c/wa8tnKfu/265-neuen-learning-resource-type-von-wlo-einbinden\">Neuen Learning Resource Type von WLO einbinden</a> (24.08.2023)</h3></div>"
      ],
      "text/plain": [
       "<IPython.core.display.HTML object>"
      ]
     },
     "metadata": {},
     "output_type": "display_data"
    },
    {
     "data": {
      "text/html": [
       "<div style=\"padding: 1em; border: 3px black solid; border-radius: 1em; background: #f2f2f2\"><div><span style=\"display: inline-block; border: 1px black solid; padding: 0.25em; border-radius: 0.125em; margin-right: 1em; background: #e0e0e0\">Feature</span><span style=\"display: inline-block; border: 1px black solid; padding: 0.25em; border-radius: 0.125em; margin-right: 1em; background: #e0e0e0\">Mini-Feature</span><span style=\"display: inline-block; border: 1px black solid; padding: 0.25em; border-radius: 0.125em; margin-right: 1em; background: #e0e0e0\">LENABI AP 1: Content- und Metadaten-API</span></div><h3><a href=\"https://trello.com/c/xHtinurE/219-metadata-in-sodix\">Metadata in SODIX</a> (23.08.2023)</h3></div>"
      ],
      "text/plain": [
       "<IPython.core.display.HTML object>"
      ]
     },
     "metadata": {},
     "output_type": "display_data"
    },
    {
     "data": {
      "text/html": [
       "<div style=\"padding: 1em; border: 3px black solid; border-radius: 1em; background: #f2f2f2\"><div><span style=\"display: inline-block; border: 1px black solid; padding: 0.25em; border-radius: 0.125em; margin-right: 1em; background: #e0e0e0\">Feature</span><span style=\"display: inline-block; border: 1px black solid; padding: 0.25em; border-radius: 0.125em; margin-right: 1em; background: #e0e0e0\">Bereit für Entwicklung</span><span style=\"display: inline-block; border: 1px black solid; padding: 0.25em; border-radius: 0.125em; margin-right: 1em; background: #e0e0e0\">LENABI AP 1: Content- und Metadaten-API</span></div><h3><a href=\"https://trello.com/c/N7bJke7G/106-entwicklung-review-von-itsjointly-crawler-f%C3%BCr-serloorg\">Entwicklung / Review von ITs.JOINTLY-Crawler für serlo.org</a> (22.08.2023)</h3></div>"
      ],
      "text/plain": [
       "<IPython.core.display.HTML object>"
      ]
     },
     "metadata": {},
     "output_type": "display_data"
    },
    {
     "data": {
      "text/html": [
       "<div style=\"padding: 1em; border: 3px black solid; border-radius: 1em; background: #f2f2f2\"><div><span style=\"display: inline-block; border: 1px black solid; padding: 0.25em; border-radius: 0.125em; margin-right: 1em; background: #e0e0e0\">Feature</span><span style=\"display: inline-block; border: 1px black solid; padding: 0.25em; border-radius: 0.125em; margin-right: 1em; background: #e0e0e0\">LENABI AP 1: Content- und Metadaten-API</span><span style=\"display: inline-block; border: 1px black solid; padding: 0.25em; border-radius: 0.125em; margin-right: 1em; background: #e0e0e0\">S</span></div><h3><a href=\"https://trello.com/c/KlrMeoIp/210-update-der-metadaten-api-per-push\">Update der Metadaten-API per Push</a> (17.08.2023)</h3></div>"
      ],
      "text/plain": [
       "<IPython.core.display.HTML object>"
      ]
     },
     "metadata": {},
     "output_type": "display_data"
    },
    {
     "data": {
      "text/html": [
       "<div style=\"padding: 1em; border: 3px black solid; border-radius: 1em; background: #f2f2f2\"><div><span style=\"display: inline-block; border: 1px black solid; padding: 0.25em; border-radius: 0.125em; margin-right: 1em; background: #e0e0e0\">Mini-Feature</span><span style=\"display: inline-block; border: 1px black solid; padding: 0.25em; border-radius: 0.125em; margin-right: 1em; background: #e0e0e0\">Dev</span></div><h3><a href=\"https://trello.com/c/4lZHXIt7/260-add-cronjob-for-db-migrations-in-staging-after-updating-db\">Add cronjob for DB migrations in staging after updating DB</a> (16.08.2023)</h3></div>"
      ],
      "text/plain": [
       "<IPython.core.display.HTML object>"
      ]
     },
     "metadata": {},
     "output_type": "display_data"
    },
    {
     "data": {
      "text/html": [
       "<div style=\"padding: 1em; border: 3px black solid; border-radius: 1em; background: #f2f2f2\"><div><span style=\"display: inline-block; border: 1px black solid; padding: 0.25em; border-radius: 0.125em; margin-right: 1em; background: #e0e0e0\">Mini-Feature</span></div><h3><a href=\"https://trello.com/c/MvWAe9gT/256-allow-sorting-option-for-architect\">Allow sorting option for architect</a> (16.08.2023)</h3></div>"
      ],
      "text/plain": [
       "<IPython.core.display.HTML object>"
      ]
     },
     "metadata": {},
     "output_type": "display_data"
    },
    {
     "data": {
      "text/html": [
       "<div style=\"padding: 1em; border: 3px black solid; border-radius: 1em; background: #f2f2f2\"><div><span style=\"display: inline-block; border: 1px black solid; padding: 0.25em; border-radius: 0.125em; margin-right: 1em; background: #e0e0e0\">Dev</span><span style=\"display: inline-block; border: 1px black solid; padding: 0.25em; border-radius: 0.125em; margin-right: 1em; background: #e0e0e0\">Mini-Feature</span></div><h3><a href=\"https://trello.com/c/IvlKCDAg/259-remove-cache-worker\">Remove cache-worker</a> (15.08.2023)</h3></div>"
      ],
      "text/plain": [
       "<IPython.core.display.HTML object>"
      ]
     },
     "metadata": {},
     "output_type": "display_data"
    },
    {
     "data": {
      "text/html": [
       "<div style=\"padding: 1em; border: 3px black solid; border-radius: 1em; background: #f2f2f2\"><div><span style=\"display: inline-block; border: 1px black solid; padding: 0.25em; border-radius: 0.125em; margin-right: 1em; background: #e0e0e0\">Bug</span></div><h3><a href=\"https://trello.com/c/Zt186fsk/261-fix-cache-instability\">Fix cache instability</a> (15.08.2023)</h3></div>"
      ],
      "text/plain": [
       "<IPython.core.display.HTML object>"
      ]
     },
     "metadata": {},
     "output_type": "display_data"
    },
    {
     "data": {
      "text/html": [
       "<div style=\"padding: 1em; border: 3px black solid; border-radius: 1em; background: #f2f2f2\"><div><span style=\"display: inline-block; border: 1px black solid; padding: 0.25em; border-radius: 0.125em; margin-right: 1em; background: #e0e0e0\">Bug</span></div><h3><a href=\"https://trello.com/c/jxpAkrwy/258-switching-visual-latex-in-equations\">Switching visual/LaTeX in equations</a> (15.08.2023)</h3></div>"
      ],
      "text/plain": [
       "<IPython.core.display.HTML object>"
      ]
     },
     "metadata": {},
     "output_type": "display_data"
    },
    {
     "data": {
      "text/html": [
       "<div style=\"padding: 1em; border: 3px black solid; border-radius: 1em; background: #f2f2f2\"><div><span style=\"display: inline-block; border: 1px black solid; padding: 0.25em; border-radius: 0.125em; margin-right: 1em; background: #e0e0e0\">S</span><span style=\"display: inline-block; border: 1px black solid; padding: 0.25em; border-radius: 0.125em; margin-right: 1em; background: #e0e0e0\">Dev</span></div><h3><a href=\"https://trello.com/c/HF7XUUoY/255-optimise-more-images-with-next-image\">optimise more images with next/image</a> (14.08.2023)</h3></div>"
      ],
      "text/plain": [
       "<IPython.core.display.HTML object>"
      ]
     },
     "metadata": {},
     "output_type": "display_data"
    },
    {
     "data": {
      "text/html": [
       "<div style=\"padding: 1em; border: 3px black solid; border-radius: 1em; background: #f2f2f2\"><div><span style=\"display: inline-block; border: 1px black solid; padding: 0.25em; border-radius: 0.125em; margin-right: 1em; background: #e0e0e0\">Mini-Feature</span><span style=\"display: inline-block; border: 1px black solid; padding: 0.25em; border-radius: 0.125em; margin-right: 1em; background: #e0e0e0\">Editor</span><span style=\"display: inline-block; border: 1px black solid; padding: 0.25em; border-radius: 0.125em; margin-right: 1em; background: #e0e0e0\">S</span></div><h3><a href=\"https://trello.com/c/Abv8Oabt/247-mathe-editor-popup-kann-mit-esc-oder-button-geschlossen-werden\">Mathe Editor popup kann mit ESC oder button geschlossen werden</a> (14.08.2023)</h3></div>"
      ],
      "text/plain": [
       "<IPython.core.display.HTML object>"
      ]
     },
     "metadata": {},
     "output_type": "display_data"
    },
    {
     "data": {
      "text/html": [
       "<div style=\"padding: 1em; border: 3px black solid; border-radius: 1em; background: #f2f2f2\"><div><span style=\"display: inline-block; border: 1px black solid; padding: 0.25em; border-radius: 0.125em; margin-right: 1em; background: #e0e0e0\">Mini-Feature</span><span style=\"display: inline-block; border: 1px black solid; padding: 0.25em; border-radius: 0.125em; margin-right: 1em; background: #e0e0e0\">a11y</span></div><h3><a href=\"https://trello.com/c/cc0lsSoN/253-a11y-improve-quickbar\">A11Y: Improve quickbar</a> (14.08.2023)</h3></div>"
      ],
      "text/plain": [
       "<IPython.core.display.HTML object>"
      ]
     },
     "metadata": {},
     "output_type": "display_data"
    },
    {
     "data": {
      "text/html": [
       "<div style=\"padding: 1em; border: 3px black solid; border-radius: 1em; background: #f2f2f2\"><div><span style=\"display: inline-block; border: 1px black solid; padding: 0.25em; border-radius: 0.125em; margin-right: 1em; background: #e0e0e0\">Feature</span><span style=\"display: inline-block; border: 1px black solid; padding: 0.25em; border-radius: 0.125em; margin-right: 1em; background: #e0e0e0\">M</span></div><h3><a href=\"https://trello.com/c/uDKWUjsb/181-ki-konzeptentwicklung\">KI Konzeptentwicklung</a> (13.08.2023)</h3></div>"
      ],
      "text/plain": [
       "<IPython.core.display.HTML object>"
      ]
     },
     "metadata": {},
     "output_type": "display_data"
    },
    {
     "data": {
      "text/html": [
       "<div style=\"padding: 1em; border: 3px black solid; border-radius: 1em; background: #f2f2f2\"><div><span style=\"display: inline-block; border: 1px black solid; padding: 0.25em; border-radius: 0.125em; margin-right: 1em; background: #e0e0e0\">Dev</span><span style=\"display: inline-block; border: 1px black solid; padding: 0.25em; border-radius: 0.125em; margin-right: 1em; background: #e0e0e0\">M</span></div><h3><a href=\"https://trello.com/c/GQD8SU0i/82-update-dependencies\">Update dependencies</a> (10.08.2023)</h3></div>"
      ],
      "text/plain": [
       "<IPython.core.display.HTML object>"
      ]
     },
     "metadata": {},
     "output_type": "display_data"
    },
    {
     "data": {
      "text/html": [
       "<div style=\"padding: 1em; border: 3px black solid; border-radius: 1em; background: #f2f2f2\"><div><span style=\"display: inline-block; border: 1px black solid; padding: 0.25em; border-radius: 0.125em; margin-right: 1em; background: #e0e0e0\">Dev</span><span style=\"display: inline-block; border: 1px black solid; padding: 0.25em; border-radius: 0.125em; margin-right: 1em; background: #e0e0e0\">Infra</span></div><h3><a href=\"https://trello.com/c/pXPn1Map/254-fix-redis-deployment-production\">Fix redis deployment (production)</a> (09.08.2023)</h3></div>"
      ],
      "text/plain": [
       "<IPython.core.display.HTML object>"
      ]
     },
     "metadata": {},
     "output_type": "display_data"
    },
    {
     "data": {
      "text/html": [
       "<div style=\"padding: 1em; border: 3px black solid; border-radius: 1em; background: #f2f2f2\"><div><span style=\"display: inline-block; border: 1px black solid; padding: 0.25em; border-radius: 0.125em; margin-right: 1em; background: #e0e0e0\">Bug</span></div><h3><a href=\"https://trello.com/c/Uy0Ur13Q/246-rlp-integration-multimedia-plugin\">RLP integration: multimedia plugin</a> (08.08.2023)</h3></div>"
      ],
      "text/plain": [
       "<IPython.core.display.HTML object>"
      ]
     },
     "metadata": {},
     "output_type": "display_data"
    },
    {
     "data": {
      "text/html": [
       "<div style=\"padding: 1em; border: 3px black solid; border-radius: 1em; background: #f2f2f2\"><div><span style=\"display: inline-block; border: 1px black solid; padding: 0.25em; border-radius: 0.125em; margin-right: 1em; background: #e0e0e0\">Editor</span><span style=\"display: inline-block; border: 1px black solid; padding: 0.25em; border-radius: 0.125em; margin-right: 1em; background: #e0e0e0\">Feature</span><span style=\"display: inline-block; border: 1px black solid; padding: 0.25em; border-radius: 0.125em; margin-right: 1em; background: #e0e0e0\">Bereit für Entwicklung</span><span style=\"display: inline-block; border: 1px black solid; padding: 0.25em; border-radius: 0.125em; margin-right: 1em; background: #e0e0e0\">S</span></div><h3><a href=\"https://trello.com/c/bkv8lr9P/236-plugin-nesting-einschr%C3%A4nken\">Plugin Nesting einschränken</a> (08.08.2023)</h3></div>"
      ],
      "text/plain": [
       "<IPython.core.display.HTML object>"
      ]
     },
     "metadata": {},
     "output_type": "display_data"
    },
    {
     "data": {
      "text/html": [
       "<div style=\"padding: 1em; border: 3px black solid; border-radius: 1em; background: #f2f2f2\"><div><span style=\"display: inline-block; border: 1px black solid; padding: 0.25em; border-radius: 0.125em; margin-right: 1em; background: #e0e0e0\">Editor</span><span style=\"display: inline-block; border: 1px black solid; padding: 0.25em; border-radius: 0.125em; margin-right: 1em; background: #e0e0e0\">Bug</span></div><h3><a href=\"https://trello.com/c/WETxMvwl/230-mathe-editor-kleine-fixes\">Mathe Editor kleine fixes</a> (08.08.2023)</h3></div>"
      ],
      "text/plain": [
       "<IPython.core.display.HTML object>"
      ]
     },
     "metadata": {},
     "output_type": "display_data"
    },
    {
     "data": {
      "text/html": [
       "<div style=\"padding: 1em; border: 3px black solid; border-radius: 1em; background: #f2f2f2\"><div><span style=\"display: inline-block; border: 1px black solid; padding: 0.25em; border-radius: 0.125em; margin-right: 1em; background: #e0e0e0\">Editor</span><span style=\"display: inline-block; border: 1px black solid; padding: 0.25em; border-radius: 0.125em; margin-right: 1em; background: #e0e0e0\">Feature</span><span style=\"display: inline-block; border: 1px black solid; padding: 0.25em; border-radius: 0.125em; margin-right: 1em; background: #e0e0e0\">LENABI M2.9</span><span style=\"display: inline-block; border: 1px black solid; padding: 0.25em; border-radius: 0.125em; margin-right: 1em; background: #e0e0e0\">L</span></div><h3><a href=\"https://trello.com/c/twcyUAW5/160-new-plugin-toolbar\">New Plugin-Toolbar</a> (08.08.2023)</h3></div>"
      ],
      "text/plain": [
       "<IPython.core.display.HTML object>"
      ]
     },
     "metadata": {},
     "output_type": "display_data"
    },
    {
     "data": {
      "text/html": [
       "<div style=\"padding: 1em; border: 3px black solid; border-radius: 1em; background: #f2f2f2\"><div><span style=\"display: inline-block; border: 1px black solid; padding: 0.25em; border-radius: 0.125em; margin-right: 1em; background: #e0e0e0\">Dev</span><span style=\"display: inline-block; border: 1px black solid; padding: 0.25em; border-radius: 0.125em; margin-right: 1em; background: #e0e0e0\">M</span></div><h3><a href=\"https://trello.com/c/pdFzy2XS/177-migrate-hotkeys-lib-and-enable-strictmode-in-root\">Migrate hotkeys lib and enable StrictMode in root</a> (07.08.2023)</h3></div>"
      ],
      "text/plain": [
       "<IPython.core.display.HTML object>"
      ]
     },
     "metadata": {},
     "output_type": "display_data"
    },
    {
     "data": {
      "text/html": [
       "<div style=\"padding: 1em; border: 3px black solid; border-radius: 1em; background: #f2f2f2\"><div><span style=\"display: inline-block; border: 1px black solid; padding: 0.25em; border-radius: 0.125em; margin-right: 1em; background: #e0e0e0\">Dev</span><span style=\"display: inline-block; border: 1px black solid; padding: 0.25em; border-radius: 0.125em; margin-right: 1em; background: #e0e0e0\">Infra</span></div><h3><a href=\"https://trello.com/c/oNkTO6Wl/238-fix-cron-jobs-deployment\">Fix Cron Jobs deployment</a> (07.08.2023)</h3></div>"
      ],
      "text/plain": [
       "<IPython.core.display.HTML object>"
      ]
     },
     "metadata": {},
     "output_type": "display_data"
    },
    {
     "data": {
      "text/html": [
       "<div style=\"padding: 1em; border: 3px black solid; border-radius: 1em; background: #f2f2f2\"><div><span style=\"display: inline-block; border: 1px black solid; padding: 0.25em; border-radius: 0.125em; margin-right: 1em; background: #e0e0e0\">Dev</span><span style=\"display: inline-block; border: 1px black solid; padding: 0.25em; border-radius: 0.125em; margin-right: 1em; background: #e0e0e0\">S</span></div><h3><a href=\"https://trello.com/c/wB4f1R7Y/220-statistic-automatic-generation-via-github-workflows\">Statistic: Automatic generation via GitHub workflows</a> (03.08.2023)</h3></div>"
      ],
      "text/plain": [
       "<IPython.core.display.HTML object>"
      ]
     },
     "metadata": {},
     "output_type": "display_data"
    },
    {
     "data": {
      "text/html": [
       "<div style=\"padding: 1em; border: 3px black solid; border-radius: 1em; background: #f2f2f2\"><div><span style=\"display: inline-block; border: 1px black solid; padding: 0.25em; border-radius: 0.125em; margin-right: 1em; background: #e0e0e0\">Dev</span><span style=\"display: inline-block; border: 1px black solid; padding: 0.25em; border-radius: 0.125em; margin-right: 1em; background: #e0e0e0\">Bug</span></div><h3><a href=\"https://trello.com/c/mi0yXnVF/240-fix-staging-update-cache-with-valid-entry-for-44892\">Fix staging: Update cache with valid entry for 44892</a> (01.08.2023)</h3></div>"
      ],
      "text/plain": [
       "<IPython.core.display.HTML object>"
      ]
     },
     "metadata": {},
     "output_type": "display_data"
    },
    {
     "data": {
      "text/html": [
       "<div style=\"padding: 1em; border: 3px black solid; border-radius: 1em; background: #f2f2f2\"><div><span style=\"display: inline-block; border: 1px black solid; padding: 0.25em; border-radius: 0.125em; margin-right: 1em; background: #e0e0e0\">Dev</span><span style=\"display: inline-block; border: 1px black solid; padding: 0.25em; border-radius: 0.125em; margin-right: 1em; background: #e0e0e0\">Bug</span></div><h3><a href=\"https://trello.com/c/JQuahoTc/237-fix-redis-redis-had-no-memory\">Fix redis: Redis had no memory</a> (01.08.2023)</h3></div>"
      ],
      "text/plain": [
       "<IPython.core.display.HTML object>"
      ]
     },
     "metadata": {},
     "output_type": "display_data"
    },
    {
     "data": {
      "text/html": [
       "<div style=\"padding: 1em; border: 3px black solid; border-radius: 1em; background: #f2f2f2\"><div><span style=\"display: inline-block; border: 1px black solid; padding: 0.25em; border-radius: 0.125em; margin-right: 1em; background: #e0e0e0\">Bug</span></div><h3><a href=\"https://trello.com/c/4wgdq5FD/190-pasting-image-url-in-text-plugin-does-not-create-image-any-more\">Pasting image url in Text Plugin does not create Image any more</a> (01.08.2023)</h3></div>"
      ],
      "text/plain": [
       "<IPython.core.display.HTML object>"
      ]
     },
     "metadata": {},
     "output_type": "display_data"
    },
    {
     "data": {
      "text/markdown": [
       "## 7/2023"
      ],
      "text/plain": [
       "<IPython.core.display.Markdown object>"
      ]
     },
     "metadata": {},
     "output_type": "display_data"
    },
    {
     "data": {
      "text/html": [
       "<div style=\"padding: 1em; border: 3px black solid; border-radius: 1em; background: #f2f2f2\"><div><span style=\"display: inline-block; border: 1px black solid; padding: 0.25em; border-radius: 0.125em; margin-right: 1em; background: #e0e0e0\">Feature</span><span style=\"display: inline-block; border: 1px black solid; padding: 0.25em; border-radius: 0.125em; margin-right: 1em; background: #e0e0e0\">Mini-Feature</span></div><h3><a href=\"https://trello.com/c/1XA2iImL/218-statistic-velocity-in-trello\">Statistic: Velocity in Trello</a> (30.07.2023)</h3></div>"
      ],
      "text/plain": [
       "<IPython.core.display.HTML object>"
      ]
     },
     "metadata": {},
     "output_type": "display_data"
    },
    {
     "data": {
      "text/html": [
       "<div style=\"padding: 1em; border: 3px black solid; border-radius: 1em; background: #f2f2f2\"><div><span style=\"display: inline-block; border: 1px black solid; padding: 0.25em; border-radius: 0.125em; margin-right: 1em; background: #e0e0e0\">Feature</span><span style=\"display: inline-block; border: 1px black solid; padding: 0.25em; border-radius: 0.125em; margin-right: 1em; background: #e0e0e0\">Mini-Feature</span></div><h3><a href=\"https://trello.com/c/PUqp3Jmm/233-tracking-der-eingabefeld-inputs\">Tracking der Eingabefeld-Inputs</a> (27.07.2023)</h3></div>"
      ],
      "text/plain": [
       "<IPython.core.display.HTML object>"
      ]
     },
     "metadata": {},
     "output_type": "display_data"
    },
    {
     "data": {
      "text/html": [
       "<div style=\"padding: 1em; border: 3px black solid; border-radius: 1em; background: #f2f2f2\"><div><span style=\"display: inline-block; border: 1px black solid; padding: 0.25em; border-radius: 0.125em; margin-right: 1em; background: #e0e0e0\">Feature</span><span style=\"display: inline-block; border: 1px black solid; padding: 0.25em; border-radius: 0.125em; margin-right: 1em; background: #e0e0e0\">S</span></div><h3><a href=\"https://trello.com/c/qnVlzvqT/222-kpi-anteil-interaktiver-aufgaben-im-real-und-mittelschul-curricular\">KPI Anteil interaktiver Aufgaben im Real- und Mittelschul-Curricular</a> (27.07.2023)</h3></div>"
      ],
      "text/plain": [
       "<IPython.core.display.HTML object>"
      ]
     },
     "metadata": {},
     "output_type": "display_data"
    },
    {
     "data": {
      "text/html": [
       "<div style=\"padding: 1em; border: 3px black solid; border-radius: 1em; background: #f2f2f2\"><div><span style=\"display: inline-block; border: 1px black solid; padding: 0.25em; border-radius: 0.125em; margin-right: 1em; background: #e0e0e0\">Editor</span><span style=\"display: inline-block; border: 1px black solid; padding: 0.25em; border-radius: 0.125em; margin-right: 1em; background: #e0e0e0\">ohne User Story</span></div><h3><a href=\"https://trello.com/c/OaiMbXVC/7-copy-paste-f%C3%BCr-einzelne-editr-states-f%C3%BCr-plugins\">Copy-Paste für einzelne Editr states für Plugins</a> (26.07.2023)</h3></div>"
      ],
      "text/plain": [
       "<IPython.core.display.HTML object>"
      ]
     },
     "metadata": {},
     "output_type": "display_data"
    },
    {
     "data": {
      "text/html": [
       "<div style=\"padding: 1em; border: 3px black solid; border-radius: 1em; background: #f2f2f2\"><div><span style=\"display: inline-block; border: 1px black solid; padding: 0.25em; border-radius: 0.125em; margin-right: 1em; background: #e0e0e0\">Feature</span><span style=\"display: inline-block; border: 1px black solid; padding: 0.25em; border-radius: 0.125em; margin-right: 1em; background: #e0e0e0\">S</span></div><h3><a href=\"https://trello.com/c/oEk47vYG/206-kpi-%C3%BCbersicht-verbesserungen\">KPI-Übersicht: Verbesserungen</a> (24.07.2023)</h3></div>"
      ],
      "text/plain": [
       "<IPython.core.display.HTML object>"
      ]
     },
     "metadata": {},
     "output_type": "display_data"
    },
    {
     "data": {
      "text/html": [
       "<div style=\"padding: 1em; border: 3px black solid; border-radius: 1em; background: #f2f2f2\"><div><span style=\"display: inline-block; border: 1px black solid; padding: 0.25em; border-radius: 0.125em; margin-right: 1em; background: #e0e0e0\">Editor</span><span style=\"display: inline-block; border: 1px black solid; padding: 0.25em; border-radius: 0.125em; margin-right: 1em; background: #e0e0e0\">Dev</span><span style=\"display: inline-block; border: 1px black solid; padding: 0.25em; border-radius: 0.125em; margin-right: 1em; background: #e0e0e0\">M</span></div><h3><a href=\"https://trello.com/c/jGJtlibg/203-ckeditor-more-complex-prototype\">CKEditor more complex prototype</a> (24.07.2023)</h3></div>"
      ],
      "text/plain": [
       "<IPython.core.display.HTML object>"
      ]
     },
     "metadata": {},
     "output_type": "display_data"
    },
    {
     "data": {
      "text/html": [
       "<div style=\"padding: 1em; border: 3px black solid; border-radius: 1em; background: #f2f2f2\"><div><span style=\"display: inline-block; border: 1px black solid; padding: 0.25em; border-radius: 0.125em; margin-right: 1em; background: #e0e0e0\">S</span><span style=\"display: inline-block; border: 1px black solid; padding: 0.25em; border-radius: 0.125em; margin-right: 1em; background: #e0e0e0\">Feature</span></div><h3><a href=\"https://trello.com/c/paLNj3XR/124-kollaboration-messen\">Kollaboration messen</a> (24.07.2023)</h3></div>"
      ],
      "text/plain": [
       "<IPython.core.display.HTML object>"
      ]
     },
     "metadata": {},
     "output_type": "display_data"
    },
    {
     "data": {
      "text/html": [
       "<div style=\"padding: 1em; border: 3px black solid; border-radius: 1em; background: #f2f2f2\"><div><span style=\"display: inline-block; border: 1px black solid; padding: 0.25em; border-radius: 0.125em; margin-right: 1em; background: #e0e0e0\">S</span><span style=\"display: inline-block; border: 1px black solid; padding: 0.25em; border-radius: 0.125em; margin-right: 1em; background: #e0e0e0\">Feature</span></div><h3><a href=\"https://trello.com/c/vJk8hFhC/208-umfrage-zur-h%C3%A4uslichen-unterst%C3%BCtzung-wiederholen\">Umfrage zur häuslichen Unterstützung wiederholen</a> (24.07.2023)</h3></div>"
      ],
      "text/plain": [
       "<IPython.core.display.HTML object>"
      ]
     },
     "metadata": {},
     "output_type": "display_data"
    },
    {
     "data": {
      "text/html": [
       "<div style=\"padding: 1em; border: 3px black solid; border-radius: 1em; background: #f2f2f2\"><div><span style=\"display: inline-block; border: 1px black solid; padding: 0.25em; border-radius: 0.125em; margin-right: 1em; background: #e0e0e0\">Dev</span><span style=\"display: inline-block; border: 1px black solid; padding: 0.25em; border-radius: 0.125em; margin-right: 1em; background: #e0e0e0\">LENABI AP 1: Content- und Metadaten-API</span><span style=\"display: inline-block; border: 1px black solid; padding: 0.25em; border-radius: 0.125em; margin-right: 1em; background: #e0e0e0\">Mini-Feature</span></div><h3><a href=\"https://trello.com/c/QnVRObJs/143-allgemeines-metadatenprofil-f%C3%BCr-bildungsressourcen-verbessern\">Allgemeines Metadatenprofil für Bildungsressourcen verbessern</a> (22.07.2023)</h3></div>"
      ],
      "text/plain": [
       "<IPython.core.display.HTML object>"
      ]
     },
     "metadata": {},
     "output_type": "display_data"
    },
    {
     "data": {
      "text/html": [
       "<div style=\"padding: 1em; border: 3px black solid; border-radius: 1em; background: #f2f2f2\"><div><span style=\"display: inline-block; border: 1px black solid; padding: 0.25em; border-radius: 0.125em; margin-right: 1em; background: #e0e0e0\">Dev</span><span style=\"display: inline-block; border: 1px black solid; padding: 0.25em; border-radius: 0.125em; margin-right: 1em; background: #e0e0e0\">Mini-Feature</span></div><h3><a href=\"https://trello.com/c/QWYFqXNc/204-continuous-deployment-cd-for-cloudflare-worker\">Continuous Deployment (CD) for cloudflare-worker</a> (22.07.2023)</h3></div>"
      ],
      "text/plain": [
       "<IPython.core.display.HTML object>"
      ]
     },
     "metadata": {},
     "output_type": "display_data"
    },
    {
     "data": {
      "text/html": [
       "<div style=\"padding: 1em; border: 3px black solid; border-radius: 1em; background: #f2f2f2\"><div><span style=\"display: inline-block; border: 1px black solid; padding: 0.25em; border-radius: 0.125em; margin-right: 1em; background: #e0e0e0\">Feature</span></div><h3><a href=\"https://trello.com/c/DBbER2hq/228-test-checkliste\">Test Checkliste</a> (21.07.2023)</h3></div>"
      ],
      "text/plain": [
       "<IPython.core.display.HTML object>"
      ]
     },
     "metadata": {},
     "output_type": "display_data"
    },
    {
     "data": {
      "text/html": [
       "<div style=\"padding: 1em; border: 3px black solid; border-radius: 1em; background: #f2f2f2\"><div><span style=\"display: inline-block; border: 1px black solid; padding: 0.25em; border-radius: 0.125em; margin-right: 1em; background: #e0e0e0\">Dev</span><span style=\"display: inline-block; border: 1px black solid; padding: 0.25em; border-radius: 0.125em; margin-right: 1em; background: #e0e0e0\">S</span><span style=\"display: inline-block; border: 1px black solid; padding: 0.25em; border-radius: 0.125em; margin-right: 1em; background: #e0e0e0\">Editor</span></div><h3><a href=\"https://trello.com/c/XGmSAcQM/156-automatische-tests-f%C3%BCr-den-serlo-editor\">Automatische Tests für den Serlo Editor</a> (20.07.2023)</h3></div>"
      ],
      "text/plain": [
       "<IPython.core.display.HTML object>"
      ]
     },
     "metadata": {},
     "output_type": "display_data"
    },
    {
     "data": {
      "text/html": [
       "<div style=\"padding: 1em; border: 3px black solid; border-radius: 1em; background: #f2f2f2\"><div><span style=\"display: inline-block; border: 1px black solid; padding: 0.25em; border-radius: 0.125em; margin-right: 1em; background: #e0e0e0\">Dev</span><span style=\"display: inline-block; border: 1px black solid; padding: 0.25em; border-radius: 0.125em; margin-right: 1em; background: #e0e0e0\">S</span></div><h3><a href=\"https://trello.com/c/fgCs71IG/214-add-new-github-admin-update-dependencies\">Add new GitHub admin + update dependencies</a> (19.07.2023)</h3></div>"
      ],
      "text/plain": [
       "<IPython.core.display.HTML object>"
      ]
     },
     "metadata": {},
     "output_type": "display_data"
    },
    {
     "data": {
      "text/html": [
       "<div style=\"padding: 1em; border: 3px black solid; border-radius: 1em; background: #f2f2f2\"><div><span style=\"display: inline-block; border: 1px black solid; padding: 0.25em; border-radius: 0.125em; margin-right: 1em; background: #e0e0e0\">Feature</span><span style=\"display: inline-block; border: 1px black solid; padding: 0.25em; border-radius: 0.125em; margin-right: 1em; background: #e0e0e0\">LENABI-Feature: Kommentarsystem</span><span style=\"display: inline-block; border: 1px black solid; padding: 0.25em; border-radius: 0.125em; margin-right: 1em; background: #e0e0e0\">LENABI AP 3: Tools zur Qualitätssicherung</span></div><h3><a href=\"https://trello.com/c/QGPolFbe/186-status-zu-kommentaren-einblenden\">Status zu Kommentaren einblenden</a> (18.07.2023)</h3></div>"
      ],
      "text/plain": [
       "<IPython.core.display.HTML object>"
      ]
     },
     "metadata": {},
     "output_type": "display_data"
    },
    {
     "data": {
      "text/html": [
       "<div style=\"padding: 1em; border: 3px black solid; border-radius: 1em; background: #f2f2f2\"><div><span style=\"display: inline-block; border: 1px black solid; padding: 0.25em; border-radius: 0.125em; margin-right: 1em; background: #e0e0e0\">Bug</span></div><h3><a href=\"https://trello.com/c/AuzyZhZI/198-empty-solution-strategy-visible\">Empty Solution strategy visible</a> (18.07.2023)</h3></div>"
      ],
      "text/plain": [
       "<IPython.core.display.HTML object>"
      ]
     },
     "metadata": {},
     "output_type": "display_data"
    },
    {
     "data": {
      "text/html": [
       "<div style=\"padding: 1em; border: 3px black solid; border-radius: 1em; background: #f2f2f2\"><div><span style=\"display: inline-block; border: 1px black solid; padding: 0.25em; border-radius: 0.125em; margin-right: 1em; background: #e0e0e0\">Bug</span></div><h3><a href=\"https://trello.com/c/idPJ4NTA/207-overlapping-elements-editor\">Overlapping elements editor</a> (18.07.2023)</h3></div>"
      ],
      "text/plain": [
       "<IPython.core.display.HTML object>"
      ]
     },
     "metadata": {},
     "output_type": "display_data"
    },
    {
     "data": {
      "text/html": [
       "<div style=\"padding: 1em; border: 3px black solid; border-radius: 1em; background: #f2f2f2\"><div><span style=\"display: inline-block; border: 1px black solid; padding: 0.25em; border-radius: 0.125em; margin-right: 1em; background: #e0e0e0\">Feature</span><span style=\"display: inline-block; border: 1px black solid; padding: 0.25em; border-radius: 0.125em; margin-right: 1em; background: #e0e0e0\">S</span></div><h3><a href=\"https://trello.com/c/4kZPKpMk/180-flexible-geogebra-applets\">Flexible GeoGebra Applets</a> (13.07.2023)</h3></div>"
      ],
      "text/plain": [
       "<IPython.core.display.HTML object>"
      ]
     },
     "metadata": {},
     "output_type": "display_data"
    },
    {
     "data": {
      "text/html": [
       "<div style=\"padding: 1em; border: 3px black solid; border-radius: 1em; background: #f2f2f2\"><div><span style=\"display: inline-block; border: 1px black solid; padding: 0.25em; border-radius: 0.125em; margin-right: 1em; background: #e0e0e0\">Bug</span></div><h3><a href=\"https://trello.com/c/d59k3dyA/188-serlo-tamil-page-doesnt-load\">Serlo Tamil page doesn't load</a> (12.07.2023)</h3></div>"
      ],
      "text/plain": [
       "<IPython.core.display.HTML object>"
      ]
     },
     "metadata": {},
     "output_type": "display_data"
    },
    {
     "data": {
      "text/html": [
       "<div style=\"padding: 1em; border: 3px black solid; border-radius: 1em; background: #f2f2f2\"><div><span style=\"display: inline-block; border: 1px black solid; padding: 0.25em; border-radius: 0.125em; margin-right: 1em; background: #e0e0e0\">LENABI-Feature: Kommentarsystem</span><span style=\"display: inline-block; border: 1px black solid; padding: 0.25em; border-radius: 0.125em; margin-right: 1em; background: #e0e0e0\">Feature</span><span style=\"display: inline-block; border: 1px black solid; padding: 0.25em; border-radius: 0.125em; margin-right: 1em; background: #e0e0e0\">M</span></div><h3><a href=\"https://trello.com/c/2oGMC4Rw/75-kommentare-durch-erstellerin-l%C3%B6schen-lassen\">Kommentare durch Ersteller:in löschen lassen</a> (11.07.2023)</h3></div>"
      ],
      "text/plain": [
       "<IPython.core.display.HTML object>"
      ]
     },
     "metadata": {},
     "output_type": "display_data"
    },
    {
     "data": {
      "text/html": [
       "<div style=\"padding: 1em; border: 3px black solid; border-radius: 1em; background: #f2f2f2\"><div><span style=\"display: inline-block; border: 1px black solid; padding: 0.25em; border-radius: 0.125em; margin-right: 1em; background: #e0e0e0\">Editor</span><span style=\"display: inline-block; border: 1px black solid; padding: 0.25em; border-radius: 0.125em; margin-right: 1em; background: #e0e0e0\">Dev</span><span style=\"display: inline-block; border: 1px black solid; padding: 0.25em; border-radius: 0.125em; margin-right: 1em; background: #e0e0e0\">M</span></div><h3><a href=\"https://trello.com/c/8KhO7Qt4/174-miha-investigates-edtr-io-and-what-are-its-requirements\">Miha investigates edtr-io and what are it's requirements</a> (11.07.2023)</h3></div>"
      ],
      "text/plain": [
       "<IPython.core.display.HTML object>"
      ]
     },
     "metadata": {},
     "output_type": "display_data"
    },
    {
     "data": {
      "text/html": [
       "<div style=\"padding: 1em; border: 3px black solid; border-radius: 1em; background: #f2f2f2\"><div><span style=\"display: inline-block; border: 1px black solid; padding: 0.25em; border-radius: 0.125em; margin-right: 1em; background: #e0e0e0\">Feature</span><span style=\"display: inline-block; border: 1px black solid; padding: 0.25em; border-radius: 0.125em; margin-right: 1em; background: #e0e0e0\">S</span></div><h3><a href=\"https://trello.com/c/AN7bTThx/115-mockup-lernpfad\">Mockup Lernpfad</a> (10.07.2023)</h3></div>"
      ],
      "text/plain": [
       "<IPython.core.display.HTML object>"
      ]
     },
     "metadata": {},
     "output_type": "display_data"
    },
    {
     "data": {
      "text/html": [
       "<div style=\"padding: 1em; border: 3px black solid; border-radius: 1em; background: #f2f2f2\"><div><span style=\"display: inline-block; border: 1px black solid; padding: 0.25em; border-radius: 0.125em; margin-right: 1em; background: #e0e0e0\">Dev</span></div><h3><a href=\"https://trello.com/c/nigZ4jfM/184-code-f%C3%BCr-die-plugin-darstellung-in-editor-und-frontend-zusammenf%C3%BChren-schritt-1\">Code für die Plugin-Darstellung in Editor und Frontend zusammenführen (Schritt 1)</a> (10.07.2023)</h3></div>"
      ],
      "text/plain": [
       "<IPython.core.display.HTML object>"
      ]
     },
     "metadata": {},
     "output_type": "display_data"
    },
    {
     "data": {
      "text/html": [
       "<div style=\"padding: 1em; border: 3px black solid; border-radius: 1em; background: #f2f2f2\"><div><span style=\"display: inline-block; border: 1px black solid; padding: 0.25em; border-radius: 0.125em; margin-right: 1em; background: #e0e0e0\">Editor</span><span style=\"display: inline-block; border: 1px black solid; padding: 0.25em; border-radius: 0.125em; margin-right: 1em; background: #e0e0e0\">M</span></div><h3><a href=\"https://trello.com/c/1wcrbZDW/194-edusharing-bug-fixes\">EduSharing bug fixes</a> (10.07.2023)</h3></div>"
      ],
      "text/plain": [
       "<IPython.core.display.HTML object>"
      ]
     },
     "metadata": {},
     "output_type": "display_data"
    },
    {
     "data": {
      "text/markdown": [
       "## 6/2023"
      ],
      "text/plain": [
       "<IPython.core.display.Markdown object>"
      ]
     },
     "metadata": {},
     "output_type": "display_data"
    },
    {
     "data": {
      "text/html": [
       "<div style=\"padding: 1em; border: 3px black solid; border-radius: 1em; background: #f2f2f2\"><div><span style=\"display: inline-block; border: 1px black solid; padding: 0.25em; border-radius: 0.125em; margin-right: 1em; background: #e0e0e0\">S</span><span style=\"display: inline-block; border: 1px black solid; padding: 0.25em; border-radius: 0.125em; margin-right: 1em; background: #e0e0e0\">Feature</span></div><h3><a href=\"https://trello.com/c/yPppTORy/164-anzahl-bearbeitungen-messen\">Anzahl Bearbeitungen messen</a> (26.06.2023)</h3></div>"
      ],
      "text/plain": [
       "<IPython.core.display.HTML object>"
      ]
     },
     "metadata": {},
     "output_type": "display_data"
    },
    {
     "data": {
      "text/html": [
       "<div style=\"padding: 1em; border: 3px black solid; border-radius: 1em; background: #f2f2f2\"><div><span style=\"display: inline-block; border: 1px black solid; padding: 0.25em; border-radius: 0.125em; margin-right: 1em; background: #e0e0e0\">Feature</span></div><h3><a href=\"https://trello.com/c/6O1DIGFK/59-vorhandenen-lerninhalt-duplizieren\">Vorhandenen Lerninhalt duplizieren</a> (22.06.2023)</h3></div>"
      ],
      "text/plain": [
       "<IPython.core.display.HTML object>"
      ]
     },
     "metadata": {},
     "output_type": "display_data"
    },
    {
     "data": {
      "text/html": [
       "<div style=\"padding: 1em; border: 3px black solid; border-radius: 1em; background: #f2f2f2\"><div><span style=\"display: inline-block; border: 1px black solid; padding: 0.25em; border-radius: 0.125em; margin-right: 1em; background: #e0e0e0\">M</span><span style=\"display: inline-block; border: 1px black solid; padding: 0.25em; border-radius: 0.125em; margin-right: 1em; background: #e0e0e0\">Dev</span></div><h3><a href=\"https://trello.com/c/CdnH2DBh/148-finish-sso-and-document-it-for-projekttr%C3%A4ger\">Finish SSO and document it for Projektträger</a> (21.06.2023)</h3></div>"
      ],
      "text/plain": [
       "<IPython.core.display.HTML object>"
      ]
     },
     "metadata": {},
     "output_type": "display_data"
    },
    {
     "data": {
      "text/html": [
       "<div style=\"padding: 1em; border: 3px black solid; border-radius: 1em; background: #f2f2f2\"><div><span style=\"display: inline-block; border: 1px black solid; padding: 0.25em; border-radius: 0.125em; margin-right: 1em; background: #e0e0e0\">LENABI AP 1: Content- und Metadaten-API</span><span style=\"display: inline-block; border: 1px black solid; padding: 0.25em; border-radius: 0.125em; margin-right: 1em; background: #e0e0e0\">Feature</span></div><h3><a href=\"https://trello.com/c/VP73Hj9w/32-m11-die-neue-metadaten-api-von-serlo-kann-im-produktivsystem-von-der-nbp-und-anderen-services-der-nbp-wie-its-jointly-genutzt-we\">M1.1 Die neue Metadaten-API von Serlo kann im Produktivsystem von der NBP und anderen Services der NBP (wie IT's JOINTLY) genutzt werden</a> (21.06.2023)</h3></div>"
      ],
      "text/plain": [
       "<IPython.core.display.HTML object>"
      ]
     },
     "metadata": {},
     "output_type": "display_data"
    },
    {
     "data": {
      "text/html": [
       "<div style=\"padding: 1em; border: 3px black solid; border-radius: 1em; background: #f2f2f2\"><div><span style=\"display: inline-block; border: 1px black solid; padding: 0.25em; border-radius: 0.125em; margin-right: 1em; background: #e0e0e0\">Editor</span><span style=\"display: inline-block; border: 1px black solid; padding: 0.25em; border-radius: 0.125em; margin-right: 1em; background: #e0e0e0\">Feature</span></div><h3><a href=\"https://trello.com/c/1SlyI1Ts/159-text-plugin-link-erstellen-mit-suche\">Text-Plugin: Link erstellen mit Suche</a> (20.06.2023)</h3></div>"
      ],
      "text/plain": [
       "<IPython.core.display.HTML object>"
      ]
     },
     "metadata": {},
     "output_type": "display_data"
    },
    {
     "data": {
      "text/html": [
       "<div style=\"padding: 1em; border: 3px black solid; border-radius: 1em; background: #f2f2f2\"><div><span style=\"display: inline-block; border: 1px black solid; padding: 0.25em; border-radius: 0.125em; margin-right: 1em; background: #e0e0e0\">LENABI-Feature: Kommentarsystem</span><span style=\"display: inline-block; border: 1px black solid; padding: 0.25em; border-radius: 0.125em; margin-right: 1em; background: #e0e0e0\">LENABI AP 3: Tools zur Qualitätssicherung</span><span style=\"display: inline-block; border: 1px black solid; padding: 0.25em; border-radius: 0.125em; margin-right: 1em; background: #e0e0e0\">Feature</span></div><h3><a href=\"https://trello.com/c/9RplcWtd/67-taskmanagementsystem-mvp\">Taskmanagementsystem - MVP</a> (20.06.2023)</h3></div>"
      ],
      "text/plain": [
       "<IPython.core.display.HTML object>"
      ]
     },
     "metadata": {},
     "output_type": "display_data"
    },
    {
     "data": {
      "text/html": [
       "<div style=\"padding: 1em; border: 3px black solid; border-radius: 1em; background: #f2f2f2\"><div><span style=\"display: inline-block; border: 1px black solid; padding: 0.25em; border-radius: 0.125em; margin-right: 1em; background: #e0e0e0\">Bug</span><span style=\"display: inline-block; border: 1px black solid; padding: 0.25em; border-radius: 0.125em; margin-right: 1em; background: #e0e0e0\">Editor</span></div><h3><a href=\"https://trello.com/c/IMtA54pV/132-bug-table-plugin-not-showing-some-content\">Bug: Table Plugin not showing some content</a> (20.06.2023)</h3></div>"
      ],
      "text/plain": [
       "<IPython.core.display.HTML object>"
      ]
     },
     "metadata": {},
     "output_type": "display_data"
    },
    {
     "data": {
      "text/html": [
       "<div style=\"padding: 1em; border: 3px black solid; border-radius: 1em; background: #f2f2f2\"><div><span style=\"display: inline-block; border: 1px black solid; padding: 0.25em; border-radius: 0.125em; margin-right: 1em; background: #e0e0e0\">Bug</span></div><h3><a href=\"https://trello.com/c/6MXhoOBj/126-neue-solution-revisions-werden-ab-und-zu-nicht-angezeigt\">Neue Solution Revisions werden ab und zu nicht angezeigt</a> (19.06.2023)</h3></div>"
      ],
      "text/plain": [
       "<IPython.core.display.HTML object>"
      ]
     },
     "metadata": {},
     "output_type": "display_data"
    },
    {
     "data": {
      "text/html": [
       "<div style=\"padding: 1em; border: 3px black solid; border-radius: 1em; background: #f2f2f2\"><div><span style=\"display: inline-block; border: 1px black solid; padding: 0.25em; border-radius: 0.125em; margin-right: 1em; background: #e0e0e0\">LENABI AP 4: SSO</span><span style=\"display: inline-block; border: 1px black solid; padding: 0.25em; border-radius: 0.125em; margin-right: 1em; background: #e0e0e0\">Feature</span></div><h3><a href=\"https://trello.com/c/0OUSbVwI/57-m41-sso-ist-im-test-system-nutzbar\">M4.1 SSO ist im Test-System nutzbar</a> (19.06.2023)</h3></div>"
      ],
      "text/plain": [
       "<IPython.core.display.HTML object>"
      ]
     },
     "metadata": {},
     "output_type": "display_data"
    },
    {
     "data": {
      "text/html": [
       "<div style=\"padding: 1em; border: 3px black solid; border-radius: 1em; background: #f2f2f2\"><div><span style=\"display: inline-block; border: 1px black solid; padding: 0.25em; border-radius: 0.125em; margin-right: 1em; background: #e0e0e0\">Feature</span></div><h3><a href=\"https://trello.com/c/68gCyCSa/8-editor-integration-in-rlp-complete-version-100\">Editor-Integration in RLP: Complete version 1.0.0</a> (19.06.2023)</h3></div>"
      ],
      "text/plain": [
       "<IPython.core.display.HTML object>"
      ]
     },
     "metadata": {},
     "output_type": "display_data"
    },
    {
     "data": {
      "text/html": [
       "<div style=\"padding: 1em; border: 3px black solid; border-radius: 1em; background: #f2f2f2\"><div><span style=\"display: inline-block; border: 1px black solid; padding: 0.25em; border-radius: 0.125em; margin-right: 1em; background: #e0e0e0\">Editor</span><span style=\"display: inline-block; border: 1px black solid; padding: 0.25em; border-radius: 0.125em; margin-right: 1em; background: #e0e0e0\">Dev</span></div><h3><a href=\"https://trello.com/c/wLCgAHMF/81-rlp-integration-nutzt-denselben-editor-code-wie-frontend\">RLP-Integration nutzt denselben Editor-Code wie Frontend</a> (19.06.2023)</h3></div>"
      ],
      "text/plain": [
       "<IPython.core.display.HTML object>"
      ]
     },
     "metadata": {},
     "output_type": "display_data"
    },
    {
     "data": {
      "text/html": [
       "<div style=\"padding: 1em; border: 3px black solid; border-radius: 1em; background: #f2f2f2\"><div><span style=\"display: inline-block; border: 1px black solid; padding: 0.25em; border-radius: 0.125em; margin-right: 1em; background: #e0e0e0\">Editor</span><span style=\"display: inline-block; border: 1px black solid; padding: 0.25em; border-radius: 0.125em; margin-right: 1em; background: #e0e0e0\">Dev</span></div><h3><a href=\"https://trello.com/c/FJ3Tde0Q/80-investigate-editor-frameworks-and-create-a-table-of-comparision-with-advantages-and-disatvantages\">Investigate editor frameworks and create a table of comparision with advantages and disatvantages</a> (16.06.2023)</h3></div>"
      ],
      "text/plain": [
       "<IPython.core.display.HTML object>"
      ]
     },
     "metadata": {},
     "output_type": "display_data"
    },
    {
     "data": {
      "text/html": [
       "<div style=\"padding: 1em; border: 3px black solid; border-radius: 1em; background: #f2f2f2\"><div><span style=\"display: inline-block; border: 1px black solid; padding: 0.25em; border-radius: 0.125em; margin-right: 1em; background: #e0e0e0\">Dev</span><span style=\"display: inline-block; border: 1px black solid; padding: 0.25em; border-radius: 0.125em; margin-right: 1em; background: #e0e0e0\">M</span></div><h3><a href=\"https://trello.com/c/9qL9sQti/83-konvertiere-alle-tabellen-plugin-von-markdown-in-das-editor-plugin\">Konvertiere alle Tabellen-Plugin von Markdown in das Editor-Plugin</a> (15.06.2023)</h3></div>"
      ],
      "text/plain": [
       "<IPython.core.display.HTML object>"
      ]
     },
     "metadata": {},
     "output_type": "display_data"
    },
    {
     "data": {
      "text/html": [
       "<div style=\"padding: 1em; border: 3px black solid; border-radius: 1em; background: #f2f2f2\"><div><span style=\"display: inline-block; border: 1px black solid; padding: 0.25em; border-radius: 0.125em; margin-right: 1em; background: #e0e0e0\">Dev</span><span style=\"display: inline-block; border: 1px black solid; padding: 0.25em; border-radius: 0.125em; margin-right: 1em; background: #e0e0e0\">M</span></div><h3><a href=\"https://trello.com/c/AWr9QaTB/158-robusteres-zusammenspiel-zwischen-serloorg-und-hydra-blocker-f%C3%BCr-neue-deployments-von-api\">Robusteres Zusammenspiel zwischen serlo.org und Hydra (Blocker für neue Deployments von API)</a> (12.06.2023)</h3></div>"
      ],
      "text/plain": [
       "<IPython.core.display.HTML object>"
      ]
     },
     "metadata": {},
     "output_type": "display_data"
    },
    {
     "data": {
      "text/html": [
       "<div style=\"padding: 1em; border: 3px black solid; border-radius: 1em; background: #f2f2f2\"><div><span style=\"display: inline-block; border: 1px black solid; padding: 0.25em; border-radius: 0.125em; margin-right: 1em; background: #e0e0e0\">Feature</span><span style=\"display: inline-block; border: 1px black solid; padding: 0.25em; border-radius: 0.125em; margin-right: 1em; background: #e0e0e0\">S</span></div><h3><a href=\"https://trello.com/c/CDDONHn8/118-prototyp-werbung-f%C3%BCr-privaten-link-%C3%BCber-die-plattform\">Prototyp: Werbung für privaten Link über die Plattform</a> (12.06.2023)</h3></div>"
      ],
      "text/plain": [
       "<IPython.core.display.HTML object>"
      ]
     },
     "metadata": {},
     "output_type": "display_data"
    },
    {
     "data": {
      "text/html": [
       "<div style=\"padding: 1em; border: 3px black solid; border-radius: 1em; background: #f2f2f2\"><h3><a href=\"https://trello.com/c/7ao8Z9wY/166-%E2%86%93-bugs\">↓ Bugs</a> (01.06.2023)</h3></div>"
      ],
      "text/plain": [
       "<IPython.core.display.HTML object>"
      ]
     },
     "metadata": {},
     "output_type": "display_data"
    },
    {
     "data": {
      "text/markdown": [
       "## 5/2023"
      ],
      "text/plain": [
       "<IPython.core.display.Markdown object>"
      ]
     },
     "metadata": {},
     "output_type": "display_data"
    },
    {
     "data": {
      "text/html": [
       "<div style=\"padding: 1em; border: 3px black solid; border-radius: 1em; background: #f2f2f2\"><div><span style=\"display: inline-block; border: 1px black solid; padding: 0.25em; border-radius: 0.125em; margin-right: 1em; background: #e0e0e0\">Bug</span></div><h3><a href=\"https://trello.com/c/2ZULGSxC/157-formeln-in-iframe-api-mit-resizing-werden-nicht-ger%C3%A4ndert\">Formeln in iFrame API mit Resizing werden nicht gerändert</a> (25.05.2023)</h3></div>"
      ],
      "text/plain": [
       "<IPython.core.display.HTML object>"
      ]
     },
     "metadata": {},
     "output_type": "display_data"
    },
    {
     "data": {
      "text/html": [
       "<div style=\"padding: 1em; border: 3px black solid; border-radius: 1em; background: #f2f2f2\"><div><span style=\"display: inline-block; border: 1px black solid; padding: 0.25em; border-radius: 0.125em; margin-right: 1em; background: #e0e0e0\">Bug</span></div><h3><a href=\"https://trello.com/c/6i1Jux1p/149-bug-broken-accounts\">Bug: Broken accounts</a> (25.05.2023)</h3></div>"
      ],
      "text/plain": [
       "<IPython.core.display.HTML object>"
      ]
     },
     "metadata": {},
     "output_type": "display_data"
    },
    {
     "data": {
      "text/html": [
       "<div style=\"padding: 1em; border: 3px black solid; border-radius: 1em; background: #f2f2f2\"><div><span style=\"display: inline-block; border: 1px black solid; padding: 0.25em; border-radius: 0.125em; margin-right: 1em; background: #e0e0e0\">Bug</span></div><h3><a href=\"https://trello.com/c/ToMtFy8N/153-login-to-community-chat-not-working\">Login to community-chat not working</a> (23.05.2023)</h3></div>"
      ],
      "text/plain": [
       "<IPython.core.display.HTML object>"
      ]
     },
     "metadata": {},
     "output_type": "display_data"
    },
    {
     "data": {
      "text/html": [
       "<div style=\"padding: 1em; border: 3px black solid; border-radius: 1em; background: #f2f2f2\"><h3><a href=\"https://trello.com/c/zF6Ka6ms/154-%E2%86%91-neu-ver%C3%B6ffentliche-bugs-user-stories-besprechen-wir-dann-im-software-weekly\">↑ Neu veröffentliche Bugs / User-Stories (besprechen wir dann im Software Weekly)</a> (22.05.2023)</h3></div>"
      ],
      "text/plain": [
       "<IPython.core.display.HTML object>"
      ]
     },
     "metadata": {},
     "output_type": "display_data"
    },
    {
     "data": {
      "text/html": [
       "<div style=\"padding: 1em; border: 3px black solid; border-radius: 1em; background: #f2f2f2\"><div><span style=\"display: inline-block; border: 1px black solid; padding: 0.25em; border-radius: 0.125em; margin-right: 1em; background: #e0e0e0\">Editor</span><span style=\"display: inline-block; border: 1px black solid; padding: 0.25em; border-radius: 0.125em; margin-right: 1em; background: #e0e0e0\">LENABI M2.9</span><span style=\"display: inline-block; border: 1px black solid; padding: 0.25em; border-radius: 0.125em; margin-right: 1em; background: #e0e0e0\">Feature</span><span style=\"display: inline-block; border: 1px black solid; padding: 0.25em; border-radius: 0.125em; margin-right: 1em; background: #e0e0e0\">S</span></div><h3><a href=\"https://trello.com/c/fvHyhrCH/91-quick-tooltips-part-1\">Quick Tooltips Part 1</a> (22.05.2023)</h3></div>"
      ],
      "text/plain": [
       "<IPython.core.display.HTML object>"
      ]
     },
     "metadata": {},
     "output_type": "display_data"
    },
    {
     "data": {
      "text/html": [
       "<div style=\"padding: 1em; border: 3px black solid; border-radius: 1em; background: #f2f2f2\"><div><span style=\"display: inline-block; border: 1px black solid; padding: 0.25em; border-radius: 0.125em; margin-right: 1em; background: #e0e0e0\">Bug</span></div><h3><a href=\"https://trello.com/c/t8wqq0DB/122-bug-formula-disappears-during-editing-text-plugin\">Bug: Formula disappears during editing (Text plugin)</a> (16.05.2023)</h3></div>"
      ],
      "text/plain": [
       "<IPython.core.display.HTML object>"
      ]
     },
     "metadata": {},
     "output_type": "display_data"
    },
    {
     "data": {
      "text/html": [
       "<div style=\"padding: 1em; border: 3px black solid; border-radius: 1em; background: #f2f2f2\"><div><span style=\"display: inline-block; border: 1px black solid; padding: 0.25em; border-radius: 0.125em; margin-right: 1em; background: #e0e0e0\">Feature</span><span style=\"display: inline-block; border: 1px black solid; padding: 0.25em; border-radius: 0.125em; margin-right: 1em; background: #e0e0e0\">S</span></div><h3><a href=\"https://trello.com/c/fHjJPrFr/137-erster-prototyp-zur-erfassung-von-benachteiligung\">Erster Prototyp zur Erfassung von Benachteiligung</a> (16.05.2023)</h3></div>"
      ],
      "text/plain": [
       "<IPython.core.display.HTML object>"
      ]
     },
     "metadata": {},
     "output_type": "display_data"
    },
    {
     "data": {
      "text/html": [
       "<div style=\"padding: 1em; border: 3px black solid; border-radius: 1em; background: #f2f2f2\"><div><span style=\"display: inline-block; border: 1px black solid; padding: 0.25em; border-radius: 0.125em; margin-right: 1em; background: #e0e0e0\">Bug</span></div><h3><a href=\"https://trello.com/c/vJExfFvY/145-adding-picture-to-a-list-makes-text-disappear-text-plugin\">Adding picture to a list makes text disappear (text plugin)</a> (16.05.2023)</h3></div>"
      ],
      "text/plain": [
       "<IPython.core.display.HTML object>"
      ]
     },
     "metadata": {},
     "output_type": "display_data"
    },
    {
     "data": {
      "text/html": [
       "<div style=\"padding: 1em; border: 3px black solid; border-radius: 1em; background: #f2f2f2\"><div><span style=\"display: inline-block; border: 1px black solid; padding: 0.25em; border-radius: 0.125em; margin-right: 1em; background: #e0e0e0\">Bug</span></div><h3><a href=\"https://trello.com/c/Z36akMeR/125-bug-performance-problems-editor\">Bug: Performance problems editor</a> (15.05.2023)</h3></div>"
      ],
      "text/plain": [
       "<IPython.core.display.HTML object>"
      ]
     },
     "metadata": {},
     "output_type": "display_data"
    },
    {
     "data": {
      "text/html": [
       "<div style=\"padding: 1em; border: 3px black solid; border-radius: 1em; background: #f2f2f2\"><div><span style=\"display: inline-block; border: 1px black solid; padding: 0.25em; border-radius: 0.125em; margin-right: 1em; background: #e0e0e0\">Bug</span></div><h3><a href=\"https://trello.com/c/vnF8wmVF/133-bug-editing-page-not-shown\">Bug: Editing page not shown</a> (15.05.2023)</h3></div>"
      ],
      "text/plain": [
       "<IPython.core.display.HTML object>"
      ]
     },
     "metadata": {},
     "output_type": "display_data"
    },
    {
     "data": {
      "text/html": [
       "<div style=\"padding: 1em; border: 3px black solid; border-radius: 1em; background: #f2f2f2\"><div><span style=\"display: inline-block; border: 1px black solid; padding: 0.25em; border-radius: 0.125em; margin-right: 1em; background: #e0e0e0\">Bug</span></div><h3><a href=\"https://trello.com/c/jJL0edkH/120-bug-short-error-message-404-before-right-page-loads\">Bug: short error message (404) before right page loads</a> (09.05.2023)</h3></div>"
      ],
      "text/plain": [
       "<IPython.core.display.HTML object>"
      ]
     },
     "metadata": {},
     "output_type": "display_data"
    },
    {
     "data": {
      "text/html": [
       "<div style=\"padding: 1em; border: 3px black solid; border-radius: 1em; background: #f2f2f2\"><div><span style=\"display: inline-block; border: 1px black solid; padding: 0.25em; border-radius: 0.125em; margin-right: 1em; background: #e0e0e0\">Bug</span></div><h3><a href=\"https://trello.com/c/fWO8GziJ/134-bug-exercise-answer-disappears-after-clicking-stimmts\">Bug: Exercise answer disappears after clicking \"Stimmt's?\"</a> (08.05.2023)</h3></div>"
      ],
      "text/plain": [
       "<IPython.core.display.HTML object>"
      ]
     },
     "metadata": {},
     "output_type": "display_data"
    },
    {
     "data": {
      "text/html": [
       "<div style=\"padding: 1em; border: 3px black solid; border-radius: 1em; background: #f2f2f2\"><div><span style=\"display: inline-block; border: 1px black solid; padding: 0.25em; border-radius: 0.125em; margin-right: 1em; background: #e0e0e0\">Editor</span><span style=\"display: inline-block; border: 1px black solid; padding: 0.25em; border-radius: 0.125em; margin-right: 1em; background: #e0e0e0\">LENABI M2.9</span><span style=\"display: inline-block; border: 1px black solid; padding: 0.25em; border-radius: 0.125em; margin-right: 1em; background: #e0e0e0\">Feature</span><span style=\"display: inline-block; border: 1px black solid; padding: 0.25em; border-radius: 0.125em; margin-right: 1em; background: #e0e0e0\">M</span></div><h3><a href=\"https://trello.com/c/y14WzhAG/94-plugin-auswahlmen%C3%BC\">Plugin Auswahlmenü</a> (08.05.2023)</h3></div>"
      ],
      "text/plain": [
       "<IPython.core.display.HTML object>"
      ]
     },
     "metadata": {},
     "output_type": "display_data"
    },
    {
     "data": {
      "text/html": [
       "<div style=\"padding: 1em; border: 3px black solid; border-radius: 1em; background: #f2f2f2\"><div><span style=\"display: inline-block; border: 1px black solid; padding: 0.25em; border-radius: 0.125em; margin-right: 1em; background: #e0e0e0\">Bug</span></div><h3><a href=\"https://trello.com/c/xV9ay19c/131-bug-copying-a-part-of-a-formula-not-possible-text-plugin\">Bug: Copying a part of a formula not possible (Text plugin)</a> (08.05.2023)</h3></div>"
      ],
      "text/plain": [
       "<IPython.core.display.HTML object>"
      ]
     },
     "metadata": {},
     "output_type": "display_data"
    },
    {
     "data": {
      "text/html": [
       "<div style=\"padding: 1em; border: 3px black solid; border-radius: 1em; background: #f2f2f2\"><div><span style=\"display: inline-block; border: 1px black solid; padding: 0.25em; border-radius: 0.125em; margin-right: 1em; background: #e0e0e0\">Bug</span></div><h3><a href=\"https://trello.com/c/Qqrd9CUj/121-bug-latex-box-not-fully-visible-half-screen\">Bug: Latex box not fully visible (half screen)</a> (03.05.2023)</h3></div>"
      ],
      "text/plain": [
       "<IPython.core.display.HTML object>"
      ]
     },
     "metadata": {},
     "output_type": "display_data"
    },
    {
     "data": {
      "text/html": [
       "<div style=\"padding: 1em; border: 3px black solid; border-radius: 1em; background: #f2f2f2\"><div><span style=\"display: inline-block; border: 1px black solid; padding: 0.25em; border-radius: 0.125em; margin-right: 1em; background: #e0e0e0\">Editor</span><span style=\"display: inline-block; border: 1px black solid; padding: 0.25em; border-radius: 0.125em; margin-right: 1em; background: #e0e0e0\">LENABI M2.9</span><span style=\"display: inline-block; border: 1px black solid; padding: 0.25em; border-radius: 0.125em; margin-right: 1em; background: #e0e0e0\">Feature</span></div><h3><a href=\"https://trello.com/c/7d1eREVQ/90-auff%C3%A4lliger-hinzuf%C3%BCgen-button\">Auffälliger Hinzufügen Button</a> (03.05.2023)</h3></div>"
      ],
      "text/plain": [
       "<IPython.core.display.HTML object>"
      ]
     },
     "metadata": {},
     "output_type": "display_data"
    },
    {
     "data": {
      "text/markdown": [
       "## 4/2023"
      ],
      "text/plain": [
       "<IPython.core.display.Markdown object>"
      ]
     },
     "metadata": {},
     "output_type": "display_data"
    },
    {
     "data": {
      "text/html": [
       "<div style=\"padding: 1em; border: 3px black solid; border-radius: 1em; background: #f2f2f2\"><div><span style=\"display: inline-block; border: 1px black solid; padding: 0.25em; border-radius: 0.125em; margin-right: 1em; background: #e0e0e0\">Feature</span></div><h3><a href=\"https://trello.com/c/QpHrK69x/108-statistik-korrekt-gel%C3%B6ste-aufgaben\">Statistik: korrekt gelöste Aufgaben</a> (22.04.2023)</h3></div>"
      ],
      "text/plain": [
       "<IPython.core.display.HTML object>"
      ]
     },
     "metadata": {},
     "output_type": "display_data"
    },
    {
     "data": {
      "text/html": [
       "<div style=\"padding: 1em; border: 3px black solid; border-radius: 1em; background: #f2f2f2\"><div><span style=\"display: inline-block; border: 1px black solid; padding: 0.25em; border-radius: 0.125em; margin-right: 1em; background: #e0e0e0\">Feature</span></div><h3><a href=\"https://trello.com/c/k2X0a772/111-a11y-ausreichender-farbkontrast-nach-wcag-aa-spezifikation\">A11Y: Ausreichender Farbkontrast nach WCAG AA-Spezifikation</a> (20.04.2023)</h3></div>"
      ],
      "text/plain": [
       "<IPython.core.display.HTML object>"
      ]
     },
     "metadata": {},
     "output_type": "display_data"
    },
    {
     "data": {
      "text/html": [
       "<div style=\"padding: 1em; border: 3px black solid; border-radius: 1em; background: #f2f2f2\"><div><span style=\"display: inline-block; border: 1px black solid; padding: 0.25em; border-radius: 0.125em; margin-right: 1em; background: #e0e0e0\">Editor</span><span style=\"display: inline-block; border: 1px black solid; padding: 0.25em; border-radius: 0.125em; margin-right: 1em; background: #e0e0e0\">LENABI M2.9</span><span style=\"display: inline-block; border: 1px black solid; padding: 0.25em; border-radius: 0.125em; margin-right: 1em; background: #e0e0e0\">Feature</span></div><h3><a href=\"https://trello.com/c/ZYLCKgNQ/93-plugin-icons-on-hover\">Plugin Icons on Hover</a> (20.04.2023)</h3></div>"
      ],
      "text/plain": [
       "<IPython.core.display.HTML object>"
      ]
     },
     "metadata": {},
     "output_type": "display_data"
    },
    {
     "data": {
      "text/html": [
       "<div style=\"padding: 1em; border: 3px black solid; border-radius: 1em; background: #f2f2f2\"><div><span style=\"display: inline-block; border: 1px black solid; padding: 0.25em; border-radius: 0.125em; margin-right: 1em; background: #e0e0e0\">Dev</span><span style=\"display: inline-block; border: 1px black solid; padding: 0.25em; border-radius: 0.125em; margin-right: 1em; background: #e0e0e0\">Editor</span></div><h3><a href=\"https://trello.com/c/2dL76u8l/61-wichtiges-software-update-f%C3%BCr-editor-slate-deployment-blocker-f%C3%BCr-ux-arbeit\">Wichtiges Software-Update für Editor: Slate + Deployment (Blocker für UX Arbeit)</a> (20.04.2023)</h3></div>"
      ],
      "text/plain": [
       "<IPython.core.display.HTML object>"
      ]
     },
     "metadata": {},
     "output_type": "display_data"
    },
    {
     "data": {
      "text/html": [
       "<div style=\"padding: 1em; border: 3px black solid; border-radius: 1em; background: #f2f2f2\"><div><span style=\"display: inline-block; border: 1px black solid; padding: 0.25em; border-radius: 0.125em; margin-right: 1em; background: #e0e0e0\">LENABI-Feature: Kommentarsystem</span><span style=\"display: inline-block; border: 1px black solid; padding: 0.25em; border-radius: 0.125em; margin-right: 1em; background: #e0e0e0\">LENABI AP 3: Tools zur Qualitätssicherung</span><span style=\"display: inline-block; border: 1px black solid; padding: 0.25em; border-radius: 0.125em; margin-right: 1em; background: #e0e0e0\">Dev</span></div><h3><a href=\"https://trello.com/c/32leX4mL/4-technische-planung-task-kommentarsystem\">Technische Planung Task-/Kommentarsystem</a> (13.04.2023)</h3></div>"
      ],
      "text/plain": [
       "<IPython.core.display.HTML object>"
      ]
     },
     "metadata": {},
     "output_type": "display_data"
    },
    {
     "data": {
      "text/markdown": [
       "## 3/2023"
      ],
      "text/plain": [
       "<IPython.core.display.Markdown object>"
      ]
     },
     "metadata": {},
     "output_type": "display_data"
    },
    {
     "data": {
      "text/html": [
       "<div style=\"padding: 1em; border: 3px black solid; border-radius: 1em; background: #f2f2f2\"><h3><a href=\"https://trello.com/c/jlaISWly/103-karten-werden-nach-14-tagen-automatisch-archiviert\">Karten werden nach 14 Tagen automatisch archiviert</a> (23.03.2023)</h3></div>"
      ],
      "text/plain": [
       "<IPython.core.display.HTML object>"
      ]
     },
     "metadata": {},
     "output_type": "display_data"
    },
    {
     "data": {
      "text/html": [
       "<div style=\"padding: 1em; border: 3px black solid; border-radius: 1em; background: #f2f2f2\"><div><span style=\"display: inline-block; border: 1px black solid; padding: 0.25em; border-radius: 0.125em; margin-right: 1em; background: #e0e0e0\">LENABI AP 2: Editor</span><span style=\"display: inline-block; border: 1px black solid; padding: 0.25em; border-radius: 0.125em; margin-right: 1em; background: #e0e0e0\">Editor</span><span style=\"display: inline-block; border: 1px black solid; padding: 0.25em; border-radius: 0.125em; margin-right: 1em; background: #e0e0e0\">LENABI M2.9</span><span style=\"display: inline-block; border: 1px black solid; padding: 0.25em; border-radius: 0.125em; margin-right: 1em; background: #e0e0e0\">Feature</span></div><h3><a href=\"https://trello.com/c/J1oT90Hv/36-m29-verbesserungen-an-der-ux-ui-des-editors-sind-live-mindestens-8-bestehende-lerninhalte-verbessert\">M2.9 Verbesserungen an der UX/UI des Editors sind live (mindestens 8 bestehende Lerninhalte verbessert)</a> (20.03.2023)</h3></div>"
      ],
      "text/plain": [
       "<IPython.core.display.HTML object>"
      ]
     },
     "metadata": {},
     "output_type": "display_data"
    },
    {
     "data": {
      "text/html": [
       "<div style=\"padding: 1em; border: 3px black solid; border-radius: 1em; background: #f2f2f2\"><div><span style=\"display: inline-block; border: 1px black solid; padding: 0.25em; border-radius: 0.125em; margin-right: 1em; background: #e0e0e0\">LENABI M2.15</span><span style=\"display: inline-block; border: 1px black solid; padding: 0.25em; border-radius: 0.125em; margin-right: 1em; background: #e0e0e0\">LENABI AP 2: Editor</span><span style=\"display: inline-block; border: 1px black solid; padding: 0.25em; border-radius: 0.125em; margin-right: 1em; background: #e0e0e0\">Editor</span><span style=\"display: inline-block; border: 1px black solid; padding: 0.25em; border-radius: 0.125em; margin-right: 1em; background: #e0e0e0\">Feature</span></div><h3><a href=\"https://trello.com/c/dGDogSyM/64-integration-of-h5p-via-lumi-to-serloorg\">Integration of H5P via lumi to serlo.org</a> (20.03.2023)</h3></div>"
      ],
      "text/plain": [
       "<IPython.core.display.HTML object>"
      ]
     },
     "metadata": {},
     "output_type": "display_data"
    },
    {
     "data": {
      "text/html": [
       "<div style=\"padding: 1em; border: 3px black solid; border-radius: 1em; background: #f2f2f2\"><div><span style=\"display: inline-block; border: 1px black solid; padding: 0.25em; border-radius: 0.125em; margin-right: 1em; background: #e0e0e0\">Editor</span><span style=\"display: inline-block; border: 1px black solid; padding: 0.25em; border-radius: 0.125em; margin-right: 1em; background: #e0e0e0\">Mini-Feature</span></div><h3><a href=\"https://trello.com/c/Kraj6IKp/85-ux-reorder-editor-plugins\">UX: Reorder Editor Plugins</a> (06.03.2023)</h3></div>"
      ],
      "text/plain": [
       "<IPython.core.display.HTML object>"
      ]
     },
     "metadata": {},
     "output_type": "display_data"
    },
    {
     "data": {
      "text/html": [
       "<div style=\"padding: 1em; border: 3px black solid; border-radius: 1em; background: #f2f2f2\"><div><span style=\"display: inline-block; border: 1px black solid; padding: 0.25em; border-radius: 0.125em; margin-right: 1em; background: #e0e0e0\">Editor</span><span style=\"display: inline-block; border: 1px black solid; padding: 0.25em; border-radius: 0.125em; margin-right: 1em; background: #e0e0e0\">Feature</span></div><h3><a href=\"https://trello.com/c/xywVhqwS/28-pr%C3%A4sentations-website-f%C3%BCr-serlo-editor\">Präsentations-Website für Serlo-Editor</a> (06.03.2023)</h3></div>"
      ],
      "text/plain": [
       "<IPython.core.display.HTML object>"
      ]
     },
     "metadata": {},
     "output_type": "display_data"
    },
    {
     "data": {
      "text/html": [
       "<div style=\"padding: 1em; border: 3px black solid; border-radius: 1em; background: #f2f2f2\"><div><span style=\"display: inline-block; border: 1px black solid; padding: 0.25em; border-radius: 0.125em; margin-right: 1em; background: #e0e0e0\">Feature</span></div><h3><a href=\"https://trello.com/c/HAv8q9oY/65-abfrage-des-userhintergrunds-bei-der-registrierung\">Abfrage des Userhintergrunds bei der Registrierung</a> (04.03.2023)</h3></div>"
      ],
      "text/plain": [
       "<IPython.core.display.HTML object>"
      ]
     },
     "metadata": {},
     "output_type": "display_data"
    },
    {
     "data": {
      "text/html": [
       "<div style=\"padding: 1em; border: 3px black solid; border-radius: 1em; background: #f2f2f2\"><div><span style=\"display: inline-block; border: 1px black solid; padding: 0.25em; border-radius: 0.125em; margin-right: 1em; background: #e0e0e0\">LENABI-Feature: Kommentarsystem</span><span style=\"display: inline-block; border: 1px black solid; padding: 0.25em; border-radius: 0.125em; margin-right: 1em; background: #e0e0e0\">LENABI AP 3: Tools zur Qualitätssicherung</span></div><h3><a href=\"https://trello.com/c/lXN1rdTh/66-kommentare-nachbearbeiten\">Kommentare nachbearbeiten</a> (04.03.2023)</h3></div>"
      ],
      "text/plain": [
       "<IPython.core.display.HTML object>"
      ]
     },
     "metadata": {},
     "output_type": "display_data"
    },
    {
     "data": {
      "text/html": [
       "<div style=\"padding: 1em; border: 3px black solid; border-radius: 1em; background: #f2f2f2\"><div><span style=\"display: inline-block; border: 1px black solid; padding: 0.25em; border-radius: 0.125em; margin-right: 1em; background: #e0e0e0\">Mini-Feature</span></div><h3><a href=\"https://trello.com/c/YnZys6UB/84-chancenwerkbereich-erstellen\">Chancenwerkbereich erstellen</a> (03.03.2023)</h3></div>"
      ],
      "text/plain": [
       "<IPython.core.display.HTML object>"
      ]
     },
     "metadata": {},
     "output_type": "display_data"
    },
    {
     "data": {
      "text/markdown": [
       "## 2/2023"
      ],
      "text/plain": [
       "<IPython.core.display.Markdown object>"
      ]
     },
     "metadata": {},
     "output_type": "display_data"
    },
    {
     "data": {
      "text/html": [
       "<div style=\"padding: 1em; border: 3px black solid; border-radius: 1em; background: #f2f2f2\"><div><span style=\"display: inline-block; border: 1px black solid; padding: 0.25em; border-radius: 0.125em; margin-right: 1em; background: #e0e0e0\">Editor</span><span style=\"display: inline-block; border: 1px black solid; padding: 0.25em; border-radius: 0.125em; margin-right: 1em; background: #e0e0e0\">LENABI AP 2: Editor</span></div><h3><a href=\"https://trello.com/c/i6qArflE/29-m21-austauschformat-f%C3%BCr-serlo-editor\">M2.1 Austauschformat für Serlo-Editor</a> (23.02.2023)</h3></div>"
      ],
      "text/plain": [
       "<IPython.core.display.HTML object>"
      ]
     },
     "metadata": {},
     "output_type": "display_data"
    },
    {
     "data": {
      "text/html": [
       "<div style=\"padding: 1em; border: 3px black solid; border-radius: 1em; background: #f2f2f2\"><div><span style=\"display: inline-block; border: 1px black solid; padding: 0.25em; border-radius: 0.125em; margin-right: 1em; background: #e0e0e0\">Editor</span><span style=\"display: inline-block; border: 1px black solid; padding: 0.25em; border-radius: 0.125em; margin-right: 1em; background: #e0e0e0\">Dev</span></div><h3><a href=\"https://trello.com/c/GDAzEpvM/58-dokumentation-f%C3%BCr-neue-entwickler\">Dokumentation für neue Entwickler</a> (16.02.2023)</h3></div>"
      ],
      "text/plain": [
       "<IPython.core.display.HTML object>"
      ]
     },
     "metadata": {},
     "output_type": "display_data"
    },
    {
     "data": {
      "text/html": [
       "<div style=\"padding: 1em; border: 3px black solid; border-radius: 1em; background: #f2f2f2\"><div><span style=\"display: inline-block; border: 1px black solid; padding: 0.25em; border-radius: 0.125em; margin-right: 1em; background: #e0e0e0\">LENABI AP 2: Editor</span></div><h3><a href=\"https://trello.com/c/HwuFajj7/44-m22-ein-migrationsalgorithmus-f%C3%BCr-das-speicher-und-austauschformat-ist-implementiert-dieser-erm%C3%B6glicht-dass-parallel-neue-lernin\">M2.2 Ein Migrationsalgorithmus für das Speicher- und Austauschformat ist implementiert. (Dieser ermöglicht, dass parallel neue Lerninhalte für den Editor entwickelt werden können und Lerninhalte im Speicher- und Austauschformat standardisiert werden können.)</a> (13.02.2023)</h3></div>"
      ],
      "text/plain": [
       "<IPython.core.display.HTML object>"
      ]
     },
     "metadata": {},
     "output_type": "display_data"
    },
    {
     "data": {
      "text/html": [
       "<div style=\"padding: 1em; border: 3px black solid; border-radius: 1em; background: #f2f2f2\"><div><span style=\"display: inline-block; border: 1px black solid; padding: 0.25em; border-radius: 0.125em; margin-right: 1em; background: #e0e0e0\">Umzug Autor*Innen Features</span></div><h3><a href=\"https://trello.com/c/11vuQnAT/13-umzug-send-e-mails\">Umzug Send E-mails</a> (12.02.2023)</h3></div>"
      ],
      "text/plain": [
       "<IPython.core.display.HTML object>"
      ]
     },
     "metadata": {},
     "output_type": "display_data"
    },
    {
     "data": {
      "text/html": [
       "<div style=\"padding: 1em; border: 3px black solid; border-radius: 1em; background: #f2f2f2\"><div><span style=\"display: inline-block; border: 1px black solid; padding: 0.25em; border-radius: 0.125em; margin-right: 1em; background: #e0e0e0\">Umzug Autor*Innen Features</span></div><h3><a href=\"https://trello.com/c/XhyRVD6U/12-umzug-usermanagement\">Umzug Usermanagement</a> (12.02.2023)</h3></div>"
      ],
      "text/plain": [
       "<IPython.core.display.HTML object>"
      ]
     },
     "metadata": {},
     "output_type": "display_data"
    },
    {
     "data": {
      "text/html": [
       "<div style=\"padding: 1em; border: 3px black solid; border-radius: 1em; background: #f2f2f2\"><h3><a href=\"https://trello.com/c/8QHjJool/26-statistik-f%C3%BCr-die-autorinnenstrategie\">Statistik für die Autor:innenstrategie</a> (09.02.2023)</h3></div>"
      ],
      "text/plain": [
       "<IPython.core.display.HTML object>"
      ]
     },
     "metadata": {},
     "output_type": "display_data"
    },
    {
     "data": {
      "text/html": [
       "<div style=\"padding: 1em; border: 3px black solid; border-radius: 1em; background: #f2f2f2\"><h3><a href=\"https://trello.com/c/FiLJceEl/60-danke-button-danke-mail\">Danke-Button + Danke-Mail</a> (01.02.2023)</h3></div>"
      ],
      "text/plain": [
       "<IPython.core.display.HTML object>"
      ]
     },
     "metadata": {},
     "output_type": "display_data"
    },
    {
     "data": {
      "text/markdown": [
       "## 1/2023"
      ],
      "text/plain": [
       "<IPython.core.display.Markdown object>"
      ]
     },
     "metadata": {},
     "output_type": "display_data"
    },
    {
     "data": {
      "text/html": [
       "<div style=\"padding: 1em; border: 3px black solid; border-radius: 1em; background: #f2f2f2\"><h3><a href=\"https://trello.com/c/k8CtOne7/11-%C3%BCberarbeitung-top-navi-landingpage\">Überarbeitung Top-Navi + Landingpage</a> (09.01.2023)</h3></div>"
      ],
      "text/plain": [
       "<IPython.core.display.HTML object>"
      ]
     },
     "metadata": {},
     "output_type": "display_data"
    },
    {
     "data": {
      "text/markdown": [
       "## 12/2022"
      ],
      "text/plain": [
       "<IPython.core.display.Markdown object>"
      ]
     },
     "metadata": {},
     "output_type": "display_data"
    },
    {
     "data": {
      "text/html": [
       "<div style=\"padding: 1em; border: 3px black solid; border-radius: 1em; background: #f2f2f2\"><h3><a href=\"https://trello.com/c/E95rbxQP/21-verantwortlich-f%C3%BCrs-informieren-des-teams-community-zum-feature-abschluss-feature-entwickelnde\">Verantwortlich fürs Informieren des Teams / Community zum Feature-Abschluss: Feature Entwickelnde</a> (05.12.2022)</h3></div>"
      ],
      "text/plain": [
       "<IPython.core.display.HTML object>"
      ]
     },
     "metadata": {},
     "output_type": "display_data"
    },
    {
     "data": {
      "text/html": [
       "<div style=\"padding: 1em; border: 3px black solid; border-radius: 1em; background: #f2f2f2\"><h3><a href=\"https://trello.com/c/mSqfjrPe/10-mitmach-optionen-f%C3%BCr-nicht-eingeloggte\">Mitmach-Optionen für Nicht-Eingeloggte</a> (01.12.2022)</h3></div>"
      ],
      "text/plain": [
       "<IPython.core.display.HTML object>"
      ]
     },
     "metadata": {},
     "output_type": "display_data"
    }
   ],
   "source": [
    "finished_cards = [card for card in cards if card[\"idList\"] == list_name2list_id[\"Veröffentlicht (kann genutzt werden)\"]]\n",
    "finished_cards = sorted(finished_cards, key=get_last_move_date, reverse=True)\n",
    "grouped_cards = dict()\n",
    "\n",
    "for card in finished_cards:\n",
    "    finished_date = pd.to_datetime(get_last_move_date(card))\n",
    "    \n",
    "    key = f\"{finished_date.month}/{finished_date.year}\"\n",
    "    \n",
    "    if key not in grouped_cards:\n",
    "        grouped_cards[key] = []\n",
    "    \n",
    "    grouped_cards[key].append(card)\n",
    "\n",
    "for name, cards_of_this_month in grouped_cards.items():\n",
    "    display(Markdown(f\"## {name}\"))\n",
    "    \n",
    "    for card in cards_of_this_month:\n",
    "        print_card(card, display_time=False)"
   ]
  }
 ],
 "metadata": {
  "kernelspec": {
   "display_name": "Python 3",
   "language": "python",
   "name": "python3"
  },
  "language_info": {
   "codemirror_mode": {
    "name": "ipython",
    "version": 3
   },
   "file_extension": ".py",
   "mimetype": "text/x-python",
   "name": "python",
   "nbconvert_exporter": "python",
   "pygments_lexer": "ipython3",
   "version": "3.9.1"
  }
 },
 "nbformat": 4,
 "nbformat_minor": 5
}
