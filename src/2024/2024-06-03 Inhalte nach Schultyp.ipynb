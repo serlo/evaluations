{
 "cells": [
  {
   "cell_type": "code",
   "execution_count": 1,
   "id": "5deab5d9",
   "metadata": {},
   "outputs": [],
   "source": [
    "# Welchen Anteil am Gesamtserlo Content nimmt Real/Mittelschule ggü. Gymansium ein?\n",
    "# Und gibt es weitere Kategorisierungen, nach denen wir unseren Content analysieren können?\n",
    "\n",
    "%run 'get_all_entities_from_taxonomy_tree.ipynb'"
   ]
  },
  {
   "cell_type": "code",
   "execution_count": 2,
   "id": "3811127f",
   "metadata": {},
   "outputs": [
    {
     "data": {
      "text/markdown": [
       "\n",
       "### Wir haben insgesamt 9616 Inhalte, die auf der Platform live sind.\n",
       "### 8258 sind in deutscher Version\n",
       "### Darunter sind 5525 im Bereich Mathematik\n",
       "\n",
       "Anm.:\n",
       "- Als Inhalt verstehen wir nur Entitäten (z.B. Artikel, Kurse), keine Taxonomien (z.B. Aufgabenordner).\n",
       "- Kursseiten werden nicht ausgesondert mitgezählt.\n",
       "\n",
       "### Limitierungen\n",
       "- Wir werden uns nur auf Mathe beschränken, weil es der einzige Bereich auf serlo.org,\n",
       "der nach Schultyp kategorisiert hat.\n",
       "- Wir basieren uns auf [https://de.serlo.org/mathe/16030/deutschland](https://de.serlo.org/mathe/16030/deutschland) \n",
       "und auf[https://de.serlo.org/mathe-pruefungen](https://de.serlo.org/mathe-pruefungen).\n",
       "Es gibt natürlich andere Inhalte, die für bestimmte Schultypen geeignet wären, nur können wir sie nicht einfach\n",
       "kategorisieren.\n"
      ],
      "text/plain": [
       "<IPython.core.display.Markdown object>"
      ]
     },
     "metadata": {},
     "output_type": "display_data"
    }
   ],
   "source": [
    "total_content = len(get_entities_with_taxonomy())\n",
    "total_german = len(get_entities_with_taxonomy(1))\n",
    "\n",
    "MATHE = 5\n",
    "all_math_entities = get_all_entities_from_taxonomy_tree([MATHE])\n",
    "\n",
    "display(\n",
    "    Markdown(\n",
    "        f\"\"\"\n",
    "### Wir haben insgesamt {total_content} Inhalte, die auf der Platform live sind.\n",
    "### {total_german} sind in deutscher Version\n",
    "### Darunter sind {len(all_math_entities)} im Bereich Mathematik\n",
    "\n",
    "Anm.:\n",
    "- Als Inhalt verstehen wir nur Entitäten (z.B. Artikel, Kurse), keine Taxonomien (z.B. Aufgabenordner).\n",
    "- Kursseiten werden nicht ausgesondert mitgezählt.\n",
    "\n",
    "### Limitierungen\n",
    "- Wir werden uns nur auf Mathe beschränken, weil es der einzige Bereich auf serlo.org,\n",
    "der nach Schultyp kategorisiert hat.\n",
    "- Wir basieren uns auf [https://de.serlo.org/mathe/16030/deutschland](https://de.serlo.org/mathe/16030/deutschland) \n",
    "und auf[https://de.serlo.org/mathe-pruefungen](https://de.serlo.org/mathe-pruefungen).\n",
    "Es gibt natürlich andere Inhalte, die für bestimmte Schultypen geeignet wären, nur können wir sie nicht einfach\n",
    "kategorisieren.\n",
    "\"\"\"\n",
    "    )\n",
    ")"
   ]
  },
  {
   "cell_type": "code",
   "execution_count": 3,
   "id": "4f74af0f",
   "metadata": {},
   "outputs": [
    {
     "data": {
      "text/markdown": [
       "\n",
       "### Die folgenden Ordner werden als geeignet für Gymnasium betrachtet:\n"
      ],
      "text/plain": [
       "<IPython.core.display.Markdown object>"
      ]
     },
     "metadata": {},
     "output_type": "display_data"
    },
    {
     "data": {
      "text/markdown": [
       "[https://serlo.org/181782](https://serlo.org/181782)"
      ],
      "text/plain": [
       "<IPython.core.display.Markdown object>"
      ]
     },
     "metadata": {},
     "output_type": "display_data"
    },
    {
     "data": {
      "text/markdown": [
       "[https://serlo.org/16042](https://serlo.org/16042)"
      ],
      "text/plain": [
       "<IPython.core.display.Markdown object>"
      ]
     },
     "metadata": {},
     "output_type": "display_data"
    },
    {
     "data": {
      "text/markdown": [
       "[https://serlo.org/95753](https://serlo.org/95753)"
      ],
      "text/plain": [
       "<IPython.core.display.Markdown object>"
      ]
     },
     "metadata": {},
     "output_type": "display_data"
    },
    {
     "data": {
      "text/markdown": [
       "[https://serlo.org/172042](https://serlo.org/172042)"
      ],
      "text/plain": [
       "<IPython.core.display.Markdown object>"
      ]
     },
     "metadata": {},
     "output_type": "display_data"
    },
    {
     "data": {
      "text/markdown": [
       "[https://serlo.org/97947](https://serlo.org/97947)"
      ],
      "text/plain": [
       "<IPython.core.display.Markdown object>"
      ]
     },
     "metadata": {},
     "output_type": "display_data"
    },
    {
     "data": {
      "text/markdown": [
       "[https://serlo.org/307330](https://serlo.org/307330)"
      ],
      "text/plain": [
       "<IPython.core.display.Markdown object>"
      ]
     },
     "metadata": {},
     "output_type": "display_data"
    },
    {
     "data": {
      "text/markdown": [
       "[https://serlo.org/34199](https://serlo.org/34199)"
      ],
      "text/plain": [
       "<IPython.core.display.Markdown object>"
      ]
     },
     "metadata": {},
     "output_type": "display_data"
    },
    {
     "data": {
      "text/markdown": [
       "[https://serlo.org/34730](https://serlo.org/34730)"
      ],
      "text/plain": [
       "<IPython.core.display.Markdown object>"
      ]
     },
     "metadata": {},
     "output_type": "display_data"
    },
    {
     "data": {
      "text/markdown": [
       "[https://serlo.org/20852](https://serlo.org/20852)"
      ],
      "text/plain": [
       "<IPython.core.display.Markdown object>"
      ]
     },
     "metadata": {},
     "output_type": "display_data"
    },
    {
     "data": {
      "text/markdown": [
       "[https://serlo.org/300778](https://serlo.org/300778)"
      ],
      "text/plain": [
       "<IPython.core.display.Markdown object>"
      ]
     },
     "metadata": {},
     "output_type": "display_data"
    },
    {
     "data": {
      "text/markdown": [
       "[https://serlo.org/297606](https://serlo.org/297606)"
      ],
      "text/plain": [
       "<IPython.core.display.Markdown object>"
      ]
     },
     "metadata": {},
     "output_type": "display_data"
    },
    {
     "data": {
      "text/markdown": [
       "[https://serlo.org/307335](https://serlo.org/307335)"
      ],
      "text/plain": [
       "<IPython.core.display.Markdown object>"
      ]
     },
     "metadata": {},
     "output_type": "display_data"
    },
    {
     "data": {
      "text/markdown": [
       "\n",
       "### Die folgenden Ordner werden als geeignet für Real-, Mittel- oder Gesamtschule betrachtet:\n"
      ],
      "text/plain": [
       "<IPython.core.display.Markdown object>"
      ]
     },
     "metadata": {},
     "output_type": "display_data"
    },
    {
     "data": {
      "text/markdown": [
       "[https://serlo.org/223308](https://serlo.org/223308)"
      ],
      "text/plain": [
       "<IPython.core.display.Markdown object>"
      ]
     },
     "metadata": {},
     "output_type": "display_data"
    },
    {
     "data": {
      "text/markdown": [
       "[https://serlo.org/16259](https://serlo.org/16259)"
      ],
      "text/plain": [
       "<IPython.core.display.Markdown object>"
      ]
     },
     "metadata": {},
     "output_type": "display_data"
    },
    {
     "data": {
      "text/markdown": [
       "[https://serlo.org/16359](https://serlo.org/16359)"
      ],
      "text/plain": [
       "<IPython.core.display.Markdown object>"
      ]
     },
     "metadata": {},
     "output_type": "display_data"
    },
    {
     "data": {
      "text/markdown": [
       "[https://serlo.org/16157](https://serlo.org/16157)"
      ],
      "text/plain": [
       "<IPython.core.display.Markdown object>"
      ]
     },
     "metadata": {},
     "output_type": "display_data"
    },
    {
     "data": {
      "text/markdown": [
       "[https://serlo.org/305819](https://serlo.org/305819)"
      ],
      "text/plain": [
       "<IPython.core.display.Markdown object>"
      ]
     },
     "metadata": {},
     "output_type": "display_data"
    },
    {
     "data": {
      "text/markdown": [
       "[https://serlo.org/305843](https://serlo.org/305843)"
      ],
      "text/plain": [
       "<IPython.core.display.Markdown object>"
      ]
     },
     "metadata": {},
     "output_type": "display_data"
    },
    {
     "data": {
      "text/markdown": [
       "[https://serlo.org/95751](https://serlo.org/95751)"
      ],
      "text/plain": [
       "<IPython.core.display.Markdown object>"
      ]
     },
     "metadata": {},
     "output_type": "display_data"
    },
    {
     "data": {
      "text/markdown": [
       "[https://serlo.org/97943](https://serlo.org/97943)"
      ],
      "text/plain": [
       "<IPython.core.display.Markdown object>"
      ]
     },
     "metadata": {},
     "output_type": "display_data"
    },
    {
     "data": {
      "text/markdown": [
       "[https://serlo.org/97944](https://serlo.org/97944)"
      ],
      "text/plain": [
       "<IPython.core.display.Markdown object>"
      ]
     },
     "metadata": {},
     "output_type": "display_data"
    },
    {
     "data": {
      "text/markdown": [
       "[https://serlo.org/97945](https://serlo.org/97945)"
      ],
      "text/plain": [
       "<IPython.core.display.Markdown object>"
      ]
     },
     "metadata": {},
     "output_type": "display_data"
    },
    {
     "data": {
      "text/markdown": [
       "[https://serlo.org/97946](https://serlo.org/97946)"
      ],
      "text/plain": [
       "<IPython.core.display.Markdown object>"
      ]
     },
     "metadata": {},
     "output_type": "display_data"
    },
    {
     "data": {
      "text/markdown": [
       "[https://serlo.org/305760](https://serlo.org/305760)"
      ],
      "text/plain": [
       "<IPython.core.display.Markdown object>"
      ]
     },
     "metadata": {},
     "output_type": "display_data"
    },
    {
     "data": {
      "text/markdown": [
       "[https://serlo.org/34201](https://serlo.org/34201)"
      ],
      "text/plain": [
       "<IPython.core.display.Markdown object>"
      ]
     },
     "metadata": {},
     "output_type": "display_data"
    },
    {
     "data": {
      "text/markdown": [
       "[https://serlo.org/75049](https://serlo.org/75049)"
      ],
      "text/plain": [
       "<IPython.core.display.Markdown object>"
      ]
     },
     "metadata": {},
     "output_type": "display_data"
    },
    {
     "data": {
      "text/markdown": [
       "[https://serlo.org/76750](https://serlo.org/76750)"
      ],
      "text/plain": [
       "<IPython.core.display.Markdown object>"
      ]
     },
     "metadata": {},
     "output_type": "display_data"
    },
    {
     "data": {
      "text/markdown": [
       "[https://serlo.org/247427](https://serlo.org/247427)"
      ],
      "text/plain": [
       "<IPython.core.display.Markdown object>"
      ]
     },
     "metadata": {},
     "output_type": "display_data"
    },
    {
     "data": {
      "text/markdown": [
       "[https://serlo.org/297604](https://serlo.org/297604)"
      ],
      "text/plain": [
       "<IPython.core.display.Markdown object>"
      ]
     },
     "metadata": {},
     "output_type": "display_data"
    },
    {
     "data": {
      "text/markdown": [
       "[https://serlo.org/307336](https://serlo.org/307336)"
      ],
      "text/plain": [
       "<IPython.core.display.Markdown object>"
      ]
     },
     "metadata": {},
     "output_type": "display_data"
    },
    {
     "data": {
      "text/markdown": [
       "Diese Ordner werden jetzt durchgesucht."
      ],
      "text/plain": [
       "<IPython.core.display.Markdown object>"
      ]
     },
     "metadata": {},
     "output_type": "display_data"
    }
   ],
   "source": [
    "first_level_gymnasium_taxonomies = [\n",
    "    181782,\n",
    "    16042,\n",
    "    95753,\n",
    "    172042,\n",
    "    97947,\n",
    "    307330,\n",
    "    34199,\n",
    "    34730,\n",
    "    20852,\n",
    "    300778,\n",
    "    297606,\n",
    "    307335\n",
    "]\n",
    "\n",
    "display(\n",
    "    Markdown(\n",
    "        f\"\"\"\n",
    "### Die folgenden Ordner werden als geeignet für Gymnasium betrachtet:\n",
    "\"\"\"\n",
    "    )\n",
    ")\n",
    "for g in first_level_gymnasium_taxonomies:\n",
    "    display(Markdown(f\"[https://serlo.org/{g}](https://serlo.org/{g})\"))\n",
    "\n",
    "first_level_realmittel_taxonomies = [\n",
    "    223308,\n",
    "    16259,\n",
    "    16359,\n",
    "    16157,\n",
    "    305819,\n",
    "    305843,\n",
    "    95751,\n",
    "    97943,\n",
    "    97944,\n",
    "    97945,\n",
    "    97946,\n",
    "    305760,\n",
    "    34201,\n",
    "    75049,\n",
    "    76750,\n",
    "    247427,\n",
    "    297604,\n",
    "    307336\n",
    "]\n",
    "\n",
    "display(\n",
    "    Markdown(\n",
    "        f\"\"\"\n",
    "### Die folgenden Ordner werden als geeignet für Real-, Mittel- oder Gesamtschule betrachtet:\n",
    "\"\"\"\n",
    "    )\n",
    ")\n",
    "for r in first_level_realmittel_taxonomies:\n",
    "    display(Markdown(f\"[https://serlo.org/{r}](https://serlo.org/{r})\"))\n",
    "\n",
    "display(Markdown(\"Diese Ordner werden jetzt durchgesucht.\"))"
   ]
  },
  {
   "cell_type": "code",
   "execution_count": 4,
   "id": "3b95648c",
   "metadata": {},
   "outputs": [
    {
     "data": {
      "text/markdown": [
       "\n",
       "### Ergebnis\n",
       "1617 Inhalte sind für Gymnasium geeignet.  \n",
       "2603 Inhalte sind für Real-, Mittel- und Gesamtschule geeignet.\n"
      ],
      "text/plain": [
       "<IPython.core.display.Markdown object>"
      ]
     },
     "metadata": {},
     "output_type": "display_data"
    }
   ],
   "source": [
    "# IMPORTANT: for some reason (maybe the cursor gets crazy)\n",
    "# the result of get_all_entities_from_taxonomy_tree seems to be cached.\n",
    "# That's why we rerun it\n",
    "%run 'get_all_entities_from_taxonomy_tree.ipynb'\n",
    "\n",
    "all_gymnasium_entities = get_all_entities_from_taxonomy_tree(\n",
    "    first_level_gymnasium_taxonomies\n",
    ")\n",
    "\n",
    "%run 'get_all_entities_from_taxonomy_tree.ipynb'\n",
    "\n",
    "all_realmittel_entities = get_all_entities_from_taxonomy_tree(\n",
    "    first_level_realmittel_taxonomies\n",
    ")\n",
    "\n",
    "\n",
    "display(\n",
    "    Markdown(\n",
    "        f\"\"\"\n",
    "### Ergebnis\n",
    "{len(all_gymnasium_entities)} Inhalte sind für Gymnasium geeignet.  \n",
    "{len(all_realmittel_entities)} Inhalte sind für Real-, Mittel- und Gesamtschule geeignet.\n",
    "\"\"\"\n",
    "    )\n",
    ")"
   ]
  },
  {
   "cell_type": "code",
   "execution_count": 5,
   "id": "7ceb3761",
   "metadata": {},
   "outputs": [
    {
     "data": {
      "text/markdown": [
       "\n",
       "717 Inhalte sind für alle Schultypen geeignet.  \n"
      ],
      "text/plain": [
       "<IPython.core.display.Markdown object>"
      ]
     },
     "metadata": {},
     "output_type": "display_data"
    }
   ],
   "source": [
    "from collections import Counter\n",
    "\n",
    "repeated = list(\n",
    "    (Counter(all_realmittel_entities) & Counter(all_gymnasium_entities)).elements()\n",
    ")\n",
    "\n",
    "display(\n",
    "    Markdown(\n",
    "        f\"\"\"\n",
    "{len(repeated)} Inhalte sind für alle Schultypen geeignet.  \n",
    "\"\"\"\n",
    "    )\n",
    ")"
   ]
  }
 ],
 "metadata": {
  "kernelspec": {
   "display_name": "Python 3 (ipykernel)",
   "language": "python",
   "name": "python3"
  },
  "language_info": {
   "codemirror_mode": {
    "name": "ipython",
    "version": 3
   },
   "file_extension": ".py",
   "mimetype": "text/x-python",
   "name": "python",
   "nbconvert_exporter": "python",
   "pygments_lexer": "ipython3",
   "version": "3.8.10"
  }
 },
 "nbformat": 4,
 "nbformat_minor": 5
}
