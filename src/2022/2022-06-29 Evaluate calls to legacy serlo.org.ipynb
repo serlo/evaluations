{
 "cells": [
  {
   "cell_type": "code",
   "execution_count": 5,
   "id": "amateur-foundation",
   "metadata": {},
   "outputs": [
    {
     "data": {
      "text/plain": [
       "[{'browser_name': 'Samsung Internet',\n",
       "  'browser_version': '16',\n",
       "  'datapoint': 'legacy_serlo_org',\n",
       "  'device_type': 'mobile',\n",
       "  'document_referrer': None,\n",
       "  'hostname': 'de.serlo.org',\n",
       "  'hostname_original': None,\n",
       "  'is_robot': False,\n",
       "  'os_name': 'Android',\n",
       "  'os_version': '11',\n",
       "  'path': '/abcAlpha -App: Deutsch-Trainer A1Zehn Kapitel mit Wortschatz',\n",
       "  'user_agent': 'Mozilla/5.0 (Linux; Android 11; SAMSUNG SM-A515F) AppleWebKit/537.36 (KHTML, like Gecko) SamsungBrowser/16.2 Chrome/92.0.0.0 Mobile Safari/537.36'},\n",
       " {'browser_name': 'Google Chrome',\n",
       "  'browser_version': '102',\n",
       "  'datapoint': 'legacy_serlo_org',\n",
       "  'device_type': 'desktop',\n",
       "  'document_referrer': 'http://de.serlo.org/',\n",
       "  'hostname': 'de.serlo.org',\n",
       "  'hostname_original': None,\n",
       "  'is_robot': False,\n",
       "  'os_name': None,\n",
       "  'os_version': None,\n",
       "  'path': '/auth/hydra/login',\n",
       "  'user_agent': 'Mozilla/5.0 (Windows NT 10.0; Win64; x64) AppleWebKit/537.36 (KHTML, like Gecko) Chrome/102.0.0.0 Safari/537.36'}]"
      ]
     },
     "execution_count": 5,
     "metadata": {},
     "output_type": "execute_result"
    }
   ],
   "source": [
    "import json\n",
    "\n",
    "sa_file = \"/tmp/2022-06-29_de_serlo.org_events.ndjson\"\n",
    "events = []\n",
    "\n",
    "for line in open(sa_file, \"r\").readlines():    \n",
    "    event = json.loads(line)\n",
    "    \n",
    "    if event[\"datapoint\"] == \"legacy_serlo_org\":\n",
    "        events.append(event)\n",
    "\n",
    "events[0:2]"
   ]
  },
  {
   "cell_type": "code",
   "execution_count": 40,
   "id": "victorian-simpson",
   "metadata": {
    "scrolled": false
   },
   "outputs": [
    {
     "name": "stdout",
     "output_type": "stream",
     "text": [
      "49 path are not catched by the above blacklist / known paths:\n"
     ]
    },
    {
     "data": {
      "text/plain": [
       "['/https://de.serlo.org/mathe/geometrie/analytische-geometrie/abstaende-winkel/abstaende/abstand-zweier-punkte-berechnen',\n",
       " '/authorization/forbidden',\n",
       " '/auth/logout',\n",
       " '/entity/link/order/70975/link',\n",
       " '/abcAlpha -App: Deutsch-Trainer A1Zehn Kapitel mit Wortschatz',\n",
       " '/',\n",
       " '/api/pdf/226928',\n",
       " '/api/pdf/62627',\n",
       " '/math/26410aufgaben-zur-bestimmung-von-nullstellen',\n",
       " '/community -> Hilfe zur Bearbeitung -> Richtlinien für Inhalte',\n",
       " '/gemischteaufgabenzugleichungen',\n",
       " '/https://de.serlo.org/mathe/geometrie/raeumliche-figuren/wichtige-grundkoerper/quader',\n",
       " '/biohttps://studyflix.de/biologie/verdauungsorgane-3106logie/64745/verdauung-des-menschen',\n",
       " '/ mathe/ 1555/ Zylinder',\n",
       " '/de.serlo.org/user/profile/leogato',\n",
       " '/gemischte-Aufgaben-zu-Gleichungen',\n",
       " '/auth/password/restore/c5b52472',\n",
       " '/community/blog-beiträge-(archiv)/2014-06-29-förderung-hans-sauer-stiftung-',\n",
       " '/mitmachen',\n",
       " '/https://de.serlo.org/chemie/reaktionen/arten-reaktionen/oxidation-reduktion/redoxreaktion/redox-reaktion',\n",
       " '/paedagogik',\n",
       " '/user/kathongi',\n",
       " '/aufgaben-zur-multiplikation-von-brüchen',\n",
       " '/https://de.serlo.org/chemie/reaktionen/arten-reaktionen/oxidation-reduktion/oxidationzahl/bestimmen-oxidationszahlen',\n",
       " '/sinus-kosinus-tangens',\n",
       " '/pages',\n",
       " '/paedaogik',\n",
       " '/user/register',\n",
       " '/deutsch',\n",
       " '/api/pdf/58496',\n",
       " '/page/revision/228631',\n",
       " '/|2215',\n",
       " '/tema',\n",
       " '/aufgaben',\n",
       " '/hugobt',\n",
       " '/auth/login',\n",
       " '/authorization/roles',\n",
       " '/community/91688/91688',\n",
       " '/mahte',\n",
       " '/learningapp.org',\n",
       " '/page/revision/revisions/19767',\n",
       " '/entity/repository/history/237944',\n",
       " '/Siemens',\n",
       " '/search',\n",
       " '/https://de.serlo.org/106835/uebersicht',\n",
       " '/navigation/manage',\n",
       " '/math',\n",
       " '/authorization/role/user/add/11',\n",
       " '/user/321']"
      ]
     },
     "execution_count": 40,
     "metadata": {},
     "output_type": "execute_result"
    }
   ],
   "source": [
    "import re\n",
    "\n",
    "known_legacy_paths = {\n",
    "    \"user_management\": {\n",
    "        \"login via hydra\": \"/auth/hydra/login\",\n",
    "        \"restore password\": \"/auth/password/restore\",\n",
    "        \"change password\": \"/auth/password/change\",\n",
    "        \"logout\": \"/auth/hydra/logout\",\n",
    "        \"activate account\": \"/auth/activate\",\n",
    "        \"show a role (add user to role)\": re.compile(\"/authorization/role/show/\\d+\")\n",
    "    },\n",
    "    \"static pages\": {\n",
    "        \"add revision\": re.compile(\"/page/revision/create/.*\"),\n",
    "        \"add revision with markdown editor\": re.compile(\"/page/revision/create-old/.*\"),\n",
    "    },\n",
    "    \"taxonomy\": {\n",
    "        \"update taxonomy term\": re.compile(\"/taxonomy/term/update/.*\"),\n",
    "        \"create new taxonomy term\": re.compile(\"/taxonomy/term/create/.*\"),\n",
    "        \"organize taxonomy term children\": re.compile(\"/taxonomy/term/organize/.*\"),\n",
    "        \"organize entity children\": re.compile(\"/taxonomy/term/sort/entities/.*\")\n",
    "    },\n",
    "    \"entity\": {\n",
    "        \"add revision\": re.compile(\"/entity/repository/add-revision.*\")\n",
    "    },\n",
    "    \"misc\": {\n",
    "        \"discussion redirect\": re.compile(\"/discussion/\\d+\")\n",
    "    }\n",
    "}\n",
    "\n",
    "blacklist = [\n",
    "    re.compile(\"/mathe.*\"),\n",
    "    re.compile(\"/informatik.*\"),\n",
    "    re.compile(\"/nachhaltigkeit.*\"),\n",
    "    re.compile(\"/biologie.*\"),\n",
    "    re.compile(\"/chemie.*\"),\n",
    "    re.compile(\"/blog.*\"),\n",
    "    re.compile(\"/\\d+\"),\n",
    "    re.compile(\"/uploads/.*\"),\n",
    "    re.compile(\"/user/\\d+/.*\")\n",
    "]\n",
    "\n",
    "known_paths = sum((list(k.values()) for k in known_legacy_paths.values()), []) + blacklist\n",
    "kp_string = [k for k in known_paths if isinstance(k, str)]\n",
    "kp_re = [k for k in known_paths if not isinstance(k, str)]\n",
    "\n",
    "def is_known_path(path):\n",
    "    return path in kp_string or any((r.match(path) for r in kp_re))\n",
    "\n",
    "paths = [e[\"path\"] for e in events]\n",
    "paths = set((p for p in paths if not is_known_path(p)))\n",
    "\n",
    "print(\"%s path are not catched by the above blacklist / known paths:\" % len(paths))\n",
    "list(paths)"
   ]
  }
 ],
 "metadata": {
  "kernelspec": {
   "display_name": "Python 3",
   "language": "python",
   "name": "python3"
  },
  "language_info": {
   "codemirror_mode": {
    "name": "ipython",
    "version": 3
   },
   "file_extension": ".py",
   "mimetype": "text/x-python",
   "name": "python",
   "nbconvert_exporter": "python",
   "pygments_lexer": "ipython3",
   "version": "3.9.1"
  }
 },
 "nbformat": 4,
 "nbformat_minor": 5
}
