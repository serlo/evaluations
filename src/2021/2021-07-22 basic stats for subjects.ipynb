{
 "cells": [
  {
   "cell_type": "code",
   "execution_count": 1,
   "id": "a4340931",
   "metadata": {},
   "outputs": [
    {
     "name": "stderr",
     "output_type": "stream",
     "text": [
      "/Users/cj/.asdf/installs/python/3.9.1/lib/python3.9/site-packages/pandas/compat/__init__.py:109: UserWarning: Could not import the lzma module. Your installed Python is incomplete. Attempting to use lzma compression will result in a RuntimeError.\n",
      "  warnings.warn(msg)\n"
     ]
    }
   ],
   "source": [
    "import pandas as pd\n",
    "import mysql.connector\n",
    "\n",
    "from IPython.display import display, Markdown, HTML\n",
    "\n",
    "db = mysql.connector.connect(\n",
    "    host=\"localhost\",\n",
    "    user=\"root\",\n",
    "    password=\"secret\",\n",
    "    port=\"3306\",\n",
    "    database=\"serlo\"\n",
    ")"
   ]
  },
  {
   "cell_type": "code",
   "execution_count": 2,
   "id": "be257c26",
   "metadata": {},
   "outputs": [],
   "source": [
    "def cached(func):\n",
    "    cache = dict()\n",
    "    \n",
    "    def return_func(arg):\n",
    "        if (arg in cache):\n",
    "            return cache[arg]\n",
    "        else:\n",
    "            result = func(arg)\n",
    "            cache[arg] = result\n",
    "            return result\n",
    "    \n",
    "    return return_func\n",
    "\n",
    "def query(sql):\n",
    "    c = db.cursor()\n",
    "    c.execute(sql)\n",
    "    \n",
    "    return c.fetchall()\n",
    "\n",
    "def querySingleton(sql):\n",
    "    return [ x[0] for x in query(sql) ]\n",
    "\n",
    "@cached\n",
    "def getParent(termId):\n",
    "    return querySingleton(\"\"\"\n",
    "        select parent_id from term_taxonomy where id = %s;\n",
    "    \"\"\" % termId)[0]\n",
    "\n",
    "def getTermName(termId):\n",
    "    return querySingleton(\"\"\"\n",
    "        select term.name from term_taxonomy\n",
    "        join term on term.id = term_taxonomy.term_id\n",
    "        where term_taxonomy.id = %s;\n",
    "    \"\"\" % termId)[0]\n",
    "\n",
    "@cached\n",
    "def getSubject(termId):\n",
    "    if int(termId) in [79733, 81317, 20852, 87814, 87827, 85477, 87860, 75049, 76750, 87496, 75678, 91252, 91253]:\n",
    "        return \"Prüfungsbereich Mathematik\"\n",
    "    if int(termId) in [106082]:\n",
    "        return getTermName(termId)\n",
    "    \n",
    "    parent = getParent(termId)\n",
    "    grandparent = getParent(parent)\n",
    "    \n",
    "    if (parent == 106081):\n",
    "        return getTermName(termId)\n",
    "    \n",
    "    return getSubject(parent) if grandparent != None else getTermName(termId)\n",
    "\n",
    "@cached\n",
    "def getSubjectFromUuid(uuid):\n",
    "    taxonomyTerms = querySingleton(f\"\"\"\n",
    "        select term_taxonomy_id from term_taxonomy_entity\n",
    "        where term_taxonomy_entity.entity_id  = {uuid};\n",
    "    \"\"\")\n",
    "    \n",
    "    if len(taxonomyTerms) > 0:\n",
    "        return getSubject(taxonomyTerms[0])\n",
    "\n",
    "    parents = querySingleton(f\"\"\"\n",
    "        select parent_id from entity_link\n",
    "        where entity_link.child_id  = {uuid};\n",
    "    \"\"\")\n",
    "    \n",
    "    if len(parents) > 0:\n",
    "        return getSubjectFromUuid(parents[0])\n",
    "    \n",
    "    return None\n"
   ]
  },
  {
   "cell_type": "code",
   "execution_count": 13,
   "id": "8f615a20",
   "metadata": {},
   "outputs": [
    {
     "data": {
      "text/html": [
       "<div>\n",
       "<style scoped>\n",
       "    .dataframe tbody tr th:only-of-type {\n",
       "        vertical-align: middle;\n",
       "    }\n",
       "\n",
       "    .dataframe tbody tr th {\n",
       "        vertical-align: top;\n",
       "    }\n",
       "\n",
       "    .dataframe thead th {\n",
       "        text-align: right;\n",
       "    }\n",
       "</style>\n",
       "<table border=\"1\" class=\"dataframe\">\n",
       "  <thead>\n",
       "    <tr style=\"text-align: right;\">\n",
       "      <th></th>\n",
       "      <th>actor_id</th>\n",
       "      <th>date</th>\n",
       "      <th>username</th>\n",
       "      <th>uuid</th>\n",
       "      <th>typename</th>\n",
       "      <th>subject</th>\n",
       "    </tr>\n",
       "    <tr>\n",
       "      <th>id</th>\n",
       "      <th></th>\n",
       "      <th></th>\n",
       "      <th></th>\n",
       "      <th></th>\n",
       "      <th></th>\n",
       "      <th></th>\n",
       "    </tr>\n",
       "  </thead>\n",
       "  <tbody>\n",
       "    <tr>\n",
       "      <th>304197</th>\n",
       "      <td>87602</td>\n",
       "      <td>2020-03-20 13:31:20</td>\n",
       "      <td>Karin</td>\n",
       "      <td>2327</td>\n",
       "      <td>text-exercise</td>\n",
       "      <td>Mathe</td>\n",
       "    </tr>\n",
       "    <tr>\n",
       "      <th>295900</th>\n",
       "      <td>73435</td>\n",
       "      <td>2020-02-24 16:15:57</td>\n",
       "      <td>kathongi</td>\n",
       "      <td>2365</td>\n",
       "      <td>text-exercise</td>\n",
       "      <td>Mathe</td>\n",
       "    </tr>\n",
       "    <tr>\n",
       "      <th>369636</th>\n",
       "      <td>191821</td>\n",
       "      <td>2021-01-25 18:57:07</td>\n",
       "      <td>koehlertim</td>\n",
       "      <td>2365</td>\n",
       "      <td>text-exercise</td>\n",
       "      <td>Mathe</td>\n",
       "    </tr>\n",
       "    <tr>\n",
       "      <th>323584</th>\n",
       "      <td>73435</td>\n",
       "      <td>2020-05-19 10:55:35</td>\n",
       "      <td>kathongi</td>\n",
       "      <td>2369</td>\n",
       "      <td>text-exercise</td>\n",
       "      <td>Mathe</td>\n",
       "    </tr>\n",
       "    <tr>\n",
       "      <th>354730</th>\n",
       "      <td>73435</td>\n",
       "      <td>2020-11-02 17:10:24</td>\n",
       "      <td>kathongi</td>\n",
       "      <td>2585</td>\n",
       "      <td>text-exercise</td>\n",
       "      <td>Mathe</td>\n",
       "    </tr>\n",
       "    <tr>\n",
       "      <th>323475</th>\n",
       "      <td>154641</td>\n",
       "      <td>2020-05-18 15:31:22</td>\n",
       "      <td>JulianWR</td>\n",
       "      <td>2589</td>\n",
       "      <td>text-exercise</td>\n",
       "      <td>Mathe</td>\n",
       "    </tr>\n",
       "    <tr>\n",
       "      <th>354986</th>\n",
       "      <td>73435</td>\n",
       "      <td>2020-11-04 10:35:13</td>\n",
       "      <td>kathongi</td>\n",
       "      <td>2593</td>\n",
       "      <td>text-exercise</td>\n",
       "      <td>Mathe</td>\n",
       "    </tr>\n",
       "    <tr>\n",
       "      <th>295904</th>\n",
       "      <td>73435</td>\n",
       "      <td>2020-02-24 16:18:29</td>\n",
       "      <td>kathongi</td>\n",
       "      <td>2823</td>\n",
       "      <td>text-exercise</td>\n",
       "      <td>Mathe</td>\n",
       "    </tr>\n",
       "    <tr>\n",
       "      <th>299517</th>\n",
       "      <td>150960</td>\n",
       "      <td>2020-03-05 12:28:46</td>\n",
       "      <td>pro100met</td>\n",
       "      <td>2845</td>\n",
       "      <td>text-exercise</td>\n",
       "      <td>Mathe</td>\n",
       "    </tr>\n",
       "    <tr>\n",
       "      <th>326497</th>\n",
       "      <td>73435</td>\n",
       "      <td>2020-06-05 11:56:48</td>\n",
       "      <td>kathongi</td>\n",
       "      <td>2867</td>\n",
       "      <td>text-exercise</td>\n",
       "      <td>Mathe</td>\n",
       "    </tr>\n",
       "  </tbody>\n",
       "</table>\n",
       "</div>"
      ],
      "text/plain": [
       "        actor_id                date    username  uuid       typename subject\n",
       "id                                                                           \n",
       "304197     87602 2020-03-20 13:31:20       Karin  2327  text-exercise   Mathe\n",
       "295900     73435 2020-02-24 16:15:57    kathongi  2365  text-exercise   Mathe\n",
       "369636    191821 2021-01-25 18:57:07  koehlertim  2365  text-exercise   Mathe\n",
       "323584     73435 2020-05-19 10:55:35    kathongi  2369  text-exercise   Mathe\n",
       "354730     73435 2020-11-02 17:10:24    kathongi  2585  text-exercise   Mathe\n",
       "323475    154641 2020-05-18 15:31:22    JulianWR  2589  text-exercise   Mathe\n",
       "354986     73435 2020-11-04 10:35:13    kathongi  2593  text-exercise   Mathe\n",
       "295904     73435 2020-02-24 16:18:29    kathongi  2823  text-exercise   Mathe\n",
       "299517    150960 2020-03-05 12:28:46   pro100met  2845  text-exercise   Mathe\n",
       "326497     73435 2020-06-05 11:56:48    kathongi  2867  text-exercise   Mathe"
      ]
     },
     "execution_count": 13,
     "metadata": {},
     "output_type": "execute_result"
    }
   ],
   "source": [
    "def read_event_log():\n",
    "    df = pd.read_sql(\"\"\"\n",
    "        select event_log.id, event_log.actor_id, event_log.date, user.username, event_parameter_uuid.uuid_id, type.name from event_log\n",
    "        join user on user.id = event_log.actor_id\n",
    "        join event_parameter on event_parameter.log_id = event_log.id\n",
    "        join event_parameter_uuid on event_parameter_uuid.event_parameter_id = event_parameter.id\n",
    "        join entity on entity.id = event_parameter_uuid.uuid_id\n",
    "        join type on type.id = entity.type_id\n",
    "        where event_log.event_id = 5\n",
    "        and year(event_log.date) > 2018\n",
    "        and user.username != \"Legacy\"\n",
    "    \"\"\", db)\n",
    "    df.set_index(\"id\", inplace=True)\n",
    "    df.rename(columns={\"uuid_id\": \"uuid\", \"name\": \"typename\"}, inplace=True)\n",
    "    df[\"subject\"] = df[\"uuid\"].map(getSubjectFromUuid)\n",
    "    return df\n",
    "\n",
    "event_log = read_event_log()\n",
    "event_log.head(10)"
   ]
  },
  {
   "cell_type": "code",
   "execution_count": 14,
   "id": "ebd08973",
   "metadata": {},
   "outputs": [],
   "source": [
    "deleted_entity_list = querySingleton(f\"\"\"\n",
    "        SELECT * FROM uuid WHERE discriminator = 'entity' AND trashed = 1;;\n",
    "    \"\"\")"
   ]
  },
  {
   "cell_type": "code",
   "execution_count": 15,
   "id": "0c163f6d",
   "metadata": {},
   "outputs": [
    {
     "data": {
      "text/html": [
       "<div>\n",
       "<style scoped>\n",
       "    .dataframe tbody tr th:only-of-type {\n",
       "        vertical-align: middle;\n",
       "    }\n",
       "\n",
       "    .dataframe tbody tr th {\n",
       "        vertical-align: top;\n",
       "    }\n",
       "\n",
       "    .dataframe thead th {\n",
       "        text-align: right;\n",
       "    }\n",
       "</style>\n",
       "<table border=\"1\" class=\"dataframe\">\n",
       "  <thead>\n",
       "    <tr style=\"text-align: right;\">\n",
       "      <th></th>\n",
       "      <th>actor_id</th>\n",
       "      <th>date</th>\n",
       "      <th>username</th>\n",
       "      <th>uuid</th>\n",
       "      <th>typename</th>\n",
       "      <th>subject</th>\n",
       "    </tr>\n",
       "    <tr>\n",
       "      <th>id</th>\n",
       "      <th></th>\n",
       "      <th></th>\n",
       "      <th></th>\n",
       "      <th></th>\n",
       "      <th></th>\n",
       "      <th></th>\n",
       "    </tr>\n",
       "  </thead>\n",
       "  <tbody>\n",
       "    <tr>\n",
       "      <th>309153</th>\n",
       "      <td>142379</td>\n",
       "      <td>2020-04-03 12:15:28</td>\n",
       "      <td>MarK97</td>\n",
       "      <td>119345</td>\n",
       "      <td>text-exercise</td>\n",
       "      <td>Lerntipps</td>\n",
       "    </tr>\n",
       "    <tr>\n",
       "      <th>309163</th>\n",
       "      <td>142379</td>\n",
       "      <td>2020-04-03 12:16:24</td>\n",
       "      <td>MarK97</td>\n",
       "      <td>119352</td>\n",
       "      <td>text-exercise</td>\n",
       "      <td>Lerntipps</td>\n",
       "    </tr>\n",
       "    <tr>\n",
       "      <th>309185</th>\n",
       "      <td>142379</td>\n",
       "      <td>2020-04-03 12:17:24</td>\n",
       "      <td>MarK97</td>\n",
       "      <td>119437</td>\n",
       "      <td>text-exercise</td>\n",
       "      <td>Lerntipps</td>\n",
       "    </tr>\n",
       "    <tr>\n",
       "      <th>309199</th>\n",
       "      <td>142379</td>\n",
       "      <td>2020-04-03 12:18:26</td>\n",
       "      <td>MarK97</td>\n",
       "      <td>119441</td>\n",
       "      <td>text-exercise</td>\n",
       "      <td>Lerntipps</td>\n",
       "    </tr>\n",
       "    <tr>\n",
       "      <th>255885</th>\n",
       "      <td>116723</td>\n",
       "      <td>2019-01-17 14:28:08</td>\n",
       "      <td>ThomasBrunner</td>\n",
       "      <td>119758</td>\n",
       "      <td>text-exercise</td>\n",
       "      <td>Lerntipps</td>\n",
       "    </tr>\n",
       "  </tbody>\n",
       "</table>\n",
       "</div>"
      ],
      "text/plain": [
       "        actor_id                date       username    uuid       typename  \\\n",
       "id                                                                           \n",
       "309153    142379 2020-04-03 12:15:28         MarK97  119345  text-exercise   \n",
       "309163    142379 2020-04-03 12:16:24         MarK97  119352  text-exercise   \n",
       "309185    142379 2020-04-03 12:17:24         MarK97  119437  text-exercise   \n",
       "309199    142379 2020-04-03 12:18:26         MarK97  119441  text-exercise   \n",
       "255885    116723 2019-01-17 14:28:08  ThomasBrunner  119758  text-exercise   \n",
       "\n",
       "          subject  \n",
       "id                 \n",
       "309153  Lerntipps  \n",
       "309163  Lerntipps  \n",
       "309185  Lerntipps  \n",
       "309199  Lerntipps  \n",
       "255885  Lerntipps  "
      ]
     },
     "execution_count": 15,
     "metadata": {},
     "output_type": "execute_result"
    }
   ],
   "source": [
    "lerntipps_df = event_log[(event_log.subject == \"Lerntipps\")]\n",
    "lerntipps_df.head()"
   ]
  },
  {
   "cell_type": "code",
   "execution_count": 16,
   "id": "8dc58340",
   "metadata": {},
   "outputs": [
    {
     "name": "stdout",
     "output_type": "stream",
     "text": [
      "2021-04-23 14:10:05.431483\n"
     ]
    },
    {
     "data": {
      "text/markdown": [
       "### Aktivitäten in den letzten 90 Tagen"
      ],
      "text/plain": [
       "<IPython.core.display.Markdown object>"
      ]
     },
     "metadata": {},
     "output_type": "display_data"
    }
   ],
   "source": [
    "days=90\n",
    "cutoff_date = pd.Timestamp.today() - pd.Timedelta(days=days)\n",
    "print (cutoff_date)\n",
    "\n",
    "df1 = lerntipps_df[lerntipps_df['date'] > cutoff_date] \n",
    "display(Markdown(f\"### Aktivitäten in den letzten 90 Tagen\"))"
   ]
  },
  {
   "cell_type": "code",
   "execution_count": 17,
   "id": "ff2e60aa",
   "metadata": {
    "scrolled": true
   },
   "outputs": [
    {
     "data": {
      "text/plain": [
       "id\n",
       "404800   2021-05-21 13:06:25\n",
       "399127   2021-05-06 12:29:20\n",
       "392223   2021-04-22 10:11:05\n",
       "391466   2021-04-20 17:12:21\n",
       "391465   2021-04-20 16:59:30\n",
       "391459   2021-04-20 16:53:24\n",
       "391457   2021-04-20 16:51:04\n",
       "391455   2021-04-20 16:50:59\n",
       "388138   2021-04-09 13:43:17\n",
       "377277   2021-03-03 22:25:03\n",
       "Name: date, dtype: datetime64[ns]"
      ]
     },
     "execution_count": 17,
     "metadata": {},
     "output_type": "execute_result"
    }
   ],
   "source": [
    "lerntipps_df.sort_values('date', ascending = False )['date'].head(10)"
   ]
  },
  {
   "cell_type": "code",
   "execution_count": 18,
   "id": "1ca79e2f",
   "metadata": {},
   "outputs": [
    {
     "data": {
      "text/html": [
       "<div>\n",
       "<style scoped>\n",
       "    .dataframe tbody tr th:only-of-type {\n",
       "        vertical-align: middle;\n",
       "    }\n",
       "\n",
       "    .dataframe tbody tr th {\n",
       "        vertical-align: top;\n",
       "    }\n",
       "\n",
       "    .dataframe thead th {\n",
       "        text-align: right;\n",
       "    }\n",
       "</style>\n",
       "<table border=\"1\" class=\"dataframe\">\n",
       "  <thead>\n",
       "    <tr style=\"text-align: right;\">\n",
       "      <th></th>\n",
       "      <th>actor_id</th>\n",
       "      <th>date</th>\n",
       "      <th>username</th>\n",
       "      <th>uuid</th>\n",
       "      <th>typename</th>\n",
       "      <th>subject</th>\n",
       "    </tr>\n",
       "    <tr>\n",
       "      <th>id</th>\n",
       "      <th></th>\n",
       "      <th></th>\n",
       "      <th></th>\n",
       "      <th></th>\n",
       "      <th></th>\n",
       "      <th></th>\n",
       "    </tr>\n",
       "  </thead>\n",
       "  <tbody>\n",
       "    <tr>\n",
       "      <th>419819</th>\n",
       "      <td>196775</td>\n",
       "      <td>2021-07-22 01:15:38</td>\n",
       "      <td>Corinna</td>\n",
       "      <td>214672</td>\n",
       "      <td>article</td>\n",
       "      <td>Nachhaltigkeit</td>\n",
       "    </tr>\n",
       "    <tr>\n",
       "      <th>419818</th>\n",
       "      <td>196775</td>\n",
       "      <td>2021-07-22 00:58:24</td>\n",
       "      <td>Corinna</td>\n",
       "      <td>116795</td>\n",
       "      <td>article</td>\n",
       "      <td>Nachhaltigkeit</td>\n",
       "    </tr>\n",
       "    <tr>\n",
       "      <th>419817</th>\n",
       "      <td>215665</td>\n",
       "      <td>2021-07-21 18:02:12</td>\n",
       "      <td>Carina_Faude</td>\n",
       "      <td>30056</td>\n",
       "      <td>text-solution</td>\n",
       "      <td>Mathe</td>\n",
       "    </tr>\n",
       "    <tr>\n",
       "      <th>419816</th>\n",
       "      <td>215665</td>\n",
       "      <td>2021-07-21 18:02:11</td>\n",
       "      <td>Carina_Faude</td>\n",
       "      <td>30044</td>\n",
       "      <td>text-exercise</td>\n",
       "      <td>Mathe</td>\n",
       "    </tr>\n",
       "    <tr>\n",
       "      <th>419815</th>\n",
       "      <td>215665</td>\n",
       "      <td>2021-07-21 17:30:52</td>\n",
       "      <td>Carina_Faude</td>\n",
       "      <td>220370</td>\n",
       "      <td>article</td>\n",
       "      <td>Deutsch</td>\n",
       "    </tr>\n",
       "    <tr>\n",
       "      <th>419814</th>\n",
       "      <td>211658</td>\n",
       "      <td>2021-07-21 17:17:49</td>\n",
       "      <td>MelMel</td>\n",
       "      <td>215858</td>\n",
       "      <td>text-solution</td>\n",
       "      <td>Prüfungsbereich Mathematik</td>\n",
       "    </tr>\n",
       "    <tr>\n",
       "      <th>419813</th>\n",
       "      <td>196775</td>\n",
       "      <td>2021-07-21 17:16:08</td>\n",
       "      <td>Corinna</td>\n",
       "      <td>203177</td>\n",
       "      <td>article</td>\n",
       "      <td>Nachhaltigkeit</td>\n",
       "    </tr>\n",
       "    <tr>\n",
       "      <th>419809</th>\n",
       "      <td>195449</td>\n",
       "      <td>2021-07-21 17:01:57</td>\n",
       "      <td>Mathes</td>\n",
       "      <td>220367</td>\n",
       "      <td>text-exercise</td>\n",
       "      <td>Sandkasten</td>\n",
       "    </tr>\n",
       "    <tr>\n",
       "      <th>419811</th>\n",
       "      <td>195449</td>\n",
       "      <td>2021-07-21 17:01:57</td>\n",
       "      <td>Mathes</td>\n",
       "      <td>220374</td>\n",
       "      <td>text-solution</td>\n",
       "      <td>Sandkasten</td>\n",
       "    </tr>\n",
       "    <tr>\n",
       "      <th>419798</th>\n",
       "      <td>195449</td>\n",
       "      <td>2021-07-21 16:25:54</td>\n",
       "      <td>Mathes</td>\n",
       "      <td>220365</td>\n",
       "      <td>text-exercise</td>\n",
       "      <td>Sandkasten</td>\n",
       "    </tr>\n",
       "  </tbody>\n",
       "</table>\n",
       "</div>"
      ],
      "text/plain": [
       "        actor_id                date      username    uuid       typename  \\\n",
       "id                                                                          \n",
       "419819    196775 2021-07-22 01:15:38       Corinna  214672        article   \n",
       "419818    196775 2021-07-22 00:58:24       Corinna  116795        article   \n",
       "419817    215665 2021-07-21 18:02:12  Carina_Faude   30056  text-solution   \n",
       "419816    215665 2021-07-21 18:02:11  Carina_Faude   30044  text-exercise   \n",
       "419815    215665 2021-07-21 17:30:52  Carina_Faude  220370        article   \n",
       "419814    211658 2021-07-21 17:17:49        MelMel  215858  text-solution   \n",
       "419813    196775 2021-07-21 17:16:08       Corinna  203177        article   \n",
       "419809    195449 2021-07-21 17:01:57        Mathes  220367  text-exercise   \n",
       "419811    195449 2021-07-21 17:01:57        Mathes  220374  text-solution   \n",
       "419798    195449 2021-07-21 16:25:54        Mathes  220365  text-exercise   \n",
       "\n",
       "                           subject  \n",
       "id                                  \n",
       "419819              Nachhaltigkeit  \n",
       "419818              Nachhaltigkeit  \n",
       "419817                       Mathe  \n",
       "419816                       Mathe  \n",
       "419815                     Deutsch  \n",
       "419814  Prüfungsbereich Mathematik  \n",
       "419813              Nachhaltigkeit  \n",
       "419809                  Sandkasten  \n",
       "419811                  Sandkasten  \n",
       "419798                  Sandkasten  "
      ]
     },
     "execution_count": 18,
     "metadata": {},
     "output_type": "execute_result"
    }
   ],
   "source": [
    "event_log.sort_values('date', ascending = False ).head(10)"
   ]
  },
  {
   "cell_type": "code",
   "execution_count": 23,
   "id": "6ed4510a",
   "metadata": {},
   "outputs": [],
   "source": [
    "unique_entity_list = lerntipps_df['uuid'].unique().tolist()"
   ]
  },
  {
   "cell_type": "code",
   "execution_count": 24,
   "id": "57bbc94e",
   "metadata": {},
   "outputs": [],
   "source": [
    "deleted = set(unique_entity_list) & set(deleted_entity_list)"
   ]
  },
  {
   "cell_type": "code",
   "execution_count": 49,
   "id": "8d8413ac",
   "metadata": {},
   "outputs": [
    {
     "data": {
      "text/plain": [
       "105"
      ]
     },
     "execution_count": 49,
     "metadata": {},
     "output_type": "execute_result"
    }
   ],
   "source": [
    "len(unique_entity_list) - len(deleted)"
   ]
  },
  {
   "cell_type": "code",
   "execution_count": 26,
   "id": "6d810d9b",
   "metadata": {},
   "outputs": [],
   "source": [
    "entity_type_list = lerntipps_df['typename'].unique()"
   ]
  },
  {
   "cell_type": "code",
   "execution_count": 28,
   "id": "9b920a6f",
   "metadata": {},
   "outputs": [
    {
     "data": {
      "text/plain": [
       "array(['text-exercise', 'text-solution', 'article', 'course',\n",
       "       'course-page'], dtype=object)"
      ]
     },
     "execution_count": 28,
     "metadata": {},
     "output_type": "execute_result"
    }
   ],
   "source": [
    "entity_type_list"
   ]
  },
  {
   "cell_type": "code",
   "execution_count": 33,
   "id": "ef11eb98",
   "metadata": {},
   "outputs": [
    {
     "data": {
      "text/html": [
       "<div>\n",
       "<style scoped>\n",
       "    .dataframe tbody tr th:only-of-type {\n",
       "        vertical-align: middle;\n",
       "    }\n",
       "\n",
       "    .dataframe tbody tr th {\n",
       "        vertical-align: top;\n",
       "    }\n",
       "\n",
       "    .dataframe thead th {\n",
       "        text-align: right;\n",
       "    }\n",
       "</style>\n",
       "<table border=\"1\" class=\"dataframe\">\n",
       "  <thead>\n",
       "    <tr style=\"text-align: right;\">\n",
       "      <th></th>\n",
       "      <th>uuid</th>\n",
       "      <th>typename</th>\n",
       "    </tr>\n",
       "    <tr>\n",
       "      <th>id</th>\n",
       "      <th></th>\n",
       "      <th></th>\n",
       "    </tr>\n",
       "  </thead>\n",
       "  <tbody>\n",
       "    <tr>\n",
       "      <th>309153</th>\n",
       "      <td>119345</td>\n",
       "      <td>text-exercise</td>\n",
       "    </tr>\n",
       "    <tr>\n",
       "      <th>309163</th>\n",
       "      <td>119352</td>\n",
       "      <td>text-exercise</td>\n",
       "    </tr>\n",
       "    <tr>\n",
       "      <th>309185</th>\n",
       "      <td>119437</td>\n",
       "      <td>text-exercise</td>\n",
       "    </tr>\n",
       "    <tr>\n",
       "      <th>309199</th>\n",
       "      <td>119441</td>\n",
       "      <td>text-exercise</td>\n",
       "    </tr>\n",
       "    <tr>\n",
       "      <th>255885</th>\n",
       "      <td>119758</td>\n",
       "      <td>text-exercise</td>\n",
       "    </tr>\n",
       "  </tbody>\n",
       "</table>\n",
       "</div>"
      ],
      "text/plain": [
       "          uuid       typename\n",
       "id                           \n",
       "309153  119345  text-exercise\n",
       "309163  119352  text-exercise\n",
       "309185  119437  text-exercise\n",
       "309199  119441  text-exercise\n",
       "255885  119758  text-exercise"
      ]
     },
     "execution_count": 33,
     "metadata": {},
     "output_type": "execute_result"
    }
   ],
   "source": [
    "unique_entity_df = lerntipps_df[['uuid', 'typename']]\n",
    "unique_entity_df.head()"
   ]
  },
  {
   "cell_type": "code",
   "execution_count": 42,
   "id": "07cdd54b",
   "metadata": {},
   "outputs": [],
   "source": [
    "unique_entity_df = unique_entity_df.drop_duplicates(ignore_index = True)\n",
    "unique_entity_df = unique_entity_df[~unique_entity_df['uuid'].isin(deleted)]"
   ]
  },
  {
   "cell_type": "code",
   "execution_count": 48,
   "id": "41c961db",
   "metadata": {},
   "outputs": [
    {
     "data": {
      "text/markdown": [
       "### Gesamte Anzahl der Inhalte"
      ],
      "text/plain": [
       "<IPython.core.display.Markdown object>"
      ]
     },
     "metadata": {},
     "output_type": "display_data"
    },
    {
     "data": {
      "text/plain": [
       "105"
      ]
     },
     "execution_count": 48,
     "metadata": {},
     "output_type": "execute_result"
    }
   ],
   "source": [
    "display(Markdown(f\"### Gesamte Anzahl der Inhalte\"))\n",
    "len(unique_entity_df)"
   ]
  },
  {
   "cell_type": "code",
   "execution_count": 46,
   "id": "61cf1d47",
   "metadata": {},
   "outputs": [
    {
     "data": {
      "text/markdown": [
       "### Typ der Inhalte mit Anzahl"
      ],
      "text/plain": [
       "<IPython.core.display.Markdown object>"
      ]
     },
     "metadata": {},
     "output_type": "display_data"
    },
    {
     "data": {
      "text/html": [
       "<div>\n",
       "<style scoped>\n",
       "    .dataframe tbody tr th:only-of-type {\n",
       "        vertical-align: middle;\n",
       "    }\n",
       "\n",
       "    .dataframe tbody tr th {\n",
       "        vertical-align: top;\n",
       "    }\n",
       "\n",
       "    .dataframe thead th {\n",
       "        text-align: right;\n",
       "    }\n",
       "</style>\n",
       "<table border=\"1\" class=\"dataframe\">\n",
       "  <thead>\n",
       "    <tr style=\"text-align: right;\">\n",
       "      <th></th>\n",
       "      <th>uuid</th>\n",
       "    </tr>\n",
       "    <tr>\n",
       "      <th>typename</th>\n",
       "      <th></th>\n",
       "    </tr>\n",
       "  </thead>\n",
       "  <tbody>\n",
       "    <tr>\n",
       "      <th>article</th>\n",
       "      <td>9</td>\n",
       "    </tr>\n",
       "    <tr>\n",
       "      <th>course</th>\n",
       "      <td>6</td>\n",
       "    </tr>\n",
       "    <tr>\n",
       "      <th>course-page</th>\n",
       "      <td>72</td>\n",
       "    </tr>\n",
       "    <tr>\n",
       "      <th>text-exercise</th>\n",
       "      <td>10</td>\n",
       "    </tr>\n",
       "    <tr>\n",
       "      <th>text-solution</th>\n",
       "      <td>8</td>\n",
       "    </tr>\n",
       "  </tbody>\n",
       "</table>\n",
       "</div>"
      ],
      "text/plain": [
       "               uuid\n",
       "typename           \n",
       "article           9\n",
       "course            6\n",
       "course-page      72\n",
       "text-exercise    10\n",
       "text-solution     8"
      ]
     },
     "execution_count": 46,
     "metadata": {},
     "output_type": "execute_result"
    }
   ],
   "source": [
    "display(Markdown(f\"### Typ der Inhalte mit Anzahl\"))\n",
    "unique_entity_df.groupby('typename').count()"
   ]
  }
 ],
 "metadata": {
  "kernelspec": {
   "display_name": "Python 3 (ipykernel)",
   "language": "python",
   "name": "python3"
  },
  "language_info": {
   "codemirror_mode": {
    "name": "ipython",
    "version": 3
   },
   "file_extension": ".py",
   "mimetype": "text/x-python",
   "name": "python",
   "nbconvert_exporter": "python",
   "pygments_lexer": "ipython3",
   "version": "3.9.1"
  }
 },
 "nbformat": 4,
 "nbformat_minor": 5
}
