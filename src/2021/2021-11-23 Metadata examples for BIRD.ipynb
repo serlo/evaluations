{
 "cells": [
  {
   "cell_type": "markdown",
   "id": "angry-tulsa",
   "metadata": {},
   "source": [
    "# Configurations"
   ]
  },
  {
   "cell_type": "code",
   "execution_count": 37,
   "id": "coastal-offering",
   "metadata": {},
   "outputs": [
    {
     "name": "stdout",
     "output_type": "stream",
     "text": [
      "Token for BIRD:········\n"
     ]
    }
   ],
   "source": [
    "from getpass import getpass\n",
    "\n",
    "token = getpass(\"Token for BIRD:\")\n",
    "\n",
    "# Ids of learning resources of Serlo which shall be exported (will be\n",
    "# all entities in production).\n",
    "entity_ids = [ 1565, 61682, 61688, 40744, 43563, 54749, 177413 ]"
   ]
  },
  {
   "cell_type": "markdown",
   "id": "boxed-listing",
   "metadata": {},
   "source": [
    "# Helper functions"
   ]
  },
  {
   "cell_type": "code",
   "execution_count": 38,
   "id": "included-asian",
   "metadata": {},
   "outputs": [],
   "source": [
    "import mysql.connector\n",
    "\n",
    "from IPython.display import display, Markdown, HTML\n",
    "\n",
    "db = mysql.connector.connect(\n",
    "    host=\"localhost\",\n",
    "    user=\"root\",\n",
    "    password=\"secret\",\n",
    "    port=\"3306\",\n",
    "    database=\"serlo\",\n",
    "    charset=\"latin1\"\n",
    ")\n",
    "\n",
    "def query(sql):\n",
    "    c = db.cursor()\n",
    "    c.execute(sql)\n",
    "    \n",
    "    return c.fetchall()"
   ]
  },
  {
   "cell_type": "markdown",
   "id": "rocky-proof",
   "metadata": {},
   "source": [
    "# Fetching metadata from the DB"
   ]
  },
  {
   "cell_type": "code",
   "execution_count": 50,
   "id": "pediatric-capitol",
   "metadata": {
    "scrolled": false
   },
   "outputs": [
    {
     "data": {
      "text/markdown": [
       "## JSON-LD for https://serlo.org/1565"
      ],
      "text/plain": [
       "<IPython.core.display.Markdown object>"
      ]
     },
     "metadata": {},
     "output_type": "display_data"
    },
    {
     "data": {
      "text/markdown": [
       "```json\n",
       "{\n",
       "  \"@context\": [\n",
       "    \"https://w3id.org/kim/lrmi-profile/draft/context.jsonld\",\n",
       "    {\n",
       "      \"@language\": \"de\"\n",
       "    }\n",
       "  ],\n",
       "  \"id\": \"https://serlo.org/1565\",\n",
       "  \"type\": [\n",
       "    \"LearningResource\",\n",
       "    \"Article\"\n",
       "  ],\n",
       "  \"learningResourceType\": \"Article\",\n",
       "  \"name\": \"Sinus, Kosinus und Tangens\",\n",
       "  \"description\": \"Sinus, Kosinus und Tanges beschreiben die Seitenverh\\u00e4ltnisse in einem rechtwinkligen Dreieck. Hier kannst du lernen wie du Winkel berechnest, sie sind die wichtigsten trigonometrischen Funktionen. Lerne die Begriffe Hypotenuse, Gegenkathete und Ankathete kennen!\",\n",
       "  \"dateCreated\": \"2014-03-01T20:38:24\",\n",
       "  \"dateModified\": \"2021-09-20T14:21:51\",\n",
       "  \"license\": {\n",
       "    \"id\": \"https://creativecommons.org/licenses/by-sa/4.0/deed.de\"\n",
       "  },\n",
       "  \"version\": \"https://serlo.org/225013\",\n",
       "  \"isAccessibleForFree\": true,\n",
       "  \"isFamilyFriendly\": true,\n",
       "  \"publisher\": \"https://serlo.org/\",\n",
       "  \"inLanguage\": \"de\",\n",
       "  \"audience\": [\n",
       "    {\n",
       "      \"id\": \"http://purl.org/dcx/lrmi-vocabs/educationalAudienceRole/student\",\n",
       "      \"prefLabel\": {\n",
       "        \"en\": \"student\",\n",
       "        \"de\": \"Sch\\u00fcler*in\"\n",
       "      },\n",
       "      \"type\": \"Concept\",\n",
       "      \"inScheme\": {\n",
       "        \"id\": \"http://purl.org/dcx/lrmi-vocabs/educationalAudienceRole/\"\n",
       "      }\n",
       "    }\n",
       "  ]\n",
       "}\n",
       "```"
      ],
      "text/plain": [
       "<IPython.core.display.Markdown object>"
      ]
     },
     "metadata": {},
     "output_type": "display_data"
    },
    {
     "data": {
      "text/markdown": [
       "## JSON-LD for https://serlo.org/40744"
      ],
      "text/plain": [
       "<IPython.core.display.Markdown object>"
      ]
     },
     "metadata": {},
     "output_type": "display_data"
    },
    {
     "data": {
      "text/markdown": [
       "```json\n",
       "{\n",
       "  \"@context\": [\n",
       "    \"https://w3id.org/kim/lrmi-profile/draft/context.jsonld\",\n",
       "    {\n",
       "      \"@language\": \"de\"\n",
       "    }\n",
       "  ],\n",
       "  \"id\": \"https://serlo.org/40744\",\n",
       "  \"type\": [\n",
       "    \"LearningResource\",\n",
       "    \"Video\"\n",
       "  ],\n",
       "  \"learningResourceType\": \"Video\",\n",
       "  \"name\": \"Winkel konstruieren\",\n",
       "  \"description\": null,\n",
       "  \"dateCreated\": \"2015-06-02T17:02:08\",\n",
       "  \"dateModified\": \"2020-01-17T13:30:07\",\n",
       "  \"license\": {\n",
       "    \"id\": \"https://creativecommons.org/licenses/by-sa/4.0/deed.de\"\n",
       "  },\n",
       "  \"version\": \"https://serlo.org/149341\",\n",
       "  \"isAccessibleForFree\": true,\n",
       "  \"isFamilyFriendly\": true,\n",
       "  \"publisher\": \"https://serlo.org/\",\n",
       "  \"inLanguage\": \"de\",\n",
       "  \"audience\": [\n",
       "    {\n",
       "      \"id\": \"http://purl.org/dcx/lrmi-vocabs/educationalAudienceRole/student\",\n",
       "      \"prefLabel\": {\n",
       "        \"en\": \"student\",\n",
       "        \"de\": \"Sch\\u00fcler*in\"\n",
       "      },\n",
       "      \"type\": \"Concept\",\n",
       "      \"inScheme\": {\n",
       "        \"id\": \"http://purl.org/dcx/lrmi-vocabs/educationalAudienceRole/\"\n",
       "      }\n",
       "    }\n",
       "  ]\n",
       "}\n",
       "```"
      ],
      "text/plain": [
       "<IPython.core.display.Markdown object>"
      ]
     },
     "metadata": {},
     "output_type": "display_data"
    },
    {
     "data": {
      "text/markdown": [
       "## JSON-LD for https://serlo.org/43563"
      ],
      "text/plain": [
       "<IPython.core.display.Markdown object>"
      ]
     },
     "metadata": {},
     "output_type": "display_data"
    },
    {
     "data": {
      "text/markdown": [
       "```json\n",
       "{\n",
       "  \"@context\": [\n",
       "    \"https://w3id.org/kim/lrmi-profile/draft/context.jsonld\",\n",
       "    {\n",
       "      \"@language\": \"de\"\n",
       "    }\n",
       "  ],\n",
       "  \"id\": \"https://serlo.org/43563\",\n",
       "  \"type\": [\n",
       "    \"LearningResource\",\n",
       "    \"Article\"\n",
       "  ],\n",
       "  \"learningResourceType\": \"Article\",\n",
       "  \"name\": \"Applet: Fl\\u00e4chenberechnung in Abh\\u00e4ngigkeit von x\",\n",
       "  \"description\": null,\n",
       "  \"dateCreated\": \"2015-09-02T14:22:14\",\n",
       "  \"dateModified\": \"2015-09-18T15:45:04\",\n",
       "  \"license\": {\n",
       "    \"id\": \"https://creativecommons.org/licenses/by-sa/4.0/deed.de\"\n",
       "  },\n",
       "  \"version\": \"https://serlo.org/46447\",\n",
       "  \"isAccessibleForFree\": true,\n",
       "  \"isFamilyFriendly\": true,\n",
       "  \"publisher\": \"https://serlo.org/\",\n",
       "  \"inLanguage\": \"de\",\n",
       "  \"audience\": [\n",
       "    {\n",
       "      \"id\": \"http://purl.org/dcx/lrmi-vocabs/educationalAudienceRole/student\",\n",
       "      \"prefLabel\": {\n",
       "        \"en\": \"student\",\n",
       "        \"de\": \"Sch\\u00fcler*in\"\n",
       "      },\n",
       "      \"type\": \"Concept\",\n",
       "      \"inScheme\": {\n",
       "        \"id\": \"http://purl.org/dcx/lrmi-vocabs/educationalAudienceRole/\"\n",
       "      }\n",
       "    }\n",
       "  ]\n",
       "}\n",
       "```"
      ],
      "text/plain": [
       "<IPython.core.display.Markdown object>"
      ]
     },
     "metadata": {},
     "output_type": "display_data"
    },
    {
     "data": {
      "text/markdown": [
       "## JSON-LD for https://serlo.org/54749"
      ],
      "text/plain": [
       "<IPython.core.display.Markdown object>"
      ]
     },
     "metadata": {},
     "output_type": "display_data"
    },
    {
     "data": {
      "text/markdown": [
       "```json\n",
       "{\n",
       "  \"@context\": [\n",
       "    \"https://w3id.org/kim/lrmi-profile/draft/context.jsonld\",\n",
       "    {\n",
       "      \"@language\": \"de\"\n",
       "    }\n",
       "  ],\n",
       "  \"id\": \"https://serlo.org/54749\",\n",
       "  \"type\": [\n",
       "    \"LearningResource\",\n",
       "    \"Quiz\"\n",
       "  ],\n",
       "  \"learningResourceType\": \"Quiz\",\n",
       "  \"name\": null,\n",
       "  \"description\": null,\n",
       "  \"dateCreated\": \"2016-03-18T12:37:02\",\n",
       "  \"dateModified\": \"2020-02-25T14:21:01\",\n",
       "  \"license\": {\n",
       "    \"id\": \"https://creativecommons.org/licenses/by-sa/4.0/deed.de\"\n",
       "  },\n",
       "  \"version\": \"https://serlo.org/152159\",\n",
       "  \"isAccessibleForFree\": true,\n",
       "  \"isFamilyFriendly\": true,\n",
       "  \"publisher\": \"https://serlo.org/\",\n",
       "  \"inLanguage\": \"de\",\n",
       "  \"audience\": [\n",
       "    {\n",
       "      \"id\": \"http://purl.org/dcx/lrmi-vocabs/educationalAudienceRole/student\",\n",
       "      \"prefLabel\": {\n",
       "        \"en\": \"student\",\n",
       "        \"de\": \"Sch\\u00fcler*in\"\n",
       "      },\n",
       "      \"type\": \"Concept\",\n",
       "      \"inScheme\": {\n",
       "        \"id\": \"http://purl.org/dcx/lrmi-vocabs/educationalAudienceRole/\"\n",
       "      }\n",
       "    }\n",
       "  ]\n",
       "}\n",
       "```"
      ],
      "text/plain": [
       "<IPython.core.display.Markdown object>"
      ]
     },
     "metadata": {},
     "output_type": "display_data"
    },
    {
     "data": {
      "text/markdown": [
       "## JSON-LD for https://serlo.org/61682"
      ],
      "text/plain": [
       "<IPython.core.display.Markdown object>"
      ]
     },
     "metadata": {},
     "output_type": "display_data"
    },
    {
     "data": {
      "text/markdown": [
       "```json\n",
       "{\n",
       "  \"@context\": [\n",
       "    \"https://w3id.org/kim/lrmi-profile/draft/context.jsonld\",\n",
       "    {\n",
       "      \"@language\": \"de\"\n",
       "    }\n",
       "  ],\n",
       "  \"id\": \"https://serlo.org/61682\",\n",
       "  \"type\": [\n",
       "    \"LearningResource\",\n",
       "    \"Course\"\n",
       "  ],\n",
       "  \"learningResourceType\": \"Course\",\n",
       "  \"name\": \"Ganze Zahlen\",\n",
       "  \"description\": \"In diesem Kurs lernst du die ganzen Zahlen kennen.\",\n",
       "  \"dateCreated\": \"2016-08-30T10:22:22\",\n",
       "  \"dateModified\": \"2020-01-17T10:37:01\",\n",
       "  \"license\": {\n",
       "    \"id\": \"https://creativecommons.org/licenses/by-sa/4.0/deed.de\"\n",
       "  },\n",
       "  \"version\": \"https://serlo.org/149202\",\n",
       "  \"isAccessibleForFree\": true,\n",
       "  \"isFamilyFriendly\": true,\n",
       "  \"publisher\": \"https://serlo.org/\",\n",
       "  \"inLanguage\": \"de\",\n",
       "  \"audience\": [\n",
       "    {\n",
       "      \"id\": \"http://purl.org/dcx/lrmi-vocabs/educationalAudienceRole/student\",\n",
       "      \"prefLabel\": {\n",
       "        \"en\": \"student\",\n",
       "        \"de\": \"Sch\\u00fcler*in\"\n",
       "      },\n",
       "      \"type\": \"Concept\",\n",
       "      \"inScheme\": {\n",
       "        \"id\": \"http://purl.org/dcx/lrmi-vocabs/educationalAudienceRole/\"\n",
       "      }\n",
       "    }\n",
       "  ]\n",
       "}\n",
       "```"
      ],
      "text/plain": [
       "<IPython.core.display.Markdown object>"
      ]
     },
     "metadata": {},
     "output_type": "display_data"
    },
    {
     "data": {
      "text/markdown": [
       "## JSON-LD for https://serlo.org/61688"
      ],
      "text/plain": [
       "<IPython.core.display.Markdown object>"
      ]
     },
     "metadata": {},
     "output_type": "display_data"
    },
    {
     "data": {
      "text/markdown": [
       "```json\n",
       "{\n",
       "  \"@context\": [\n",
       "    \"https://w3id.org/kim/lrmi-profile/draft/context.jsonld\",\n",
       "    {\n",
       "      \"@language\": \"de\"\n",
       "    }\n",
       "  ],\n",
       "  \"id\": \"https://serlo.org/61688\",\n",
       "  \"type\": [\n",
       "    \"LearningResource\",\n",
       "    \"Article\"\n",
       "  ],\n",
       "  \"learningResourceType\": \"Article\",\n",
       "  \"name\": \"Die ganzen Zahlen und der Zahlenstrahl\",\n",
       "  \"description\": null,\n",
       "  \"dateCreated\": \"2016-08-30T11:16:19\",\n",
       "  \"dateModified\": \"2020-01-17T10:37:01\",\n",
       "  \"license\": {\n",
       "    \"id\": \"https://creativecommons.org/licenses/by-sa/4.0/deed.de\"\n",
       "  },\n",
       "  \"version\": \"https://serlo.org/149205\",\n",
       "  \"isAccessibleForFree\": true,\n",
       "  \"isFamilyFriendly\": true,\n",
       "  \"publisher\": \"https://serlo.org/\",\n",
       "  \"inLanguage\": \"de\",\n",
       "  \"audience\": [\n",
       "    {\n",
       "      \"id\": \"http://purl.org/dcx/lrmi-vocabs/educationalAudienceRole/student\",\n",
       "      \"prefLabel\": {\n",
       "        \"en\": \"student\",\n",
       "        \"de\": \"Sch\\u00fcler*in\"\n",
       "      },\n",
       "      \"type\": \"Concept\",\n",
       "      \"inScheme\": {\n",
       "        \"id\": \"http://purl.org/dcx/lrmi-vocabs/educationalAudienceRole/\"\n",
       "      }\n",
       "    }\n",
       "  ]\n",
       "}\n",
       "```"
      ],
      "text/plain": [
       "<IPython.core.display.Markdown object>"
      ]
     },
     "metadata": {},
     "output_type": "display_data"
    },
    {
     "data": {
      "text/markdown": [
       "## JSON-LD for https://serlo.org/177413"
      ],
      "text/plain": [
       "<IPython.core.display.Markdown object>"
      ]
     },
     "metadata": {},
     "output_type": "display_data"
    },
    {
     "data": {
      "text/markdown": [
       "```json\n",
       "{\n",
       "  \"@context\": [\n",
       "    \"https://w3id.org/kim/lrmi-profile/draft/context.jsonld\",\n",
       "    {\n",
       "      \"@language\": \"de\"\n",
       "    }\n",
       "  ],\n",
       "  \"id\": \"https://serlo.org/177413\",\n",
       "  \"type\": [\n",
       "    \"LearningResource\",\n",
       "    \"Quiz\"\n",
       "  ],\n",
       "  \"learningResourceType\": \"Quiz\",\n",
       "  \"name\": null,\n",
       "  \"description\": null,\n",
       "  \"dateCreated\": \"2020-09-10T11:17:43\",\n",
       "  \"dateModified\": \"2020-09-14T10:45:36\",\n",
       "  \"license\": {\n",
       "    \"id\": \"https://creativecommons.org/licenses/by-sa/4.0/deed.de\"\n",
       "  },\n",
       "  \"version\": \"https://serlo.org/177929\",\n",
       "  \"isAccessibleForFree\": true,\n",
       "  \"isFamilyFriendly\": true,\n",
       "  \"publisher\": \"https://serlo.org/\",\n",
       "  \"inLanguage\": \"de\",\n",
       "  \"audience\": [\n",
       "    {\n",
       "      \"id\": \"http://purl.org/dcx/lrmi-vocabs/educationalAudienceRole/student\",\n",
       "      \"prefLabel\": {\n",
       "        \"en\": \"student\",\n",
       "        \"de\": \"Sch\\u00fcler*in\"\n",
       "      },\n",
       "      \"type\": \"Concept\",\n",
       "      \"inScheme\": {\n",
       "        \"id\": \"http://purl.org/dcx/lrmi-vocabs/educationalAudienceRole/\"\n",
       "      }\n",
       "    }\n",
       "  ]\n",
       "}\n",
       "```"
      ],
      "text/plain": [
       "<IPython.core.display.Markdown object>"
      ]
     },
     "metadata": {},
     "output_type": "display_data"
    }
   ],
   "source": [
    "import json\n",
    "\n",
    "def get_metadata_objects():\n",
    "    ids_list = \"(\" + \",\".join(map(str, entity_ids)) + \")\"\n",
    "    rows = query(f\"\"\"\n",
    "        select entity.id, type.name,\n",
    "            JSON_OBJECTAGG(entity_revision_field.field, entity_revision_field.value),\n",
    "            entity.date, entity_revision.date, entity.current_revision_id,\n",
    "            license.url, instance.subdomain\n",
    "        from entity\n",
    "        join type on entity.type_id = type.id\n",
    "        join license on license.id = entity.license_id\n",
    "        join instance on instance.id = entity.instance_id\n",
    "        join entity_revision on entity_revision.id = entity.current_revision_id\n",
    "        join entity_revision_field on entity_revision_field.entity_revision_id = entity_revision.id\n",
    "        where entity.id in {ids_list}\n",
    "        group by entity.id\n",
    "    \"\"\")\n",
    "    \n",
    "    return [ convert_row_to_metadata(row) for row in rows ]\n",
    "\n",
    "def convert_row_to_metadata(row):\n",
    "    [\n",
    "        entity_id, entity_type, params, date_created,\n",
    "        date_modified, current_revision, license_url,\n",
    "        instance\n",
    "    ] = row\n",
    "    params = json.loads(params)\n",
    "    \n",
    "    return {\n",
    "        \"@context\": [\n",
    "            \"https://w3id.org/kim/lrmi-profile/draft/context.jsonld\",\n",
    "            { \"@language\": instance }\n",
    "        ],\n",
    "        \"id\": getIRI(entity_id),\n",
    "        \"type\": [\"LearningResource\", getLearningResourceType(entity_type)],\n",
    "        \"learningResourceType\": getLearningResourceType(entity_type),\n",
    "        \"name\": decode(params[\"title\"]) if \"title\" in params else None,\n",
    "        \"description\": decode(params[\"meta_description\"]) if \"meta_description\" in params else None,\n",
    "        \"dateCreated\": date_created.isoformat(),\n",
    "        \"dateModified\": date_modified.isoformat(),\n",
    "        \"license\": { \"id\": license_url },\n",
    "        \"version\": getIRI(current_revision),\n",
    "        \"isAccessibleForFree\": True,\n",
    "        \"isFamilyFriendly\": True,\n",
    "        \"publisher\": \"https://serlo.org/\",\n",
    "        \"inLanguage\": instance,\n",
    "        \"audience\": [\n",
    "            {\n",
    "                \"id\": \"http://purl.org/dcx/lrmi-vocabs/educationalAudienceRole/student\",\n",
    "                \"prefLabel\": {\n",
    "                    \"en\": \"student\",\n",
    "                    \"de\": \"Schüler*in\"\n",
    "                },\n",
    "                \"type\": \"Concept\",\n",
    "                \"inScheme\": { \"id\": \"http://purl.org/dcx/lrmi-vocabs/educationalAudienceRole/\" }\n",
    "            }\n",
    "        ],\n",
    "    }\n",
    "\n",
    "def getLearningResourceType(entity_type):\n",
    "    if entity_type == \"article\" or entity_type == \"course-page\":\n",
    "        return \"Article\"\n",
    "    if entity_type == \"course\":\n",
    "        return \"Course\"\n",
    "    if entity_type == \"text-exercise-group\" or entity_type == \"text-exercise\":\n",
    "        return \"Quiz\"\n",
    "    if entity_type == \"video\":\n",
    "        return \"Video\"\n",
    "\n",
    "def getIRI(entity_id):\n",
    "    return f\"https://serlo.org/{entity_id}\"\n",
    "\n",
    "def decode(text):\n",
    "    return bytes(text, \"latin1\").decode(\"utf8\")\n",
    "\n",
    "for metadata_object in get_metadata_objects():\n",
    "    entity_iri = metadata_object[\"id\"]\n",
    "    \n",
    "    display(Markdown(f\"## JSON-LD for {entity_iri}\"))\n",
    "    display(Markdown(\"```json\\n\" + json.dumps(metadata_object, indent=2) + \"\\n```\"))"
   ]
  },
  {
   "cell_type": "markdown",
   "id": "difficult-conflict",
   "metadata": {},
   "source": [
    "# Export metadata to BIRD"
   ]
  },
  {
   "cell_type": "code",
   "execution_count": 40,
   "id": "national-payroll",
   "metadata": {},
   "outputs": [],
   "source": [
    "def export_to_bird(metadata_object):\n",
    "    pass\n",
    "\n",
    "for metadata_object in get_metadata_objects():\n",
    "    export_to_bird(metadata_object)"
   ]
  }
 ],
 "metadata": {
  "kernelspec": {
   "display_name": "Python 3",
   "language": "python",
   "name": "python3"
  },
  "language_info": {
   "codemirror_mode": {
    "name": "ipython",
    "version": 3
   },
   "file_extension": ".py",
   "mimetype": "text/x-python",
   "name": "python",
   "nbconvert_exporter": "python",
   "pygments_lexer": "ipython3",
   "version": "3.9.1"
  }
 },
 "nbformat": 4,
 "nbformat_minor": 5
}
