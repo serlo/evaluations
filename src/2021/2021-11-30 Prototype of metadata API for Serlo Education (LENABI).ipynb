{
 "cells": [
  {
   "cell_type": "markdown",
   "id": "headed-glass",
   "metadata": {},
   "source": [
    "# LENABI: Prototype of new metadata API for serlo.org"
   ]
  },
  {
   "cell_type": "markdown",
   "id": "twelve-diagram",
   "metadata": {},
   "source": [
    "## How metadata is stored\n",
    "\n",
    "We use the specification [Allgemeines Metadatenprofil für Bildungsressourcen](https://github.com/dini-ag-kim/amb) for describing our learning resources. It uses [JSON-LD](https://json-ld.org/) as a format and [schema.org](https://schema.org/) for the vocabulary. For example the metadata about the article [Addition](https://de.serlo.org/mathe/1495/addition) is:\n",
    "\n",
    "```json\n",
    "{\n",
    "  \"@context\": [\n",
    "    \"https://w3id.org/kim/lrmi-profile/draft/context.jsonld\",\n",
    "    {\n",
    "      \"@language\": \"de\"\n",
    "    }\n",
    "  ],\n",
    "  \"id\": \"https://serlo.org/1495\",\n",
    "  \"identifier\": {\n",
    "    \"type\": \"PropertyValue\",\n",
    "    \"propertyID\": \"UUID\",\n",
    "    \"value\": 1495\n",
    "  },\n",
    "  \"type\": [\n",
    "    \"LearningResource\",\n",
    "    \"Article\"\n",
    "  ],\n",
    "  \"learningResourceType\": \"Article\",\n",
    "  \"name\": \"Addition\",\n",
    "  \"description\": \"Addition, auch Plusrechnen genannt, gehört zu den Grundrechenarten der Mathematik. Lerne, was ein Summand ist. ⇒ Hier lernst du, dass das Assoziativgesetz und Kommutativgesetz gelten.  ⇒ Veranschaulichung durch Merktabellen und Zahlengeraden. Für den Anfang kannst du auch schriftlich addieren! Viele Übungsaufgaben sind verfügbar.✓ Lernen mit Serlo!\",\n",
    "  \"dateCreated\": \"2014-03-01T20:36:44+00:00\",\n",
    "  \"dateModified\": \"2021-03-08T20:51:17+00:00\",\n",
    "  \"license\": {\n",
    "    \"id\": \"https://creativecommons.org/licenses/by-sa/4.0/deed.de\"\n",
    "  },\n",
    "  \"version\": \"https://serlo.org/197588\"\n",
    "}\n",
    "```\n",
    "\n",
    "Each property is a [schema.org](http://schema.org) property. For example `identifier` is the same as the property https://schema.org/identifier. Therefore each property has a clear definition which should when metadata of many learning resources are used together.\n",
    "\n",
    "**Further reading:**\n",
    "\n",
    "* See https://dini-ag-kim.github.io/amb/draft/schemas/schema.json for a detailed description of the used specification\n",
    "* The section [Basic concepts](https://www.w3.org/TR/json-ld/#basic-concepts) of the JSON-LD specification gives a good explanation how JSON-LD extends JSON so that properties can get a clear definition."
   ]
  },
  {
   "cell_type": "markdown",
   "id": "irish-northwest",
   "metadata": {},
   "source": [
    "## Accessing the metadata\n",
    "\n",
    "The metadata can be accessed via our GraphQL endpoint at https://api.serlo-staging.dev/graphql (serlo-staging.dev is our testing enviornment). In the query namespace `metadata` we have two properties `publisher` and `entities`. `publisher` points to the metadata about Serlo Education e.V. (i.e. the publisher) and via `entities` one can access the metadata about our learning resources. The later property supports pagination via the properties `first` and `after`, filtering by language via `instance` and filtering by mofication date via `modifiedAfter`:\n",
    "\n",
    "```graphql\n",
    "extend type Query {\n",
    "  metadata: MetadataQueryNamespace!\n",
    "}\n",
    "\n",
    "type MetadataQueryNamespace {\n",
    "  # Returns metadata about Serlo Education e.V.\n",
    "  publisher: JSONObject!\n",
    "  \n",
    "  # Returns metadata about learning resources at serlo.org\n",
    "  entities(\n",
    "    # Number of metadata objects which shall be returned (default is 100)\n",
    "    first: Int\n",
    "    \n",
    "    # Cursor to the metadata object after which the metadata shall be returned\n",
    "    after: String\n",
    "    \n",
    "    # Filter for the subdomain / language\n",
    "    instance: Instance\n",
    "    \n",
    "    # Filter to return only those learning resources which have been modified\n",
    "    # after this date (format YYYY-MM-DDTHH:MM:SS+00:00)\n",
    "    modifiedAfter: String\n",
    "  ): EntitiesMetadataConnection!\n",
    "}\n",
    "\n",
    "type EntitiesMetadataConnection {\n",
    "  # Array of metadata for learning resources\n",
    "  nodes: [JSONObject!]!\n",
    "  \n",
    "  # Information whether there are more resources to query\n",
    "  pageInfo: HasNextPageInfo!\n",
    "}\n",
    "\n",
    "type HasNextPageInfo {\n",
    "  # If true then more learning resources can be queried\n",
    "  hasNextPage: Boolean!\n",
    "  \n",
    "  # Cursor which needs to be passed to `after` in order to fetch more learning resources\n",
    "  endCursor: String\n",
    "}\n",
    "```\n",
    "\n",
    "**Further reading:**\n",
    "\n",
    "* User [https://api.serlo-staging.dev/___graphql](https://api.serlo-staging.dev/___graphql) to test your GraphQL queries. There you can also find a in depth documention when you click at button `DOCS` on the right side.\n",
    "* See https://graphql.org/learn/serving-over-http/#post-request for a description how you can make GraphQL requests\n",
    "* https://graphql.org/learn/ gives a good introduction into GraphQL"
   ]
  },
  {
   "cell_type": "markdown",
   "id": "female-measurement",
   "metadata": {},
   "source": [
    "## Examples"
   ]
  },
  {
   "cell_type": "markdown",
   "id": "approved-technique",
   "metadata": {},
   "source": [
    "### Helper functions for displaying the results"
   ]
  },
  {
   "cell_type": "code",
   "execution_count": 34,
   "id": "scheduled-rouge",
   "metadata": {},
   "outputs": [],
   "source": [
    "import json\n",
    "\n",
    "from IPython.display import display, Markdown, HTML\n",
    "\n",
    "def display_json(value, title=\"The result\"):\n",
    "    \n",
    "    json_formated = json.dumps(value, indent=2)\n",
    "    \n",
    "    display_markdown(f\"### {title}\")\n",
    "    display_markdown(f\"```json\\n{json_formated}\\n```\")\n",
    "    \n",
    "def display_len(list_object, explanation=\"elements were fetched\"):\n",
    "    display_markdown(\"**Result:** %s %s\" % (len(list_object), explanation))\n",
    "\n",
    "def display_markdown(text):\n",
    "    display(Markdown(text))"
   ]
  },
  {
   "cell_type": "markdown",
   "id": "ordered-characterization",
   "metadata": {},
   "source": [
    "### Fetching metadata about Serlo Education e.V. (i.e. the publisher)"
   ]
  },
  {
   "cell_type": "code",
   "execution_count": 28,
   "id": "likely-stage",
   "metadata": {},
   "outputs": [
    {
     "data": {
      "text/markdown": [
       "### The result"
      ],
      "text/plain": [
       "<IPython.core.display.Markdown object>"
      ]
     },
     "metadata": {},
     "output_type": "display_data"
    },
    {
     "data": {
      "text/markdown": [
       "```json\n",
       "{\n",
       "  \"data\": {\n",
       "    \"metadata\": {\n",
       "      \"publisher\": {\n",
       "        \"@context\": [\n",
       "          \"https://w3id.org/kim/lrmi-profile/draft/context.jsonld\",\n",
       "          {\n",
       "            \"@language\": \"de\"\n",
       "          }\n",
       "        ],\n",
       "        \"id\": \"https://serlo.org/\",\n",
       "        \"type\": [\n",
       "          \"EducationalOrganization\",\n",
       "          \"NGO\"\n",
       "        ],\n",
       "        \"name\": \"Serlo Education e.V.\",\n",
       "        \"url\": \"https://de.serlo.org/\",\n",
       "        \"description\": \"Serlo.org bietet einfache Erkl\\u00e4rungen, Kurse, Lernvideos, \\u00dcbungen und Musterl\\u00f6sungen mit denen Sch\\u00fcler*innen und Studierende nach ihrem eigenen Bedarf und in ihrem eigenen Tempo lernen k\\u00f6nnen. Die Lernplattform ist komplett kostenlos und werbefrei.\",\n",
       "        \"image\": \"https://assets.serlo.org/5ce4082185f5d_5df93b32a2e2cb8a0363e2e2ab3ce4f79d444d11.jpg\",\n",
       "        \"logo\": \"https://de.serlo.org/_assets/img/serlo-logo.svg\",\n",
       "        \"address\": {\n",
       "          \"type\": \"PostalAddress\",\n",
       "          \"streetAddress\": \"Daiserstra\\u00dfe 15 (RGB)\",\n",
       "          \"postalCode\": \"81371\",\n",
       "          \"addressLocality\": \"M\\u00fcnchen\",\n",
       "          \"addressRegion\": \"Bayern\",\n",
       "          \"addressCountry\": \"Germany\"\n",
       "        },\n",
       "        \"email\": \"de@serlo.org\"\n",
       "      }\n",
       "    }\n",
       "  }\n",
       "}\n",
       "```"
      ],
      "text/plain": [
       "<IPython.core.display.Markdown object>"
      ]
     },
     "metadata": {},
     "output_type": "display_data"
    }
   ],
   "source": [
    "import requests\n",
    "\n",
    "req = requests.post(\n",
    "    \"https://api.serlo-staging.dev/graphql\",\n",
    "    headers = {\n",
    "        \"Content-Type\": \"application/json\",\n",
    "    },\n",
    "    json = {\n",
    "        \"query\": \"\"\"\n",
    "            query {\n",
    "                metadata {\n",
    "                    publisher\n",
    "                }\n",
    "            }\n",
    "        \"\"\"\n",
    "    }\n",
    ")\n",
    "\n",
    "display_json(req.json())"
   ]
  },
  {
   "cell_type": "markdown",
   "id": "considered-kinase",
   "metadata": {},
   "source": [
    "### Fetching the first page of metadata for entities "
   ]
  },
  {
   "cell_type": "code",
   "execution_count": 29,
   "id": "civic-elimination",
   "metadata": {
    "scrolled": false
   },
   "outputs": [
    {
     "data": {
      "text/markdown": [
       "### The result"
      ],
      "text/plain": [
       "<IPython.core.display.Markdown object>"
      ]
     },
     "metadata": {},
     "output_type": "display_data"
    },
    {
     "data": {
      "text/markdown": [
       "```json\n",
       "{\n",
       "  \"data\": {\n",
       "    \"metadata\": {\n",
       "      \"entities\": {\n",
       "        \"nodes\": [\n",
       "          {\n",
       "            \"@context\": [\n",
       "              \"https://w3id.org/kim/lrmi-profile/draft/context.jsonld\",\n",
       "              {\n",
       "                \"@language\": \"de\"\n",
       "              }\n",
       "            ],\n",
       "            \"id\": \"https://serlo.org/1495\",\n",
       "            \"identifier\": {\n",
       "              \"type\": \"PropertyValue\",\n",
       "              \"propertyID\": \"UUID\",\n",
       "              \"value\": 1495\n",
       "            },\n",
       "            \"type\": [\n",
       "              \"LearningResource\",\n",
       "              \"Article\"\n",
       "            ],\n",
       "            \"learningResourceType\": \"Article\",\n",
       "            \"name\": \"Addition\",\n",
       "            \"description\": \"Addition, auch Plusrechnen genannt, geh\\u00f6rt zu den Grundrechenarten der Mathematik. Lerne, was ein Summand ist. \\u21d2 Hier lernst du, dass das Assoziativgesetz und Kommutativgesetz gelten.  \\u21d2 Veranschaulichung durch Merktabellen und Zahlengeraden. F\\u00fcr den Anfang kannst du auch schriftlich addieren! Viele \\u00dcbungsaufgaben sind verf\\u00fcgbar.\\u2713 Lernen mit Serlo!\",\n",
       "            \"dateCreated\": \"2014-03-01T20:36:44+00:00\",\n",
       "            \"dateModified\": \"2021-03-08T20:51:17+00:00\",\n",
       "            \"license\": {\n",
       "              \"id\": \"https://creativecommons.org/licenses/by-sa/4.0/deed.de\"\n",
       "            },\n",
       "            \"version\": \"https://serlo.org/197588\"\n",
       "          },\n",
       "          {\n",
       "            \"@context\": [\n",
       "              \"https://w3id.org/kim/lrmi-profile/draft/context.jsonld\",\n",
       "              {\n",
       "                \"@language\": \"de\"\n",
       "              }\n",
       "            ],\n",
       "            \"id\": \"https://serlo.org/1497\",\n",
       "            \"identifier\": {\n",
       "              \"type\": \"PropertyValue\",\n",
       "              \"propertyID\": \"UUID\",\n",
       "              \"value\": 1497\n",
       "            },\n",
       "            \"type\": [\n",
       "              \"LearningResource\",\n",
       "              \"Article\"\n",
       "            ],\n",
       "            \"learningResourceType\": \"Article\",\n",
       "            \"name\": \"Kleinstes gemeinsames Vielfaches\",\n",
       "            \"description\": \"\",\n",
       "            \"dateCreated\": \"2014-03-01T20:36:51+00:00\",\n",
       "            \"dateModified\": \"2021-09-06T11:11:40+00:00\",\n",
       "            \"license\": {\n",
       "              \"id\": \"https://creativecommons.org/licenses/by-sa/4.0/deed.de\"\n",
       "            },\n",
       "            \"version\": \"https://serlo.org/224107\"\n",
       "          }\n",
       "        ]\n",
       "      }\n",
       "    }\n",
       "  }\n",
       "}\n",
       "```"
      ],
      "text/plain": [
       "<IPython.core.display.Markdown object>"
      ]
     },
     "metadata": {},
     "output_type": "display_data"
    }
   ],
   "source": [
    "import requests\n",
    "\n",
    "req = requests.post(\n",
    "    \"https://api.serlo-staging.dev/graphql\",\n",
    "    headers = {\n",
    "        \"Content-Type\": \"application/json\",\n",
    "    },\n",
    "    json = {\n",
    "        \"query\": \"\"\"\n",
    "            query {\n",
    "                metadata {\n",
    "                    entities(first: 2) {\n",
    "                        nodes\n",
    "                    }\n",
    "                }\n",
    "            }\n",
    "        \"\"\"\n",
    "    }\n",
    ")\n",
    "\n",
    "display_json(req.json())"
   ]
  },
  {
   "cell_type": "markdown",
   "id": "massive-parameter",
   "metadata": {},
   "source": [
    "### Fetching the first and the second page"
   ]
  },
  {
   "cell_type": "code",
   "execution_count": 30,
   "id": "sticky-aside",
   "metadata": {},
   "outputs": [
    {
     "data": {
      "text/markdown": [
       "### The PageInfo object of the first request"
      ],
      "text/plain": [
       "<IPython.core.display.Markdown object>"
      ]
     },
     "metadata": {},
     "output_type": "display_data"
    },
    {
     "data": {
      "text/markdown": [
       "```json\n",
       "{\n",
       "  \"hasNextPage\": true,\n",
       "  \"endCursor\": \"MTQ5Nw==\"\n",
       "}\n",
       "```"
      ],
      "text/plain": [
       "<IPython.core.display.Markdown object>"
      ]
     },
     "metadata": {},
     "output_type": "display_data"
    },
    {
     "data": {
      "text/markdown": [
       "### Metadata of the second page"
      ],
      "text/plain": [
       "<IPython.core.display.Markdown object>"
      ]
     },
     "metadata": {},
     "output_type": "display_data"
    },
    {
     "data": {
      "text/markdown": [
       "```json\n",
       "{\n",
       "  \"data\": {\n",
       "    \"metadata\": {\n",
       "      \"entities\": {\n",
       "        \"nodes\": [\n",
       "          {\n",
       "            \"@context\": [\n",
       "              \"https://w3id.org/kim/lrmi-profile/draft/context.jsonld\",\n",
       "              {\n",
       "                \"@language\": \"de\"\n",
       "              }\n",
       "            ],\n",
       "            \"id\": \"https://serlo.org/1499\",\n",
       "            \"identifier\": {\n",
       "              \"type\": \"PropertyValue\",\n",
       "              \"propertyID\": \"UUID\",\n",
       "              \"value\": 1499\n",
       "            },\n",
       "            \"type\": [\n",
       "              \"LearningResource\",\n",
       "              \"Article\"\n",
       "            ],\n",
       "            \"learningResourceType\": \"Article\",\n",
       "            \"name\": \"Binomische Formeln\",\n",
       "            \"description\": \"Binomische Formeln einfach erkl\\u00e4rt. Verwendung der binomischen Formel zum Aufl\\u00f6sen von Klammern  und Faktorisieren.  Mit vielen Beispielen und \\u00dcbungen! Erfahre mehr zu leichten Beweisen der binomischen Formel mithilfe des Quadrats. \\u21d2 Ein Kochrezept zur allgemeinen Vorhergehensweise. Video\\u2713\",\n",
       "            \"dateCreated\": \"2014-03-01T20:37:01+00:00\",\n",
       "            \"dateModified\": \"2021-09-06T11:41:11+00:00\",\n",
       "            \"license\": {\n",
       "              \"id\": \"https://creativecommons.org/licenses/by-sa/4.0/deed.de\"\n",
       "            },\n",
       "            \"version\": \"https://serlo.org/224109\"\n",
       "          },\n",
       "          {\n",
       "            \"@context\": [\n",
       "              \"https://w3id.org/kim/lrmi-profile/draft/context.jsonld\",\n",
       "              {\n",
       "                \"@language\": \"de\"\n",
       "              }\n",
       "            ],\n",
       "            \"id\": \"https://serlo.org/1501\",\n",
       "            \"identifier\": {\n",
       "              \"type\": \"PropertyValue\",\n",
       "              \"propertyID\": \"UUID\",\n",
       "              \"value\": 1501\n",
       "            },\n",
       "            \"type\": [\n",
       "              \"LearningResource\",\n",
       "              \"Article\"\n",
       "            ],\n",
       "            \"learningResourceType\": \"Article\",\n",
       "            \"name\": \"Ergebnismenge\",\n",
       "            \"description\": \"\",\n",
       "            \"dateCreated\": \"2014-03-01T20:37:01+00:00\",\n",
       "            \"dateModified\": \"2021-09-08T10:24:28+00:00\",\n",
       "            \"license\": {\n",
       "              \"id\": \"https://creativecommons.org/licenses/by-sa/4.0/deed.de\"\n",
       "            },\n",
       "            \"version\": \"https://serlo.org/224215\"\n",
       "          }\n",
       "        ],\n",
       "        \"pageInfo\": {\n",
       "          \"hasNextPage\": true,\n",
       "          \"endCursor\": \"MTUwMQ==\"\n",
       "        }\n",
       "      }\n",
       "    }\n",
       "  }\n",
       "}\n",
       "```"
      ],
      "text/plain": [
       "<IPython.core.display.Markdown object>"
      ]
     },
     "metadata": {},
     "output_type": "display_data"
    }
   ],
   "source": [
    "import requests\n",
    "\n",
    "def fetch_entities(first, after=None):\n",
    "    req = requests.post(\n",
    "        \"https://api.serlo-staging.dev/graphql\",\n",
    "        headers = {\n",
    "            \"Content-Type\": \"application/json\",\n",
    "        },\n",
    "        json = {\n",
    "            \"query\": \"\"\"\n",
    "                query($first: Int, $after: String) {\n",
    "                    metadata {\n",
    "                        entities(first: $first, after: $after) {\n",
    "                            nodes\n",
    "                            pageInfo {\n",
    "                                hasNextPage\n",
    "                                endCursor\n",
    "                            }\n",
    "                        }\n",
    "                    }\n",
    "                }\n",
    "            \"\"\",\n",
    "            \"variables\": { \"first\": first, \"after\": after }\n",
    "        }\n",
    "    )\n",
    "    \n",
    "    return req.json()\n",
    "\n",
    "# Fetching the first page with the first two metadata elements\n",
    "first_result = fetch_entities(first=2)\n",
    "first_result_page_info = first_result[\"data\"][\"metadata\"][\"entities\"][\"pageInfo\"]\n",
    "\n",
    "display_json(first_result_page_info, title=\"The PageInfo object of the first request\")\n",
    "\n",
    "# Fetching the second page with the next two elements\n",
    "second_result = fetch_entities(first=2, after=first_result_page_info[\"endCursor\"])\n",
    "\n",
    "display_json(second_result, title=\"Metadata of the second page\")"
   ]
  },
  {
   "cell_type": "markdown",
   "id": "advance-tolerance",
   "metadata": {},
   "source": [
    "### Fetching metadata of all learning resources"
   ]
  },
  {
   "cell_type": "code",
   "execution_count": 35,
   "id": "respected-tablet",
   "metadata": {},
   "outputs": [
    {
     "data": {
      "text/markdown": [
       "**Result:** 8110 elements were fetched"
      ],
      "text/plain": [
       "<IPython.core.display.Markdown object>"
      ]
     },
     "metadata": {},
     "output_type": "display_data"
    }
   ],
   "source": [
    "import requests    \n",
    "\n",
    "def fetch_all_entities(first=500):\n",
    "    result = []\n",
    "    endCursor = None\n",
    "    \n",
    "    while True:\n",
    "        current_page = fetch_entities(first, after=endCursor)[\"data\"][\"metadata\"][\"entities\"]\n",
    "        \n",
    "        result += current_page[\"nodes\"]\n",
    "        \n",
    "        if current_page[\"pageInfo\"][\"hasNextPage\"]:\n",
    "            endCursor = current_page[\"pageInfo\"][\"endCursor\"]\n",
    "        else:\n",
    "            break\n",
    "    \n",
    "    return result\n",
    "\n",
    "def fetch_entities(first, after=None):\n",
    "    req = requests.post(\n",
    "        \"https://api.serlo-staging.dev/graphql\",\n",
    "        headers = {\n",
    "            \"Content-Type\": \"application/json\",\n",
    "        },\n",
    "        json = {\n",
    "            \"query\": \"\"\"\n",
    "                query($first: Int, $after: String) {\n",
    "                    metadata {\n",
    "                        entities(first: $first, after: $after) {\n",
    "                            nodes\n",
    "                            pageInfo {\n",
    "                                hasNextPage\n",
    "                                endCursor\n",
    "                            }\n",
    "                        }\n",
    "                    }\n",
    "                }\n",
    "            \"\"\",\n",
    "            \"variables\": { \"first\": first, \"after\": after }\n",
    "        }\n",
    "    )\n",
    "    \n",
    "    return req.json()\n",
    "\n",
    "all_entities = fetch_all_entities()\n",
    "\n",
    "display_len(all_entities)"
   ]
  },
  {
   "cell_type": "markdown",
   "id": "three-orchestra",
   "metadata": {},
   "source": [
    "### Fetching all metadata with filters"
   ]
  },
  {
   "cell_type": "code",
   "execution_count": 37,
   "id": "satellite-penetration",
   "metadata": {},
   "outputs": [
    {
     "data": {
      "text/markdown": [
       "**Result:** 7327 entities fetched from de.serlo.org"
      ],
      "text/plain": [
       "<IPython.core.display.Markdown object>"
      ]
     },
     "metadata": {},
     "output_type": "display_data"
    },
    {
     "data": {
      "text/markdown": [
       "**Result:** 2828 entities fetched which are modified in 2021"
      ],
      "text/plain": [
       "<IPython.core.display.Markdown object>"
      ]
     },
     "metadata": {},
     "output_type": "display_data"
    }
   ],
   "source": [
    "import requests    \n",
    "\n",
    "def fetch_all_entities(first=500, instance=None, modifiedAfter=None):\n",
    "    result = []\n",
    "    endCursor = None\n",
    "    \n",
    "    while True:\n",
    "        current_page = fetch_entities(first, after=endCursor, instance=instance, modifiedAfter=modifiedAfter)\n",
    "        current_page = current_page[\"data\"][\"metadata\"][\"entities\"]\n",
    "        \n",
    "        result += current_page[\"nodes\"]\n",
    "        \n",
    "        if current_page[\"pageInfo\"][\"hasNextPage\"]:\n",
    "            endCursor = current_page[\"pageInfo\"][\"endCursor\"]\n",
    "        else:\n",
    "            break\n",
    "    \n",
    "    return result\n",
    "\n",
    "def fetch_entities(first, after=None, instance=None, modifiedAfter=None):\n",
    "    req = requests.post(\n",
    "        \"https://api.serlo-staging.dev/graphql\",\n",
    "        headers = {\n",
    "            \"Content-Type\": \"application/json\",\n",
    "        },\n",
    "        json = {\n",
    "            \"query\": \"\"\"\n",
    "                query($first: Int, $after: String, $instance: Instance, $modifiedAfter: String) {\n",
    "                    metadata {\n",
    "                        entities(first: $first, after: $after, instance: $instance, modifiedAfter: $modifiedAfter) {\n",
    "                            nodes\n",
    "                            pageInfo {\n",
    "                                hasNextPage\n",
    "                                endCursor\n",
    "                            }\n",
    "                        }\n",
    "                    }\n",
    "                }\n",
    "            \"\"\",\n",
    "            \"variables\": {\n",
    "                \"first\": first,\n",
    "                \"after\": after,\n",
    "                \"instance\": instance,\n",
    "                \"modifiedAfter\": modifiedAfter\n",
    "            }\n",
    "        }\n",
    "    )\n",
    "    \n",
    "    return req.json()\n",
    "\n",
    "# == Fetch elements by language / subdomain ==\n",
    "# Here metadata are fetched from de.serlo.org\n",
    "german_entities = fetch_all_entities(instance=\"de\")\n",
    "\n",
    "display_len(german_entities, explanation=\"entities fetched from de.serlo.org\")\n",
    "\n",
    "# == Fetch elements which are modified in 2021 ==\n",
    "# Format for modifiedAfter is YYYY-MM-DDTHH:MM:SSZ\n",
    "entities2021 = fetch_all_entities(modifiedAfter=\"2021-01-01T00:00:00Z\")\n",
    "\n",
    "display_len(entities2021, explanation=\"entities fetched which are modified in 2021\")"
   ]
  }
 ],
 "metadata": {
  "kernelspec": {
   "display_name": "Python 3",
   "language": "python",
   "name": "python3"
  },
  "language_info": {
   "codemirror_mode": {
    "name": "ipython",
    "version": 3
   },
   "file_extension": ".py",
   "mimetype": "text/x-python",
   "name": "python",
   "nbconvert_exporter": "python",
   "pygments_lexer": "ipython3",
   "version": "3.9.1"
  }
 },
 "nbformat": 4,
 "nbformat_minor": 5
}
