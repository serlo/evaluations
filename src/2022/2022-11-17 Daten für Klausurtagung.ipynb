{
 "cells": [
  {
   "cell_type": "code",
   "execution_count": 24,
   "id": "e0bf3758",
   "metadata": {},
   "outputs": [],
   "source": [
    "from datetime import date, datetime\n",
    "import pandas as pd\n",
    "import mysql.connector\n",
    "pd.options.mode.chained_assignment = None\n",
    "\n",
    "from IPython.display import display, Markdown, HTML"
   ]
  },
  {
   "cell_type": "code",
   "execution_count": 2,
   "id": "ac67faa6",
   "metadata": {},
   "outputs": [],
   "source": [
    "db = mysql.connector.connect(\n",
    "    host=\"localhost\",\n",
    "    user=\"root\",\n",
    "    password=\"secret\",\n",
    "    port=\"3306\",\n",
    "    database=\"serlo\",\n",
    "    charset=\"latin1\"\n",
    ")\n",
    "\n",
    "def cached(func):\n",
    "    cache = dict()\n",
    "    \n",
    "    def return_func(arg):\n",
    "        if (arg in cache):\n",
    "            return cache[arg]\n",
    "        else:\n",
    "            result = func(arg)\n",
    "            cache[arg] = result\n",
    "            return result\n",
    "    \n",
    "    return return_func\n",
    "\n",
    "def query(sql):\n",
    "    c = db.cursor()\n",
    "    c.execute(sql)\n",
    "    \n",
    "    return c.fetchall()\n",
    "\n",
    "def querySingleton(sql):\n",
    "    return [ x[0] for x in query(sql) ]\n",
    "\n",
    "@cached\n",
    "def getParent(termId):\n",
    "    return querySingleton(\"\"\"\n",
    "        select parent_id from term_taxonomy where id = %s;\n",
    "    \"\"\" % termId)[0]\n",
    "\n",
    "def getTermName(termId):\n",
    "    return querySingleton(\"\"\"\n",
    "        select term.name from term_taxonomy\n",
    "        join term on term.id = term_taxonomy.term_id\n",
    "        where term_taxonomy.id = %s;\n",
    "    \"\"\" % termId)[0]\n",
    "\n",
    "@cached\n",
    "def getSubject(termId):\n",
    "    if int(termId) in [79733, 81317, 20852, 87814, 87827, 85477, 87860, 75049, 76750, 87496, 75678, 91252, 91253]:\n",
    "        return \"Prüfungsbereich Mathematik\"\n",
    "    if int(termId) in [106082]:\n",
    "        return getTermName(termId)\n",
    "    \n",
    "    parent = getParent(termId)\n",
    "    grandparent = getParent(parent)\n",
    "    \n",
    "    if (parent == 106081):\n",
    "        return getTermName(termId)\n",
    "    \n",
    "    return getSubject(parent) if grandparent != None else getTermName(termId)\n",
    "\n",
    "@cached\n",
    "def getSubjectFromUuid(uuid):\n",
    "    taxonomyTerms = querySingleton(f\"\"\"\n",
    "        select term_taxonomy_id from term_taxonomy_entity\n",
    "        where term_taxonomy_entity.entity_id  = {uuid};\n",
    "    \"\"\")\n",
    "    \n",
    "    if len(taxonomyTerms) > 0:\n",
    "        return getSubject(taxonomyTerms[0])\n",
    "\n",
    "    parents = querySingleton(f\"\"\"\n",
    "        select parent_id from entity_link\n",
    "        where entity_link.child_id  = {uuid};\n",
    "    \"\"\")\n",
    "    \n",
    "    if len(parents) > 0:\n",
    "        return getSubjectFromUuid(parents[0])\n",
    "    \n",
    "    return None\n"
   ]
  },
  {
   "cell_type": "code",
   "execution_count": 3,
   "id": "13b6bee9",
   "metadata": {},
   "outputs": [],
   "source": [
    "import json\n",
    "\n",
    "json.dumps(querySingleton(\"\"\"\n",
    "select distinct(entity_link.parent_id ) from event_log join entity_link on entity_link.child_id = event_log.uuid_id where event_log.event_id = 4 and event_log.date > Date(\"2020-02-01\");\n",
    "\"\"\"));"
   ]
  },
  {
   "cell_type": "code",
   "execution_count": 4,
   "id": "a6ff0406",
   "metadata": {},
   "outputs": [
    {
     "data": {
      "text/html": [
       "<div>\n",
       "<style scoped>\n",
       "    .dataframe tbody tr th:only-of-type {\n",
       "        vertical-align: middle;\n",
       "    }\n",
       "\n",
       "    .dataframe tbody tr th {\n",
       "        vertical-align: top;\n",
       "    }\n",
       "\n",
       "    .dataframe thead th {\n",
       "        text-align: right;\n",
       "    }\n",
       "</style>\n",
       "<table border=\"1\" class=\"dataframe\">\n",
       "  <thead>\n",
       "    <tr style=\"text-align: right;\">\n",
       "      <th></th>\n",
       "      <th>actor_id</th>\n",
       "      <th>date</th>\n",
       "      <th>username</th>\n",
       "      <th>uuid</th>\n",
       "      <th>subject</th>\n",
       "    </tr>\n",
       "    <tr>\n",
       "      <th>id</th>\n",
       "      <th></th>\n",
       "      <th></th>\n",
       "      <th></th>\n",
       "      <th></th>\n",
       "      <th></th>\n",
       "    </tr>\n",
       "  </thead>\n",
       "  <tbody>\n",
       "    <tr>\n",
       "      <th>252170</th>\n",
       "      <td>95850</td>\n",
       "      <td>2019-01-02 10:35:03</td>\n",
       "      <td>Leo1</td>\n",
       "      <td>127338</td>\n",
       "      <td>Chemie</td>\n",
       "    </tr>\n",
       "    <tr>\n",
       "      <th>252172</th>\n",
       "      <td>95850</td>\n",
       "      <td>2019-01-02 10:58:42</td>\n",
       "      <td>Leo1</td>\n",
       "      <td>127338</td>\n",
       "      <td>Chemie</td>\n",
       "    </tr>\n",
       "    <tr>\n",
       "      <th>252180</th>\n",
       "      <td>95849</td>\n",
       "      <td>2019-01-02 11:46:55</td>\n",
       "      <td>hernlmax</td>\n",
       "      <td>63496</td>\n",
       "      <td>Chemie</td>\n",
       "    </tr>\n",
       "    <tr>\n",
       "      <th>252185</th>\n",
       "      <td>95849</td>\n",
       "      <td>2019-01-02 11:51:49</td>\n",
       "      <td>hernlmax</td>\n",
       "      <td>127428</td>\n",
       "      <td>Chemie</td>\n",
       "    </tr>\n",
       "    <tr>\n",
       "      <th>252187</th>\n",
       "      <td>95849</td>\n",
       "      <td>2019-01-02 11:52:47</td>\n",
       "      <td>hernlmax</td>\n",
       "      <td>127428</td>\n",
       "      <td>Chemie</td>\n",
       "    </tr>\n",
       "    <tr>\n",
       "      <th>...</th>\n",
       "      <td>...</td>\n",
       "      <td>...</td>\n",
       "      <td>...</td>\n",
       "      <td>...</td>\n",
       "      <td>...</td>\n",
       "    </tr>\n",
       "    <tr>\n",
       "      <th>252503</th>\n",
       "      <td>121732</td>\n",
       "      <td>2019-01-04 16:48:53</td>\n",
       "      <td>Jonathan</td>\n",
       "      <td>127576</td>\n",
       "      <td>Mathe</td>\n",
       "    </tr>\n",
       "    <tr>\n",
       "      <th>252505</th>\n",
       "      <td>121732</td>\n",
       "      <td>2019-01-04 16:49:01</td>\n",
       "      <td>Jonathan</td>\n",
       "      <td>127602</td>\n",
       "      <td>Mathe</td>\n",
       "    </tr>\n",
       "    <tr>\n",
       "      <th>252510</th>\n",
       "      <td>95854</td>\n",
       "      <td>2019-01-04 16:50:43</td>\n",
       "      <td>markus_janker</td>\n",
       "      <td>127600</td>\n",
       "      <td>Chemie</td>\n",
       "    </tr>\n",
       "    <tr>\n",
       "      <th>252512</th>\n",
       "      <td>95854</td>\n",
       "      <td>2019-01-04 16:57:43</td>\n",
       "      <td>markus_janker</td>\n",
       "      <td>127600</td>\n",
       "      <td>Chemie</td>\n",
       "    </tr>\n",
       "    <tr>\n",
       "      <th>252514</th>\n",
       "      <td>121732</td>\n",
       "      <td>2019-01-04 17:10:34</td>\n",
       "      <td>Jonathan</td>\n",
       "      <td>127605</td>\n",
       "      <td>Mathe</td>\n",
       "    </tr>\n",
       "  </tbody>\n",
       "</table>\n",
       "<p>100 rows × 5 columns</p>\n",
       "</div>"
      ],
      "text/plain": [
       "        actor_id                date       username    uuid subject\n",
       "id                                                                 \n",
       "252170     95850 2019-01-02 10:35:03           Leo1  127338  Chemie\n",
       "252172     95850 2019-01-02 10:58:42           Leo1  127338  Chemie\n",
       "252180     95849 2019-01-02 11:46:55       hernlmax   63496  Chemie\n",
       "252185     95849 2019-01-02 11:51:49       hernlmax  127428  Chemie\n",
       "252187     95849 2019-01-02 11:52:47       hernlmax  127428  Chemie\n",
       "...          ...                 ...            ...     ...     ...\n",
       "252503    121732 2019-01-04 16:48:53       Jonathan  127576   Mathe\n",
       "252505    121732 2019-01-04 16:49:01       Jonathan  127602   Mathe\n",
       "252510     95854 2019-01-04 16:50:43  markus_janker  127600  Chemie\n",
       "252512     95854 2019-01-04 16:57:43  markus_janker  127600  Chemie\n",
       "252514    121732 2019-01-04 17:10:34       Jonathan  127605   Mathe\n",
       "\n",
       "[100 rows x 5 columns]"
      ]
     },
     "execution_count": 4,
     "metadata": {},
     "output_type": "execute_result"
    }
   ],
   "source": [
    "def read_event_log():\n",
    "    df = pd.read_sql(\"\"\"\n",
    "        select event_log.id, event_log.actor_id, event_log.date, user.username, event_parameter_uuid.uuid_id from event_log\n",
    "        join user on user.id = event_log.actor_id\n",
    "        join event_parameter on event_parameter.log_id = event_log.id\n",
    "        join event_parameter_uuid on event_parameter_uuid.event_parameter_id = event_parameter.id\n",
    "        where event_log.event_id = 5\n",
    "        and year(event_log.date) > 2018\n",
    "        and user.username != \"Legacy\"\n",
    "    \"\"\", db)\n",
    "    df.set_index(\"id\", inplace=True)\n",
    "    df.rename(columns={\"uuid_id\": \"uuid\"}, inplace=True)\n",
    "    df[\"subject\"] = df[\"uuid\"].map(getSubjectFromUuid)\n",
    "    return df\n",
    "\n",
    "event_log = read_event_log()\n",
    "event_log.head(100)"
   ]
  },
  {
   "cell_type": "code",
   "execution_count": 5,
   "id": "7ab111a3",
   "metadata": {},
   "outputs": [],
   "source": [
    "user_df = pd.read_sql(\"\"\"\n",
    "        select id, username,date, logins from user where date > '2022-01-01';\n",
    "    \"\"\", db)"
   ]
  },
  {
   "cell_type": "code",
   "execution_count": 6,
   "id": "d13e711c",
   "metadata": {},
   "outputs": [
    {
     "data": {
      "text/html": [
       "<div>\n",
       "<style scoped>\n",
       "    .dataframe tbody tr th:only-of-type {\n",
       "        vertical-align: middle;\n",
       "    }\n",
       "\n",
       "    .dataframe tbody tr th {\n",
       "        vertical-align: top;\n",
       "    }\n",
       "\n",
       "    .dataframe thead th {\n",
       "        text-align: right;\n",
       "    }\n",
       "</style>\n",
       "<table border=\"1\" class=\"dataframe\">\n",
       "  <thead>\n",
       "    <tr style=\"text-align: right;\">\n",
       "      <th></th>\n",
       "      <th>id</th>\n",
       "      <th>username</th>\n",
       "      <th>date</th>\n",
       "      <th>logins</th>\n",
       "    </tr>\n",
       "  </thead>\n",
       "  <tbody>\n",
       "    <tr>\n",
       "      <th>0</th>\n",
       "      <td>234298</td>\n",
       "      <td>johnkiz12</td>\n",
       "      <td>2022-01-01 09:39:09</td>\n",
       "      <td>1</td>\n",
       "    </tr>\n",
       "    <tr>\n",
       "      <th>1</th>\n",
       "      <td>234306</td>\n",
       "      <td>ggacor77</td>\n",
       "      <td>2022-01-01 18:37:06</td>\n",
       "      <td>1</td>\n",
       "    </tr>\n",
       "    <tr>\n",
       "      <th>2</th>\n",
       "      <td>234309</td>\n",
       "      <td>blushinxmia</td>\n",
       "      <td>2022-01-01 19:21:36</td>\n",
       "      <td>0</td>\n",
       "    </tr>\n",
       "    <tr>\n",
       "      <th>3</th>\n",
       "      <td>234312</td>\n",
       "      <td>Amy_DuhCuteOne</td>\n",
       "      <td>2022-01-01 20:37:11</td>\n",
       "      <td>0</td>\n",
       "    </tr>\n",
       "    <tr>\n",
       "      <th>4</th>\n",
       "      <td>234364</td>\n",
       "      <td>fun88sktlive</td>\n",
       "      <td>2022-01-03 04:49:53</td>\n",
       "      <td>1</td>\n",
       "    </tr>\n",
       "  </tbody>\n",
       "</table>\n",
       "</div>"
      ],
      "text/plain": [
       "       id        username                date  logins\n",
       "0  234298       johnkiz12 2022-01-01 09:39:09       1\n",
       "1  234306        ggacor77 2022-01-01 18:37:06       1\n",
       "2  234309     blushinxmia 2022-01-01 19:21:36       0\n",
       "3  234312  Amy_DuhCuteOne 2022-01-01 20:37:11       0\n",
       "4  234364    fun88sktlive 2022-01-03 04:49:53       1"
      ]
     },
     "execution_count": 6,
     "metadata": {},
     "output_type": "execute_result"
    }
   ],
   "source": [
    "user_df.head()"
   ]
  },
  {
   "cell_type": "markdown",
   "id": "0a414dc5",
   "metadata": {},
   "source": [
    "# 1. Wie viele User* Innen sind in 2022 dazu gekommen?"
   ]
  },
  {
   "cell_type": "code",
   "execution_count": 7,
   "id": "36a1c03e",
   "metadata": {},
   "outputs": [
    {
     "data": {
      "text/markdown": [
       "Neue User*Innen in 2022: 2122"
      ],
      "text/plain": [
       "<IPython.core.display.Markdown object>"
      ]
     },
     "metadata": {},
     "output_type": "display_data"
    },
    {
     "data": {
      "text/markdown": [
       "User*Innen mit mindestens einer Bearbeitung: 69"
      ],
      "text/plain": [
       "<IPython.core.display.Markdown object>"
      ]
     },
     "metadata": {},
     "output_type": "display_data"
    }
   ],
   "source": [
    "new_user_list = list(user_df.id.unique())\n",
    "\n",
    "this_year_df = event_log['2021-12-31' < event_log['date']] \n",
    "editing_users_list = list(this_year_df.actor_id)\n",
    "new_editing_users_list = set(editing_users_list) & set(new_user_list)\n",
    "\n",
    "display(Markdown(f\"Neue User*Innen in 2022: {len(new_user_list)}\"))\n",
    "display(Markdown(f\"User*Innen mit mindestens einer Bearbeitung: {len(new_editing_users_list)}\"))"
   ]
  },
  {
   "cell_type": "markdown",
   "id": "ebd158c5",
   "metadata": {},
   "source": [
    "## 1.1 Darunter wie viele aktive Autor* Innen?"
   ]
  },
  {
   "cell_type": "code",
   "execution_count": 8,
   "id": "ecee9c47",
   "metadata": {},
   "outputs": [
    {
     "data": {
      "text/markdown": [
       "Neue Aktive Autor*Innen: 10"
      ],
      "text/plain": [
       "<IPython.core.display.Markdown object>"
      ]
     },
     "metadata": {},
     "output_type": "display_data"
    }
   ],
   "source": [
    "days = 90\n",
    "edits = 10\n",
    "result_df = pd.DataFrame()\n",
    "week = 0\n",
    "  \n",
    "lower_date = pd.Timestamp.today() - pd.Timedelta(days = days + week*7)\n",
    "upper_date = pd.Timestamp.today() - pd.Timedelta(days = week*7)\n",
    " \n",
    "df2 = event_log[lower_date < event_log['date']] \n",
    "\n",
    "df3 = df2.groupby(by = ['actor_id', 'username'], as_index = False).count()\n",
    "#Delete all authors under baseline\n",
    "df4 = df3\n",
    "df4['isActive'] = df4['uuid'].apply(lambda x: 1 if x >= edits else 0)\n",
    "\n",
    "active_users_df = df4[df4['isActive'] == 1]\n",
    "\n",
    "active_authors_list = list(active_users_df.actor_id)\n",
    "\n",
    "\n",
    "new_active_authors_list = set(active_authors_list) & set(new_user_list)\n",
    "display(Markdown(f\"Neue Aktive Autor*Innen: {len(new_active_authors_list)}\"))"
   ]
  },
  {
   "cell_type": "markdown",
   "id": "e37988c5",
   "metadata": {},
   "source": [
    "## 1.2 Darunter wie viele sehr aktive Autor* Innen?"
   ]
  },
  {
   "cell_type": "code",
   "execution_count": 9,
   "id": "845c459a",
   "metadata": {},
   "outputs": [
    {
     "data": {
      "text/markdown": [
       "Sehr aktive Autor*Innen: 1"
      ],
      "text/plain": [
       "<IPython.core.display.Markdown object>"
      ]
     },
     "metadata": {},
     "output_type": "display_data"
    }
   ],
   "source": [
    "df4['isVeryActive'] = df4['uuid'].apply(lambda x: 1 if x >= 100 else 0)\n",
    "\n",
    "very_active_users_df = df4[df4['isVeryActive'] == 1]\n",
    "\n",
    "very_active_authors_list = list(very_active_users_df.actor_id)\n",
    "\n",
    "new_very_active_authors_list = set(very_active_authors_list).intersection(new_user_list)\n",
    "display(Markdown(f\"Sehr aktive Autor*Innen: {len(new_very_active_authors_list)}\"))"
   ]
  },
  {
   "cell_type": "code",
   "execution_count": 10,
   "id": "6f4af14e",
   "metadata": {},
   "outputs": [
    {
     "data": {
      "text/html": [
       "<div>\n",
       "<style scoped>\n",
       "    .dataframe tbody tr th:only-of-type {\n",
       "        vertical-align: middle;\n",
       "    }\n",
       "\n",
       "    .dataframe tbody tr th {\n",
       "        vertical-align: top;\n",
       "    }\n",
       "\n",
       "    .dataframe thead th {\n",
       "        text-align: right;\n",
       "    }\n",
       "</style>\n",
       "<table border=\"1\" class=\"dataframe\">\n",
       "  <thead>\n",
       "    <tr style=\"text-align: right;\">\n",
       "      <th></th>\n",
       "      <th>actor_id</th>\n",
       "      <th>username</th>\n",
       "      <th>date</th>\n",
       "      <th>uuid</th>\n",
       "      <th>subject</th>\n",
       "      <th>isActive</th>\n",
       "      <th>isVeryActive</th>\n",
       "    </tr>\n",
       "  </thead>\n",
       "  <tbody>\n",
       "    <tr>\n",
       "      <th>35</th>\n",
       "      <td>240298</td>\n",
       "      <td>Felix_Eccardt</td>\n",
       "      <td>2072</td>\n",
       "      <td>2072</td>\n",
       "      <td>2053</td>\n",
       "      <td>1</td>\n",
       "      <td>1</td>\n",
       "    </tr>\n",
       "  </tbody>\n",
       "</table>\n",
       "</div>"
      ],
      "text/plain": [
       "    actor_id       username  date  uuid  subject  isActive  isVeryActive\n",
       "35    240298  Felix_Eccardt  2072  2072     2053         1             1"
      ]
     },
     "execution_count": 10,
     "metadata": {},
     "output_type": "execute_result"
    }
   ],
   "source": [
    "very_active_users_df[very_active_users_df['actor_id'].isin(new_very_active_authors_list)]"
   ]
  },
  {
   "cell_type": "markdown",
   "id": "659d2b7e",
   "metadata": {},
   "source": [
    "# 2. Wie viele neue Inhalte in 2022?"
   ]
  },
  {
   "cell_type": "code",
   "execution_count": 11,
   "id": "f0d9d2ac",
   "metadata": {},
   "outputs": [],
   "source": [
    "entity_create_df = pd.read_sql(\"\"\"\n",
    "        select * from event_log where event_id = 4 and date > '2022-01-01'\n",
    "    \"\"\", db)"
   ]
  },
  {
   "cell_type": "code",
   "execution_count": 12,
   "id": "c79bcc2e",
   "metadata": {},
   "outputs": [
    {
     "data": {
      "text/markdown": [
       "Anzahl neuer Inhalte in 2022: 5079"
      ],
      "text/plain": [
       "<IPython.core.display.Markdown object>"
      ]
     },
     "metadata": {},
     "output_type": "display_data"
    }
   ],
   "source": [
    "display(Markdown(f\"Anzahl neuer Inhalte in 2022: {len(entity_create_df)}\"))"
   ]
  },
  {
   "cell_type": "markdown",
   "id": "bfff6968",
   "metadata": {},
   "source": [
    "# 3. Wie viele Bearbeitungen in 2022?"
   ]
  },
  {
   "cell_type": "code",
   "execution_count": 13,
   "id": "1d1a39b5",
   "metadata": {},
   "outputs": [
    {
     "data": {
      "text/plain": [
       "17289"
      ]
     },
     "execution_count": 13,
     "metadata": {},
     "output_type": "execute_result"
    }
   ],
   "source": [
    "len(this_year_df)"
   ]
  },
  {
   "cell_type": "markdown",
   "id": "ae16831c",
   "metadata": {},
   "source": [
    "# 4. Liste der 10 aktivsten Autor* Innen und Zahl deren Bearbeitungen"
   ]
  },
  {
   "cell_type": "code",
   "execution_count": 14,
   "id": "f7e272bb",
   "metadata": {},
   "outputs": [],
   "source": [
    "active_allyear_df = this_year_df.groupby(by = ['actor_id', 'username'], as_index = False).count()\n",
    "top_ten_df = active_allyear_df.nlargest(10, 'uuid')\n",
    "top_ten_df = top_ten_df.drop(['date', 'subject'], axis=1)\n",
    "top_ten_df = top_ten_df.rename(columns={\"uuid\": \"edits\"})"
   ]
  },
  {
   "cell_type": "code",
   "execution_count": 15,
   "id": "83f51bfe",
   "metadata": {},
   "outputs": [
    {
     "data": {
      "text/html": [
       "<div>\n",
       "<style scoped>\n",
       "    .dataframe tbody tr th:only-of-type {\n",
       "        vertical-align: middle;\n",
       "    }\n",
       "\n",
       "    .dataframe tbody tr th {\n",
       "        vertical-align: top;\n",
       "    }\n",
       "\n",
       "    .dataframe thead th {\n",
       "        text-align: right;\n",
       "    }\n",
       "</style>\n",
       "<table border=\"1\" class=\"dataframe\">\n",
       "  <thead>\n",
       "    <tr style=\"text-align: right;\">\n",
       "      <th></th>\n",
       "      <th>index</th>\n",
       "      <th>actor_id</th>\n",
       "      <th>username</th>\n",
       "      <th>edits</th>\n",
       "    </tr>\n",
       "  </thead>\n",
       "  <tbody>\n",
       "    <tr>\n",
       "      <th>0</th>\n",
       "      <td>79</td>\n",
       "      <td>240298</td>\n",
       "      <td>Felix_Eccardt</td>\n",
       "      <td>4939</td>\n",
       "    </tr>\n",
       "    <tr>\n",
       "      <th>1</th>\n",
       "      <td>11</td>\n",
       "      <td>64900</td>\n",
       "      <td>Kowalsky</td>\n",
       "      <td>1934</td>\n",
       "    </tr>\n",
       "    <tr>\n",
       "      <th>2</th>\n",
       "      <td>38</td>\n",
       "      <td>148701</td>\n",
       "      <td>Sascha_Lill_95</td>\n",
       "      <td>1145</td>\n",
       "    </tr>\n",
       "    <tr>\n",
       "      <th>3</th>\n",
       "      <td>16</td>\n",
       "      <td>87602</td>\n",
       "      <td>Karin</td>\n",
       "      <td>1143</td>\n",
       "    </tr>\n",
       "    <tr>\n",
       "      <th>4</th>\n",
       "      <td>41</td>\n",
       "      <td>163773</td>\n",
       "      <td>LinaMaria</td>\n",
       "      <td>1143</td>\n",
       "    </tr>\n",
       "    <tr>\n",
       "      <th>5</th>\n",
       "      <td>44</td>\n",
       "      <td>169563</td>\n",
       "      <td>Peter</td>\n",
       "      <td>667</td>\n",
       "    </tr>\n",
       "    <tr>\n",
       "      <th>6</th>\n",
       "      <td>73</td>\n",
       "      <td>235184</td>\n",
       "      <td>korbi_d</td>\n",
       "      <td>545</td>\n",
       "    </tr>\n",
       "    <tr>\n",
       "      <th>7</th>\n",
       "      <td>51</td>\n",
       "      <td>197401</td>\n",
       "      <td>Annika-Hemlein</td>\n",
       "      <td>499</td>\n",
       "    </tr>\n",
       "    <tr>\n",
       "      <th>8</th>\n",
       "      <td>32</td>\n",
       "      <td>146667</td>\n",
       "      <td>BerndF</td>\n",
       "      <td>470</td>\n",
       "    </tr>\n",
       "    <tr>\n",
       "      <th>9</th>\n",
       "      <td>14</td>\n",
       "      <td>73435</td>\n",
       "      <td>kathongi</td>\n",
       "      <td>461</td>\n",
       "    </tr>\n",
       "  </tbody>\n",
       "</table>\n",
       "</div>"
      ],
      "text/plain": [
       "   index  actor_id        username  edits\n",
       "0     79    240298   Felix_Eccardt   4939\n",
       "1     11     64900        Kowalsky   1934\n",
       "2     38    148701  Sascha_Lill_95   1145\n",
       "3     16     87602           Karin   1143\n",
       "4     41    163773       LinaMaria   1143\n",
       "5     44    169563           Peter    667\n",
       "6     73    235184         korbi_d    545\n",
       "7     51    197401  Annika-Hemlein    499\n",
       "8     32    146667          BerndF    470\n",
       "9     14     73435        kathongi    461"
      ]
     },
     "execution_count": 15,
     "metadata": {},
     "output_type": "execute_result"
    }
   ],
   "source": [
    "top_ten_df.reset_index()"
   ]
  }
 ],
 "metadata": {
  "kernelspec": {
   "display_name": "Python 3 (ipykernel)",
   "language": "python",
   "name": "python3"
  },
  "language_info": {
   "codemirror_mode": {
    "name": "ipython",
    "version": 3
   },
   "file_extension": ".py",
   "mimetype": "text/x-python",
   "name": "python",
   "nbconvert_exporter": "python",
   "pygments_lexer": "ipython3",
   "version": "3.9.1"
  }
 },
 "nbformat": 4,
 "nbformat_minor": 5
}
