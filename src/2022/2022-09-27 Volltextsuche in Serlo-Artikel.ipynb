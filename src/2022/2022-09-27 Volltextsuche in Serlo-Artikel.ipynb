{
 "cells": [
  {
   "cell_type": "markdown",
   "id": "nutritional-layer",
   "metadata": {},
   "source": [
    "# Helpers"
   ]
  },
  {
   "cell_type": "code",
   "execution_count": 13,
   "id": "australian-institution",
   "metadata": {},
   "outputs": [],
   "source": [
    "import urllib.parse\n",
    "\n",
    "def get_subdomain(url):\n",
    "    netloc = urllib.parse.urlparse(url).netloc\n",
    "    \n",
    "    return \".\".join(netloc.split(\".\")[:-2])\n",
    "\n",
    "def get_pathname(url):\n",
    "    return urllib.parse.urlparse(url).path\n",
    "\n",
    "assert get_subdomain(\"https://de.serlo.org/mathe/1515/satz-des-pythagoras\") == \"de\"\n",
    "assert get_pathname(\"https://de.serlo.org/mathe/1515/satz-des-pythagoras\") == \"/mathe/1515/satz-des-pythagoras\""
   ]
  },
  {
   "cell_type": "code",
   "execution_count": 24,
   "id": "partial-supplier",
   "metadata": {},
   "outputs": [],
   "source": [
    "from IPython.display import display, HTML\n",
    "\n",
    "def display_html(html):\n",
    "    display(HTML(html))"
   ]
  },
  {
   "cell_type": "code",
   "execution_count": 20,
   "id": "cross-force",
   "metadata": {},
   "outputs": [
    {
     "data": {
      "text/plain": [
       "'{\"plugin\":\"article\",\"state\":{\"introduction\":{\"plugin\":\"articleIntroduction\",\"state\":{\"explanation\":{\"plugin\":\"text\",\"state\":[{\"type\":\"p\",\"children\":[{\"text\":\"Der Satz des Pythagoras stellt eine Beziehung zwischen den Seitenlängen eines \"},{\"type\":\"a\",\"href\":\"/36070\",\"children\":[{\"text\":\"rechtwinkligen Dreiecks\"}]},{\"text\":\" her:\"}]},{\"type\":\"p\",\"children\":[{\"text\":\"Die Summe der quadrierten  \"},{\"type\":\"a\",\"href\":\"/1543\",\"children\":[{\"text\":\"Katheten\"}]},{\"text\":\" (\"},{\"text\":\"a\",\"strong\":true},{\"text\":\" und \"},{\"text\":\"b\",\"strong\":true},{\"text\":\") ist gleich dem Quadrat der \"},{\"type\":\"a\",\"href\":\"/1541\",\"children\":[{\"text\":\"Hypotenuse\"}]},{\"text\":\" (\"},{\"text\":\"c\",\"strong\":true},{\"text\":\").\"}]}]},\"multimedia\":{\"plugin\":\"image\",\"state\":{\"src\":\"https://assets.serlo.org/legacy/577f75f2ab03d_4b70ec4721a13bba428d3a8808ff255dab9a1375.png\",\"alt\":\"Pythagoras - Dreieck u Formel\",\"caption\":{\"plugin\":\"text\",\"state\":[{\"type\":\"p\",\"children\":[{}]}]}}},\"illustrating\":true,\"width\":50}},\"content\":{\"plugin\":\"rows\",\"state\":[{\"plugin\":\"box\",\"state\":{\"type\":\"attention\",\"title\":{\"plugin\":\"text\",\"state\":[{\"type\":\"p\",\"children\":[{}]}]},\"anchorId\":\"box77874\",\"content\":{\"plugin\":\"rows\",\"state\":[{\"plugin\":\"text\",\"state\":[{\"type\":\"p\",\"children\":[{\"text\":\"Die Formel \"},{\"type\":\"math\",\"src\":\"a^2 + b^2 = c^2\",\"inline\":true,\"children\":[{\"text\":\"a^2 + b^2 = c^2\"}]},{\"text\":\" gilt \"},{\"text\":\"nur\",\"strong\":true},{\"text\":\" bei \"},{\"text\":\"rechtwinkligen\",\"strong\":true},{\"text\":\" Dreiecken, wenn c die Hypotenuse ist!\"}]}]}]}}},{\"plugin\":\"text\",\"state\":[{\"type\":\"h\",\"level\":2,\"children\":[{\"text\":\"Detaillierte Einführung\"}]},{\"type\":\"p\",\"children\":[{\"text\":\"In diesem Video wird der Satz des Pythagoras sehr ausführlich erklärt.\"}]}]},{\"plugin\":\"injection\",\"state\":\"/18865\"},{\"plugin\":\"box\",\"state\":{\"type\":\"proof\",\"title\":{\"plugin\":\"text\",\"state\":[{\"type\":\"p\",\"children\":[{}]}]},\"anchorId\":\"box38534\",\"content\":{\"plugin\":\"rows\",\"state\":[{\"plugin\":\"text\",\"state\":[{\"type\":\"p\",\"children\":[{\"text\":\"Für den Satz des Pythagoras gibt es viele sehr verschiedene Beweise. Einer soll hier beschrieben werden. Er macht nichts anderes, als sich mit dem rechtwinkligen Dreieck ein bestimmtes Quadrat zusammenzusetzen und dessen Fläche dann auf zwei verschiedene Arten auszudrücken.\"}]}]},{\"plugin\":\"serloTable\",\"state\":{\"rows\":[{\"columns\":[{\"content\":{\"plugin\":\"text\",\"state\":[{\"type\":\"p\",\"children\":[{\"text\":\"Erklärung\"}]}]}},{\"content\":{\"plugin\":\"text\",\"state\":[{\"type\":\"p\",\"children\":[{\"text\":\"Darstellung/Gleichung\"}]}]}}]},{\"columns\":[{\"content\":{\"plugin\":\"text\",\"state\":[{\"type\":\"p\",\"children\":[{\"text\":\"Wir starten mit einem beliebigen rechtwinkligen Dreieck\"}]}]}},{\"content\":{\"plugin\":\"image\",\"state\":{\"src\":\"https://assets.serlo.org/legacy/2104_AxDL7tJAZv.png\",\"caption\":{\"plugin\":\"text\",\"state\":[{\"type\":\"p\",\"children\":[{}]}]}}}}]},{\"columns\":[{\"content\":{\"plugin\":\"text\",\"state\":[{\"type\":\"p\",\"children\":[{\"text\":\"und setzen uns daraus ein Quadrat zusammen\"}]}]}},{\"content\":{\"plugin\":\"image\",\"state\":{\"src\":\"https://assets.serlo.org/legacy/3371_dGOxMb3G0X.png\",\"caption\":{\"plugin\":\"text\",\"state\":[{\"type\":\"p\",\"children\":[{}]}]}}}}]},{\"columns\":[{\"content\":{\"plugin\":\"text\",\"state\":[{\"type\":\"p\",\"children\":[{\"text\":\"Dann können wir die Fläche A des großen Quadrates auf zwei verschiedene Arten ausdrücken\"}]},{\"type\":\"p\",\"children\":[{\"text\":\"\"}]},{\"type\":\"p\",\"children\":[{\"text\":\"(1)\"}]}]}},{\"content\":{\"plugin\":\"image\",\"state\":{\"src\":\"https://assets.serlo.org/legacy/2187_zz9Za4AjaS.png\",\"caption\":{\"plugin\":\"text\",\"state\":[{\"type\":\"p\",\"children\":[{}]}]}}}}]},{\"columns\":[{\"content\":{\"plugin\":\"text\",\"state\":[{\"type\":\"p\",\"children\":[{\"text\":\"(2)\"}]}]}},{\"content\":{\"plugin\":\"image\",\"state\":{\"src\":\"https://assets.serlo.org/legacy/2100_v95U88Gsi9.png\",\"caption\":{\"plugin\":\"text\",\"state\":[{\"type\":\"p\",\"children\":[{}]}]}}}}]},{\"columns\":[{\"content\":{\"plugin\":\"text\",\"state\":[{\"type\":\"p\",\"children\":[{\"text\":\"\"}]},{\"type\":\"p\",\"children\":[{\"text\":\"Durch Gleichsetzen erhalten wir die Gleichung ...\"}]},{\"type\":\"p\",\"children\":[{\"text\":\"\"}]},{\"type\":\"p\",\"children\":[{\"text\":\"\"}]}]}},{\"content\":{\"plugin\":\"text\",\"state\":[{\"type\":\"p\",\"children\":[{\"text\":\"\"}]},{\"type\":\"math\",\"src\":\"(a+b)^2=2\\\\\\\\mathrm{ab}+c^2\",\"inline\":false,\"children\":[{\"text\":\"\"}]}]}}]},{\"columns\":[{\"content\":{\"plugin\":\"text\",\"state\":[{\"type\":\"p\",\"children\":[{\"text\":\"\"}]},{\"type\":\"p\",\"children\":[{\"text\":\"... die man umformen kann zu\"}]},{\"type\":\"p\",\"children\":[{\"text\":\"\"}]}]}},{\"content\":{\"plugin\":\"text\",\"state\":[{\"type\":\"p\",\"children\":[{\"text\":\"\"}]},{\"type\":\"p\",\"children\":[{\"type\":\"math\",\"src\":\"a^2+2\\\\\\\\mathrm{ab}+b^2=2\\\\\\\\mathrm{ab}+c^2|-2ab\",\"inline\":false,\"children\":[{\"text\":\"a^2+2\\\\\\\\mathrm{ab}+b^2=2\\\\\\\\mathrm{ab}+c^2\\\\\\\\vert-2ab\"}]},{\"type\":\"math\",\"src\":\"a^2+b^2=c^2\",\"inline\":false,\"children\":[{\"text\":\"\"}]}]}]}}]}],\"tableType\":\"OnlyColumnHeader\"}}]}}},{\"plugin\":\"text\",\"state\":[{\"type\":\"h\",\"level\":2,\"children\":[{\"text\":\"Beispiel\"}]}]},{\"plugin\":\"equations\",\"state\":{\"steps\":[{\"left\":\"c^2\",\"sign\":\"equals\",\"right\":\"4^2+3^2\",\"transform\":\"\",\"explanation\":{\"plugin\":\"text\",\"state\":[{\"type\":\"p\",\"children\":[{\"text\":\"Setze in den Satz des Pythagoras ein und rechne die rechte Seite aus.\"}]}]}},{\"left\":\"c^2\",\"sign\":\"equals\",\"right\":\"16+9\",\"transform\":\"\",\"explanation\":{\"plugin\":\"text\",\"state\":[{\"type\":\"p\",\"children\":[{}]}]}},{\"left\":\"\",\"sign\":\"equals\",\"right\":\"25\",\"transform\":\"\\\\\\\\sqrt{ }\",\"explanation\":{\"plugin\":\"text\",\"state\":[{\"type\":\"p\",\"children\":[{\"text\":\"Ziehe die \"},{\"type\":\"a\",\"href\":\"/1511\",\"children\":[{\"text\":\"Wurzel\"}]},{\"text\":\"\"}]}]}},{\"left\":\"c\",\"sign\":\"equals\",\"right\":\"5\",\"transform\":\"\",\"explanation\":{\"plugin\":\"text\",\"state\":[{\"type\":\"p\",\"children\":[{\"text\":\"\"}]}]}}],\"firstExplanation\":{\"plugin\":\"text\",\"state\":[{\"type\":\"p\",\"children\":[{\"text\":\"Gegeben sind die beiden Katheten \"},{\"type\":\"math\",\"src\":\"a=4\",\"inline\":true,\"children\":[{\"text\":\"a=4\"}]},{\"text\":\" und \"},{\"type\":\"math\",\"src\":\"b=3\",\"inline\":true,\"children\":[{\"text\":\"b=3\"}]},{\"text\":\" eines rechtwinkligen Dreiecks. \"}]},{\"type\":\"p\",\"children\":[{\"text\":\"Berechne die Hypotenuse \"},{\"type\":\"math\",\"src\":\"c\",\"inline\":true,\"children\":[{\"text\":\"c\"}]},{\"text\":\".\"}]}]},\"transformationTarget\":\"equation\"}},{\"plugin\":\"text\",\"state\":[{\"type\":\"p\",\"children\":[{\"text\":\"(Bemerkung: Die Lösung \"},{\"type\":\"math\",\"src\":\"c = -5\",\"inline\":true,\"children\":[{\"text\":\"c = -5\"}]},{\"text\":\" scheidet aus, weil eine Länge nicht negativ sein kann.)\"}]}]},{\"plugin\":\"box\",\"state\":{\"type\":\"approach\",\"title\":{\"plugin\":\"text\",\"state\":[{\"type\":\"p\",\"children\":[{}]}]},\"anchorId\":\"box45969\",\"content\":{\"plugin\":\"rows\",\"state\":[{\"plugin\":\"text\",\"state\":[{\"type\":\"p\",\"children\":[{\"text\":\"Wenn man nach einer Kathete sucht, muss man diese Formel umstellen. \"}]},{\"type\":\"p\",\"children\":[{\"text\":\"Die Kathete a lässt sich zum Beispiel berechnen mit \"},{\"type\":\"math\",\"src\":\"a=\\\\\\\\sqrt{c^2-b^2}\",\"inline\":true,\"children\":[{\"text\":\"a=\\\\\\\\sqrt{c^2-b^2}\"}]},{\"text\":\"\"}]}]}]}}},{\"plugin\":\"spoiler\",\"state\":{\"title\":\"Weitere Beispielaufgaben\",\"content\":{\"plugin\":\"rows\",\"state\":[{\"plugin\":\"injection\",\"state\":\"/9489\"},{\"plugin\":\"injection\",\"state\":\"/9493\"},{\"plugin\":\"injection\",\"state\":\"/9497\"},{\"plugin\":\"injection\",\"state\":\"11017\"}]}}},{\"plugin\":\"text\",\"state\":[{\"type\":\"h\",\"level\":3,\"children\":[{\"text\":\"Video mit Beispielrechnungen\"}]}]},{\"plugin\":\"injection\",\"state\":\"/59467\"},{\"plugin\":\"text\",\"state\":[{\"type\":\"h\",\"level\":2,\"children\":[{\"text\":\"Pythagoras beschreibt auch Flächengleichheit\"}]},{\"type\":\"p\",\"children\":[{\"text\":\"Für jede positive Zahl \"},{\"type\":\"math\",\"src\":\"a\",\"inline\":true,\"children\":[{\"text\":\"a\"}]},{\"text\":\" beschreibt \"},{\"type\":\"math\",\"src\":\"a^2\",\"inline\":true,\"children\":[{\"text\":\"a^2\"}]},{\"text\":\" die Fläche eines Quadrates mit der Seitenlänge \"},{\"type\":\"math\",\"src\":\"a\",\"inline\":true,\"children\":[{\"text\":\"a\"}]},{\"text\":\". Genauso kann man sich \"},{\"type\":\"math\",\"src\":\"b^2\",\"inline\":true,\"children\":[{\"text\":\"b^2\"}]},{\"text\":\" und \"},{\"type\":\"math\",\"src\":\"c^2\",\"inline\":true,\"children\":[{\"text\":\"c^2\"}]},{\"text\":\" als Fläche von Quadraten vorstellen.\"}]},{\"type\":\"p\",\"children\":[{\"text\":\"Der Satz des Pythagoras gibt somit auch einen Zusammenhang der Flächen über den Katheten und der Hypotenuse in einem rechtwinkligen Dreieck an. Anschaulich kann man dies an folgenden Applet erkennen.\"}]}]},{\"plugin\":\"geogebra\",\"state\":\"kZPtYqh2\"},{\"plugin\":\"text\",\"state\":[{\"type\":\"p\",\"children\":[{\"text\":\"  \"}]},{\"type\":\"p\",\"children\":[{\"text\":\"In einem \"},{\"text\":\"rechtwinkligen\",\"strong\":true},{\"text\":\" Dreieck ist die Summe der Flächen über den Katheten gleich groß wie die Fläche des Quadrats über der Hypotenuse.\"}]}]},{\"plugin\":\"text\",\"state\":[{\"type\":\"h\",\"level\":2,\"children\":[{\"text\":\"Anwendungen\"}]},{\"type\":\"p\",\"children\":[{\"text\":\"Rechtwinklige Dreiecke kommen sehr häufig vor. Damit hat der Satz des Pythagoras sehr viele Anwendungen. \"}]},{\"type\":\"h\",\"level\":3,\"children\":[{\"text\":\"Beispiele aus der Praxis\"}]},{\"type\":\"unordered-list\",\"children\":[{\"type\":\"list-item\",\"children\":[{\"type\":\"list-item-child\",\"children\":[{\"text\":\"Berechnung von Streckenlängen in Gebäuden\"}]}]},{\"type\":\"list-item\",\"children\":[{\"type\":\"list-item-child\",\"children\":[{\"text\":\"Berechnungen an weiteren Figuren und Körpern\"}]}]},{\"type\":\"list-item\",\"children\":[{\"type\":\"list-item-child\",\"children\":[{\"text\":\"usw. \"}]}]}]},{\"type\":\"h\",\"level\":3,\"children\":[{\"text\":\"Als Hilfsmittel im Koordinatensystem\"}]},{\"type\":\"unordered-list\",\"children\":[{\"type\":\"list-item\",\"children\":[{\"type\":\"list-item-child\",\"children\":[{\"text\":\"Berechnung des \"},{\"type\":\"a\",\"href\":\"/1783\",\"children\":[{\"text\":\"Abstandes zweier Punkte\"}]},{\"text\":\"\"}]}]}]},{\"type\":\"h\",\"level\":3,\"children\":[{\"text\":\"Mathematische Spielereien\"}]},{\"type\":\"unordered-list\",\"children\":[{\"type\":\"list-item\",\"children\":[{\"type\":\"list-item-child\",\"children\":[{\"text\":\"\"},{\"type\":\"a\",\"href\":\"https://de.wikipedia.org/wiki/Wurzelschnecke\",\"children\":[{\"text\":\"Wurzelschnecke\"}]},{\"text\":\" (zum \"},{\"text\":\"exakten\",\"strong\":true},{\"text\":\" Zeichnen von Strecken der Längen \"},{\"type\":\"math\",\"src\":\"\\\\\\\\sqrt{2}, \\\\\\\\sqrt{3}, …\",\"inline\":true,\"children\":[{\"text\":\"\\\\\\\\sqrt{2}, \\\\\\\\sqrt{3}, …\"}]},{\"text\":\")\"}]}]}]}]}]},\"exercises\":[{\"plugin\":\"injection\",\"state\":\"9497\"}],\"exerciseFolder\":{\"id\":\"30678\",\"title\":\"Aufgaben zur Satzgruppe des Pythagoras \"},\"relatedContent\":{\"articles\":[{\"id\":\"169702\",\"title\":\"Kehrsatz des Satz des Pythagoras\"},{\"id\":\"1543\",\"title\":\"Kathete\"},{\"id\":\"1541\",\"title\":\"Hypotenuse\"}],\"courses\":[{\"id\":\"18514\",\"title\":\"Überblick zum Satz des Pythagoras\"}],\"videos\":[]},\"sources\":[]}}'"
      ]
     },
     "execution_count": 20,
     "metadata": {},
     "output_type": "execute_result"
    }
   ],
   "source": [
    "import requests\n",
    "\n",
    "def api_call(query, variables={}):\n",
    "        response = requests.post(\"https://api.serlo.org/graphql\",\n",
    "            headers = {\n",
    "                \"Content-Type\": \"application/json\",\n",
    "            },\n",
    "            json = { \"query\": query, \"variables\": variables }\n",
    "        )\n",
    "        \n",
    "        if response.status_code not in [200,400]:\n",
    "            response.raise_for_status()\n",
    "        \n",
    "        result = response.json()\n",
    "        \n",
    "        if \"errors\" in result and result[\"errors\"]:\n",
    "            raise requests.HTTPError(result[\"errors\"][0][\"message\"], response=response)\n",
    "        \n",
    "        return result[\"data\"]\n",
    "\n",
    "def get_content_of_article(article_path):\n",
    "    variables = {\n",
    "        \"alias\": {\n",
    "            \"instance\": get_subdomain(article_path),\n",
    "            \"path\": get_pathname(article_path)\n",
    "        }\n",
    "    }\n",
    "    \n",
    "    response = api_call(\"\"\"\n",
    "        query($alias: AliasInput!) {\n",
    "            uuid(alias: $alias) {\n",
    "               ...on Article {\n",
    "                   currentRevision {\n",
    "                       content\n",
    "                   }\n",
    "               }\n",
    "            }\n",
    "        }\n",
    "    \"\"\", variables=variables)\n",
    "    \n",
    "    return response[\"uuid\"][\"currentRevision\"][\"content\"]\n",
    "\n",
    "get_content_of_article(\"https://de.serlo.org/mathe/1515/satz-des-pythagoras\")"
   ]
  },
  {
   "cell_type": "markdown",
   "id": "isolated-split",
   "metadata": {},
   "source": [
    "# Get fulltext from JSON content"
   ]
  },
  {
   "cell_type": "code",
   "execution_count": 25,
   "id": "editorial-resistance",
   "metadata": {},
   "outputs": [
    {
     "data": {
      "text/html": [
       "<p><code>Der Satz des Pythagoras stellt eine Beziehung zwischen den Seitenlängen eines  rechtwinkligen Dreiecks  her: Die Summe der quadrierten   Katheten  ( a  und  b ) ist gleich dem Quadrat der  Hypotenuse  ( c ). Die Formel  a^2 + b^2 = c^2  gilt  nur  bei  rechtwinkligen  Dreiecken, wenn c die Hypotenuse ist! Detaillierte Einführung In diesem Video wird der Satz des Pythagoras sehr ausführlich erklärt. Für den Satz des Pythagoras gibt es viele sehr verschiedene Beweise. Einer soll hier beschrieben werden. Er macht nichts anderes, als sich mit dem rechtwinkligen Dreieck ein bestimmtes Quadrat zusammenzusetzen und dessen Fläche dann auf zwei verschiedene Arten auszudrücken. Erklärung Darstellung/Gleichung Wir starten mit einem beliebigen rechtwinkligen Dreieck und setzen uns daraus ein Quadrat zusammen Dann können wir die Fläche A des großen Quadrates auf zwei verschiedene Arten ausdrücken  (1) (2)  Durch Gleichsetzen erhalten wir die Gleichung ...      ... die man umformen kann zu   a^2+2\\mathrm{ab}+b^2=2\\mathrm{ab}+c^2\\vert-2ab  Beispiel Setze in den Satz des Pythagoras ein und rechne die rechte Seite aus. Ziehe die  Wurzel   Gegeben sind die beiden Katheten  a=4  und  b=3  eines rechtwinkligen Dreiecks.  Berechne die Hypotenuse  c . (Bemerkung: Die Lösung  c = -5  scheidet aus, weil eine Länge nicht negativ sein kann.) Wenn man nach einer Kathete sucht, muss man diese Formel umstellen.  Die Kathete a lässt sich zum Beispiel berechnen mit  a=\\sqrt{c^2-b^2}  Video mit Beispielrechnungen Pythagoras beschreibt auch Flächengleichheit Für jede positive Zahl  a  beschreibt  a^2  die Fläche eines Quadrates mit der Seitenlänge  a . Genauso kann man sich  b^2  und  c^2  als Fläche von Quadraten vorstellen. Der Satz des Pythagoras gibt somit auch einen Zusammenhang der Flächen über den Katheten und der Hypotenuse in einem rechtwinkligen Dreieck an. Anschaulich kann man dies an folgenden Applet erkennen.    In einem  rechtwinkligen  Dreieck ist die Summe der Flächen über den Katheten gleich groß wie die Fläche des Quadrats über der Hypotenuse. Anwendungen Rechtwinklige Dreiecke kommen sehr häufig vor. Damit hat der Satz des Pythagoras sehr viele Anwendungen.  Beispiele aus der Praxis Berechnung von Streckenlängen in Gebäuden Berechnungen an weiteren Figuren und Körpern usw.  Als Hilfsmittel im Koordinatensystem Berechnung des  Abstandes zweier Punkte  Mathematische Spielereien  Wurzelschnecke  (zum  exakten  Zeichnen von Strecken der Längen  \\sqrt{2}, \\sqrt{3}, … )</code></p>"
      ],
      "text/plain": [
       "<IPython.core.display.HTML object>"
      ]
     },
     "metadata": {},
     "output_type": "display_data"
    }
   ],
   "source": [
    "import json\n",
    "\n",
    "def get_fulltext(content):\n",
    "    try:\n",
    "        parsed_content = json.loads(content)\n",
    "    except e:\n",
    "        # All of our content is SON\n",
    "        return \"\"\n",
    "    \n",
    "    return \" \".join(get_text_contents(parsed_content))\n",
    "\n",
    "def get_text_contents(content):\n",
    "    if isinstance(content, dict):\n",
    "        if \"text\" in content and isinstance(content[\"text\"], str):\n",
    "            yield content[\"text\"]\n",
    "        \n",
    "        for value in content.values():\n",
    "            yield from get_text_contents(value)\n",
    "    elif isinstance(content, list):\n",
    "        for value in content:\n",
    "            yield from get_text_contents(value)\n",
    "\n",
    "article_content = get_content_of_article(\"https://de.serlo.org/mathe/1515/satz-des-pythagoras\")\n",
    "fulltext = get_fulltext(article_content)\n",
    "\n",
    "display_html(\"<p><code>\" + fulltext + \"</code></p>\")"
   ]
  }
 ],
 "metadata": {
  "kernelspec": {
   "display_name": "Python 3",
   "language": "python",
   "name": "python3"
  },
  "language_info": {
   "codemirror_mode": {
    "name": "ipython",
    "version": 3
   },
   "file_extension": ".py",
   "mimetype": "text/x-python",
   "name": "python",
   "nbconvert_exporter": "python",
   "pygments_lexer": "ipython3",
   "version": "3.9.1"
  }
 },
 "nbformat": 4,
 "nbformat_minor": 5
}
