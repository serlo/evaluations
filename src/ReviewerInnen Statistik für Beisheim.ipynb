{
 "cells": [
  {
   "cell_type": "markdown",
   "id": "d1b25109",
   "metadata": {},
   "source": [
    "# Ergebnisse in der Tabelle am Ende des Notebooks"
   ]
  },
  {
   "cell_type": "code",
   "execution_count": 2,
   "id": "09f40445",
   "metadata": {},
   "outputs": [
    {
     "name": "stderr",
     "output_type": "stream",
     "text": [
      "/Users/cj/.asdf/installs/python/3.9.1/lib/python3.9/site-packages/pandas/compat/__init__.py:109: UserWarning: Could not import the lzma module. Your installed Python is incomplete. Attempting to use lzma compression will result in a RuntimeError.\n",
      "  warnings.warn(msg)\n"
     ]
    }
   ],
   "source": [
    "from tabulate import tabulate\n",
    "import pandas as pd\n",
    "import mysql.connector\n",
    "\n",
    "from IPython.display import display, Markdown, HTML\n",
    "\n",
    "db = mysql.connector.connect(\n",
    "    host=\"localhost\",\n",
    "    user=\"root\",\n",
    "    password=\"secret\",\n",
    "    port=\"3306\",\n",
    "    database=\"serlo\",\n",
    "    charset=\"latin1\"\n",
    ")\n",
    "\n",
    "def cached(func):\n",
    "    cache = dict()\n",
    "    \n",
    "    def return_func(arg):\n",
    "        if (arg in cache):\n",
    "            return cache[arg]\n",
    "        else:\n",
    "            result = func(arg)\n",
    "            cache[arg] = result\n",
    "            return result\n",
    "    \n",
    "    return return_func\n",
    "\n",
    "def query(sql):\n",
    "    c = db.cursor()\n",
    "    c.execute(sql)\n",
    "    \n",
    "    return c.fetchall()\n",
    "\n",
    "def querySingleton(sql):\n",
    "    return [ x[0] for x in query(sql) ]\n",
    "\n",
    "@cached\n",
    "def getParent(termId):\n",
    "    return querySingleton(\"\"\"\n",
    "        select parent_id from term_taxonomy where id = %s;\n",
    "    \"\"\" % termId)[0]\n",
    "\n",
    "def getTermName(termId):\n",
    "    return querySingleton(\"\"\"\n",
    "        select term.name from term_taxonomy\n",
    "        join term on term.id = term_taxonomy.term_id\n",
    "        where term_taxonomy.id = %s;\n",
    "    \"\"\" % termId)[0]\n",
    "\n",
    "@cached\n",
    "def getSubject(termId):\n",
    "    if int(termId) in [79733, 81317, 20852, 87814, 87827, 85477, 87860, 75049, 76750, 87496, 75678, 91252, 91253]:\n",
    "        return \"Prüfungsbereich Mathematik\"\n",
    "    if int(termId) in [106082]:\n",
    "        return getTermName(termId)\n",
    "    \n",
    "    parent = getParent(termId)\n",
    "    grandparent = getParent(parent)\n",
    "    \n",
    "    if (parent == 106081):\n",
    "        return getTermName(termId)\n",
    "    \n",
    "    return getSubject(parent) if grandparent != None else getTermName(termId)\n",
    "\n",
    "@cached\n",
    "def getSubjectFromUuid(uuid):\n",
    "    taxonomyTerms = querySingleton(f\"\"\"\n",
    "        select term_taxonomy_id from term_taxonomy_entity\n",
    "        where term_taxonomy_entity.entity_id  = {uuid};\n",
    "    \"\"\")\n",
    "    \n",
    "    if len(taxonomyTerms) > 0:\n",
    "        return getSubject(taxonomyTerms[0])\n",
    "\n",
    "    parents = querySingleton(f\"\"\"\n",
    "        select parent_id from entity_link\n",
    "        where entity_link.child_id  = {uuid};\n",
    "    \"\"\")\n",
    "    \n",
    "    if len(parents) > 0:\n",
    "        return getSubjectFromUuid(parents[0])\n",
    "    \n",
    "    return None"
   ]
  },
  {
   "cell_type": "code",
   "execution_count": 3,
   "id": "05689274",
   "metadata": {},
   "outputs": [],
   "source": [
    "import json\n",
    "\n",
    "json.dumps(querySingleton(\"\"\"\n",
    "select distinct(entity_link.parent_id ) from event_log join entity_link on entity_link.child_id = event_log.uuid_id where event_log.event_id = 4 and event_log.date > Date(\"2020-02-01\");\n",
    "\"\"\"));"
   ]
  },
  {
   "cell_type": "markdown",
   "id": "cf5a03d5",
   "metadata": {},
   "source": [
    "# Entity Types:<br>\n",
    "id | name                    <br>   \n",
    "+----+-----------------------------<br>\n",
    "|  1 | taxonomy/term/associate     <br>\n",
    "|  2 | taxonomy/term/create        <br>\n",
    "|  3 | license/object/set          <br>\n",
    "|  4 | entity/create               <br>\n",
    "|  5 | entity/revision/add         <br>\n",
    "|  6 | entity/revision/checkout   <br>\n",
    "|  7 | entity/link/create          <br>\n",
    "|  8 | discussion/create           <br>\n",
    "|  9 | discussion/comment/create  <br>\n",
    "| 10 | uuid/trash                  <br>\n",
    "| 11 | entity/revision/reject      <br>\n",
    "| 12 | taxonomy/term/update        <br>\n",
    "| 13 | uuid/restore                <br>\n",
    "| 14 | discussion/comment/archive <br>\n",
    "| 15 | taxonomy/term/parent/change <br>\n",
    "| 16 | discussion/restore          <br>\n",
    "| 17 | taxonomy/term/dissociate    <br>\n",
    "| 18 | entity/link/remove          <br>      \n",
    "\n",
    "\n",
    "# Für diese Analyse ausgewählt:<br>\n",
    "**ReviewerInnen**<br>\n",
    " 6 | entity/revision/checkout<br>\n",
    "11 | entity/revision/reject<br> \n",
    "  \n",
    "**TaxonomiebauerInnen**  <br>\n",
    "  1 | taxonomy/term/associate<br>\n",
    "  2 | taxonomy/term/create<br>  \n",
    " 12 | taxonomy/term/update<br> \n",
    " 15 | taxonomy/term/parent/change<br>\n",
    " 17 | taxonomy/term/dissociate<br> \n",
    "\n",
    "**ModeratorInnen**<br>\n",
    "   9 | discussion/comment/create  <br>\n",
    "  14 | discussion/comment/archive <br>\n",
    "  16 | discussion/restore<br>\n",
    "\n",
    "**Admins** (mit Vorsicht zu genießen) <br>\n",
    " 10 | uuid/trash                  <br>\n",
    " 13 | uuid/restore<br>\n",
    " \n",
    " \n",
    " "
   ]
  },
  {
   "cell_type": "code",
   "execution_count": 4,
   "id": "594541f1",
   "metadata": {},
   "outputs": [],
   "source": [
    "def read_event_log():\n",
    "    df = pd.read_sql(\"\"\"\n",
    "        select event_log.id, event_log.actor_id, event_log.date, user.username, event_parameter_uuid.uuid_id from event_log\n",
    "        join user on user.id = event_log.actor_id\n",
    "        join event_parameter on event_parameter.log_id = event_log.id\n",
    "        join event_parameter_uuid on event_parameter_uuid.event_parameter_id = event_parameter.id\n",
    "        where event_log.event_id = 1 \n",
    "            or event_log.event_id = 2 \n",
    "            or event_log.event_id = 6 \n",
    "            or event_log.event_id = 10 \n",
    "            or event_log.event_id = 11\n",
    "            or event_log.event_id = 12\n",
    "            or event_log.event_id = 13 \n",
    "            or event_log.event_id = 14 \n",
    "            or event_log.event_id = 15\n",
    "            or event_log.event_id = 16\n",
    "            or event_log.event_id = 17\n",
    "        and year(event_log.date) > 2018\n",
    "        and user.username != \"Legacy\"\n",
    "    \"\"\", db)\n",
    "    df.set_index(\"id\", inplace=True)\n",
    "    df.rename(columns={\"uuid_id\": \"uuid\"}, inplace=True)\n",
    "    df[\"subject\"] = df[\"uuid\"].map(getSubjectFromUuid)\n",
    "    return df\n",
    "\n",
    "event_log = read_event_log()"
   ]
  },
  {
   "cell_type": "code",
   "execution_count": 5,
   "id": "19306358",
   "metadata": {},
   "outputs": [
    {
     "name": "stderr",
     "output_type": "stream",
     "text": [
      "/Users/cj/.asdf/installs/python/3.9.1/lib/python3.9/site-packages/pandas/core/frame.py:4308: SettingWithCopyWarning: \n",
      "A value is trying to be set on a copy of a slice from a DataFrame\n",
      "\n",
      "See the caveats in the documentation: https://pandas.pydata.org/pandas-docs/stable/user_guide/indexing.html#returning-a-view-versus-a-copy\n",
      "  return super().drop(\n"
     ]
    }
   ],
   "source": [
    "#Berechnung der ReviewerInnen etc.. pro Fach\n",
    "days = 90\n",
    "edits = 10\n",
    "cutoff_date = pd.Timestamp.today() - pd.Timedelta(days=days)\n",
    "#print (cutoff_date)\n",
    "\n",
    "df1 = event_log[event_log['date'] > cutoff_date]\n",
    "#Delete User \"Legacy\"\n",
    "df1.drop(df1[df1.actor_id == 6].index, inplace=True)\n",
    "df2 = df1.groupby(by = ['subject', 'actor_id'], as_index = False).count()\n",
    "df3 = df2[df2['uuid'] >= edits]\n",
    "df3 = df3.drop(['date', 'username', 'uuid'], axis = 1)\n",
    "df4 = df3.groupby(by = ['subject']).count()\n",
    "active_reviewers_df = df4.rename(columns={\"actor_id\": \"active_reviewers\"})\n",
    "active_reviewers_df = active_reviewers_df.sort_values(by = ['active_reviewers'], ascending=False)"
   ]
  },
  {
   "cell_type": "code",
   "execution_count": 6,
   "id": "cd7a0812",
   "metadata": {},
   "outputs": [
    {
     "data": {
      "text/plain": [
       "54"
      ]
     },
     "execution_count": 6,
     "metadata": {},
     "output_type": "execute_result"
    }
   ],
   "source": [
    "#Berechnung der ReviewerInnen etc. über Fächer hinweg\n",
    "total_df1 = df1.groupby(by = ['actor_id'], as_index = False).count()\n",
    "total_df2 = total_df1[total_df1['uuid'] >= edits]\n",
    "total_nr = df3.actor_id.count()"
   ]
  },
  {
   "cell_type": "code",
   "execution_count": 7,
   "id": "26dadd4b",
   "metadata": {},
   "outputs": [
    {
     "data": {
      "text/markdown": [
       "### Anzahl aktiver Reviewer:Innnen pro Fach"
      ],
      "text/plain": [
       "<IPython.core.display.Markdown object>"
      ]
     },
     "metadata": {},
     "output_type": "display_data"
    },
    {
     "name": "stdout",
     "output_type": "stream",
     "text": [
      "| subject                          |   active_reviewers |\n",
      "|:---------------------------------|-------------------:|\n",
      "| Mathe                            |                 11 |\n",
      "| Sandkasten                       |                  9 |\n",
      "| Community                        |                  6 |\n",
      "| Biologie                         |                  5 |\n",
      "| Englisch                         |                  4 |\n",
      "| Informatik                       |                  4 |\n",
      "| Nachhaltigkeit                   |                  3 |\n",
      "| Prüfungsbereich Mathematik       |                  3 |\n",
      "| Chemie                           |                  2 |\n",
      "| Deutsch als Fremdsprache         |                  1 |\n",
      "| Estudios en DiÃ¡sporas Africanas |                  1 |\n",
      "| Geographie                       |                  1 |\n",
      "| MatemÃ¡ticas                     |                  1 |\n",
      "| Math                             |                  1 |\n",
      "| Physik                           |                  1 |\n",
      "| Sostenibilidad aplicada          |                  1 |\n"
     ]
    },
    {
     "data": {
      "text/markdown": [
       "### Anzahl aktiver Reviewer:Innnen Total"
      ],
      "text/plain": [
       "<IPython.core.display.Markdown object>"
      ]
     },
     "metadata": {},
     "output_type": "display_data"
    },
    {
     "name": "stdout",
     "output_type": "stream",
     "text": [
      "54\n"
     ]
    },
    {
     "data": {
      "text/markdown": [
       "Bitte beachte, dass Total nicht die Summe der ReviewerInnen pro Fach ist, da ReviewerInnen in mehreren Fächern parallel aktiv sein können und deswegen Total separat berechnet wird"
      ],
      "text/plain": [
       "<IPython.core.display.Markdown object>"
      ]
     },
     "metadata": {},
     "output_type": "display_data"
    }
   ],
   "source": [
    "display(Markdown(f\"### Anzahl aktiver Reviewer:Innnen pro Fach\"))\n",
    "print(active_reviewers_df.to_markdown())\n",
    "display(Markdown(f\"### Anzahl aktiver Reviewer:Innnen Total\"))\n",
    "print(total_nr)\n",
    "display(Markdown(f\"Bitte beachte, dass Total nicht die Summe der ReviewerInnen pro Fach ist, da ReviewerInnen in mehreren Fächern parallel aktiv sein können und deswegen Total separat berechnet wird\"))"
   ]
  },
  {
   "cell_type": "code",
   "execution_count": null,
   "id": "6f05b29b",
   "metadata": {},
   "outputs": [],
   "source": []
  }
 ],
 "metadata": {
  "kernelspec": {
   "display_name": "Python 3 (ipykernel)",
   "language": "python",
   "name": "python3"
  },
  "language_info": {
   "codemirror_mode": {
    "name": "ipython",
    "version": 3
   },
   "file_extension": ".py",
   "mimetype": "text/x-python",
   "name": "python",
   "nbconvert_exporter": "python",
   "pygments_lexer": "ipython3",
   "version": "3.9.1"
  }
 },
 "nbformat": 4,
 "nbformat_minor": 5
}
