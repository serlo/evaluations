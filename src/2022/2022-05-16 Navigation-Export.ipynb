{
 "cells": [
  {
   "cell_type": "code",
   "execution_count": 25,
   "id": "acting-briefs",
   "metadata": {},
   "outputs": [],
   "source": [
    "import pandas as pd\n",
    "import mysql.connector\n",
    "\n",
    "from IPython.display import display, Markdown, HTML\n",
    "\n",
    "db = mysql.connector.connect(\n",
    "    host=\"localhost\",\n",
    "    user=\"root\",\n",
    "    password=\"secret\",\n",
    "    port=\"3306\",\n",
    "    database=\"serlo\"\n",
    ")\n",
    "\n",
    "def cached(func):\n",
    "    cache = dict()\n",
    "    \n",
    "    def return_func(arg):\n",
    "        if (arg in cache):\n",
    "            return cache[arg]\n",
    "        else:\n",
    "            result = func(arg)\n",
    "            cache[arg] = result\n",
    "            return result\n",
    "    \n",
    "    return return_func\n",
    "\n",
    "def query(sql):\n",
    "    c = db.cursor()\n",
    "    c.execute(sql)\n",
    "    \n",
    "    return c.fetchall()\n",
    "\n",
    "def querySingleton(sql):\n",
    "    return [ x[0] for x in query(sql) ]"
   ]
  },
  {
   "cell_type": "code",
   "execution_count": 26,
   "id": "apparent-grove",
   "metadata": {},
   "outputs": [
    {
     "data": {
      "text/plain": [
       "[(16256, 'de', 1),\n",
       " (16303, 'de', 1),\n",
       " (16306, 'de', 1),\n",
       " (16530, 'de', 1),\n",
       " (16569, 'de', 1),\n",
       " (16659, 'de', 1),\n",
       " (16816, 'de', 1),\n",
       " (18233, 'de', 1),\n",
       " (18340, 'de', 1),\n",
       " (18778, 'de', 1)]"
      ]
     },
     "execution_count": 26,
     "metadata": {},
     "output_type": "execute_result"
    }
   ],
   "source": [
    "page_ids = query(\"\"\"\n",
    "    select\n",
    "        page_repository.id,\n",
    "        instance.subdomain,\n",
    "        uuid.trashed\n",
    "    from page_repository\n",
    "        join uuid on uuid.id = page_repository.id\n",
    "        join instance on page_repository.instance_id = instance.id;\n",
    "\"\"\")\n",
    "page_ids[0:10]"
   ]
  },
  {
   "cell_type": "code",
   "execution_count": 27,
   "id": "considerable-geneva",
   "metadata": {},
   "outputs": [
    {
     "data": {
      "text/plain": [
       "{'uuid': {'__typename': 'User'}}"
      ]
     },
     "execution_count": 27,
     "metadata": {},
     "output_type": "execute_result"
    }
   ],
   "source": [
    "import requests\n",
    "\n",
    "def api_call(query, variables={}):\n",
    "    headers = { \"Content-Type\": \"application/json\" }\n",
    "\n",
    "    response = requests.post(\n",
    "            \"https://api.serlo.org/graphql\",\n",
    "            headers = headers,\n",
    "            json = { \"query\": query, \"variables\": variables })\n",
    "\n",
    "    if response.status_code not in [200, 400]:\n",
    "        response.raise_for_status()\n",
    "\n",
    "    try:\n",
    "        result = response.json()\n",
    "\n",
    "        if \"errors\" in result and result[\"errors\"]:\n",
    "            raise requests.HTTPError(result[\"errors\"][0][\"message\"],\n",
    "                                     response=response)\n",
    "\n",
    "        return result[\"data\"]\n",
    "    except e:\n",
    "        print(response.text)\n",
    "        raise e \n",
    "\n",
    "api_call(\"\"\"\n",
    "    query($id: Int) {\n",
    "        uuid(id: $id) {\n",
    "            __typename\n",
    "        }\n",
    "    }\n",
    "\"\"\", { \"id\": 1 })"
   ]
  },
  {
   "cell_type": "code",
   "execution_count": 28,
   "id": "bottom-seeker",
   "metadata": {},
   "outputs": [
    {
     "name": "stdout",
     "output_type": "stream",
     "text": [
      "{\n",
      "  \"label\": \"\\u00dcber Serlo\",\n",
      "  \"id\": 18922,\n",
      "  \"children\": [\n",
      "    {\n",
      "      \"label\": \"So funktioniert die Lernplattform\",\n",
      "      \"id\": 81862\n",
      "    },\n",
      "    {\n",
      "      \"label\": \"Wirkung\",\n",
      "      \"id\": 21406\n",
      "    },\n",
      "    {\n",
      "      \"label\": \"Team\",\n",
      "      \"id\": 21439\n",
      "    },\n",
      "    {\n",
      "      \"label\": \"Die Geschichte von Serlo\",\n",
      "      \"id\": 21413\n",
      "    },\n",
      "    {\n",
      "      \"label\": \"Partner und F\\u00f6rderer\",\n",
      "      \"id\": 21456\n",
      "    },\n",
      "    {\n",
      "      \"label\": \"Transparenz\",\n",
      "      \"id\": 21468\n",
      "    },\n",
      "    {\n",
      "      \"label\": \"Spenden\",\n",
      "      \"url\": \"/spenden\"\n",
      "    }\n",
      "  ]\n",
      "}\n"
     ]
    }
   ],
   "source": [
    "import json\n",
    "\n",
    "def print_json(j):\n",
    "    print(json.dumps(j, indent=2))\n",
    "\n",
    "\n",
    "def get(obj, key):\n",
    "    return None if obj == None else obj[key]\n",
    "    \n",
    "def navigation_of_page(page_id):\n",
    "    uuid = api_call(\"\"\"\n",
    "        query {\n",
    "            uuid(id: %s) {\n",
    "                ... on Page {\n",
    "                    navigation {\n",
    "                        data\n",
    "                    }\n",
    "                }\n",
    "            }\n",
    "        }\n",
    "    \"\"\" % page_id)[\"uuid\"]\n",
    "    \n",
    "    return get(get(uuid, \"navigation\"), \"data\")\n",
    "\n",
    "print_json(navigation_of_page(18922))"
   ]
  },
  {
   "cell_type": "code",
   "execution_count": 29,
   "id": "specialized-closing",
   "metadata": {
    "scrolled": false
   },
   "outputs": [
    {
     "data": {
      "text/markdown": [
       "# Not trashed pages"
      ],
      "text/plain": [
       "<IPython.core.display.Markdown object>"
      ]
     },
     "metadata": {},
     "output_type": "display_data"
    },
    {
     "data": {
      "text/markdown": [
       "## Page 18922 on de (trashed=0):"
      ],
      "text/plain": [
       "<IPython.core.display.Markdown object>"
      ]
     },
     "metadata": {},
     "output_type": "display_data"
    },
    {
     "name": "stdout",
     "output_type": "stream",
     "text": [
      "{\n",
      "  \"label\": \"\\u00dcber Serlo\",\n",
      "  \"id\": 18922,\n",
      "  \"children\": [\n",
      "    {\n",
      "      \"label\": \"So funktioniert die Lernplattform\",\n",
      "      \"id\": 81862\n",
      "    },\n",
      "    {\n",
      "      \"label\": \"Wirkung\",\n",
      "      \"id\": 21406\n",
      "    },\n",
      "    {\n",
      "      \"label\": \"Team\",\n",
      "      \"id\": 21439\n",
      "    },\n",
      "    {\n",
      "      \"label\": \"Die Geschichte von Serlo\",\n",
      "      \"id\": 21413\n",
      "    },\n",
      "    {\n",
      "      \"label\": \"Partner und F\\u00f6rderer\",\n",
      "      \"id\": 21456\n",
      "    },\n",
      "    {\n",
      "      \"label\": \"Transparenz\",\n",
      "      \"id\": 21468\n",
      "    },\n",
      "    {\n",
      "      \"label\": \"Spenden\",\n",
      "      \"url\": \"/spenden\"\n",
      "    }\n",
      "  ]\n",
      "}\n"
     ]
    },
    {
     "data": {
      "text/markdown": [
       "## Page 19767 on de (trashed=0):"
      ],
      "text/plain": [
       "<IPython.core.display.Markdown object>"
      ]
     },
     "metadata": {},
     "output_type": "display_data"
    },
    {
     "name": "stdout",
     "output_type": "stream",
     "text": [
      "{\n",
      "  \"label\": \"Mathematik\",\n",
      "  \"id\": 19767,\n",
      "  \"children\": [\n",
      "    {\n",
      "      \"label\": \"Alle Themen\",\n",
      "      \"id\": 5\n",
      "    },\n",
      "    {\n",
      "      \"label\": \"Gymnasium\",\n",
      "      \"id\": 16042\n",
      "    },\n",
      "    {\n",
      "      \"label\": \"Realschule\",\n",
      "      \"id\": 16157\n",
      "    },\n",
      "    {\n",
      "      \"label\": \"Mittelschule (Hauptschule)\",\n",
      "      \"id\": 16259\n",
      "    },\n",
      "    {\n",
      "      \"label\": \"FOS & BOS\",\n",
      "      \"id\": 201593\n",
      "    },\n",
      "    {\n",
      "      \"label\": \"Hochschule\",\n",
      "      \"id\": 44323\n",
      "    },\n",
      "    {\n",
      "      \"label\": \"Pr\\u00fcfungen\",\n",
      "      \"id\": 83249\n",
      "    },\n",
      "    {\n",
      "      \"label\": \"Inhalte bearbeiten und neue Inhalte hinzuf\\u00fcgen\",\n",
      "      \"id\": 19880\n",
      "    },\n",
      "    {\n",
      "      \"label\": \"Chat f\\u00fcr Mathe-AutorInnen\",\n",
      "      \"url\": \"https://community.serlo.org/channel/mathe\"\n",
      "    }\n",
      "  ]\n",
      "}\n"
     ]
    },
    {
     "data": {
      "text/markdown": [
       "## Page 19869 on de (trashed=0):"
      ],
      "text/plain": [
       "<IPython.core.display.Markdown object>"
      ]
     },
     "metadata": {},
     "output_type": "display_data"
    },
    {
     "name": "stdout",
     "output_type": "stream",
     "text": [
      "{\n",
      "  \"label\": \"Mitmachen\",\n",
      "  \"id\": 19869,\n",
      "  \"children\": [\n",
      "    {\n",
      "      \"label\": \"Engagement, Praktika & Jobs\",\n",
      "      \"id\": 21563\n",
      "    },\n",
      "    {\n",
      "      \"label\": \"Kontakt und Standorte\",\n",
      "      \"id\": 21657\n",
      "    },\n",
      "    {\n",
      "      \"label\": \"Spenden\",\n",
      "      \"url\": \"/spenden\"\n",
      "    }\n",
      "  ]\n",
      "}\n"
     ]
    },
    {
     "data": {
      "text/markdown": [
       "## Page 19871 on de (trashed=0):"
      ],
      "text/plain": [
       "<IPython.core.display.Markdown object>"
      ]
     },
     "metadata": {},
     "output_type": "display_data"
    },
    {
     "name": "stdout",
     "output_type": "stream",
     "text": [
      "null\n"
     ]
    },
    {
     "data": {
      "text/markdown": [
       "## Page 19875 on de (trashed=0):"
      ],
      "text/plain": [
       "<IPython.core.display.Markdown object>"
      ]
     },
     "metadata": {},
     "output_type": "display_data"
    },
    {
     "name": "stdout",
     "output_type": "stream",
     "text": [
      "null\n"
     ]
    },
    {
     "data": {
      "text/markdown": [
       "## Page 19880 on de (trashed=0):"
      ],
      "text/plain": [
       "<IPython.core.display.Markdown object>"
      ]
     },
     "metadata": {},
     "output_type": "display_data"
    },
    {
     "name": "stdout",
     "output_type": "stream",
     "text": [
      "{\n",
      "  \"label\": \"Mathematik\",\n",
      "  \"id\": 19767,\n",
      "  \"children\": [\n",
      "    {\n",
      "      \"label\": \"Alle Themen\",\n",
      "      \"id\": 5\n",
      "    },\n",
      "    {\n",
      "      \"label\": \"Gymnasium\",\n",
      "      \"id\": 16042\n",
      "    },\n",
      "    {\n",
      "      \"label\": \"Realschule\",\n",
      "      \"id\": 16157\n",
      "    },\n",
      "    {\n",
      "      \"label\": \"Mittelschule (Hauptschule)\",\n",
      "      \"id\": 16259\n",
      "    },\n",
      "    {\n",
      "      \"label\": \"FOS & BOS\",\n",
      "      \"id\": 201593\n",
      "    },\n",
      "    {\n",
      "      \"label\": \"Hochschule\",\n",
      "      \"id\": 44323\n",
      "    },\n",
      "    {\n",
      "      \"label\": \"Pr\\u00fcfungen\",\n",
      "      \"id\": 83249\n",
      "    },\n",
      "    {\n",
      "      \"label\": \"Inhalte bearbeiten und neue Inhalte hinzuf\\u00fcgen\",\n",
      "      \"id\": 19880\n",
      "    },\n",
      "    {\n",
      "      \"label\": \"Chat f\\u00fcr Mathe-AutorInnen\",\n",
      "      \"url\": \"https://community.serlo.org/channel/mathe\"\n",
      "    }\n",
      "  ]\n",
      "}\n"
     ]
    },
    {
     "data": {
      "text/markdown": [
       "## Page 19882 on de (trashed=0):"
      ],
      "text/plain": [
       "<IPython.core.display.Markdown object>"
      ]
     },
     "metadata": {},
     "output_type": "display_data"
    },
    {
     "name": "stdout",
     "output_type": "stream",
     "text": [
      "{\n",
      "  \"label\": \"Community\",\n",
      "  \"id\": 19882,\n",
      "  \"children\": [\n",
      "    {\n",
      "      \"label\": \"Hilfeseiten\",\n",
      "      \"id\": 88059\n",
      "    },\n",
      "    {\n",
      "      \"label\": \"Werte und Entscheidungen\",\n",
      "      \"id\": 181028\n",
      "    },\n",
      "    {\n",
      "      \"label\": \"Sandkasten f\\u00fcr AutorInnen\",\n",
      "      \"id\": 106082\n",
      "    },\n",
      "    {\n",
      "      \"label\": \"Ressourcen f\\u00fcr P\\u00e4dagogInnen\",\n",
      "      \"id\": 88061\n",
      "    },\n",
      "    {\n",
      "      \"label\": \"Veranstaltungen f\\u00fcr AutorInnen\",\n",
      "      \"id\": 145470\n",
      "    },\n",
      "    {\n",
      "      \"label\": \"Alle Aktivit\\u00e4ten auf serlo.org\",\n",
      "      \"url\": \"/event/history\"\n",
      "    },\n",
      "    {\n",
      "      \"label\": \"\\u00dcbersicht aller Kommentare\",\n",
      "      \"url\": \"/discussions\"\n",
      "    },\n",
      "    {\n",
      "      \"label\": \"Ungepr\\u00fcfte Bearbeitungen\",\n",
      "      \"url\": \"/entity/unrevised\"\n",
      "    },\n",
      "    {\n",
      "      \"label\": \"Community \\u00dcbersicht\",\n",
      "      \"id\": 87993\n",
      "    }\n",
      "  ]\n",
      "}\n"
     ]
    },
    {
     "data": {
      "text/markdown": [
       "## Page 21406 on de (trashed=0):"
      ],
      "text/plain": [
       "<IPython.core.display.Markdown object>"
      ]
     },
     "metadata": {},
     "output_type": "display_data"
    },
    {
     "name": "stdout",
     "output_type": "stream",
     "text": [
      "{\n",
      "  \"label\": \"\\u00dcber Serlo\",\n",
      "  \"id\": 18922,\n",
      "  \"children\": [\n",
      "    {\n",
      "      \"label\": \"So funktioniert die Lernplattform\",\n",
      "      \"id\": 81862\n",
      "    },\n",
      "    {\n",
      "      \"label\": \"Wirkung\",\n",
      "      \"id\": 21406\n",
      "    },\n",
      "    {\n",
      "      \"label\": \"Team\",\n",
      "      \"id\": 21439\n",
      "    },\n",
      "    {\n",
      "      \"label\": \"Die Geschichte von Serlo\",\n",
      "      \"id\": 21413\n",
      "    },\n",
      "    {\n",
      "      \"label\": \"Partner und F\\u00f6rderer\",\n",
      "      \"id\": 21456\n",
      "    },\n",
      "    {\n",
      "      \"label\": \"Transparenz\",\n",
      "      \"id\": 21468\n",
      "    },\n",
      "    {\n",
      "      \"label\": \"Spenden\",\n",
      "      \"url\": \"/spenden\"\n",
      "    }\n",
      "  ]\n",
      "}\n"
     ]
    },
    {
     "data": {
      "text/markdown": [
       "## Page 21408 on de (trashed=0):"
      ],
      "text/plain": [
       "<IPython.core.display.Markdown object>"
      ]
     },
     "metadata": {},
     "output_type": "display_data"
    },
    {
     "name": "stdout",
     "output_type": "stream",
     "text": [
      "null\n"
     ]
    },
    {
     "data": {
      "text/markdown": [
       "## Page 21413 on de (trashed=0):"
      ],
      "text/plain": [
       "<IPython.core.display.Markdown object>"
      ]
     },
     "metadata": {},
     "output_type": "display_data"
    },
    {
     "name": "stdout",
     "output_type": "stream",
     "text": [
      "{\n",
      "  \"label\": \"\\u00dcber Serlo\",\n",
      "  \"id\": 18922,\n",
      "  \"children\": [\n",
      "    {\n",
      "      \"label\": \"So funktioniert die Lernplattform\",\n",
      "      \"id\": 81862\n",
      "    },\n",
      "    {\n",
      "      \"label\": \"Wirkung\",\n",
      "      \"id\": 21406\n",
      "    },\n",
      "    {\n",
      "      \"label\": \"Team\",\n",
      "      \"id\": 21439\n",
      "    },\n",
      "    {\n",
      "      \"label\": \"Die Geschichte von Serlo\",\n",
      "      \"id\": 21413\n",
      "    },\n",
      "    {\n",
      "      \"label\": \"Partner und F\\u00f6rderer\",\n",
      "      \"id\": 21456\n",
      "    },\n",
      "    {\n",
      "      \"label\": \"Transparenz\",\n",
      "      \"id\": 21468\n",
      "    },\n",
      "    {\n",
      "      \"label\": \"Spenden\",\n",
      "      \"url\": \"/spenden\"\n",
      "    }\n",
      "  ]\n",
      "}\n"
     ]
    },
    {
     "data": {
      "text/markdown": [
       "## Page 21423 on de (trashed=0):"
      ],
      "text/plain": [
       "<IPython.core.display.Markdown object>"
      ]
     },
     "metadata": {},
     "output_type": "display_data"
    },
    {
     "name": "stdout",
     "output_type": "stream",
     "text": [
      "null\n"
     ]
    },
    {
     "data": {
      "text/markdown": [
       "## Page 21429 on de (trashed=0):"
      ],
      "text/plain": [
       "<IPython.core.display.Markdown object>"
      ]
     },
     "metadata": {},
     "output_type": "display_data"
    },
    {
     "name": "stdout",
     "output_type": "stream",
     "text": [
      "null\n"
     ]
    },
    {
     "data": {
      "text/markdown": [
       "## Page 21437 on de (trashed=0):"
      ],
      "text/plain": [
       "<IPython.core.display.Markdown object>"
      ]
     },
     "metadata": {},
     "output_type": "display_data"
    },
    {
     "name": "stdout",
     "output_type": "stream",
     "text": [
      "null\n"
     ]
    },
    {
     "data": {
      "text/markdown": [
       "## Page 21439 on de (trashed=0):"
      ],
      "text/plain": [
       "<IPython.core.display.Markdown object>"
      ]
     },
     "metadata": {},
     "output_type": "display_data"
    },
    {
     "name": "stdout",
     "output_type": "stream",
     "text": [
      "{\n",
      "  \"label\": \"\\u00dcber Serlo\",\n",
      "  \"id\": 18922,\n",
      "  \"children\": [\n",
      "    {\n",
      "      \"label\": \"So funktioniert die Lernplattform\",\n",
      "      \"id\": 81862\n",
      "    },\n",
      "    {\n",
      "      \"label\": \"Wirkung\",\n",
      "      \"id\": 21406\n",
      "    },\n",
      "    {\n",
      "      \"label\": \"Team\",\n",
      "      \"id\": 21439\n",
      "    },\n",
      "    {\n",
      "      \"label\": \"Die Geschichte von Serlo\",\n",
      "      \"id\": 21413\n",
      "    },\n",
      "    {\n",
      "      \"label\": \"Partner und F\\u00f6rderer\",\n",
      "      \"id\": 21456\n",
      "    },\n",
      "    {\n",
      "      \"label\": \"Transparenz\",\n",
      "      \"id\": 21468\n",
      "    },\n",
      "    {\n",
      "      \"label\": \"Spenden\",\n",
      "      \"url\": \"/spenden\"\n",
      "    }\n",
      "  ]\n",
      "}\n"
     ]
    },
    {
     "data": {
      "text/markdown": [
       "## Page 21456 on de (trashed=0):"
      ],
      "text/plain": [
       "<IPython.core.display.Markdown object>"
      ]
     },
     "metadata": {},
     "output_type": "display_data"
    },
    {
     "name": "stdout",
     "output_type": "stream",
     "text": [
      "{\n",
      "  \"label\": \"\\u00dcber Serlo\",\n",
      "  \"id\": 18922,\n",
      "  \"children\": [\n",
      "    {\n",
      "      \"label\": \"So funktioniert die Lernplattform\",\n",
      "      \"id\": 81862\n",
      "    },\n",
      "    {\n",
      "      \"label\": \"Wirkung\",\n",
      "      \"id\": 21406\n",
      "    },\n",
      "    {\n",
      "      \"label\": \"Team\",\n",
      "      \"id\": 21439\n",
      "    },\n",
      "    {\n",
      "      \"label\": \"Die Geschichte von Serlo\",\n",
      "      \"id\": 21413\n",
      "    },\n",
      "    {\n",
      "      \"label\": \"Partner und F\\u00f6rderer\",\n",
      "      \"id\": 21456\n",
      "    },\n",
      "    {\n",
      "      \"label\": \"Transparenz\",\n",
      "      \"id\": 21468\n",
      "    },\n",
      "    {\n",
      "      \"label\": \"Spenden\",\n",
      "      \"url\": \"/spenden\"\n",
      "    }\n",
      "  ]\n",
      "}\n"
     ]
    },
    {
     "data": {
      "text/markdown": [
       "## Page 21468 on de (trashed=0):"
      ],
      "text/plain": [
       "<IPython.core.display.Markdown object>"
      ]
     },
     "metadata": {},
     "output_type": "display_data"
    },
    {
     "name": "stdout",
     "output_type": "stream",
     "text": [
      "{\n",
      "  \"label\": \"\\u00dcber Serlo\",\n",
      "  \"id\": 18922,\n",
      "  \"children\": [\n",
      "    {\n",
      "      \"label\": \"So funktioniert die Lernplattform\",\n",
      "      \"id\": 81862\n",
      "    },\n",
      "    {\n",
      "      \"label\": \"Wirkung\",\n",
      "      \"id\": 21406\n",
      "    },\n",
      "    {\n",
      "      \"label\": \"Team\",\n",
      "      \"id\": 21439\n",
      "    },\n",
      "    {\n",
      "      \"label\": \"Die Geschichte von Serlo\",\n",
      "      \"id\": 21413\n",
      "    },\n",
      "    {\n",
      "      \"label\": \"Partner und F\\u00f6rderer\",\n",
      "      \"id\": 21456\n",
      "    },\n",
      "    {\n",
      "      \"label\": \"Transparenz\",\n",
      "      \"id\": 21468\n",
      "    },\n",
      "    {\n",
      "      \"label\": \"Spenden\",\n",
      "      \"url\": \"/spenden\"\n",
      "    }\n",
      "  ]\n",
      "}\n"
     ]
    },
    {
     "data": {
      "text/markdown": [
       "## Page 21470 on de (trashed=0):"
      ],
      "text/plain": [
       "<IPython.core.display.Markdown object>"
      ]
     },
     "metadata": {},
     "output_type": "display_data"
    },
    {
     "name": "stdout",
     "output_type": "stream",
     "text": [
      "null\n"
     ]
    },
    {
     "data": {
      "text/markdown": [
       "## Page 21541 on de (trashed=0):"
      ],
      "text/plain": [
       "<IPython.core.display.Markdown object>"
      ]
     },
     "metadata": {},
     "output_type": "display_data"
    },
    {
     "name": "stdout",
     "output_type": "stream",
     "text": [
      "null\n"
     ]
    },
    {
     "data": {
      "text/markdown": [
       "## Page 21563 on de (trashed=0):"
      ],
      "text/plain": [
       "<IPython.core.display.Markdown object>"
      ]
     },
     "metadata": {},
     "output_type": "display_data"
    },
    {
     "name": "stdout",
     "output_type": "stream",
     "text": [
      "{\n",
      "  \"label\": \"Mitmachen\",\n",
      "  \"id\": 19869,\n",
      "  \"children\": [\n",
      "    {\n",
      "      \"label\": \"Engagement, Praktika & Jobs\",\n",
      "      \"id\": 21563\n",
      "    },\n",
      "    {\n",
      "      \"label\": \"Kontakt und Standorte\",\n",
      "      \"id\": 21657\n",
      "    },\n",
      "    {\n",
      "      \"label\": \"Spenden\",\n",
      "      \"url\": \"/spenden\"\n",
      "    }\n",
      "  ]\n",
      "}\n"
     ]
    },
    {
     "data": {
      "text/markdown": [
       "## Page 21654 on de (trashed=0):"
      ],
      "text/plain": [
       "<IPython.core.display.Markdown object>"
      ]
     },
     "metadata": {},
     "output_type": "display_data"
    },
    {
     "name": "stdout",
     "output_type": "stream",
     "text": [
      "null\n"
     ]
    },
    {
     "data": {
      "text/markdown": [
       "## Page 21657 on de (trashed=0):"
      ],
      "text/plain": [
       "<IPython.core.display.Markdown object>"
      ]
     },
     "metadata": {},
     "output_type": "display_data"
    },
    {
     "name": "stdout",
     "output_type": "stream",
     "text": [
      "{\n",
      "  \"label\": \"Mitmachen\",\n",
      "  \"id\": 19869,\n",
      "  \"children\": [\n",
      "    {\n",
      "      \"label\": \"Engagement, Praktika & Jobs\",\n",
      "      \"id\": 21563\n",
      "    },\n",
      "    {\n",
      "      \"label\": \"Kontakt und Standorte\",\n",
      "      \"id\": 21657\n",
      "    },\n",
      "    {\n",
      "      \"label\": \"Spenden\",\n",
      "      \"url\": \"/spenden\"\n",
      "    }\n",
      "  ]\n",
      "}\n"
     ]
    },
    {
     "data": {
      "text/markdown": [
       "## Page 22964 on de (trashed=0):"
      ],
      "text/plain": [
       "<IPython.core.display.Markdown object>"
      ]
     },
     "metadata": {},
     "output_type": "display_data"
    },
    {
     "name": "stdout",
     "output_type": "stream",
     "text": [
      "null\n"
     ]
    },
    {
     "data": {
      "text/markdown": [
       "## Page 23950 on de (trashed=0):"
      ],
      "text/plain": [
       "<IPython.core.display.Markdown object>"
      ]
     },
     "metadata": {},
     "output_type": "display_data"
    },
    {
     "name": "stdout",
     "output_type": "stream",
     "text": [
      "{\n",
      "  \"label\": \"Biologie\",\n",
      "  \"id\": 23950,\n",
      "  \"children\": [\n",
      "    {\n",
      "      \"label\": \"Themen\",\n",
      "      \"id\": 23362\n",
      "    },\n",
      "    {\n",
      "      \"label\": \"Bei Serlo-Biologie mitarbeiten\",\n",
      "      \"id\": 25017\n",
      "    }\n",
      "  ]\n",
      "}\n"
     ]
    },
    {
     "data": {
      "text/markdown": [
       "## Page 24706 on de (trashed=0):"
      ],
      "text/plain": [
       "<IPython.core.display.Markdown object>"
      ]
     },
     "metadata": {},
     "output_type": "display_data"
    },
    {
     "name": "stdout",
     "output_type": "stream",
     "text": [
      "{\n",
      "  \"label\": \"Chemie\",\n",
      "  \"id\": 24706,\n",
      "  \"children\": [\n",
      "    {\n",
      "      \"label\": \"Themen\",\n",
      "      \"id\": 18230\n",
      "    },\n",
      "    {\n",
      "      \"label\": \"Bei Serlo-Chemie mitarbeiten\",\n",
      "      \"id\": 26633\n",
      "    }\n",
      "  ]\n",
      "}\n"
     ]
    },
    {
     "data": {
      "text/markdown": [
       "## Page 24887 on de (trashed=0):"
      ],
      "text/plain": [
       "<IPython.core.display.Markdown object>"
      ]
     },
     "metadata": {},
     "output_type": "display_data"
    },
    {
     "name": "stdout",
     "output_type": "stream",
     "text": [
      "null\n"
     ]
    },
    {
     "data": {
      "text/markdown": [
       "## Page 25017 on de (trashed=0):"
      ],
      "text/plain": [
       "<IPython.core.display.Markdown object>"
      ]
     },
     "metadata": {},
     "output_type": "display_data"
    },
    {
     "name": "stdout",
     "output_type": "stream",
     "text": [
      "{\n",
      "  \"label\": \"Biologie\",\n",
      "  \"id\": 23950,\n",
      "  \"children\": [\n",
      "    {\n",
      "      \"label\": \"Themen\",\n",
      "      \"id\": 23362\n",
      "    },\n",
      "    {\n",
      "      \"label\": \"Bei Serlo-Biologie mitarbeiten\",\n",
      "      \"id\": 25017\n",
      "    }\n",
      "  ]\n",
      "}\n"
     ]
    },
    {
     "data": {
      "text/markdown": [
       "## Page 25294 on de (trashed=0):"
      ],
      "text/plain": [
       "<IPython.core.display.Markdown object>"
      ]
     },
     "metadata": {},
     "output_type": "display_data"
    },
    {
     "name": "stdout",
     "output_type": "stream",
     "text": [
      "{\n",
      "  \"label\": \"Angewandte Nachhaltigkeit\",\n",
      "  \"id\": 58771,\n",
      "  \"children\": [\n",
      "    {\n",
      "      \"label\": \"Alle Themen\",\n",
      "      \"id\": 17744\n",
      "    },\n",
      "    {\n",
      "      \"label\": \"Bei Serlo-Nachhaltigkeit mitmachen\",\n",
      "      \"id\": 25294\n",
      "    },\n",
      "    {\n",
      "      \"label\": \"Chat f\\u00fcr Nachhaltigkeits-AutorInnen\",\n",
      "      \"url\": \"https://community.serlo.org/channel/nachhaltigkeit\"\n",
      "    }\n",
      "  ]\n",
      "}\n"
     ]
    },
    {
     "data": {
      "text/markdown": [
       "## Page 25598 on de (trashed=0):"
      ],
      "text/plain": [
       "<IPython.core.display.Markdown object>"
      ]
     },
     "metadata": {},
     "output_type": "display_data"
    },
    {
     "name": "stdout",
     "output_type": "stream",
     "text": [
      "null\n"
     ]
    },
    {
     "data": {
      "text/markdown": [
       "## Page 25713 on de (trashed=0):"
      ],
      "text/plain": [
       "<IPython.core.display.Markdown object>"
      ]
     },
     "metadata": {},
     "output_type": "display_data"
    },
    {
     "name": "stdout",
     "output_type": "stream",
     "text": [
      "null\n"
     ]
    },
    {
     "data": {
      "text/markdown": [
       "## Page 25985 on de (trashed=0):"
      ],
      "text/plain": [
       "<IPython.core.display.Markdown object>"
      ]
     },
     "metadata": {},
     "output_type": "display_data"
    },
    {
     "name": "stdout",
     "output_type": "stream",
     "text": [
      "{\n",
      "  \"label\": \"Englisch\",\n",
      "  \"id\": 25985,\n",
      "  \"children\": [\n",
      "    {\n",
      "      \"label\": \"Themen\",\n",
      "      \"id\": 25979\n",
      "    },\n",
      "    {\n",
      "      \"label\": \"Bei Serlo-Englisch mitarbeiten\",\n",
      "      \"children\": [\n",
      "        {\n",
      "          \"label\": \"Neu hier?\",\n",
      "          \"id\": 26874\n",
      "        },\n",
      "        {\n",
      "          \"label\": \"Taxonomy bearbeiten\",\n",
      "          \"url\": \"/taxonomy/term/organize/25979\"\n",
      "        }\n",
      "      ]\n",
      "    }\n",
      "  ]\n",
      "}\n"
     ]
    },
    {
     "data": {
      "text/markdown": [
       "## Page 26453 on de (trashed=0):"
      ],
      "text/plain": [
       "<IPython.core.display.Markdown object>"
      ]
     },
     "metadata": {},
     "output_type": "display_data"
    },
    {
     "name": "stdout",
     "output_type": "stream",
     "text": [
      "null\n"
     ]
    },
    {
     "data": {
      "text/markdown": [
       "## Page 26473 on de (trashed=0):"
      ],
      "text/plain": [
       "<IPython.core.display.Markdown object>"
      ]
     },
     "metadata": {},
     "output_type": "display_data"
    },
    {
     "name": "stdout",
     "output_type": "stream",
     "text": [
      "null\n"
     ]
    },
    {
     "data": {
      "text/markdown": [
       "## Page 26633 on de (trashed=0):"
      ],
      "text/plain": [
       "<IPython.core.display.Markdown object>"
      ]
     },
     "metadata": {},
     "output_type": "display_data"
    },
    {
     "name": "stdout",
     "output_type": "stream",
     "text": [
      "{\n",
      "  \"label\": \"Chemie\",\n",
      "  \"id\": 24706,\n",
      "  \"children\": [\n",
      "    {\n",
      "      \"label\": \"Themen\",\n",
      "      \"id\": 18230\n",
      "    },\n",
      "    {\n",
      "      \"label\": \"Bei Serlo-Chemie mitarbeiten\",\n",
      "      \"id\": 26633\n",
      "    }\n",
      "  ]\n",
      "}\n"
     ]
    },
    {
     "data": {
      "text/markdown": [
       "## Page 31996 on de (trashed=0):"
      ],
      "text/plain": [
       "<IPython.core.display.Markdown object>"
      ]
     },
     "metadata": {},
     "output_type": "display_data"
    },
    {
     "name": "stdout",
     "output_type": "stream",
     "text": [
      "null\n"
     ]
    },
    {
     "data": {
      "text/markdown": [
       "## Page 41144 on de (trashed=0):"
      ],
      "text/plain": [
       "<IPython.core.display.Markdown object>"
      ]
     },
     "metadata": {},
     "output_type": "display_data"
    },
    {
     "name": "stdout",
     "output_type": "stream",
     "text": [
      "null\n"
     ]
    },
    {
     "data": {
      "text/markdown": [
       "## Page 48492 on de (trashed=0):"
      ],
      "text/plain": [
       "<IPython.core.display.Markdown object>"
      ]
     },
     "metadata": {},
     "output_type": "display_data"
    },
    {
     "name": "stdout",
     "output_type": "stream",
     "text": [
      "{\n",
      "  \"label\": \"Informatik\",\n",
      "  \"id\": 48492,\n",
      "  \"children\": [\n",
      "    {\n",
      "      \"label\": \"Alle Themen\",\n",
      "      \"id\": 47899\n",
      "    },\n",
      "    {\n",
      "      \"label\": \"Programmieren lernen\",\n",
      "      \"id\": 75274\n",
      "    },\n",
      "    {\n",
      "      \"label\": \"Gymnasium\",\n",
      "      \"id\": 60396\n",
      "    },\n",
      "    {\n",
      "      \"label\": \"Bei Serlo-Informatik mitarbeiten\",\n",
      "      \"id\": 49982\n",
      "    }\n",
      "  ]\n",
      "}\n"
     ]
    },
    {
     "data": {
      "text/markdown": [
       "## Page 48700 on de (trashed=0):"
      ],
      "text/plain": [
       "<IPython.core.display.Markdown object>"
      ]
     },
     "metadata": {},
     "output_type": "display_data"
    },
    {
     "name": "stdout",
     "output_type": "stream",
     "text": [
      "null\n"
     ]
    },
    {
     "data": {
      "text/markdown": [
       "## Page 49201 on de (trashed=0):"
      ],
      "text/plain": [
       "<IPython.core.display.Markdown object>"
      ]
     },
     "metadata": {},
     "output_type": "display_data"
    },
    {
     "name": "stdout",
     "output_type": "stream",
     "text": [
      "null\n"
     ]
    },
    {
     "data": {
      "text/markdown": [
       "## Page 49982 on de (trashed=0):"
      ],
      "text/plain": [
       "<IPython.core.display.Markdown object>"
      ]
     },
     "metadata": {},
     "output_type": "display_data"
    },
    {
     "name": "stdout",
     "output_type": "stream",
     "text": [
      "{\n",
      "  \"label\": \"Informatik\",\n",
      "  \"id\": 48492,\n",
      "  \"children\": [\n",
      "    {\n",
      "      \"label\": \"Alle Themen\",\n",
      "      \"id\": 47899\n",
      "    },\n",
      "    {\n",
      "      \"label\": \"Programmieren lernen\",\n",
      "      \"id\": 75274\n",
      "    },\n",
      "    {\n",
      "      \"label\": \"Gymnasium\",\n",
      "      \"id\": 60396\n",
      "    },\n",
      "    {\n",
      "      \"label\": \"Bei Serlo-Informatik mitarbeiten\",\n",
      "      \"id\": 49982\n",
      "    }\n",
      "  ]\n",
      "}\n"
     ]
    },
    {
     "data": {
      "text/markdown": [
       "## Page 51886 on de (trashed=0):"
      ],
      "text/plain": [
       "<IPython.core.display.Markdown object>"
      ]
     },
     "metadata": {},
     "output_type": "display_data"
    },
    {
     "name": "stdout",
     "output_type": "stream",
     "text": [
      "null\n"
     ]
    },
    {
     "data": {
      "text/markdown": [
       "## Page 56930 on de (trashed=0):"
      ],
      "text/plain": [
       "<IPython.core.display.Markdown object>"
      ]
     },
     "metadata": {},
     "output_type": "display_data"
    },
    {
     "name": "stdout",
     "output_type": "stream",
     "text": [
      "null\n"
     ]
    },
    {
     "data": {
      "text/markdown": [
       "## Page 58771 on de (trashed=0):"
      ],
      "text/plain": [
       "<IPython.core.display.Markdown object>"
      ]
     },
     "metadata": {},
     "output_type": "display_data"
    },
    {
     "name": "stdout",
     "output_type": "stream",
     "text": [
      "{\n",
      "  \"label\": \"Angewandte Nachhaltigkeit\",\n",
      "  \"id\": 58771,\n",
      "  \"children\": [\n",
      "    {\n",
      "      \"label\": \"Alle Themen\",\n",
      "      \"id\": 17744\n",
      "    },\n",
      "    {\n",
      "      \"label\": \"Bei Serlo-Nachhaltigkeit mitmachen\",\n",
      "      \"id\": 25294\n",
      "    },\n",
      "    {\n",
      "      \"label\": \"Chat f\\u00fcr Nachhaltigkeits-AutorInnen\",\n",
      "      \"url\": \"https://community.serlo.org/channel/nachhaltigkeit\"\n",
      "    }\n",
      "  ]\n",
      "}\n"
     ]
    },
    {
     "data": {
      "text/markdown": [
       "## Page 73195 on de (trashed=0):"
      ],
      "text/plain": [
       "<IPython.core.display.Markdown object>"
      ]
     },
     "metadata": {},
     "output_type": "display_data"
    },
    {
     "name": "stdout",
     "output_type": "stream",
     "text": [
      "null\n"
     ]
    },
    {
     "data": {
      "text/markdown": [
       "## Page 75274 on de (trashed=0):"
      ],
      "text/plain": [
       "<IPython.core.display.Markdown object>"
      ]
     },
     "metadata": {},
     "output_type": "display_data"
    },
    {
     "name": "stdout",
     "output_type": "stream",
     "text": [
      "{\n",
      "  \"label\": \"Informatik\",\n",
      "  \"id\": 48492,\n",
      "  \"children\": [\n",
      "    {\n",
      "      \"label\": \"Alle Themen\",\n",
      "      \"id\": 47899\n",
      "    },\n",
      "    {\n",
      "      \"label\": \"Programmieren lernen\",\n",
      "      \"id\": 75274\n",
      "    },\n",
      "    {\n",
      "      \"label\": \"Gymnasium\",\n",
      "      \"id\": 60396\n",
      "    },\n",
      "    {\n",
      "      \"label\": \"Bei Serlo-Informatik mitarbeiten\",\n",
      "      \"id\": 49982\n",
      "    }\n",
      "  ]\n",
      "}\n"
     ]
    },
    {
     "data": {
      "text/markdown": [
       "## Page 75578 on de (trashed=0):"
      ],
      "text/plain": [
       "<IPython.core.display.Markdown object>"
      ]
     },
     "metadata": {},
     "output_type": "display_data"
    },
    {
     "name": "stdout",
     "output_type": "stream",
     "text": [
      "null\n"
     ]
    },
    {
     "data": {
      "text/markdown": [
       "## Page 79157 on de (trashed=0):"
      ],
      "text/plain": [
       "<IPython.core.display.Markdown object>"
      ]
     },
     "metadata": {},
     "output_type": "display_data"
    },
    {
     "name": "stdout",
     "output_type": "stream",
     "text": [
      "{\n",
      "  \"label\": \"Politik\",\n",
      "  \"id\": 79157,\n",
      "  \"children\": [\n",
      "    {\n",
      "      \"label\": \"Alle Themen\",\n",
      "      \"id\": 79159\n",
      "    }\n",
      "  ]\n",
      "}\n"
     ]
    },
    {
     "data": {
      "text/markdown": [
       "## Page 81353 on de (trashed=0):"
      ],
      "text/plain": [
       "<IPython.core.display.Markdown object>"
      ]
     },
     "metadata": {},
     "output_type": "display_data"
    },
    {
     "name": "stdout",
     "output_type": "stream",
     "text": [
      "null\n"
     ]
    },
    {
     "data": {
      "text/markdown": [
       "## Page 81355 on de (trashed=0):"
      ],
      "text/plain": [
       "<IPython.core.display.Markdown object>"
      ]
     },
     "metadata": {},
     "output_type": "display_data"
    },
    {
     "name": "stdout",
     "output_type": "stream",
     "text": [
      "null\n"
     ]
    },
    {
     "data": {
      "text/markdown": [
       "## Page 81862 on de (trashed=0):"
      ],
      "text/plain": [
       "<IPython.core.display.Markdown object>"
      ]
     },
     "metadata": {},
     "output_type": "display_data"
    },
    {
     "name": "stdout",
     "output_type": "stream",
     "text": [
      "{\n",
      "  \"label\": \"\\u00dcber Serlo\",\n",
      "  \"id\": 18922,\n",
      "  \"children\": [\n",
      "    {\n",
      "      \"label\": \"So funktioniert die Lernplattform\",\n",
      "      \"id\": 81862\n",
      "    },\n",
      "    {\n",
      "      \"label\": \"Wirkung\",\n",
      "      \"id\": 21406\n",
      "    },\n",
      "    {\n",
      "      \"label\": \"Team\",\n",
      "      \"id\": 21439\n",
      "    },\n",
      "    {\n",
      "      \"label\": \"Die Geschichte von Serlo\",\n",
      "      \"id\": 21413\n",
      "    },\n",
      "    {\n",
      "      \"label\": \"Partner und F\\u00f6rderer\",\n",
      "      \"id\": 21456\n",
      "    },\n",
      "    {\n",
      "      \"label\": \"Transparenz\",\n",
      "      \"id\": 21468\n",
      "    },\n",
      "    {\n",
      "      \"label\": \"Spenden\",\n",
      "      \"url\": \"/spenden\"\n",
      "    }\n",
      "  ]\n",
      "}\n"
     ]
    },
    {
     "data": {
      "text/markdown": [
       "## Page 83249 on de (trashed=0):"
      ],
      "text/plain": [
       "<IPython.core.display.Markdown object>"
      ]
     },
     "metadata": {},
     "output_type": "display_data"
    },
    {
     "name": "stdout",
     "output_type": "stream",
     "text": [
      "{\n",
      "  \"label\": \"Mathematik\",\n",
      "  \"id\": 19767,\n",
      "  \"children\": [\n",
      "    {\n",
      "      \"label\": \"Alle Themen\",\n",
      "      \"id\": 5\n",
      "    },\n",
      "    {\n",
      "      \"label\": \"Gymnasium\",\n",
      "      \"id\": 16042\n",
      "    },\n",
      "    {\n",
      "      \"label\": \"Realschule\",\n",
      "      \"id\": 16157\n",
      "    },\n",
      "    {\n",
      "      \"label\": \"Mittelschule (Hauptschule)\",\n",
      "      \"id\": 16259\n",
      "    },\n",
      "    {\n",
      "      \"label\": \"FOS & BOS\",\n",
      "      \"id\": 201593\n",
      "    },\n",
      "    {\n",
      "      \"label\": \"Hochschule\",\n",
      "      \"id\": 44323\n",
      "    },\n",
      "    {\n",
      "      \"label\": \"Pr\\u00fcfungen\",\n",
      "      \"id\": 83249\n",
      "    },\n",
      "    {\n",
      "      \"label\": \"Inhalte bearbeiten und neue Inhalte hinzuf\\u00fcgen\",\n",
      "      \"id\": 19880\n",
      "    },\n",
      "    {\n",
      "      \"label\": \"Chat f\\u00fcr Mathe-AutorInnen\",\n",
      "      \"url\": \"https://community.serlo.org/channel/mathe\"\n",
      "    }\n",
      "  ]\n",
      "}\n"
     ]
    },
    {
     "data": {
      "text/markdown": [
       "## Page 93434 on de (trashed=0):"
      ],
      "text/plain": [
       "<IPython.core.display.Markdown object>"
      ]
     },
     "metadata": {},
     "output_type": "display_data"
    },
    {
     "name": "stdout",
     "output_type": "stream",
     "text": [
      "null\n"
     ]
    },
    {
     "data": {
      "text/markdown": [
       "## Page 182154 on de (trashed=0):"
      ],
      "text/plain": [
       "<IPython.core.display.Markdown object>"
      ]
     },
     "metadata": {},
     "output_type": "display_data"
    },
    {
     "name": "stdout",
     "output_type": "stream",
     "text": [
      "{\n",
      "  \"label\": \"Lerntipps\",\n",
      "  \"id\": 182154,\n",
      "  \"children\": [\n",
      "    {\n",
      "      \"label\": \"Alle Themen\",\n",
      "      \"id\": 181883\n",
      "    },\n",
      "    {\n",
      "      \"label\": \"Bei Serlo-Lerntipps mitarbeiten\",\n",
      "      \"id\": 242472\n",
      "    }\n",
      "  ]\n",
      "}\n"
     ]
    },
    {
     "data": {
      "text/markdown": [
       "## Page 242472 on de (trashed=0):"
      ],
      "text/plain": [
       "<IPython.core.display.Markdown object>"
      ]
     },
     "metadata": {},
     "output_type": "display_data"
    },
    {
     "name": "stdout",
     "output_type": "stream",
     "text": [
      "{\n",
      "  \"label\": \"Lerntipps\",\n",
      "  \"id\": 182154,\n",
      "  \"children\": [\n",
      "    {\n",
      "      \"label\": \"Alle Themen\",\n",
      "      \"id\": 181883\n",
      "    },\n",
      "    {\n",
      "      \"label\": \"Bei Serlo-Lerntipps mitarbeiten\",\n",
      "      \"id\": 242472\n",
      "    }\n",
      "  ]\n",
      "}\n"
     ]
    },
    {
     "data": {
      "text/markdown": [
       "## Page 23580 on en (trashed=0):"
      ],
      "text/plain": [
       "<IPython.core.display.Markdown object>"
      ]
     },
     "metadata": {},
     "output_type": "display_data"
    },
    {
     "name": "stdout",
     "output_type": "stream",
     "text": [
      "null\n"
     ]
    },
    {
     "data": {
      "text/markdown": [
       "## Page 23591 on en (trashed=0):"
      ],
      "text/plain": [
       "<IPython.core.display.Markdown object>"
      ]
     },
     "metadata": {},
     "output_type": "display_data"
    },
    {
     "name": "stdout",
     "output_type": "stream",
     "text": [
      "{\n",
      "  \"label\": \"Math\",\n",
      "  \"id\": 23591,\n",
      "  \"children\": [\n",
      "    {\n",
      "      \"label\": \"Topics\",\n",
      "      \"id\": 23593\n",
      "    },\n",
      "    {\n",
      "      \"label\": \"Contribute to Serlo-Math\",\n",
      "      \"children\": [\n",
      "        {\n",
      "          \"label\": \"New here?\",\n",
      "          \"id\": 49386\n",
      "        },\n",
      "        {\n",
      "          \"label\": \"Guidelines\",\n",
      "          \"id\": 48345\n",
      "        },\n",
      "        {\n",
      "          \"label\": \"Edit Taxonomy\",\n",
      "          \"url\": \"/taxonomy/term/organize/23593\"\n",
      "        }\n",
      "      ]\n",
      "    }\n",
      "  ]\n",
      "}\n"
     ]
    },
    {
     "data": {
      "text/markdown": [
       "## Page 23727 on en (trashed=0):"
      ],
      "text/plain": [
       "<IPython.core.display.Markdown object>"
      ]
     },
     "metadata": {},
     "output_type": "display_data"
    },
    {
     "name": "stdout",
     "output_type": "stream",
     "text": [
      "{\n",
      "  \"label\": \"About Serlo\",\n",
      "  \"id\": 23727,\n",
      "  \"children\": [\n",
      "    {\n",
      "      \"label\": \"How to learn with serlo.org\",\n",
      "      \"id\": 110332\n",
      "    },\n",
      "    {\n",
      "      \"label\": \"Impact\",\n",
      "      \"id\": 110335\n",
      "    },\n",
      "    {\n",
      "      \"label\": \"Team\",\n",
      "      \"id\": 32840\n",
      "    },\n",
      "    {\n",
      "      \"label\": \"Partners and Donors\",\n",
      "      \"id\": 110337\n",
      "    },\n",
      "    {\n",
      "      \"label\": \"Serlo.org in other languages\",\n",
      "      \"id\": 93321\n",
      "    }\n",
      "  ]\n",
      "}\n"
     ]
    },
    {
     "data": {
      "text/markdown": [
       "## Page 27469 on en (trashed=0):"
      ],
      "text/plain": [
       "<IPython.core.display.Markdown object>"
      ]
     },
     "metadata": {},
     "output_type": "display_data"
    },
    {
     "name": "stdout",
     "output_type": "stream",
     "text": [
      "{\n",
      "  \"label\": \"Get Involved!\",\n",
      "  \"id\": 27469,\n",
      "  \"children\": [\n",
      "    {\n",
      "      \"label\": \"Contact\",\n",
      "      \"id\": 41043\n",
      "    }\n",
      "  ]\n",
      "}\n"
     ]
    },
    {
     "data": {
      "text/markdown": [
       "## Page 32840 on en (trashed=0):"
      ],
      "text/plain": [
       "<IPython.core.display.Markdown object>"
      ]
     },
     "metadata": {},
     "output_type": "display_data"
    },
    {
     "name": "stdout",
     "output_type": "stream",
     "text": [
      "{\n",
      "  \"label\": \"About Serlo\",\n",
      "  \"id\": 23727,\n",
      "  \"children\": [\n",
      "    {\n",
      "      \"label\": \"How to learn with serlo.org\",\n",
      "      \"id\": 110332\n",
      "    },\n",
      "    {\n",
      "      \"label\": \"Impact\",\n",
      "      \"id\": 110335\n",
      "    },\n",
      "    {\n",
      "      \"label\": \"Team\",\n",
      "      \"id\": 32840\n",
      "    },\n",
      "    {\n",
      "      \"label\": \"Partners and Donors\",\n",
      "      \"id\": 110337\n",
      "    },\n",
      "    {\n",
      "      \"label\": \"Serlo.org in other languages\",\n",
      "      \"id\": 93321\n",
      "    }\n",
      "  ]\n",
      "}\n"
     ]
    },
    {
     "data": {
      "text/markdown": [
       "## Page 35587 on en (trashed=0):"
      ],
      "text/plain": [
       "<IPython.core.display.Markdown object>"
      ]
     },
     "metadata": {},
     "output_type": "display_data"
    },
    {
     "name": "stdout",
     "output_type": "stream",
     "text": [
      "{\n",
      "  \"label\": \"Community\",\n",
      "  \"id\": 35587,\n",
      "  \"children\": [\n",
      "    {\n",
      "      \"label\": \"Help for Editors\",\n",
      "      \"id\": 84500\n",
      "    },\n",
      "    {\n",
      "      \"label\": \"New Subjects and Topics\",\n",
      "      \"id\": 106103\n",
      "    },\n",
      "    {\n",
      "      \"label\": \"Sandbox for Authors\",\n",
      "      \"id\": 106102\n",
      "    },\n",
      "    {\n",
      "      \"label\": \"All Activities on Serlo\",\n",
      "      \"url\": \"/event/history\"\n",
      "    },\n",
      "    {\n",
      "      \"label\": \"All Discussions\",\n",
      "      \"url\": \"/discussions\"\n",
      "    },\n",
      "    {\n",
      "      \"label\": \"Start new Serlo teams\",\n",
      "      \"id\": 48538\n",
      "    },\n",
      "    {\n",
      "      \"label\": \"Community Values\",\n",
      "      \"id\": 48210\n",
      "    },\n",
      "    {\n",
      "      \"label\": \"Community Overview\",\n",
      "      \"id\": 48537\n",
      "    }\n",
      "  ]\n",
      "}\n"
     ]
    },
    {
     "data": {
      "text/markdown": [
       "## Page 35589 on en (trashed=0):"
      ],
      "text/plain": [
       "<IPython.core.display.Markdown object>"
      ]
     },
     "metadata": {},
     "output_type": "display_data"
    },
    {
     "name": "stdout",
     "output_type": "stream",
     "text": [
      "null\n"
     ]
    },
    {
     "data": {
      "text/markdown": [
       "## Page 35617 on en (trashed=0):"
      ],
      "text/plain": [
       "<IPython.core.display.Markdown object>"
      ]
     },
     "metadata": {},
     "output_type": "display_data"
    },
    {
     "name": "stdout",
     "output_type": "stream",
     "text": [
      "null\n"
     ]
    },
    {
     "data": {
      "text/markdown": [
       "## Page 35647 on en (trashed=0):"
      ],
      "text/plain": [
       "<IPython.core.display.Markdown object>"
      ]
     },
     "metadata": {},
     "output_type": "display_data"
    },
    {
     "name": "stdout",
     "output_type": "stream",
     "text": [
      "null\n"
     ]
    },
    {
     "data": {
      "text/markdown": [
       "## Page 39396 on en (trashed=0):"
      ],
      "text/plain": [
       "<IPython.core.display.Markdown object>"
      ]
     },
     "metadata": {},
     "output_type": "display_data"
    },
    {
     "name": "stdout",
     "output_type": "stream",
     "text": [
      "null\n"
     ]
    },
    {
     "data": {
      "text/markdown": [
       "## Page 41043 on en (trashed=0):"
      ],
      "text/plain": [
       "<IPython.core.display.Markdown object>"
      ]
     },
     "metadata": {},
     "output_type": "display_data"
    },
    {
     "name": "stdout",
     "output_type": "stream",
     "text": [
      "{\n",
      "  \"label\": \"Get Involved!\",\n",
      "  \"id\": 27469,\n",
      "  \"children\": [\n",
      "    {\n",
      "      \"label\": \"Contact\",\n",
      "      \"id\": 41043\n",
      "    }\n",
      "  ]\n",
      "}\n"
     ]
    },
    {
     "data": {
      "text/markdown": [
       "## Page 41046 on en (trashed=0):"
      ],
      "text/plain": [
       "<IPython.core.display.Markdown object>"
      ]
     },
     "metadata": {},
     "output_type": "display_data"
    },
    {
     "name": "stdout",
     "output_type": "stream",
     "text": [
      "null\n"
     ]
    },
    {
     "data": {
      "text/markdown": [
       "## Page 48210 on en (trashed=0):"
      ],
      "text/plain": [
       "<IPython.core.display.Markdown object>"
      ]
     },
     "metadata": {},
     "output_type": "display_data"
    },
    {
     "name": "stdout",
     "output_type": "stream",
     "text": [
      "{\n",
      "  \"label\": \"Community\",\n",
      "  \"id\": 35587,\n",
      "  \"children\": [\n",
      "    {\n",
      "      \"label\": \"Help for Editors\",\n",
      "      \"id\": 84500\n",
      "    },\n",
      "    {\n",
      "      \"label\": \"New Subjects and Topics\",\n",
      "      \"id\": 106103\n",
      "    },\n",
      "    {\n",
      "      \"label\": \"Sandbox for Authors\",\n",
      "      \"id\": 106102\n",
      "    },\n",
      "    {\n",
      "      \"label\": \"All Activities on Serlo\",\n",
      "      \"url\": \"/event/history\"\n",
      "    },\n",
      "    {\n",
      "      \"label\": \"All Discussions\",\n",
      "      \"url\": \"/discussions\"\n",
      "    },\n",
      "    {\n",
      "      \"label\": \"Start new Serlo teams\",\n",
      "      \"id\": 48538\n",
      "    },\n",
      "    {\n",
      "      \"label\": \"Community Values\",\n",
      "      \"id\": 48210\n",
      "    },\n",
      "    {\n",
      "      \"label\": \"Community Overview\",\n",
      "      \"id\": 48537\n",
      "    }\n",
      "  ]\n",
      "}\n"
     ]
    },
    {
     "data": {
      "text/markdown": [
       "## Page 48310 on en (trashed=0):"
      ],
      "text/plain": [
       "<IPython.core.display.Markdown object>"
      ]
     },
     "metadata": {},
     "output_type": "display_data"
    },
    {
     "name": "stdout",
     "output_type": "stream",
     "text": [
      "null\n"
     ]
    },
    {
     "data": {
      "text/markdown": [
       "## Page 48315 on en (trashed=0):"
      ],
      "text/plain": [
       "<IPython.core.display.Markdown object>"
      ]
     },
     "metadata": {},
     "output_type": "display_data"
    },
    {
     "name": "stdout",
     "output_type": "stream",
     "text": [
      "null\n"
     ]
    },
    {
     "data": {
      "text/markdown": [
       "## Page 48331 on en (trashed=0):"
      ],
      "text/plain": [
       "<IPython.core.display.Markdown object>"
      ]
     },
     "metadata": {},
     "output_type": "display_data"
    },
    {
     "name": "stdout",
     "output_type": "stream",
     "text": [
      "null\n"
     ]
    },
    {
     "data": {
      "text/markdown": [
       "## Page 48345 on en (trashed=0):"
      ],
      "text/plain": [
       "<IPython.core.display.Markdown object>"
      ]
     },
     "metadata": {},
     "output_type": "display_data"
    },
    {
     "name": "stdout",
     "output_type": "stream",
     "text": [
      "{\n",
      "  \"label\": \"Math\",\n",
      "  \"id\": 23591,\n",
      "  \"children\": [\n",
      "    {\n",
      "      \"label\": \"Topics\",\n",
      "      \"id\": 23593\n",
      "    },\n",
      "    {\n",
      "      \"label\": \"Contribute to Serlo-Math\",\n",
      "      \"children\": [\n",
      "        {\n",
      "          \"label\": \"New here?\",\n",
      "          \"id\": 49386\n",
      "        },\n",
      "        {\n",
      "          \"label\": \"Guidelines\",\n",
      "          \"id\": 48345\n",
      "        },\n",
      "        {\n",
      "          \"label\": \"Edit Taxonomy\",\n",
      "          \"url\": \"/taxonomy/term/organize/23593\"\n",
      "        }\n",
      "      ]\n",
      "    }\n",
      "  ]\n",
      "}\n"
     ]
    },
    {
     "data": {
      "text/markdown": [
       "## Page 48347 on en (trashed=0):"
      ],
      "text/plain": [
       "<IPython.core.display.Markdown object>"
      ]
     },
     "metadata": {},
     "output_type": "display_data"
    },
    {
     "name": "stdout",
     "output_type": "stream",
     "text": [
      "null\n"
     ]
    },
    {
     "data": {
      "text/markdown": [
       "## Page 48404 on en (trashed=0):"
      ],
      "text/plain": [
       "<IPython.core.display.Markdown object>"
      ]
     },
     "metadata": {},
     "output_type": "display_data"
    },
    {
     "name": "stdout",
     "output_type": "stream",
     "text": [
      "{\n",
      "  \"label\": \"Music\",\n",
      "  \"id\": 48404,\n",
      "  \"children\": [\n",
      "    {\n",
      "      \"label\": \"Topics\",\n",
      "      \"id\": 48415\n",
      "    }\n",
      "  ]\n",
      "}\n"
     ]
    },
    {
     "data": {
      "text/markdown": [
       "## Page 48408 on en (trashed=0):"
      ],
      "text/plain": [
       "<IPython.core.display.Markdown object>"
      ]
     },
     "metadata": {},
     "output_type": "display_data"
    },
    {
     "name": "stdout",
     "output_type": "stream",
     "text": [
      "null\n"
     ]
    },
    {
     "data": {
      "text/markdown": [
       "## Page 48489 on en (trashed=0):"
      ],
      "text/plain": [
       "<IPython.core.display.Markdown object>"
      ]
     },
     "metadata": {},
     "output_type": "display_data"
    },
    {
     "name": "stdout",
     "output_type": "stream",
     "text": [
      "null\n"
     ]
    },
    {
     "data": {
      "text/markdown": [
       "## Page 49030 on en (trashed=0):"
      ],
      "text/plain": [
       "<IPython.core.display.Markdown object>"
      ]
     },
     "metadata": {},
     "output_type": "display_data"
    },
    {
     "name": "stdout",
     "output_type": "stream",
     "text": [
      "null\n"
     ]
    },
    {
     "data": {
      "text/markdown": [
       "## Page 49386 on en (trashed=0):"
      ],
      "text/plain": [
       "<IPython.core.display.Markdown object>"
      ]
     },
     "metadata": {},
     "output_type": "display_data"
    },
    {
     "name": "stdout",
     "output_type": "stream",
     "text": [
      "{\n",
      "  \"label\": \"Math\",\n",
      "  \"id\": 23591,\n",
      "  \"children\": [\n",
      "    {\n",
      "      \"label\": \"Topics\",\n",
      "      \"id\": 23593\n",
      "    },\n",
      "    {\n",
      "      \"label\": \"Contribute to Serlo-Math\",\n",
      "      \"children\": [\n",
      "        {\n",
      "          \"label\": \"New here?\",\n",
      "          \"id\": 49386\n",
      "        },\n",
      "        {\n",
      "          \"label\": \"Guidelines\",\n",
      "          \"id\": 48345\n",
      "        },\n",
      "        {\n",
      "          \"label\": \"Edit Taxonomy\",\n",
      "          \"url\": \"/taxonomy/term/organize/23593\"\n",
      "        }\n",
      "      ]\n",
      "    }\n",
      "  ]\n",
      "}\n"
     ]
    },
    {
     "data": {
      "text/markdown": [
       "## Page 50275 on en (trashed=0):"
      ],
      "text/plain": [
       "<IPython.core.display.Markdown object>"
      ]
     },
     "metadata": {},
     "output_type": "display_data"
    },
    {
     "name": "stdout",
     "output_type": "stream",
     "text": [
      "null\n"
     ]
    },
    {
     "data": {
      "text/markdown": [
       "## Page 50282 on en (trashed=0):"
      ],
      "text/plain": [
       "<IPython.core.display.Markdown object>"
      ]
     },
     "metadata": {},
     "output_type": "display_data"
    },
    {
     "name": "stdout",
     "output_type": "stream",
     "text": [
      "null\n"
     ]
    },
    {
     "data": {
      "text/markdown": [
       "## Page 50286 on en (trashed=0):"
      ],
      "text/plain": [
       "<IPython.core.display.Markdown object>"
      ]
     },
     "metadata": {},
     "output_type": "display_data"
    },
    {
     "name": "stdout",
     "output_type": "stream",
     "text": [
      "null\n"
     ]
    },
    {
     "data": {
      "text/markdown": [
       "## Page 50291 on en (trashed=0):"
      ],
      "text/plain": [
       "<IPython.core.display.Markdown object>"
      ]
     },
     "metadata": {},
     "output_type": "display_data"
    },
    {
     "name": "stdout",
     "output_type": "stream",
     "text": [
      "null\n"
     ]
    },
    {
     "data": {
      "text/markdown": [
       "## Page 51176 on en (trashed=0):"
      ],
      "text/plain": [
       "<IPython.core.display.Markdown object>"
      ]
     },
     "metadata": {},
     "output_type": "display_data"
    },
    {
     "name": "stdout",
     "output_type": "stream",
     "text": [
      "null\n"
     ]
    },
    {
     "data": {
      "text/markdown": [
       "## Page 56677 on en (trashed=0):"
      ],
      "text/plain": [
       "<IPython.core.display.Markdown object>"
      ]
     },
     "metadata": {},
     "output_type": "display_data"
    },
    {
     "name": "stdout",
     "output_type": "stream",
     "text": [
      "{\n",
      "  \"label\": \"Applied Sustainability\",\n",
      "  \"id\": 63179,\n",
      "  \"children\": [\n",
      "    {\n",
      "      \"label\": \"Topics\",\n",
      "      \"id\": 112089\n",
      "    },\n",
      "    {\n",
      "      \"label\": \"Participate in building Serlo Sustainability\",\n",
      "      \"children\": [\n",
      "        {\n",
      "          \"label\": \"New here?\",\n",
      "          \"id\": 56861\n",
      "        },\n",
      "        {\n",
      "          \"label\": \"Guidelines\",\n",
      "          \"id\": 56677\n",
      "        },\n",
      "        {\n",
      "          \"label\": \"Edit Taxonomy\",\n",
      "          \"url\": \"/taxonomy/term/organize/48416\"\n",
      "        }\n",
      "      ]\n",
      "    }\n",
      "  ]\n",
      "}\n"
     ]
    },
    {
     "data": {
      "text/markdown": [
       "## Page 56861 on en (trashed=0):"
      ],
      "text/plain": [
       "<IPython.core.display.Markdown object>"
      ]
     },
     "metadata": {},
     "output_type": "display_data"
    },
    {
     "name": "stdout",
     "output_type": "stream",
     "text": [
      "{\n",
      "  \"label\": \"Applied Sustainability\",\n",
      "  \"id\": 63179,\n",
      "  \"children\": [\n",
      "    {\n",
      "      \"label\": \"Topics\",\n",
      "      \"id\": 112089\n",
      "    },\n",
      "    {\n",
      "      \"label\": \"Participate in building Serlo Sustainability\",\n",
      "      \"children\": [\n",
      "        {\n",
      "          \"label\": \"New here?\",\n",
      "          \"id\": 56861\n",
      "        },\n",
      "        {\n",
      "          \"label\": \"Guidelines\",\n",
      "          \"id\": 56677\n",
      "        },\n",
      "        {\n",
      "          \"label\": \"Edit Taxonomy\",\n",
      "          \"url\": \"/taxonomy/term/organize/48416\"\n",
      "        }\n",
      "      ]\n",
      "    }\n",
      "  ]\n",
      "}\n"
     ]
    },
    {
     "data": {
      "text/markdown": [
       "## Page 59012 on en (trashed=0):"
      ],
      "text/plain": [
       "<IPython.core.display.Markdown object>"
      ]
     },
     "metadata": {},
     "output_type": "display_data"
    },
    {
     "name": "stdout",
     "output_type": "stream",
     "text": [
      "null\n"
     ]
    },
    {
     "data": {
      "text/markdown": [
       "## Page 63179 on en (trashed=0):"
      ],
      "text/plain": [
       "<IPython.core.display.Markdown object>"
      ]
     },
     "metadata": {},
     "output_type": "display_data"
    },
    {
     "name": "stdout",
     "output_type": "stream",
     "text": [
      "{\n",
      "  \"label\": \"Applied Sustainability\",\n",
      "  \"id\": 63179,\n",
      "  \"children\": [\n",
      "    {\n",
      "      \"label\": \"Topics\",\n",
      "      \"id\": 112089\n",
      "    },\n",
      "    {\n",
      "      \"label\": \"Participate in building Serlo Sustainability\",\n",
      "      \"children\": [\n",
      "        {\n",
      "          \"label\": \"New here?\",\n",
      "          \"id\": 56861\n",
      "        },\n",
      "        {\n",
      "          \"label\": \"Guidelines\",\n",
      "          \"id\": 56677\n",
      "        },\n",
      "        {\n",
      "          \"label\": \"Edit Taxonomy\",\n",
      "          \"url\": \"/taxonomy/term/organize/48416\"\n",
      "        }\n",
      "      ]\n",
      "    }\n",
      "  ]\n",
      "}\n"
     ]
    },
    {
     "data": {
      "text/markdown": [
       "## Page 67932 on en (trashed=0):"
      ],
      "text/plain": [
       "<IPython.core.display.Markdown object>"
      ]
     },
     "metadata": {},
     "output_type": "display_data"
    },
    {
     "name": "stdout",
     "output_type": "stream",
     "text": [
      "null\n"
     ]
    },
    {
     "data": {
      "text/markdown": [
       "## Page 78337 on en (trashed=0):"
      ],
      "text/plain": [
       "<IPython.core.display.Markdown object>"
      ]
     },
     "metadata": {},
     "output_type": "display_data"
    },
    {
     "name": "stdout",
     "output_type": "stream",
     "text": [
      "{\n",
      "  \"label\": \"Sex Education\",\n",
      "  \"id\": 78337,\n",
      "  \"children\": [\n",
      "    {\n",
      "      \"label\": \"Topics\",\n",
      "      \"id\": 78339\n",
      "    }\n",
      "  ]\n",
      "}\n"
     ]
    },
    {
     "data": {
      "text/markdown": [
       "## Page 93321 on en (trashed=0):"
      ],
      "text/plain": [
       "<IPython.core.display.Markdown object>"
      ]
     },
     "metadata": {},
     "output_type": "display_data"
    },
    {
     "name": "stdout",
     "output_type": "stream",
     "text": [
      "{\n",
      "  \"label\": \"About Serlo\",\n",
      "  \"id\": 23727,\n",
      "  \"children\": [\n",
      "    {\n",
      "      \"label\": \"How to learn with serlo.org\",\n",
      "      \"id\": 110332\n",
      "    },\n",
      "    {\n",
      "      \"label\": \"Impact\",\n",
      "      \"id\": 110335\n",
      "    },\n",
      "    {\n",
      "      \"label\": \"Team\",\n",
      "      \"id\": 32840\n",
      "    },\n",
      "    {\n",
      "      \"label\": \"Partners and Donors\",\n",
      "      \"id\": 110337\n",
      "    },\n",
      "    {\n",
      "      \"label\": \"Serlo.org in other languages\",\n",
      "      \"id\": 93321\n",
      "    }\n",
      "  ]\n",
      "}\n"
     ]
    },
    {
     "data": {
      "text/markdown": [
       "## Page 108721 on en (trashed=0):"
      ],
      "text/plain": [
       "<IPython.core.display.Markdown object>"
      ]
     },
     "metadata": {},
     "output_type": "display_data"
    },
    {
     "name": "stdout",
     "output_type": "stream",
     "text": [
      "null\n"
     ]
    },
    {
     "data": {
      "text/markdown": [
       "## Page 110332 on en (trashed=0):"
      ],
      "text/plain": [
       "<IPython.core.display.Markdown object>"
      ]
     },
     "metadata": {},
     "output_type": "display_data"
    },
    {
     "name": "stdout",
     "output_type": "stream",
     "text": [
      "{\n",
      "  \"label\": \"About Serlo\",\n",
      "  \"id\": 23727,\n",
      "  \"children\": [\n",
      "    {\n",
      "      \"label\": \"How to learn with serlo.org\",\n",
      "      \"id\": 110332\n",
      "    },\n",
      "    {\n",
      "      \"label\": \"Impact\",\n",
      "      \"id\": 110335\n",
      "    },\n",
      "    {\n",
      "      \"label\": \"Team\",\n",
      "      \"id\": 32840\n",
      "    },\n",
      "    {\n",
      "      \"label\": \"Partners and Donors\",\n",
      "      \"id\": 110337\n",
      "    },\n",
      "    {\n",
      "      \"label\": \"Serlo.org in other languages\",\n",
      "      \"id\": 93321\n",
      "    }\n",
      "  ]\n",
      "}\n"
     ]
    },
    {
     "data": {
      "text/markdown": [
       "## Page 110335 on en (trashed=0):"
      ],
      "text/plain": [
       "<IPython.core.display.Markdown object>"
      ]
     },
     "metadata": {},
     "output_type": "display_data"
    },
    {
     "name": "stdout",
     "output_type": "stream",
     "text": [
      "{\n",
      "  \"label\": \"About Serlo\",\n",
      "  \"id\": 23727,\n",
      "  \"children\": [\n",
      "    {\n",
      "      \"label\": \"How to learn with serlo.org\",\n",
      "      \"id\": 110332\n",
      "    },\n",
      "    {\n",
      "      \"label\": \"Impact\",\n",
      "      \"id\": 110335\n",
      "    },\n",
      "    {\n",
      "      \"label\": \"Team\",\n",
      "      \"id\": 32840\n",
      "    },\n",
      "    {\n",
      "      \"label\": \"Partners and Donors\",\n",
      "      \"id\": 110337\n",
      "    },\n",
      "    {\n",
      "      \"label\": \"Serlo.org in other languages\",\n",
      "      \"id\": 93321\n",
      "    }\n",
      "  ]\n",
      "}\n"
     ]
    },
    {
     "data": {
      "text/markdown": [
       "## Page 110337 on en (trashed=0):"
      ],
      "text/plain": [
       "<IPython.core.display.Markdown object>"
      ]
     },
     "metadata": {},
     "output_type": "display_data"
    },
    {
     "name": "stdout",
     "output_type": "stream",
     "text": [
      "{\n",
      "  \"label\": \"About Serlo\",\n",
      "  \"id\": 23727,\n",
      "  \"children\": [\n",
      "    {\n",
      "      \"label\": \"How to learn with serlo.org\",\n",
      "      \"id\": 110332\n",
      "    },\n",
      "    {\n",
      "      \"label\": \"Impact\",\n",
      "      \"id\": 110335\n",
      "    },\n",
      "    {\n",
      "      \"label\": \"Team\",\n",
      "      \"id\": 32840\n",
      "    },\n",
      "    {\n",
      "      \"label\": \"Partners and Donors\",\n",
      "      \"id\": 110337\n",
      "    },\n",
      "    {\n",
      "      \"label\": \"Serlo.org in other languages\",\n",
      "      \"id\": 93321\n",
      "    }\n",
      "  ]\n",
      "}\n"
     ]
    },
    {
     "data": {
      "text/markdown": [
       "## Page 112249 on es (trashed=0):"
      ],
      "text/plain": [
       "<IPython.core.display.Markdown object>"
      ]
     },
     "metadata": {},
     "output_type": "display_data"
    },
    {
     "name": "stdout",
     "output_type": "stream",
     "text": [
      "{\n",
      "  \"label\": \"A cerca de Serlo\",\n",
      "  \"id\": 112249,\n",
      "  \"children\": [\n",
      "    {\n",
      "      \"label\": \"As\\u00ed funciona la plataforma de aprendizaje\",\n",
      "      \"id\": 195620\n",
      "    },\n",
      "    {\n",
      "      \"label\": \"Concepto pedag\\u00f3gico\",\n",
      "      \"id\": 170419\n",
      "    },\n",
      "    {\n",
      "      \"label\": \"Equipo\",\n",
      "      \"id\": 181476\n",
      "    },\n",
      "    {\n",
      "      \"label\": \"Socios y Patrocinadores\",\n",
      "      \"id\": 198326\n",
      "    },\n",
      "    {\n",
      "      \"label\": \"Impacto\",\n",
      "      \"id\": 209934\n",
      "    },\n",
      "    {\n",
      "      \"label\": \"Transparencia\",\n",
      "      \"id\": 209929\n",
      "    }\n",
      "  ]\n",
      "}\n"
     ]
    },
    {
     "data": {
      "text/markdown": [
       "## Page 112252 on es (trashed=0):"
      ],
      "text/plain": [
       "<IPython.core.display.Markdown object>"
      ]
     },
     "metadata": {},
     "output_type": "display_data"
    },
    {
     "name": "stdout",
     "output_type": "stream",
     "text": [
      "{\n",
      "  \"label\": \"Participa\",\n",
      "  \"id\": 112252,\n",
      "  \"children\": [\n",
      "    {\n",
      "      \"label\": \" Contacto y ubicaci\\u00f3n\",\n",
      "      \"id\": 181414\n",
      "    }\n",
      "  ]\n",
      "}\n"
     ]
    },
    {
     "data": {
      "text/markdown": [
       "## Page 112258 on es (trashed=0):"
      ],
      "text/plain": [
       "<IPython.core.display.Markdown object>"
      ]
     },
     "metadata": {},
     "output_type": "display_data"
    },
    {
     "name": "stdout",
     "output_type": "stream",
     "text": [
      "{\n",
      "  \"label\": \"Comunidad\",\n",
      "  \"id\": 112258,\n",
      "  \"children\": [\n",
      "    {\n",
      "      \"label\": \"P\\u00e1ginas de ayuda\",\n",
      "      \"id\": 170539\n",
      "    },\n",
      "    {\n",
      "      \"label\": \" Recursos para educadores\",\n",
      "      \"id\": 182103\n",
      "    },\n",
      "    {\n",
      "      \"label\": \"Sandbox\",\n",
      "      \"id\": 164237\n",
      "    },\n",
      "    {\n",
      "      \"label\": \"Todas las actividades en Serlo\",\n",
      "      \"url\": \"/event/history\"\n",
      "    },\n",
      "    {\n",
      "      \"label\": \"Todos los comentarios en Serlo\",\n",
      "      \"url\": \"/discussions\"\n",
      "    },\n",
      "    {\n",
      "      \"label\": \"Operaciones en revisi\\u00f3n\",\n",
      "      \"url\": \"/entity/unrevised\"\n",
      "    }\n",
      "  ]\n",
      "}\n"
     ]
    },
    {
     "data": {
      "text/markdown": [
       "## Page 139598 on es (trashed=0):"
      ],
      "text/plain": [
       "<IPython.core.display.Markdown object>"
      ]
     },
     "metadata": {},
     "output_type": "display_data"
    },
    {
     "name": "stdout",
     "output_type": "stream",
     "text": [
      "null\n"
     ]
    },
    {
     "data": {
      "text/markdown": [
       "## Page 169578 on es (trashed=0):"
      ],
      "text/plain": [
       "<IPython.core.display.Markdown object>"
      ]
     },
     "metadata": {},
     "output_type": "display_data"
    },
    {
     "name": "stdout",
     "output_type": "stream",
     "text": [
      "{\n",
      "  \"label\": \"Matem\\u00e1ticas\",\n",
      "  \"id\": 169578,\n",
      "  \"children\": [\n",
      "    {\n",
      "      \"label\": \"Todos los temas\",\n",
      "      \"id\": 169580\n",
      "    },\n",
      "    {\n",
      "      \"label\": \" \\u00bfEres nuevo aqu\\u00ed?\",\n",
      "      \"id\": 180775\n",
      "    }\n",
      "  ]\n",
      "}\n"
     ]
    },
    {
     "data": {
      "text/markdown": [
       "## Page 170419 on es (trashed=0):"
      ],
      "text/plain": [
       "<IPython.core.display.Markdown object>"
      ]
     },
     "metadata": {},
     "output_type": "display_data"
    },
    {
     "name": "stdout",
     "output_type": "stream",
     "text": [
      "{\n",
      "  \"label\": \"A cerca de Serlo\",\n",
      "  \"id\": 112249,\n",
      "  \"children\": [\n",
      "    {\n",
      "      \"label\": \"As\\u00ed funciona la plataforma de aprendizaje\",\n",
      "      \"id\": 195620\n",
      "    },\n",
      "    {\n",
      "      \"label\": \"Concepto pedag\\u00f3gico\",\n",
      "      \"id\": 170419\n",
      "    },\n",
      "    {\n",
      "      \"label\": \"Equipo\",\n",
      "      \"id\": 181476\n",
      "    },\n",
      "    {\n",
      "      \"label\": \"Socios y Patrocinadores\",\n",
      "      \"id\": 198326\n",
      "    },\n",
      "    {\n",
      "      \"label\": \"Impacto\",\n",
      "      \"id\": 209934\n",
      "    },\n",
      "    {\n",
      "      \"label\": \"Transparencia\",\n",
      "      \"id\": 209929\n",
      "    }\n",
      "  ]\n",
      "}\n"
     ]
    },
    {
     "data": {
      "text/markdown": [
       "## Page 180775 on es (trashed=0):"
      ],
      "text/plain": [
       "<IPython.core.display.Markdown object>"
      ]
     },
     "metadata": {},
     "output_type": "display_data"
    },
    {
     "name": "stdout",
     "output_type": "stream",
     "text": [
      "{\n",
      "  \"label\": \"Sostenibilidad Aplicada\",\n",
      "  \"id\": 242851,\n",
      "  \"children\": [\n",
      "    {\n",
      "      \"label\": \"\\u00bfEres nuevo aqu\\u00ed?\",\n",
      "      \"id\": 180775\n",
      "    }\n",
      "  ]\n",
      "}\n"
     ]
    },
    {
     "data": {
      "text/markdown": [
       "## Page 181414 on es (trashed=0):"
      ],
      "text/plain": [
       "<IPython.core.display.Markdown object>"
      ]
     },
     "metadata": {},
     "output_type": "display_data"
    },
    {
     "name": "stdout",
     "output_type": "stream",
     "text": [
      "{\n",
      "  \"label\": \"Participa\",\n",
      "  \"id\": 112252,\n",
      "  \"children\": [\n",
      "    {\n",
      "      \"label\": \" Contacto y ubicaci\\u00f3n\",\n",
      "      \"id\": 181414\n",
      "    }\n",
      "  ]\n",
      "}\n"
     ]
    },
    {
     "data": {
      "text/markdown": [
       "## Page 181476 on es (trashed=0):"
      ],
      "text/plain": [
       "<IPython.core.display.Markdown object>"
      ]
     },
     "metadata": {},
     "output_type": "display_data"
    },
    {
     "name": "stdout",
     "output_type": "stream",
     "text": [
      "{\n",
      "  \"label\": \"A cerca de Serlo\",\n",
      "  \"id\": 112249,\n",
      "  \"children\": [\n",
      "    {\n",
      "      \"label\": \"As\\u00ed funciona la plataforma de aprendizaje\",\n",
      "      \"id\": 195620\n",
      "    },\n",
      "    {\n",
      "      \"label\": \"Concepto pedag\\u00f3gico\",\n",
      "      \"id\": 170419\n",
      "    },\n",
      "    {\n",
      "      \"label\": \"Equipo\",\n",
      "      \"id\": 181476\n",
      "    },\n",
      "    {\n",
      "      \"label\": \"Socios y Patrocinadores\",\n",
      "      \"id\": 198326\n",
      "    },\n",
      "    {\n",
      "      \"label\": \"Impacto\",\n",
      "      \"id\": 209934\n",
      "    },\n",
      "    {\n",
      "      \"label\": \"Transparencia\",\n",
      "      \"id\": 209929\n",
      "    }\n",
      "  ]\n",
      "}\n"
     ]
    },
    {
     "data": {
      "text/markdown": [
       "## Page 194918 on es (trashed=0):"
      ],
      "text/plain": [
       "<IPython.core.display.Markdown object>"
      ]
     },
     "metadata": {},
     "output_type": "display_data"
    },
    {
     "name": "stdout",
     "output_type": "stream",
     "text": [
      "null\n"
     ]
    },
    {
     "data": {
      "text/markdown": [
       "## Page 195616 on es (trashed=0):"
      ],
      "text/plain": [
       "<IPython.core.display.Markdown object>"
      ]
     },
     "metadata": {},
     "output_type": "display_data"
    },
    {
     "name": "stdout",
     "output_type": "stream",
     "text": [
      "null\n"
     ]
    },
    {
     "data": {
      "text/markdown": [
       "## Page 195618 on es (trashed=0):"
      ],
      "text/plain": [
       "<IPython.core.display.Markdown object>"
      ]
     },
     "metadata": {},
     "output_type": "display_data"
    },
    {
     "name": "stdout",
     "output_type": "stream",
     "text": [
      "null\n"
     ]
    },
    {
     "data": {
      "text/markdown": [
       "## Page 195620 on es (trashed=0):"
      ],
      "text/plain": [
       "<IPython.core.display.Markdown object>"
      ]
     },
     "metadata": {},
     "output_type": "display_data"
    },
    {
     "name": "stdout",
     "output_type": "stream",
     "text": [
      "{\n",
      "  \"label\": \"A cerca de Serlo\",\n",
      "  \"id\": 112249,\n",
      "  \"children\": [\n",
      "    {\n",
      "      \"label\": \"As\\u00ed funciona la plataforma de aprendizaje\",\n",
      "      \"id\": 195620\n",
      "    },\n",
      "    {\n",
      "      \"label\": \"Concepto pedag\\u00f3gico\",\n",
      "      \"id\": 170419\n",
      "    },\n",
      "    {\n",
      "      \"label\": \"Equipo\",\n",
      "      \"id\": 181476\n",
      "    },\n",
      "    {\n",
      "      \"label\": \"Socios y Patrocinadores\",\n",
      "      \"id\": 198326\n",
      "    },\n",
      "    {\n",
      "      \"label\": \"Impacto\",\n",
      "      \"id\": 209934\n",
      "    },\n",
      "    {\n",
      "      \"label\": \"Transparencia\",\n",
      "      \"id\": 209929\n",
      "    }\n",
      "  ]\n",
      "}\n"
     ]
    },
    {
     "data": {
      "text/markdown": [
       "## Page 198326 on es (trashed=0):"
      ],
      "text/plain": [
       "<IPython.core.display.Markdown object>"
      ]
     },
     "metadata": {},
     "output_type": "display_data"
    },
    {
     "name": "stdout",
     "output_type": "stream",
     "text": [
      "{\n",
      "  \"label\": \"A cerca de Serlo\",\n",
      "  \"id\": 112249,\n",
      "  \"children\": [\n",
      "    {\n",
      "      \"label\": \"As\\u00ed funciona la plataforma de aprendizaje\",\n",
      "      \"id\": 195620\n",
      "    },\n",
      "    {\n",
      "      \"label\": \"Concepto pedag\\u00f3gico\",\n",
      "      \"id\": 170419\n",
      "    },\n",
      "    {\n",
      "      \"label\": \"Equipo\",\n",
      "      \"id\": 181476\n",
      "    },\n",
      "    {\n",
      "      \"label\": \"Socios y Patrocinadores\",\n",
      "      \"id\": 198326\n",
      "    },\n",
      "    {\n",
      "      \"label\": \"Impacto\",\n",
      "      \"id\": 209934\n",
      "    },\n",
      "    {\n",
      "      \"label\": \"Transparencia\",\n",
      "      \"id\": 209929\n",
      "    }\n",
      "  ]\n",
      "}\n"
     ]
    },
    {
     "data": {
      "text/markdown": [
       "## Page 200691 on es (trashed=0):"
      ],
      "text/plain": [
       "<IPython.core.display.Markdown object>"
      ]
     },
     "metadata": {},
     "output_type": "display_data"
    },
    {
     "name": "stdout",
     "output_type": "stream",
     "text": [
      "null\n"
     ]
    },
    {
     "data": {
      "text/markdown": [
       "## Page 209929 on es (trashed=0):"
      ],
      "text/plain": [
       "<IPython.core.display.Markdown object>"
      ]
     },
     "metadata": {},
     "output_type": "display_data"
    },
    {
     "name": "stdout",
     "output_type": "stream",
     "text": [
      "{\n",
      "  \"label\": \"A cerca de Serlo\",\n",
      "  \"id\": 112249,\n",
      "  \"children\": [\n",
      "    {\n",
      "      \"label\": \"As\\u00ed funciona la plataforma de aprendizaje\",\n",
      "      \"id\": 195620\n",
      "    },\n",
      "    {\n",
      "      \"label\": \"Concepto pedag\\u00f3gico\",\n",
      "      \"id\": 170419\n",
      "    },\n",
      "    {\n",
      "      \"label\": \"Equipo\",\n",
      "      \"id\": 181476\n",
      "    },\n",
      "    {\n",
      "      \"label\": \"Socios y Patrocinadores\",\n",
      "      \"id\": 198326\n",
      "    },\n",
      "    {\n",
      "      \"label\": \"Impacto\",\n",
      "      \"id\": 209934\n",
      "    },\n",
      "    {\n",
      "      \"label\": \"Transparencia\",\n",
      "      \"id\": 209929\n",
      "    }\n",
      "  ]\n",
      "}\n"
     ]
    },
    {
     "data": {
      "text/markdown": [
       "## Page 209934 on es (trashed=0):"
      ],
      "text/plain": [
       "<IPython.core.display.Markdown object>"
      ]
     },
     "metadata": {},
     "output_type": "display_data"
    },
    {
     "name": "stdout",
     "output_type": "stream",
     "text": [
      "{\n",
      "  \"label\": \"A cerca de Serlo\",\n",
      "  \"id\": 112249,\n",
      "  \"children\": [\n",
      "    {\n",
      "      \"label\": \"As\\u00ed funciona la plataforma de aprendizaje\",\n",
      "      \"id\": 195620\n",
      "    },\n",
      "    {\n",
      "      \"label\": \"Concepto pedag\\u00f3gico\",\n",
      "      \"id\": 170419\n",
      "    },\n",
      "    {\n",
      "      \"label\": \"Equipo\",\n",
      "      \"id\": 181476\n",
      "    },\n",
      "    {\n",
      "      \"label\": \"Socios y Patrocinadores\",\n",
      "      \"id\": 198326\n",
      "    },\n",
      "    {\n",
      "      \"label\": \"Impacto\",\n",
      "      \"id\": 209934\n",
      "    },\n",
      "    {\n",
      "      \"label\": \"Transparencia\",\n",
      "      \"id\": 209929\n",
      "    }\n",
      "  ]\n",
      "}\n"
     ]
    },
    {
     "data": {
      "text/markdown": [
       "## Page 229701 on es (trashed=0):"
      ],
      "text/plain": [
       "<IPython.core.display.Markdown object>"
      ]
     },
     "metadata": {},
     "output_type": "display_data"
    },
    {
     "name": "stdout",
     "output_type": "stream",
     "text": [
      "{\n",
      "  \"label\": \"Estudios en Di\\u00e1sporas Africanas para la Escuela\",\n",
      "  \"id\": 229701,\n",
      "  \"children\": [\n",
      "    {\n",
      "      \"label\": \"Todos los temas\",\n",
      "      \"id\": 242308\n",
      "    },\n",
      "    {\n",
      "      \"label\": \"\\u00bfEres nuevo aqu\\u00ed?\",\n",
      "      \"id\": 180775\n",
      "    }\n",
      "  ]\n",
      "}\n"
     ]
    },
    {
     "data": {
      "text/markdown": [
       "## Page 241982 on es (trashed=0):"
      ],
      "text/plain": [
       "<IPython.core.display.Markdown object>"
      ]
     },
     "metadata": {},
     "output_type": "display_data"
    },
    {
     "name": "stdout",
     "output_type": "stream",
     "text": [
      "null\n"
     ]
    },
    {
     "data": {
      "text/markdown": [
       "## Page 112510 on hi (trashed=0):"
      ],
      "text/plain": [
       "<IPython.core.display.Markdown object>"
      ]
     },
     "metadata": {},
     "output_type": "display_data"
    },
    {
     "name": "stdout",
     "output_type": "stream",
     "text": [
      "{\n",
      "  \"label\": \"\\u0938\\u0947\\u0930\\u094d\\u0932\\u094b \\u0915\\u0947 \\u092c\\u093e\\u0930\\u0947 \\u092e\\u0947\\u0902\",\n",
      "  \"id\": 112510,\n",
      "  \"children\": [\n",
      "    {\n",
      "      \"label\": \"\\u0938\\u0930\\u094d\\u0932\\u094b \\u0915\\u0947 \\u0938\\u093e\\u0925 \\u0915\\u0948\\u0938\\u0947 \\u0938\\u0940\\u0916\\u0947\\u0902?\",\n",
      "      \"id\": 185252\n",
      "    },\n",
      "    {\n",
      "      \"label\": \"\\u092a\\u094d\\u0930\\u092d\\u093e\\u0935\",\n",
      "      \"id\": 185250\n",
      "    },\n",
      "    {\n",
      "      \"label\": \"\\u091f\\u0940\\u092e\",\n",
      "      \"id\": 206300\n",
      "    },\n",
      "    {\n",
      "      \"label\": \"\\u092d\\u093e\\u0917\\u0940\\u0926\\u093e\\u0930 \\u0914\\u0930 \\u0926\\u093e\\u0924\\u093e\",\n",
      "      \"id\": 185257\n",
      "    },\n",
      "    {\n",
      "      \"label\": \"\\u0905\\u0928\\u094d\\u092f \\u092d\\u093e\\u0937\\u093e\\u0913\\u0902 \\u092e\\u0947\\u0902 \\u0938\\u0947\\u0930\\u094d\\u0932\\u094b\",\n",
      "      \"id\": 185259\n",
      "    }\n",
      "  ]\n",
      "}\n"
     ]
    },
    {
     "data": {
      "text/markdown": [
       "## Page 112518 on hi (trashed=0):"
      ],
      "text/plain": [
       "<IPython.core.display.Markdown object>"
      ]
     },
     "metadata": {},
     "output_type": "display_data"
    },
    {
     "name": "stdout",
     "output_type": "stream",
     "text": [
      "null\n"
     ]
    },
    {
     "data": {
      "text/markdown": [
       "## Page 167881 on hi (trashed=0):"
      ],
      "text/plain": [
       "<IPython.core.display.Markdown object>"
      ]
     },
     "metadata": {},
     "output_type": "display_data"
    },
    {
     "name": "stdout",
     "output_type": "stream",
     "text": [
      "null\n"
     ]
    },
    {
     "data": {
      "text/markdown": [
       "## Page 185250 on hi (trashed=0):"
      ],
      "text/plain": [
       "<IPython.core.display.Markdown object>"
      ]
     },
     "metadata": {},
     "output_type": "display_data"
    },
    {
     "name": "stdout",
     "output_type": "stream",
     "text": [
      "{\n",
      "  \"label\": \"\\u0938\\u0947\\u0930\\u094d\\u0932\\u094b \\u0915\\u0947 \\u092c\\u093e\\u0930\\u0947 \\u092e\\u0947\\u0902\",\n",
      "  \"id\": 112510,\n",
      "  \"children\": [\n",
      "    {\n",
      "      \"label\": \"\\u0938\\u0930\\u094d\\u0932\\u094b \\u0915\\u0947 \\u0938\\u093e\\u0925 \\u0915\\u0948\\u0938\\u0947 \\u0938\\u0940\\u0916\\u0947\\u0902?\",\n",
      "      \"id\": 185252\n",
      "    },\n",
      "    {\n",
      "      \"label\": \"\\u092a\\u094d\\u0930\\u092d\\u093e\\u0935\",\n",
      "      \"id\": 185250\n",
      "    },\n",
      "    {\n",
      "      \"label\": \"\\u091f\\u0940\\u092e\",\n",
      "      \"id\": 206300\n",
      "    },\n",
      "    {\n",
      "      \"label\": \"\\u092d\\u093e\\u0917\\u0940\\u0926\\u093e\\u0930 \\u0914\\u0930 \\u0926\\u093e\\u0924\\u093e\",\n",
      "      \"id\": 185257\n",
      "    },\n",
      "    {\n",
      "      \"label\": \"\\u0905\\u0928\\u094d\\u092f \\u092d\\u093e\\u0937\\u093e\\u0913\\u0902 \\u092e\\u0947\\u0902 \\u0938\\u0947\\u0930\\u094d\\u0932\\u094b\",\n",
      "      \"id\": 185259\n",
      "    }\n",
      "  ]\n",
      "}\n"
     ]
    },
    {
     "data": {
      "text/markdown": [
       "## Page 185252 on hi (trashed=0):"
      ],
      "text/plain": [
       "<IPython.core.display.Markdown object>"
      ]
     },
     "metadata": {},
     "output_type": "display_data"
    },
    {
     "name": "stdout",
     "output_type": "stream",
     "text": [
      "{\n",
      "  \"label\": \"\\u0938\\u0947\\u0930\\u094d\\u0932\\u094b \\u0915\\u0947 \\u092c\\u093e\\u0930\\u0947 \\u092e\\u0947\\u0902\",\n",
      "  \"id\": 112510,\n",
      "  \"children\": [\n",
      "    {\n",
      "      \"label\": \"\\u0938\\u0930\\u094d\\u0932\\u094b \\u0915\\u0947 \\u0938\\u093e\\u0925 \\u0915\\u0948\\u0938\\u0947 \\u0938\\u0940\\u0916\\u0947\\u0902?\",\n",
      "      \"id\": 185252\n",
      "    },\n",
      "    {\n",
      "      \"label\": \"\\u092a\\u094d\\u0930\\u092d\\u093e\\u0935\",\n",
      "      \"id\": 185250\n",
      "    },\n",
      "    {\n",
      "      \"label\": \"\\u091f\\u0940\\u092e\",\n",
      "      \"id\": 206300\n",
      "    },\n",
      "    {\n",
      "      \"label\": \"\\u092d\\u093e\\u0917\\u0940\\u0926\\u093e\\u0930 \\u0914\\u0930 \\u0926\\u093e\\u0924\\u093e\",\n",
      "      \"id\": 185257\n",
      "    },\n",
      "    {\n",
      "      \"label\": \"\\u0905\\u0928\\u094d\\u092f \\u092d\\u093e\\u0937\\u093e\\u0913\\u0902 \\u092e\\u0947\\u0902 \\u0938\\u0947\\u0930\\u094d\\u0932\\u094b\",\n",
      "      \"id\": 185259\n",
      "    }\n",
      "  ]\n",
      "}\n"
     ]
    },
    {
     "data": {
      "text/markdown": [
       "## Page 185255 on hi (trashed=0):"
      ],
      "text/plain": [
       "<IPython.core.display.Markdown object>"
      ]
     },
     "metadata": {},
     "output_type": "display_data"
    },
    {
     "name": "stdout",
     "output_type": "stream",
     "text": [
      "null\n"
     ]
    },
    {
     "data": {
      "text/markdown": [
       "## Page 185257 on hi (trashed=0):"
      ],
      "text/plain": [
       "<IPython.core.display.Markdown object>"
      ]
     },
     "metadata": {},
     "output_type": "display_data"
    },
    {
     "name": "stdout",
     "output_type": "stream",
     "text": [
      "{\n",
      "  \"label\": \"\\u0938\\u0947\\u0930\\u094d\\u0932\\u094b \\u0915\\u0947 \\u092c\\u093e\\u0930\\u0947 \\u092e\\u0947\\u0902\",\n",
      "  \"id\": 112510,\n",
      "  \"children\": [\n",
      "    {\n",
      "      \"label\": \"\\u0938\\u0930\\u094d\\u0932\\u094b \\u0915\\u0947 \\u0938\\u093e\\u0925 \\u0915\\u0948\\u0938\\u0947 \\u0938\\u0940\\u0916\\u0947\\u0902?\",\n",
      "      \"id\": 185252\n",
      "    },\n",
      "    {\n",
      "      \"label\": \"\\u092a\\u094d\\u0930\\u092d\\u093e\\u0935\",\n",
      "      \"id\": 185250\n",
      "    },\n",
      "    {\n",
      "      \"label\": \"\\u091f\\u0940\\u092e\",\n",
      "      \"id\": 206300\n",
      "    },\n",
      "    {\n",
      "      \"label\": \"\\u092d\\u093e\\u0917\\u0940\\u0926\\u093e\\u0930 \\u0914\\u0930 \\u0926\\u093e\\u0924\\u093e\",\n",
      "      \"id\": 185257\n",
      "    },\n",
      "    {\n",
      "      \"label\": \"\\u0905\\u0928\\u094d\\u092f \\u092d\\u093e\\u0937\\u093e\\u0913\\u0902 \\u092e\\u0947\\u0902 \\u0938\\u0947\\u0930\\u094d\\u0932\\u094b\",\n",
      "      \"id\": 185259\n",
      "    }\n",
      "  ]\n",
      "}\n"
     ]
    },
    {
     "data": {
      "text/markdown": [
       "## Page 185259 on hi (trashed=0):"
      ],
      "text/plain": [
       "<IPython.core.display.Markdown object>"
      ]
     },
     "metadata": {},
     "output_type": "display_data"
    },
    {
     "name": "stdout",
     "output_type": "stream",
     "text": [
      "{\n",
      "  \"label\": \"\\u0938\\u0947\\u0930\\u094d\\u0932\\u094b \\u0915\\u0947 \\u092c\\u093e\\u0930\\u0947 \\u092e\\u0947\\u0902\",\n",
      "  \"id\": 112510,\n",
      "  \"children\": [\n",
      "    {\n",
      "      \"label\": \"\\u0938\\u0930\\u094d\\u0932\\u094b \\u0915\\u0947 \\u0938\\u093e\\u0925 \\u0915\\u0948\\u0938\\u0947 \\u0938\\u0940\\u0916\\u0947\\u0902?\",\n",
      "      \"id\": 185252\n",
      "    },\n",
      "    {\n",
      "      \"label\": \"\\u092a\\u094d\\u0930\\u092d\\u093e\\u0935\",\n",
      "      \"id\": 185250\n",
      "    },\n",
      "    {\n",
      "      \"label\": \"\\u091f\\u0940\\u092e\",\n",
      "      \"id\": 206300\n",
      "    },\n",
      "    {\n",
      "      \"label\": \"\\u092d\\u093e\\u0917\\u0940\\u0926\\u093e\\u0930 \\u0914\\u0930 \\u0926\\u093e\\u0924\\u093e\",\n",
      "      \"id\": 185257\n",
      "    },\n",
      "    {\n",
      "      \"label\": \"\\u0905\\u0928\\u094d\\u092f \\u092d\\u093e\\u0937\\u093e\\u0913\\u0902 \\u092e\\u0947\\u0902 \\u0938\\u0947\\u0930\\u094d\\u0932\\u094b\",\n",
      "      \"id\": 185259\n",
      "    }\n",
      "  ]\n",
      "}\n"
     ]
    },
    {
     "data": {
      "text/markdown": [
       "## Page 195674 on hi (trashed=0):"
      ],
      "text/plain": [
       "<IPython.core.display.Markdown object>"
      ]
     },
     "metadata": {},
     "output_type": "display_data"
    },
    {
     "name": "stdout",
     "output_type": "stream",
     "text": [
      "{\n",
      "  \"label\": \"\\u0938\\u092e\\u0941\\u0926\\u093e\\u092f\",\n",
      "  \"id\": 195674,\n",
      "  \"children\": [\n",
      "    {\n",
      "      \"label\": \"\\u0938\\u0948\\u0902\\u0921\\u092c\\u0949\\u0915\\u094d\\u0938\",\n",
      "      \"id\": 197295\n",
      "    },\n",
      "    {\n",
      "      \"label\": \"\\u0938\\u093e\\u092e\\u0941\\u0926\\u093e\\u092f\\u093f\\u0915 \\u092e\\u0942\\u0932\\u094d\\u092f\\u094b\\u0902\",\n",
      "      \"id\": 197268\n",
      "    }\n",
      "  ]\n",
      "}\n"
     ]
    },
    {
     "data": {
      "text/markdown": [
       "## Page 197268 on hi (trashed=0):"
      ],
      "text/plain": [
       "<IPython.core.display.Markdown object>"
      ]
     },
     "metadata": {},
     "output_type": "display_data"
    },
    {
     "name": "stdout",
     "output_type": "stream",
     "text": [
      "{\n",
      "  \"label\": \"\\u0938\\u092e\\u0941\\u0926\\u093e\\u092f\",\n",
      "  \"id\": 195674,\n",
      "  \"children\": [\n",
      "    {\n",
      "      \"label\": \"\\u0938\\u0948\\u0902\\u0921\\u092c\\u0949\\u0915\\u094d\\u0938\",\n",
      "      \"id\": 197295\n",
      "    },\n",
      "    {\n",
      "      \"label\": \"\\u0938\\u093e\\u092e\\u0941\\u0926\\u093e\\u092f\\u093f\\u0915 \\u092e\\u0942\\u0932\\u094d\\u092f\\u094b\\u0902\",\n",
      "      \"id\": 197268\n",
      "    }\n",
      "  ]\n",
      "}\n"
     ]
    },
    {
     "data": {
      "text/markdown": [
       "## Page 197295 on hi (trashed=0):"
      ],
      "text/plain": [
       "<IPython.core.display.Markdown object>"
      ]
     },
     "metadata": {},
     "output_type": "display_data"
    },
    {
     "name": "stdout",
     "output_type": "stream",
     "text": [
      "{\n",
      "  \"label\": \"\\u0938\\u092e\\u0941\\u0926\\u093e\\u092f\",\n",
      "  \"id\": 195674,\n",
      "  \"children\": [\n",
      "    {\n",
      "      \"label\": \"\\u0938\\u0948\\u0902\\u0921\\u092c\\u0949\\u0915\\u094d\\u0938\",\n",
      "      \"id\": 197295\n",
      "    },\n",
      "    {\n",
      "      \"label\": \"\\u0938\\u093e\\u092e\\u0941\\u0926\\u093e\\u092f\\u093f\\u0915 \\u092e\\u0942\\u0932\\u094d\\u092f\\u094b\\u0902\",\n",
      "      \"id\": 197268\n",
      "    }\n",
      "  ]\n",
      "}\n"
     ]
    },
    {
     "data": {
      "text/markdown": [
       "## Page 197326 on hi (trashed=0):"
      ],
      "text/plain": [
       "<IPython.core.display.Markdown object>"
      ]
     },
     "metadata": {},
     "output_type": "display_data"
    },
    {
     "name": "stdout",
     "output_type": "stream",
     "text": [
      "null\n"
     ]
    },
    {
     "data": {
      "text/markdown": [
       "## Page 198972 on hi (trashed=0):"
      ],
      "text/plain": [
       "<IPython.core.display.Markdown object>"
      ]
     },
     "metadata": {},
     "output_type": "display_data"
    },
    {
     "name": "stdout",
     "output_type": "stream",
     "text": [
      "null\n"
     ]
    },
    {
     "data": {
      "text/markdown": [
       "## Page 198984 on hi (trashed=0):"
      ],
      "text/plain": [
       "<IPython.core.display.Markdown object>"
      ]
     },
     "metadata": {},
     "output_type": "display_data"
    },
    {
     "name": "stdout",
     "output_type": "stream",
     "text": [
      "null\n"
     ]
    },
    {
     "data": {
      "text/markdown": [
       "## Page 201596 on hi (trashed=0):"
      ],
      "text/plain": [
       "<IPython.core.display.Markdown object>"
      ]
     },
     "metadata": {},
     "output_type": "display_data"
    },
    {
     "name": "stdout",
     "output_type": "stream",
     "text": [
      "null\n"
     ]
    },
    {
     "data": {
      "text/markdown": [
       "## Page 201646 on hi (trashed=0):"
      ],
      "text/plain": [
       "<IPython.core.display.Markdown object>"
      ]
     },
     "metadata": {},
     "output_type": "display_data"
    },
    {
     "name": "stdout",
     "output_type": "stream",
     "text": [
      "null\n"
     ]
    },
    {
     "data": {
      "text/markdown": [
       "## Page 203631 on hi (trashed=0):"
      ],
      "text/plain": [
       "<IPython.core.display.Markdown object>"
      ]
     },
     "metadata": {},
     "output_type": "display_data"
    },
    {
     "name": "stdout",
     "output_type": "stream",
     "text": [
      "null\n"
     ]
    },
    {
     "data": {
      "text/markdown": [
       "## Page 204081 on hi (trashed=0):"
      ],
      "text/plain": [
       "<IPython.core.display.Markdown object>"
      ]
     },
     "metadata": {},
     "output_type": "display_data"
    },
    {
     "name": "stdout",
     "output_type": "stream",
     "text": [
      "null\n"
     ]
    },
    {
     "data": {
      "text/markdown": [
       "## Page 206300 on hi (trashed=0):"
      ],
      "text/plain": [
       "<IPython.core.display.Markdown object>"
      ]
     },
     "metadata": {},
     "output_type": "display_data"
    },
    {
     "name": "stdout",
     "output_type": "stream",
     "text": [
      "{\n",
      "  \"label\": \"\\u0938\\u0947\\u0930\\u094d\\u0932\\u094b \\u0915\\u0947 \\u092c\\u093e\\u0930\\u0947 \\u092e\\u0947\\u0902\",\n",
      "  \"id\": 112510,\n",
      "  \"children\": [\n",
      "    {\n",
      "      \"label\": \"\\u0938\\u0930\\u094d\\u0932\\u094b \\u0915\\u0947 \\u0938\\u093e\\u0925 \\u0915\\u0948\\u0938\\u0947 \\u0938\\u0940\\u0916\\u0947\\u0902?\",\n",
      "      \"id\": 185252\n",
      "    },\n",
      "    {\n",
      "      \"label\": \"\\u092a\\u094d\\u0930\\u092d\\u093e\\u0935\",\n",
      "      \"id\": 185250\n",
      "    },\n",
      "    {\n",
      "      \"label\": \"\\u091f\\u0940\\u092e\",\n",
      "      \"id\": 206300\n",
      "    },\n",
      "    {\n",
      "      \"label\": \"\\u092d\\u093e\\u0917\\u0940\\u0926\\u093e\\u0930 \\u0914\\u0930 \\u0926\\u093e\\u0924\\u093e\",\n",
      "      \"id\": 185257\n",
      "    },\n",
      "    {\n",
      "      \"label\": \"\\u0905\\u0928\\u094d\\u092f \\u092d\\u093e\\u0937\\u093e\\u0913\\u0902 \\u092e\\u0947\\u0902 \\u0938\\u0947\\u0930\\u094d\\u0932\\u094b\",\n",
      "      \"id\": 185259\n",
      "    }\n",
      "  ]\n",
      "}\n"
     ]
    },
    {
     "data": {
      "text/markdown": [
       "## Page 206324 on hi (trashed=0):"
      ],
      "text/plain": [
       "<IPython.core.display.Markdown object>"
      ]
     },
     "metadata": {},
     "output_type": "display_data"
    },
    {
     "name": "stdout",
     "output_type": "stream",
     "text": [
      "null\n"
     ]
    },
    {
     "data": {
      "text/markdown": [
       "## Page 206330 on hi (trashed=0):"
      ],
      "text/plain": [
       "<IPython.core.display.Markdown object>"
      ]
     },
     "metadata": {},
     "output_type": "display_data"
    },
    {
     "name": "stdout",
     "output_type": "stream",
     "text": [
      "null\n"
     ]
    },
    {
     "data": {
      "text/markdown": [
       "## Page 209608 on hi (trashed=0):"
      ],
      "text/plain": [
       "<IPython.core.display.Markdown object>"
      ]
     },
     "metadata": {},
     "output_type": "display_data"
    },
    {
     "name": "stdout",
     "output_type": "stream",
     "text": [
      "null\n"
     ]
    },
    {
     "data": {
      "text/markdown": [
       "## Page 209623 on hi (trashed=0):"
      ],
      "text/plain": [
       "<IPython.core.display.Markdown object>"
      ]
     },
     "metadata": {},
     "output_type": "display_data"
    },
    {
     "name": "stdout",
     "output_type": "stream",
     "text": [
      "null\n"
     ]
    },
    {
     "data": {
      "text/markdown": [
       "## Page 209629 on hi (trashed=0):"
      ],
      "text/plain": [
       "<IPython.core.display.Markdown object>"
      ]
     },
     "metadata": {},
     "output_type": "display_data"
    },
    {
     "name": "stdout",
     "output_type": "stream",
     "text": [
      "null\n"
     ]
    },
    {
     "data": {
      "text/markdown": [
       "## Page 140517 on ta (trashed=0):"
      ],
      "text/plain": [
       "<IPython.core.display.Markdown object>"
      ]
     },
     "metadata": {},
     "output_type": "display_data"
    },
    {
     "name": "stdout",
     "output_type": "stream",
     "text": [
      "{\n",
      "  \"label\": \" \\u0b9a\\u0bc7\\u0bb0\\u0bb5\\u0bc1\\u0bae\\u0bcd\",\n",
      "  \"id\": 140517\n",
      "}\n"
     ]
    },
    {
     "data": {
      "text/markdown": [
       "## Page 140520 on ta (trashed=0):"
      ],
      "text/plain": [
       "<IPython.core.display.Markdown object>"
      ]
     },
     "metadata": {},
     "output_type": "display_data"
    },
    {
     "name": "stdout",
     "output_type": "stream",
     "text": [
      "{\n",
      "  \"label\": \"\\u0b95\\u0bc1\\u0bb4\\u0bc1\",\n",
      "  \"id\": 140520\n",
      "}\n"
     ]
    },
    {
     "data": {
      "text/markdown": [
       "## Page 140522 on ta (trashed=0):"
      ],
      "text/plain": [
       "<IPython.core.display.Markdown object>"
      ]
     },
     "metadata": {},
     "output_type": "display_data"
    },
    {
     "name": "stdout",
     "output_type": "stream",
     "text": [
      "{\n",
      "  \"label\": \"\\u0b87\\u0bb2\\u0b95\\u0bcd\\u0b95\\u0ba3\\u0bae\\u0bcd\",\n",
      "  \"id\": 140522,\n",
      "  \"children\": [\n",
      "    {\n",
      "      \"label\": \"\\u0baa\\u0bbe\\u0b9f\\u0b99\\u0bcd\\u0b95\\u0bb3\\u0bcd\",\n",
      "      \"id\": 140527\n",
      "    }\n",
      "  ]\n",
      "}\n"
     ]
    },
    {
     "data": {
      "text/markdown": [
       "## Page 140524 on ta (trashed=0):"
      ],
      "text/plain": [
       "<IPython.core.display.Markdown object>"
      ]
     },
     "metadata": {},
     "output_type": "display_data"
    },
    {
     "name": "stdout",
     "output_type": "stream",
     "text": [
      "null\n"
     ]
    },
    {
     "data": {
      "text/markdown": [
       "## Page 148667 on ta (trashed=0):"
      ],
      "text/plain": [
       "<IPython.core.display.Markdown object>"
      ]
     },
     "metadata": {},
     "output_type": "display_data"
    },
    {
     "name": "stdout",
     "output_type": "stream",
     "text": [
      "null\n"
     ]
    },
    {
     "data": {
      "text/markdown": [
       "## Page 148737 on ta (trashed=0):"
      ],
      "text/plain": [
       "<IPython.core.display.Markdown object>"
      ]
     },
     "metadata": {},
     "output_type": "display_data"
    },
    {
     "name": "stdout",
     "output_type": "stream",
     "text": [
      "{\n",
      "  \"label\": \"Serlo \\u0baa\\u0bb1\\u0bcd\\u0bb1\\u0bbf\",\n",
      "  \"id\": 148737\n",
      "}\n"
     ]
    },
    {
     "data": {
      "text/markdown": [
       "## Page 141579 on fr (trashed=0):"
      ],
      "text/plain": [
       "<IPython.core.display.Markdown object>"
      ]
     },
     "metadata": {},
     "output_type": "display_data"
    },
    {
     "name": "stdout",
     "output_type": "stream",
     "text": [
      "{\n",
      "  \"label\": \"\\u00c0 propos de Serlo\",\n",
      "  \"id\": 141579\n",
      "}\n"
     ]
    },
    {
     "data": {
      "text/markdown": [
       "## Page 141581 on fr (trashed=0):"
      ],
      "text/plain": [
       "<IPython.core.display.Markdown object>"
      ]
     },
     "metadata": {},
     "output_type": "display_data"
    },
    {
     "name": "stdout",
     "output_type": "stream",
     "text": [
      "{\n",
      "  \"label\": \"Participe!\",\n",
      "  \"id\": 141581\n",
      "}\n"
     ]
    },
    {
     "data": {
      "text/markdown": [
       "## Page 141583 on fr (trashed=0):"
      ],
      "text/plain": [
       "<IPython.core.display.Markdown object>"
      ]
     },
     "metadata": {},
     "output_type": "display_data"
    },
    {
     "name": "stdout",
     "output_type": "stream",
     "text": [
      "{\n",
      "  \"label\": \"Communaut\\u00e9\",\n",
      "  \"id\": 141583\n",
      "}\n"
     ]
    },
    {
     "data": {
      "text/markdown": [
       "## Page 141585 on fr (trashed=0):"
      ],
      "text/plain": [
       "<IPython.core.display.Markdown object>"
      ]
     },
     "metadata": {},
     "output_type": "display_data"
    },
    {
     "name": "stdout",
     "output_type": "stream",
     "text": [
      "null\n"
     ]
    },
    {
     "data": {
      "text/markdown": [
       "## Page 141604 on fr (trashed=0):"
      ],
      "text/plain": [
       "<IPython.core.display.Markdown object>"
      ]
     },
     "metadata": {},
     "output_type": "display_data"
    },
    {
     "name": "stdout",
     "output_type": "stream",
     "text": [
      "null\n"
     ]
    },
    {
     "data": {
      "text/markdown": [
       "## Page 143390 on fr (trashed=0):"
      ],
      "text/plain": [
       "<IPython.core.display.Markdown object>"
      ]
     },
     "metadata": {},
     "output_type": "display_data"
    },
    {
     "name": "stdout",
     "output_type": "stream",
     "text": [
      "null\n"
     ]
    },
    {
     "data": {
      "text/markdown": [
       "## Page 148617 on fr (trashed=0):"
      ],
      "text/plain": [
       "<IPython.core.display.Markdown object>"
      ]
     },
     "metadata": {},
     "output_type": "display_data"
    },
    {
     "name": "stdout",
     "output_type": "stream",
     "text": [
      "{\n",
      "  \"label\": \"Conseils pour apprendre\",\n",
      "  \"id\": 148617,\n",
      "  \"children\": [\n",
      "    {\n",
      "      \"label\": \"Tous les th\\u00e8mes\",\n",
      "      \"id\": 204968\n",
      "    }\n",
      "  ]\n",
      "}\n"
     ]
    }
   ],
   "source": [
    "display(Markdown(\"# Not trashed pages\"))\n",
    "\n",
    "for (page_id, instance, trashed) in page_ids:\n",
    "    if not trashed:\n",
    "        display(Markdown(f\"## Page {page_id} on {instance} (trashed={trashed}):\"))\n",
    "        print_json(navigation_of_page(page_id))"
   ]
  },
  {
   "cell_type": "code",
   "execution_count": 30,
   "id": "prescribed-navigation",
   "metadata": {
    "scrolled": false
   },
   "outputs": [
    {
     "data": {
      "text/markdown": [
       "# Trashed pages"
      ],
      "text/plain": [
       "<IPython.core.display.Markdown object>"
      ]
     },
     "metadata": {},
     "output_type": "display_data"
    },
    {
     "data": {
      "text/markdown": [
       "## Page 16256 on de (trashed=1):"
      ],
      "text/plain": [
       "<IPython.core.display.Markdown object>"
      ]
     },
     "metadata": {},
     "output_type": "display_data"
    },
    {
     "name": "stdout",
     "output_type": "stream",
     "text": [
      "null\n"
     ]
    },
    {
     "data": {
      "text/markdown": [
       "## Page 16303 on de (trashed=1):"
      ],
      "text/plain": [
       "<IPython.core.display.Markdown object>"
      ]
     },
     "metadata": {},
     "output_type": "display_data"
    },
    {
     "name": "stdout",
     "output_type": "stream",
     "text": [
      "null\n"
     ]
    },
    {
     "data": {
      "text/markdown": [
       "## Page 16306 on de (trashed=1):"
      ],
      "text/plain": [
       "<IPython.core.display.Markdown object>"
      ]
     },
     "metadata": {},
     "output_type": "display_data"
    },
    {
     "name": "stdout",
     "output_type": "stream",
     "text": [
      "null\n"
     ]
    },
    {
     "data": {
      "text/markdown": [
       "## Page 16530 on de (trashed=1):"
      ],
      "text/plain": [
       "<IPython.core.display.Markdown object>"
      ]
     },
     "metadata": {},
     "output_type": "display_data"
    },
    {
     "name": "stdout",
     "output_type": "stream",
     "text": [
      "null\n"
     ]
    },
    {
     "data": {
      "text/markdown": [
       "## Page 16569 on de (trashed=1):"
      ],
      "text/plain": [
       "<IPython.core.display.Markdown object>"
      ]
     },
     "metadata": {},
     "output_type": "display_data"
    },
    {
     "name": "stdout",
     "output_type": "stream",
     "text": [
      "null\n"
     ]
    },
    {
     "data": {
      "text/markdown": [
       "## Page 16659 on de (trashed=1):"
      ],
      "text/plain": [
       "<IPython.core.display.Markdown object>"
      ]
     },
     "metadata": {},
     "output_type": "display_data"
    },
    {
     "name": "stdout",
     "output_type": "stream",
     "text": [
      "null\n"
     ]
    },
    {
     "data": {
      "text/markdown": [
       "## Page 16816 on de (trashed=1):"
      ],
      "text/plain": [
       "<IPython.core.display.Markdown object>"
      ]
     },
     "metadata": {},
     "output_type": "display_data"
    },
    {
     "name": "stdout",
     "output_type": "stream",
     "text": [
      "null\n"
     ]
    },
    {
     "data": {
      "text/markdown": [
       "## Page 18233 on de (trashed=1):"
      ],
      "text/plain": [
       "<IPython.core.display.Markdown object>"
      ]
     },
     "metadata": {},
     "output_type": "display_data"
    },
    {
     "name": "stdout",
     "output_type": "stream",
     "text": [
      "null\n"
     ]
    },
    {
     "data": {
      "text/markdown": [
       "## Page 18340 on de (trashed=1):"
      ],
      "text/plain": [
       "<IPython.core.display.Markdown object>"
      ]
     },
     "metadata": {},
     "output_type": "display_data"
    },
    {
     "name": "stdout",
     "output_type": "stream",
     "text": [
      "null\n"
     ]
    },
    {
     "data": {
      "text/markdown": [
       "## Page 18778 on de (trashed=1):"
      ],
      "text/plain": [
       "<IPython.core.display.Markdown object>"
      ]
     },
     "metadata": {},
     "output_type": "display_data"
    },
    {
     "name": "stdout",
     "output_type": "stream",
     "text": [
      "null\n"
     ]
    },
    {
     "data": {
      "text/markdown": [
       "## Page 18998 on de (trashed=1):"
      ],
      "text/plain": [
       "<IPython.core.display.Markdown object>"
      ]
     },
     "metadata": {},
     "output_type": "display_data"
    },
    {
     "name": "stdout",
     "output_type": "stream",
     "text": [
      "null\n"
     ]
    },
    {
     "data": {
      "text/markdown": [
       "## Page 19358 on de (trashed=1):"
      ],
      "text/plain": [
       "<IPython.core.display.Markdown object>"
      ]
     },
     "metadata": {},
     "output_type": "display_data"
    },
    {
     "name": "stdout",
     "output_type": "stream",
     "text": [
      "null\n"
     ]
    },
    {
     "data": {
      "text/markdown": [
       "## Page 19722 on de (trashed=1):"
      ],
      "text/plain": [
       "<IPython.core.display.Markdown object>"
      ]
     },
     "metadata": {},
     "output_type": "display_data"
    },
    {
     "name": "stdout",
     "output_type": "stream",
     "text": [
      "null\n"
     ]
    },
    {
     "data": {
      "text/markdown": [
       "## Page 19723 on de (trashed=1):"
      ],
      "text/plain": [
       "<IPython.core.display.Markdown object>"
      ]
     },
     "metadata": {},
     "output_type": "display_data"
    },
    {
     "name": "stdout",
     "output_type": "stream",
     "text": [
      "null\n"
     ]
    },
    {
     "data": {
      "text/markdown": [
       "## Page 19757 on de (trashed=1):"
      ],
      "text/plain": [
       "<IPython.core.display.Markdown object>"
      ]
     },
     "metadata": {},
     "output_type": "display_data"
    },
    {
     "name": "stdout",
     "output_type": "stream",
     "text": [
      "null\n"
     ]
    },
    {
     "data": {
      "text/markdown": [
       "## Page 19763 on de (trashed=1):"
      ],
      "text/plain": [
       "<IPython.core.display.Markdown object>"
      ]
     },
     "metadata": {},
     "output_type": "display_data"
    },
    {
     "name": "stdout",
     "output_type": "stream",
     "text": [
      "null\n"
     ]
    },
    {
     "data": {
      "text/markdown": [
       "## Page 19808 on de (trashed=1):"
      ],
      "text/plain": [
       "<IPython.core.display.Markdown object>"
      ]
     },
     "metadata": {},
     "output_type": "display_data"
    },
    {
     "name": "stdout",
     "output_type": "stream",
     "text": [
      "null\n"
     ]
    },
    {
     "data": {
      "text/markdown": [
       "## Page 19849 on de (trashed=1):"
      ],
      "text/plain": [
       "<IPython.core.display.Markdown object>"
      ]
     },
     "metadata": {},
     "output_type": "display_data"
    },
    {
     "name": "stdout",
     "output_type": "stream",
     "text": [
      "null\n"
     ]
    },
    {
     "data": {
      "text/markdown": [
       "## Page 19852 on de (trashed=1):"
      ],
      "text/plain": [
       "<IPython.core.display.Markdown object>"
      ]
     },
     "metadata": {},
     "output_type": "display_data"
    },
    {
     "name": "stdout",
     "output_type": "stream",
     "text": [
      "null\n"
     ]
    },
    {
     "data": {
      "text/markdown": [
       "## Page 19854 on de (trashed=1):"
      ],
      "text/plain": [
       "<IPython.core.display.Markdown object>"
      ]
     },
     "metadata": {},
     "output_type": "display_data"
    },
    {
     "name": "stdout",
     "output_type": "stream",
     "text": [
      "null\n"
     ]
    },
    {
     "data": {
      "text/markdown": [
       "## Page 19856 on de (trashed=1):"
      ],
      "text/plain": [
       "<IPython.core.display.Markdown object>"
      ]
     },
     "metadata": {},
     "output_type": "display_data"
    },
    {
     "name": "stdout",
     "output_type": "stream",
     "text": [
      "null\n"
     ]
    },
    {
     "data": {
      "text/markdown": [
       "## Page 19860 on de (trashed=1):"
      ],
      "text/plain": [
       "<IPython.core.display.Markdown object>"
      ]
     },
     "metadata": {},
     "output_type": "display_data"
    },
    {
     "name": "stdout",
     "output_type": "stream",
     "text": [
      "null\n"
     ]
    },
    {
     "data": {
      "text/markdown": [
       "## Page 19863 on de (trashed=1):"
      ],
      "text/plain": [
       "<IPython.core.display.Markdown object>"
      ]
     },
     "metadata": {},
     "output_type": "display_data"
    },
    {
     "name": "stdout",
     "output_type": "stream",
     "text": [
      "null\n"
     ]
    },
    {
     "data": {
      "text/markdown": [
       "## Page 19865 on de (trashed=1):"
      ],
      "text/plain": [
       "<IPython.core.display.Markdown object>"
      ]
     },
     "metadata": {},
     "output_type": "display_data"
    },
    {
     "name": "stdout",
     "output_type": "stream",
     "text": [
      "null\n"
     ]
    },
    {
     "data": {
      "text/markdown": [
       "## Page 19973 on de (trashed=1):"
      ],
      "text/plain": [
       "<IPython.core.display.Markdown object>"
      ]
     },
     "metadata": {},
     "output_type": "display_data"
    },
    {
     "name": "stdout",
     "output_type": "stream",
     "text": [
      "null\n"
     ]
    },
    {
     "data": {
      "text/markdown": [
       "## Page 19981 on de (trashed=1):"
      ],
      "text/plain": [
       "<IPython.core.display.Markdown object>"
      ]
     },
     "metadata": {},
     "output_type": "display_data"
    },
    {
     "name": "stdout",
     "output_type": "stream",
     "text": [
      "null\n"
     ]
    },
    {
     "data": {
      "text/markdown": [
       "## Page 19991 on de (trashed=1):"
      ],
      "text/plain": [
       "<IPython.core.display.Markdown object>"
      ]
     },
     "metadata": {},
     "output_type": "display_data"
    },
    {
     "name": "stdout",
     "output_type": "stream",
     "text": [
      "null\n"
     ]
    },
    {
     "data": {
      "text/markdown": [
       "## Page 19996 on de (trashed=1):"
      ],
      "text/plain": [
       "<IPython.core.display.Markdown object>"
      ]
     },
     "metadata": {},
     "output_type": "display_data"
    },
    {
     "name": "stdout",
     "output_type": "stream",
     "text": [
      "null\n"
     ]
    },
    {
     "data": {
      "text/markdown": [
       "## Page 20003 on de (trashed=1):"
      ],
      "text/plain": [
       "<IPython.core.display.Markdown object>"
      ]
     },
     "metadata": {},
     "output_type": "display_data"
    },
    {
     "name": "stdout",
     "output_type": "stream",
     "text": [
      "null\n"
     ]
    },
    {
     "data": {
      "text/markdown": [
       "## Page 20064 on de (trashed=1):"
      ],
      "text/plain": [
       "<IPython.core.display.Markdown object>"
      ]
     },
     "metadata": {},
     "output_type": "display_data"
    },
    {
     "name": "stdout",
     "output_type": "stream",
     "text": [
      "null\n"
     ]
    },
    {
     "data": {
      "text/markdown": [
       "## Page 20076 on de (trashed=1):"
      ],
      "text/plain": [
       "<IPython.core.display.Markdown object>"
      ]
     },
     "metadata": {},
     "output_type": "display_data"
    },
    {
     "name": "stdout",
     "output_type": "stream",
     "text": [
      "null\n"
     ]
    },
    {
     "data": {
      "text/markdown": [
       "## Page 20103 on de (trashed=1):"
      ],
      "text/plain": [
       "<IPython.core.display.Markdown object>"
      ]
     },
     "metadata": {},
     "output_type": "display_data"
    },
    {
     "name": "stdout",
     "output_type": "stream",
     "text": [
      "null\n"
     ]
    },
    {
     "data": {
      "text/markdown": [
       "## Page 20112 on de (trashed=1):"
      ],
      "text/plain": [
       "<IPython.core.display.Markdown object>"
      ]
     },
     "metadata": {},
     "output_type": "display_data"
    },
    {
     "name": "stdout",
     "output_type": "stream",
     "text": [
      "null\n"
     ]
    },
    {
     "data": {
      "text/markdown": [
       "## Page 20114 on de (trashed=1):"
      ],
      "text/plain": [
       "<IPython.core.display.Markdown object>"
      ]
     },
     "metadata": {},
     "output_type": "display_data"
    },
    {
     "name": "stdout",
     "output_type": "stream",
     "text": [
      "null\n"
     ]
    },
    {
     "data": {
      "text/markdown": [
       "## Page 20118 on de (trashed=1):"
      ],
      "text/plain": [
       "<IPython.core.display.Markdown object>"
      ]
     },
     "metadata": {},
     "output_type": "display_data"
    },
    {
     "name": "stdout",
     "output_type": "stream",
     "text": [
      "null\n"
     ]
    },
    {
     "data": {
      "text/markdown": [
       "## Page 20125 on de (trashed=1):"
      ],
      "text/plain": [
       "<IPython.core.display.Markdown object>"
      ]
     },
     "metadata": {},
     "output_type": "display_data"
    },
    {
     "name": "stdout",
     "output_type": "stream",
     "text": [
      "null\n"
     ]
    },
    {
     "data": {
      "text/markdown": [
       "## Page 20136 on de (trashed=1):"
      ],
      "text/plain": [
       "<IPython.core.display.Markdown object>"
      ]
     },
     "metadata": {},
     "output_type": "display_data"
    },
    {
     "name": "stdout",
     "output_type": "stream",
     "text": [
      "null\n"
     ]
    },
    {
     "data": {
      "text/markdown": [
       "## Page 20182 on de (trashed=1):"
      ],
      "text/plain": [
       "<IPython.core.display.Markdown object>"
      ]
     },
     "metadata": {},
     "output_type": "display_data"
    },
    {
     "name": "stdout",
     "output_type": "stream",
     "text": [
      "null\n"
     ]
    },
    {
     "data": {
      "text/markdown": [
       "## Page 20205 on de (trashed=1):"
      ],
      "text/plain": [
       "<IPython.core.display.Markdown object>"
      ]
     },
     "metadata": {},
     "output_type": "display_data"
    },
    {
     "name": "stdout",
     "output_type": "stream",
     "text": [
      "null\n"
     ]
    },
    {
     "data": {
      "text/markdown": [
       "## Page 20307 on de (trashed=1):"
      ],
      "text/plain": [
       "<IPython.core.display.Markdown object>"
      ]
     },
     "metadata": {},
     "output_type": "display_data"
    },
    {
     "name": "stdout",
     "output_type": "stream",
     "text": [
      "null\n"
     ]
    },
    {
     "data": {
      "text/markdown": [
       "## Page 21160 on de (trashed=1):"
      ],
      "text/plain": [
       "<IPython.core.display.Markdown object>"
      ]
     },
     "metadata": {},
     "output_type": "display_data"
    },
    {
     "name": "stdout",
     "output_type": "stream",
     "text": [
      "null\n"
     ]
    },
    {
     "data": {
      "text/markdown": [
       "## Page 21163 on de (trashed=1):"
      ],
      "text/plain": [
       "<IPython.core.display.Markdown object>"
      ]
     },
     "metadata": {},
     "output_type": "display_data"
    },
    {
     "name": "stdout",
     "output_type": "stream",
     "text": [
      "null\n"
     ]
    },
    {
     "data": {
      "text/markdown": [
       "## Page 21398 on de (trashed=1):"
      ],
      "text/plain": [
       "<IPython.core.display.Markdown object>"
      ]
     },
     "metadata": {},
     "output_type": "display_data"
    },
    {
     "name": "stdout",
     "output_type": "stream",
     "text": [
      "null\n"
     ]
    },
    {
     "data": {
      "text/markdown": [
       "## Page 21421 on de (trashed=1):"
      ],
      "text/plain": [
       "<IPython.core.display.Markdown object>"
      ]
     },
     "metadata": {},
     "output_type": "display_data"
    },
    {
     "name": "stdout",
     "output_type": "stream",
     "text": [
      "null\n"
     ]
    },
    {
     "data": {
      "text/markdown": [
       "## Page 21427 on de (trashed=1):"
      ],
      "text/plain": [
       "<IPython.core.display.Markdown object>"
      ]
     },
     "metadata": {},
     "output_type": "display_data"
    },
    {
     "name": "stdout",
     "output_type": "stream",
     "text": [
      "null\n"
     ]
    },
    {
     "data": {
      "text/markdown": [
       "## Page 21431 on de (trashed=1):"
      ],
      "text/plain": [
       "<IPython.core.display.Markdown object>"
      ]
     },
     "metadata": {},
     "output_type": "display_data"
    },
    {
     "name": "stdout",
     "output_type": "stream",
     "text": [
      "null\n"
     ]
    },
    {
     "data": {
      "text/markdown": [
       "## Page 21433 on de (trashed=1):"
      ],
      "text/plain": [
       "<IPython.core.display.Markdown object>"
      ]
     },
     "metadata": {},
     "output_type": "display_data"
    },
    {
     "name": "stdout",
     "output_type": "stream",
     "text": [
      "null\n"
     ]
    },
    {
     "data": {
      "text/markdown": [
       "## Page 21435 on de (trashed=1):"
      ],
      "text/plain": [
       "<IPython.core.display.Markdown object>"
      ]
     },
     "metadata": {},
     "output_type": "display_data"
    },
    {
     "name": "stdout",
     "output_type": "stream",
     "text": [
      "null\n"
     ]
    },
    {
     "data": {
      "text/markdown": [
       "## Page 21472 on de (trashed=1):"
      ],
      "text/plain": [
       "<IPython.core.display.Markdown object>"
      ]
     },
     "metadata": {},
     "output_type": "display_data"
    },
    {
     "name": "stdout",
     "output_type": "stream",
     "text": [
      "null\n"
     ]
    },
    {
     "data": {
      "text/markdown": [
       "## Page 21475 on de (trashed=1):"
      ],
      "text/plain": [
       "<IPython.core.display.Markdown object>"
      ]
     },
     "metadata": {},
     "output_type": "display_data"
    },
    {
     "name": "stdout",
     "output_type": "stream",
     "text": [
      "null\n"
     ]
    },
    {
     "data": {
      "text/markdown": [
       "## Page 21511 on de (trashed=1):"
      ],
      "text/plain": [
       "<IPython.core.display.Markdown object>"
      ]
     },
     "metadata": {},
     "output_type": "display_data"
    },
    {
     "name": "stdout",
     "output_type": "stream",
     "text": [
      "null\n"
     ]
    },
    {
     "data": {
      "text/markdown": [
       "## Page 21526 on de (trashed=1):"
      ],
      "text/plain": [
       "<IPython.core.display.Markdown object>"
      ]
     },
     "metadata": {},
     "output_type": "display_data"
    },
    {
     "name": "stdout",
     "output_type": "stream",
     "text": [
      "null\n"
     ]
    },
    {
     "data": {
      "text/markdown": [
       "## Page 21538 on de (trashed=1):"
      ],
      "text/plain": [
       "<IPython.core.display.Markdown object>"
      ]
     },
     "metadata": {},
     "output_type": "display_data"
    },
    {
     "name": "stdout",
     "output_type": "stream",
     "text": [
      "null\n"
     ]
    },
    {
     "data": {
      "text/markdown": [
       "## Page 21543 on de (trashed=1):"
      ],
      "text/plain": [
       "<IPython.core.display.Markdown object>"
      ]
     },
     "metadata": {},
     "output_type": "display_data"
    },
    {
     "name": "stdout",
     "output_type": "stream",
     "text": [
      "null\n"
     ]
    },
    {
     "data": {
      "text/markdown": [
       "## Page 21549 on de (trashed=1):"
      ],
      "text/plain": [
       "<IPython.core.display.Markdown object>"
      ]
     },
     "metadata": {},
     "output_type": "display_data"
    },
    {
     "name": "stdout",
     "output_type": "stream",
     "text": [
      "null\n"
     ]
    },
    {
     "data": {
      "text/markdown": [
       "## Page 21551 on de (trashed=1):"
      ],
      "text/plain": [
       "<IPython.core.display.Markdown object>"
      ]
     },
     "metadata": {},
     "output_type": "display_data"
    },
    {
     "name": "stdout",
     "output_type": "stream",
     "text": [
      "null\n"
     ]
    },
    {
     "data": {
      "text/markdown": [
       "## Page 21553 on de (trashed=1):"
      ],
      "text/plain": [
       "<IPython.core.display.Markdown object>"
      ]
     },
     "metadata": {},
     "output_type": "display_data"
    },
    {
     "name": "stdout",
     "output_type": "stream",
     "text": [
      "null\n"
     ]
    },
    {
     "data": {
      "text/markdown": [
       "## Page 21555 on de (trashed=1):"
      ],
      "text/plain": [
       "<IPython.core.display.Markdown object>"
      ]
     },
     "metadata": {},
     "output_type": "display_data"
    },
    {
     "name": "stdout",
     "output_type": "stream",
     "text": [
      "null\n"
     ]
    },
    {
     "data": {
      "text/markdown": [
       "## Page 21557 on de (trashed=1):"
      ],
      "text/plain": [
       "<IPython.core.display.Markdown object>"
      ]
     },
     "metadata": {},
     "output_type": "display_data"
    },
    {
     "name": "stdout",
     "output_type": "stream",
     "text": [
      "null\n"
     ]
    },
    {
     "data": {
      "text/markdown": [
       "## Page 21559 on de (trashed=1):"
      ],
      "text/plain": [
       "<IPython.core.display.Markdown object>"
      ]
     },
     "metadata": {},
     "output_type": "display_data"
    },
    {
     "name": "stdout",
     "output_type": "stream",
     "text": [
      "null\n"
     ]
    },
    {
     "data": {
      "text/markdown": [
       "## Page 21561 on de (trashed=1):"
      ],
      "text/plain": [
       "<IPython.core.display.Markdown object>"
      ]
     },
     "metadata": {},
     "output_type": "display_data"
    },
    {
     "name": "stdout",
     "output_type": "stream",
     "text": [
      "null\n"
     ]
    },
    {
     "data": {
      "text/markdown": [
       "## Page 21565 on de (trashed=1):"
      ],
      "text/plain": [
       "<IPython.core.display.Markdown object>"
      ]
     },
     "metadata": {},
     "output_type": "display_data"
    },
    {
     "name": "stdout",
     "output_type": "stream",
     "text": [
      "null\n"
     ]
    },
    {
     "data": {
      "text/markdown": [
       "## Page 21567 on de (trashed=1):"
      ],
      "text/plain": [
       "<IPython.core.display.Markdown object>"
      ]
     },
     "metadata": {},
     "output_type": "display_data"
    },
    {
     "name": "stdout",
     "output_type": "stream",
     "text": [
      "null\n"
     ]
    },
    {
     "data": {
      "text/markdown": [
       "## Page 21570 on de (trashed=1):"
      ],
      "text/plain": [
       "<IPython.core.display.Markdown object>"
      ]
     },
     "metadata": {},
     "output_type": "display_data"
    },
    {
     "name": "stdout",
     "output_type": "stream",
     "text": [
      "null\n"
     ]
    },
    {
     "data": {
      "text/markdown": [
       "## Page 21933 on de (trashed=1):"
      ],
      "text/plain": [
       "<IPython.core.display.Markdown object>"
      ]
     },
     "metadata": {},
     "output_type": "display_data"
    },
    {
     "name": "stdout",
     "output_type": "stream",
     "text": [
      "null\n"
     ]
    },
    {
     "data": {
      "text/markdown": [
       "## Page 22886 on de (trashed=1):"
      ],
      "text/plain": [
       "<IPython.core.display.Markdown object>"
      ]
     },
     "metadata": {},
     "output_type": "display_data"
    },
    {
     "name": "stdout",
     "output_type": "stream",
     "text": [
      "null\n"
     ]
    },
    {
     "data": {
      "text/markdown": [
       "## Page 23111 on de (trashed=1):"
      ],
      "text/plain": [
       "<IPython.core.display.Markdown object>"
      ]
     },
     "metadata": {},
     "output_type": "display_data"
    },
    {
     "name": "stdout",
     "output_type": "stream",
     "text": [
      "null\n"
     ]
    },
    {
     "data": {
      "text/markdown": [
       "## Page 23320 on de (trashed=1):"
      ],
      "text/plain": [
       "<IPython.core.display.Markdown object>"
      ]
     },
     "metadata": {},
     "output_type": "display_data"
    },
    {
     "name": "stdout",
     "output_type": "stream",
     "text": [
      "null\n"
     ]
    },
    {
     "data": {
      "text/markdown": [
       "## Page 23439 on de (trashed=1):"
      ],
      "text/plain": [
       "<IPython.core.display.Markdown object>"
      ]
     },
     "metadata": {},
     "output_type": "display_data"
    },
    {
     "name": "stdout",
     "output_type": "stream",
     "text": [
      "null\n"
     ]
    },
    {
     "data": {
      "text/markdown": [
       "## Page 23534 on de (trashed=1):"
      ],
      "text/plain": [
       "<IPython.core.display.Markdown object>"
      ]
     },
     "metadata": {},
     "output_type": "display_data"
    },
    {
     "name": "stdout",
     "output_type": "stream",
     "text": [
      "null\n"
     ]
    },
    {
     "data": {
      "text/markdown": [
       "## Page 23576 on de (trashed=1):"
      ],
      "text/plain": [
       "<IPython.core.display.Markdown object>"
      ]
     },
     "metadata": {},
     "output_type": "display_data"
    },
    {
     "name": "stdout",
     "output_type": "stream",
     "text": [
      "null\n"
     ]
    },
    {
     "data": {
      "text/markdown": [
       "## Page 24214 on de (trashed=1):"
      ],
      "text/plain": [
       "<IPython.core.display.Markdown object>"
      ]
     },
     "metadata": {},
     "output_type": "display_data"
    },
    {
     "name": "stdout",
     "output_type": "stream",
     "text": [
      "null\n"
     ]
    },
    {
     "data": {
      "text/markdown": [
       "## Page 24711 on de (trashed=1):"
      ],
      "text/plain": [
       "<IPython.core.display.Markdown object>"
      ]
     },
     "metadata": {},
     "output_type": "display_data"
    },
    {
     "name": "stdout",
     "output_type": "stream",
     "text": [
      "null\n"
     ]
    },
    {
     "data": {
      "text/markdown": [
       "## Page 24806 on de (trashed=1):"
      ],
      "text/plain": [
       "<IPython.core.display.Markdown object>"
      ]
     },
     "metadata": {},
     "output_type": "display_data"
    },
    {
     "name": "stdout",
     "output_type": "stream",
     "text": [
      "null\n"
     ]
    },
    {
     "data": {
      "text/markdown": [
       "## Page 25019 on de (trashed=1):"
      ],
      "text/plain": [
       "<IPython.core.display.Markdown object>"
      ]
     },
     "metadata": {},
     "output_type": "display_data"
    },
    {
     "name": "stdout",
     "output_type": "stream",
     "text": [
      "null\n"
     ]
    },
    {
     "data": {
      "text/markdown": [
       "## Page 25063 on de (trashed=1):"
      ],
      "text/plain": [
       "<IPython.core.display.Markdown object>"
      ]
     },
     "metadata": {},
     "output_type": "display_data"
    },
    {
     "name": "stdout",
     "output_type": "stream",
     "text": [
      "null\n"
     ]
    },
    {
     "data": {
      "text/markdown": [
       "## Page 25074 on de (trashed=1):"
      ],
      "text/plain": [
       "<IPython.core.display.Markdown object>"
      ]
     },
     "metadata": {},
     "output_type": "display_data"
    },
    {
     "name": "stdout",
     "output_type": "stream",
     "text": [
      "null\n"
     ]
    },
    {
     "data": {
      "text/markdown": [
       "## Page 25363 on de (trashed=1):"
      ],
      "text/plain": [
       "<IPython.core.display.Markdown object>"
      ]
     },
     "metadata": {},
     "output_type": "display_data"
    },
    {
     "name": "stdout",
     "output_type": "stream",
     "text": [
      "null\n"
     ]
    },
    {
     "data": {
      "text/markdown": [
       "## Page 25373 on de (trashed=1):"
      ],
      "text/plain": [
       "<IPython.core.display.Markdown object>"
      ]
     },
     "metadata": {},
     "output_type": "display_data"
    },
    {
     "name": "stdout",
     "output_type": "stream",
     "text": [
      "null\n"
     ]
    },
    {
     "data": {
      "text/markdown": [
       "## Page 26087 on de (trashed=1):"
      ],
      "text/plain": [
       "<IPython.core.display.Markdown object>"
      ]
     },
     "metadata": {},
     "output_type": "display_data"
    },
    {
     "name": "stdout",
     "output_type": "stream",
     "text": [
      "null\n"
     ]
    },
    {
     "data": {
      "text/markdown": [
       "## Page 26089 on de (trashed=1):"
      ],
      "text/plain": [
       "<IPython.core.display.Markdown object>"
      ]
     },
     "metadata": {},
     "output_type": "display_data"
    },
    {
     "name": "stdout",
     "output_type": "stream",
     "text": [
      "null\n"
     ]
    },
    {
     "data": {
      "text/markdown": [
       "## Page 26095 on de (trashed=1):"
      ],
      "text/plain": [
       "<IPython.core.display.Markdown object>"
      ]
     },
     "metadata": {},
     "output_type": "display_data"
    },
    {
     "name": "stdout",
     "output_type": "stream",
     "text": [
      "null\n"
     ]
    },
    {
     "data": {
      "text/markdown": [
       "## Page 26245 on de (trashed=1):"
      ],
      "text/plain": [
       "<IPython.core.display.Markdown object>"
      ]
     },
     "metadata": {},
     "output_type": "display_data"
    },
    {
     "name": "stdout",
     "output_type": "stream",
     "text": [
      "null\n"
     ]
    },
    {
     "data": {
      "text/markdown": [
       "## Page 26524 on de (trashed=1):"
      ],
      "text/plain": [
       "<IPython.core.display.Markdown object>"
      ]
     },
     "metadata": {},
     "output_type": "display_data"
    },
    {
     "name": "stdout",
     "output_type": "stream",
     "text": [
      "null\n"
     ]
    },
    {
     "data": {
      "text/markdown": [
       "## Page 26542 on de (trashed=1):"
      ],
      "text/plain": [
       "<IPython.core.display.Markdown object>"
      ]
     },
     "metadata": {},
     "output_type": "display_data"
    },
    {
     "name": "stdout",
     "output_type": "stream",
     "text": [
      "null\n"
     ]
    },
    {
     "data": {
      "text/markdown": [
       "## Page 26544 on de (trashed=1):"
      ],
      "text/plain": [
       "<IPython.core.display.Markdown object>"
      ]
     },
     "metadata": {},
     "output_type": "display_data"
    },
    {
     "name": "stdout",
     "output_type": "stream",
     "text": [
      "null\n"
     ]
    },
    {
     "data": {
      "text/markdown": [
       "## Page 26546 on de (trashed=1):"
      ],
      "text/plain": [
       "<IPython.core.display.Markdown object>"
      ]
     },
     "metadata": {},
     "output_type": "display_data"
    },
    {
     "name": "stdout",
     "output_type": "stream",
     "text": [
      "null\n"
     ]
    },
    {
     "data": {
      "text/markdown": [
       "## Page 26592 on de (trashed=1):"
      ],
      "text/plain": [
       "<IPython.core.display.Markdown object>"
      ]
     },
     "metadata": {},
     "output_type": "display_data"
    },
    {
     "name": "stdout",
     "output_type": "stream",
     "text": [
      "null\n"
     ]
    },
    {
     "data": {
      "text/markdown": [
       "## Page 26639 on de (trashed=1):"
      ],
      "text/plain": [
       "<IPython.core.display.Markdown object>"
      ]
     },
     "metadata": {},
     "output_type": "display_data"
    },
    {
     "name": "stdout",
     "output_type": "stream",
     "text": [
      "null\n"
     ]
    },
    {
     "data": {
      "text/markdown": [
       "## Page 26874 on de (trashed=1):"
      ],
      "text/plain": [
       "<IPython.core.display.Markdown object>"
      ]
     },
     "metadata": {},
     "output_type": "display_data"
    },
    {
     "name": "stdout",
     "output_type": "stream",
     "text": [
      "{\n",
      "  \"label\": \"Englisch\",\n",
      "  \"id\": 25985,\n",
      "  \"children\": [\n",
      "    {\n",
      "      \"label\": \"Themen\",\n",
      "      \"id\": 25979\n",
      "    },\n",
      "    {\n",
      "      \"label\": \"Bei Serlo-Englisch mitarbeiten\",\n",
      "      \"children\": [\n",
      "        {\n",
      "          \"label\": \"Neu hier?\",\n",
      "          \"id\": 26874\n",
      "        },\n",
      "        {\n",
      "          \"label\": \"Taxonomy bearbeiten\",\n",
      "          \"url\": \"/taxonomy/term/organize/25979\"\n",
      "        }\n",
      "      ]\n",
      "    }\n",
      "  ]\n",
      "}\n"
     ]
    },
    {
     "data": {
      "text/markdown": [
       "## Page 26880 on de (trashed=1):"
      ],
      "text/plain": [
       "<IPython.core.display.Markdown object>"
      ]
     },
     "metadata": {},
     "output_type": "display_data"
    },
    {
     "name": "stdout",
     "output_type": "stream",
     "text": [
      "null\n"
     ]
    },
    {
     "data": {
      "text/markdown": [
       "## Page 27203 on de (trashed=1):"
      ],
      "text/plain": [
       "<IPython.core.display.Markdown object>"
      ]
     },
     "metadata": {},
     "output_type": "display_data"
    },
    {
     "name": "stdout",
     "output_type": "stream",
     "text": [
      "null\n"
     ]
    },
    {
     "data": {
      "text/markdown": [
       "## Page 27421 on de (trashed=1):"
      ],
      "text/plain": [
       "<IPython.core.display.Markdown object>"
      ]
     },
     "metadata": {},
     "output_type": "display_data"
    },
    {
     "name": "stdout",
     "output_type": "stream",
     "text": [
      "null\n"
     ]
    },
    {
     "data": {
      "text/markdown": [
       "## Page 27472 on de (trashed=1):"
      ],
      "text/plain": [
       "<IPython.core.display.Markdown object>"
      ]
     },
     "metadata": {},
     "output_type": "display_data"
    },
    {
     "name": "stdout",
     "output_type": "stream",
     "text": [
      "null\n"
     ]
    },
    {
     "data": {
      "text/markdown": [
       "## Page 32875 on de (trashed=1):"
      ],
      "text/plain": [
       "<IPython.core.display.Markdown object>"
      ]
     },
     "metadata": {},
     "output_type": "display_data"
    },
    {
     "name": "stdout",
     "output_type": "stream",
     "text": [
      "null\n"
     ]
    },
    {
     "data": {
      "text/markdown": [
       "## Page 35093 on de (trashed=1):"
      ],
      "text/plain": [
       "<IPython.core.display.Markdown object>"
      ]
     },
     "metadata": {},
     "output_type": "display_data"
    },
    {
     "name": "stdout",
     "output_type": "stream",
     "text": [
      "null\n"
     ]
    },
    {
     "data": {
      "text/markdown": [
       "## Page 35096 on de (trashed=1):"
      ],
      "text/plain": [
       "<IPython.core.display.Markdown object>"
      ]
     },
     "metadata": {},
     "output_type": "display_data"
    },
    {
     "name": "stdout",
     "output_type": "stream",
     "text": [
      "null\n"
     ]
    },
    {
     "data": {
      "text/markdown": [
       "## Page 35098 on de (trashed=1):"
      ],
      "text/plain": [
       "<IPython.core.display.Markdown object>"
      ]
     },
     "metadata": {},
     "output_type": "display_data"
    },
    {
     "name": "stdout",
     "output_type": "stream",
     "text": [
      "null\n"
     ]
    },
    {
     "data": {
      "text/markdown": [
       "## Page 35100 on de (trashed=1):"
      ],
      "text/plain": [
       "<IPython.core.display.Markdown object>"
      ]
     },
     "metadata": {},
     "output_type": "display_data"
    },
    {
     "name": "stdout",
     "output_type": "stream",
     "text": [
      "null\n"
     ]
    },
    {
     "data": {
      "text/markdown": [
       "## Page 35152 on de (trashed=1):"
      ],
      "text/plain": [
       "<IPython.core.display.Markdown object>"
      ]
     },
     "metadata": {},
     "output_type": "display_data"
    },
    {
     "name": "stdout",
     "output_type": "stream",
     "text": [
      "null\n"
     ]
    },
    {
     "data": {
      "text/markdown": [
       "## Page 35563 on de (trashed=1):"
      ],
      "text/plain": [
       "<IPython.core.display.Markdown object>"
      ]
     },
     "metadata": {},
     "output_type": "display_data"
    },
    {
     "name": "stdout",
     "output_type": "stream",
     "text": [
      "null\n"
     ]
    },
    {
     "data": {
      "text/markdown": [
       "## Page 37989 on de (trashed=1):"
      ],
      "text/plain": [
       "<IPython.core.display.Markdown object>"
      ]
     },
     "metadata": {},
     "output_type": "display_data"
    },
    {
     "name": "stdout",
     "output_type": "stream",
     "text": [
      "null\n"
     ]
    },
    {
     "data": {
      "text/markdown": [
       "## Page 39897 on de (trashed=1):"
      ],
      "text/plain": [
       "<IPython.core.display.Markdown object>"
      ]
     },
     "metadata": {},
     "output_type": "display_data"
    },
    {
     "name": "stdout",
     "output_type": "stream",
     "text": [
      "null\n"
     ]
    },
    {
     "data": {
      "text/markdown": [
       "## Page 41108 on de (trashed=1):"
      ],
      "text/plain": [
       "<IPython.core.display.Markdown object>"
      ]
     },
     "metadata": {},
     "output_type": "display_data"
    },
    {
     "name": "stdout",
     "output_type": "stream",
     "text": [
      "{\n",
      "  \"label\": \"Physik\",\n",
      "  \"id\": 41108,\n",
      "  \"children\": [\n",
      "    {\n",
      "      \"label\": \"Themen\",\n",
      "      \"id\": 41107\n",
      "    },\n",
      "    {\n",
      "      \"label\": \"Lehrplan\",\n",
      "      \"id\": 50540\n",
      "    },\n",
      "    {\n",
      "      \"label\": \"Bei Serlo-Physik mitarbeiten\",\n",
      "      \"id\": 41134\n",
      "    }\n",
      "  ]\n",
      "}\n"
     ]
    },
    {
     "data": {
      "text/markdown": [
       "## Page 41134 on de (trashed=1):"
      ],
      "text/plain": [
       "<IPython.core.display.Markdown object>"
      ]
     },
     "metadata": {},
     "output_type": "display_data"
    },
    {
     "name": "stdout",
     "output_type": "stream",
     "text": [
      "{\n",
      "  \"label\": \"Physik\",\n",
      "  \"id\": 41108,\n",
      "  \"children\": [\n",
      "    {\n",
      "      \"label\": \"Themen\",\n",
      "      \"id\": 41107\n",
      "    },\n",
      "    {\n",
      "      \"label\": \"Lehrplan\",\n",
      "      \"id\": 50540\n",
      "    },\n",
      "    {\n",
      "      \"label\": \"Bei Serlo-Physik mitarbeiten\",\n",
      "      \"id\": 41134\n",
      "    }\n",
      "  ]\n",
      "}\n"
     ]
    },
    {
     "data": {
      "text/markdown": [
       "## Page 41136 on de (trashed=1):"
      ],
      "text/plain": [
       "<IPython.core.display.Markdown object>"
      ]
     },
     "metadata": {},
     "output_type": "display_data"
    },
    {
     "name": "stdout",
     "output_type": "stream",
     "text": [
      "null\n"
     ]
    },
    {
     "data": {
      "text/markdown": [
       "## Page 41143 on de (trashed=1):"
      ],
      "text/plain": [
       "<IPython.core.display.Markdown object>"
      ]
     },
     "metadata": {},
     "output_type": "display_data"
    },
    {
     "name": "stdout",
     "output_type": "stream",
     "text": [
      "null\n"
     ]
    },
    {
     "data": {
      "text/markdown": [
       "## Page 41923 on de (trashed=1):"
      ],
      "text/plain": [
       "<IPython.core.display.Markdown object>"
      ]
     },
     "metadata": {},
     "output_type": "display_data"
    },
    {
     "name": "stdout",
     "output_type": "stream",
     "text": [
      "null\n"
     ]
    },
    {
     "data": {
      "text/markdown": [
       "## Page 47792 on de (trashed=1):"
      ],
      "text/plain": [
       "<IPython.core.display.Markdown object>"
      ]
     },
     "metadata": {},
     "output_type": "display_data"
    },
    {
     "name": "stdout",
     "output_type": "stream",
     "text": [
      "null\n"
     ]
    },
    {
     "data": {
      "text/markdown": [
       "## Page 47825 on de (trashed=1):"
      ],
      "text/plain": [
       "<IPython.core.display.Markdown object>"
      ]
     },
     "metadata": {},
     "output_type": "display_data"
    },
    {
     "name": "stdout",
     "output_type": "stream",
     "text": [
      "null\n"
     ]
    },
    {
     "data": {
      "text/markdown": [
       "## Page 48481 on de (trashed=1):"
      ],
      "text/plain": [
       "<IPython.core.display.Markdown object>"
      ]
     },
     "metadata": {},
     "output_type": "display_data"
    },
    {
     "name": "stdout",
     "output_type": "stream",
     "text": [
      "null\n"
     ]
    },
    {
     "data": {
      "text/markdown": [
       "## Page 49020 on de (trashed=1):"
      ],
      "text/plain": [
       "<IPython.core.display.Markdown object>"
      ]
     },
     "metadata": {},
     "output_type": "display_data"
    },
    {
     "name": "stdout",
     "output_type": "stream",
     "text": [
      "null\n"
     ]
    },
    {
     "data": {
      "text/markdown": [
       "## Page 49023 on de (trashed=1):"
      ],
      "text/plain": [
       "<IPython.core.display.Markdown object>"
      ]
     },
     "metadata": {},
     "output_type": "display_data"
    },
    {
     "name": "stdout",
     "output_type": "stream",
     "text": [
      "null\n"
     ]
    },
    {
     "data": {
      "text/markdown": [
       "## Page 49029 on de (trashed=1):"
      ],
      "text/plain": [
       "<IPython.core.display.Markdown object>"
      ]
     },
     "metadata": {},
     "output_type": "display_data"
    },
    {
     "name": "stdout",
     "output_type": "stream",
     "text": [
      "null\n"
     ]
    },
    {
     "data": {
      "text/markdown": [
       "## Page 49169 on de (trashed=1):"
      ],
      "text/plain": [
       "<IPython.core.display.Markdown object>"
      ]
     },
     "metadata": {},
     "output_type": "display_data"
    },
    {
     "name": "stdout",
     "output_type": "stream",
     "text": [
      "null\n"
     ]
    },
    {
     "data": {
      "text/markdown": [
       "## Page 49172 on de (trashed=1):"
      ],
      "text/plain": [
       "<IPython.core.display.Markdown object>"
      ]
     },
     "metadata": {},
     "output_type": "display_data"
    },
    {
     "name": "stdout",
     "output_type": "stream",
     "text": [
      "null\n"
     ]
    },
    {
     "data": {
      "text/markdown": [
       "## Page 49174 on de (trashed=1):"
      ],
      "text/plain": [
       "<IPython.core.display.Markdown object>"
      ]
     },
     "metadata": {},
     "output_type": "display_data"
    },
    {
     "name": "stdout",
     "output_type": "stream",
     "text": [
      "null\n"
     ]
    },
    {
     "data": {
      "text/markdown": [
       "## Page 49177 on de (trashed=1):"
      ],
      "text/plain": [
       "<IPython.core.display.Markdown object>"
      ]
     },
     "metadata": {},
     "output_type": "display_data"
    },
    {
     "name": "stdout",
     "output_type": "stream",
     "text": [
      "null\n"
     ]
    },
    {
     "data": {
      "text/markdown": [
       "## Page 49180 on de (trashed=1):"
      ],
      "text/plain": [
       "<IPython.core.display.Markdown object>"
      ]
     },
     "metadata": {},
     "output_type": "display_data"
    },
    {
     "name": "stdout",
     "output_type": "stream",
     "text": [
      "null\n"
     ]
    },
    {
     "data": {
      "text/markdown": [
       "## Page 49196 on de (trashed=1):"
      ],
      "text/plain": [
       "<IPython.core.display.Markdown object>"
      ]
     },
     "metadata": {},
     "output_type": "display_data"
    },
    {
     "name": "stdout",
     "output_type": "stream",
     "text": [
      "null\n"
     ]
    },
    {
     "data": {
      "text/markdown": [
       "## Page 50303 on de (trashed=1):"
      ],
      "text/plain": [
       "<IPython.core.display.Markdown object>"
      ]
     },
     "metadata": {},
     "output_type": "display_data"
    },
    {
     "name": "stdout",
     "output_type": "stream",
     "text": [
      "null\n"
     ]
    },
    {
     "data": {
      "text/markdown": [
       "## Page 50323 on de (trashed=1):"
      ],
      "text/plain": [
       "<IPython.core.display.Markdown object>"
      ]
     },
     "metadata": {},
     "output_type": "display_data"
    },
    {
     "name": "stdout",
     "output_type": "stream",
     "text": [
      "null\n"
     ]
    },
    {
     "data": {
      "text/markdown": [
       "## Page 50327 on de (trashed=1):"
      ],
      "text/plain": [
       "<IPython.core.display.Markdown object>"
      ]
     },
     "metadata": {},
     "output_type": "display_data"
    },
    {
     "name": "stdout",
     "output_type": "stream",
     "text": [
      "null\n"
     ]
    },
    {
     "data": {
      "text/markdown": [
       "## Page 50329 on de (trashed=1):"
      ],
      "text/plain": [
       "<IPython.core.display.Markdown object>"
      ]
     },
     "metadata": {},
     "output_type": "display_data"
    },
    {
     "name": "stdout",
     "output_type": "stream",
     "text": [
      "null\n"
     ]
    },
    {
     "data": {
      "text/markdown": [
       "## Page 50333 on de (trashed=1):"
      ],
      "text/plain": [
       "<IPython.core.display.Markdown object>"
      ]
     },
     "metadata": {},
     "output_type": "display_data"
    },
    {
     "name": "stdout",
     "output_type": "stream",
     "text": [
      "null\n"
     ]
    },
    {
     "data": {
      "text/markdown": [
       "## Page 50335 on de (trashed=1):"
      ],
      "text/plain": [
       "<IPython.core.display.Markdown object>"
      ]
     },
     "metadata": {},
     "output_type": "display_data"
    },
    {
     "name": "stdout",
     "output_type": "stream",
     "text": [
      "null\n"
     ]
    },
    {
     "data": {
      "text/markdown": [
       "## Page 50361 on de (trashed=1):"
      ],
      "text/plain": [
       "<IPython.core.display.Markdown object>"
      ]
     },
     "metadata": {},
     "output_type": "display_data"
    },
    {
     "name": "stdout",
     "output_type": "stream",
     "text": [
      "null\n"
     ]
    },
    {
     "data": {
      "text/markdown": [
       "## Page 50559 on de (trashed=1):"
      ],
      "text/plain": [
       "<IPython.core.display.Markdown object>"
      ]
     },
     "metadata": {},
     "output_type": "display_data"
    },
    {
     "name": "stdout",
     "output_type": "stream",
     "text": [
      "null\n"
     ]
    },
    {
     "data": {
      "text/markdown": [
       "## Page 57848 on de (trashed=1):"
      ],
      "text/plain": [
       "<IPython.core.display.Markdown object>"
      ]
     },
     "metadata": {},
     "output_type": "display_data"
    },
    {
     "name": "stdout",
     "output_type": "stream",
     "text": [
      "null\n"
     ]
    },
    {
     "data": {
      "text/markdown": [
       "## Page 57849 on de (trashed=1):"
      ],
      "text/plain": [
       "<IPython.core.display.Markdown object>"
      ]
     },
     "metadata": {},
     "output_type": "display_data"
    },
    {
     "name": "stdout",
     "output_type": "stream",
     "text": [
      "null\n"
     ]
    },
    {
     "data": {
      "text/markdown": [
       "## Page 58695 on de (trashed=1):"
      ],
      "text/plain": [
       "<IPython.core.display.Markdown object>"
      ]
     },
     "metadata": {},
     "output_type": "display_data"
    },
    {
     "name": "stdout",
     "output_type": "stream",
     "text": [
      "null\n"
     ]
    },
    {
     "data": {
      "text/markdown": [
       "## Page 59674 on de (trashed=1):"
      ],
      "text/plain": [
       "<IPython.core.display.Markdown object>"
      ]
     },
     "metadata": {},
     "output_type": "display_data"
    },
    {
     "name": "stdout",
     "output_type": "stream",
     "text": [
      "null\n"
     ]
    },
    {
     "data": {
      "text/markdown": [
       "## Page 60724 on de (trashed=1):"
      ],
      "text/plain": [
       "<IPython.core.display.Markdown object>"
      ]
     },
     "metadata": {},
     "output_type": "display_data"
    },
    {
     "name": "stdout",
     "output_type": "stream",
     "text": [
      "null\n"
     ]
    },
    {
     "data": {
      "text/markdown": [
       "## Page 60726 on de (trashed=1):"
      ],
      "text/plain": [
       "<IPython.core.display.Markdown object>"
      ]
     },
     "metadata": {},
     "output_type": "display_data"
    },
    {
     "name": "stdout",
     "output_type": "stream",
     "text": [
      "null\n"
     ]
    },
    {
     "data": {
      "text/markdown": [
       "## Page 67485 on de (trashed=1):"
      ],
      "text/plain": [
       "<IPython.core.display.Markdown object>"
      ]
     },
     "metadata": {},
     "output_type": "display_data"
    },
    {
     "name": "stdout",
     "output_type": "stream",
     "text": [
      "null\n"
     ]
    },
    {
     "data": {
      "text/markdown": [
       "## Page 81650 on de (trashed=1):"
      ],
      "text/plain": [
       "<IPython.core.display.Markdown object>"
      ]
     },
     "metadata": {},
     "output_type": "display_data"
    },
    {
     "name": "stdout",
     "output_type": "stream",
     "text": [
      "null\n"
     ]
    },
    {
     "data": {
      "text/markdown": [
       "## Page 82899 on de (trashed=1):"
      ],
      "text/plain": [
       "<IPython.core.display.Markdown object>"
      ]
     },
     "metadata": {},
     "output_type": "display_data"
    },
    {
     "name": "stdout",
     "output_type": "stream",
     "text": [
      "null\n"
     ]
    },
    {
     "data": {
      "text/markdown": [
       "## Page 90599 on de (trashed=1):"
      ],
      "text/plain": [
       "<IPython.core.display.Markdown object>"
      ]
     },
     "metadata": {},
     "output_type": "display_data"
    },
    {
     "name": "stdout",
     "output_type": "stream",
     "text": [
      "null\n"
     ]
    },
    {
     "data": {
      "text/markdown": [
       "## Page 91064 on de (trashed=1):"
      ],
      "text/plain": [
       "<IPython.core.display.Markdown object>"
      ]
     },
     "metadata": {},
     "output_type": "display_data"
    },
    {
     "name": "stdout",
     "output_type": "stream",
     "text": [
      "null\n"
     ]
    },
    {
     "data": {
      "text/markdown": [
       "## Page 93683 on de (trashed=1):"
      ],
      "text/plain": [
       "<IPython.core.display.Markdown object>"
      ]
     },
     "metadata": {},
     "output_type": "display_data"
    },
    {
     "name": "stdout",
     "output_type": "stream",
     "text": [
      "null\n"
     ]
    },
    {
     "data": {
      "text/markdown": [
       "## Page 121494 on de (trashed=1):"
      ],
      "text/plain": [
       "<IPython.core.display.Markdown object>"
      ]
     },
     "metadata": {},
     "output_type": "display_data"
    },
    {
     "name": "stdout",
     "output_type": "stream",
     "text": [
      "null\n"
     ]
    },
    {
     "data": {
      "text/markdown": [
       "## Page 144661 on de (trashed=1):"
      ],
      "text/plain": [
       "<IPython.core.display.Markdown object>"
      ]
     },
     "metadata": {},
     "output_type": "display_data"
    },
    {
     "name": "stdout",
     "output_type": "stream",
     "text": [
      "null\n"
     ]
    },
    {
     "data": {
      "text/markdown": [
       "## Page 182152 on de (trashed=1):"
      ],
      "text/plain": [
       "<IPython.core.display.Markdown object>"
      ]
     },
     "metadata": {},
     "output_type": "display_data"
    },
    {
     "name": "stdout",
     "output_type": "stream",
     "text": [
      "null\n"
     ]
    },
    {
     "data": {
      "text/markdown": [
       "## Page 23579 on en (trashed=1):"
      ],
      "text/plain": [
       "<IPython.core.display.Markdown object>"
      ]
     },
     "metadata": {},
     "output_type": "display_data"
    },
    {
     "name": "stdout",
     "output_type": "stream",
     "text": [
      "null\n"
     ]
    },
    {
     "data": {
      "text/markdown": [
       "## Page 23711 on en (trashed=1):"
      ],
      "text/plain": [
       "<IPython.core.display.Markdown object>"
      ]
     },
     "metadata": {},
     "output_type": "display_data"
    },
    {
     "name": "stdout",
     "output_type": "stream",
     "text": [
      "null\n"
     ]
    },
    {
     "data": {
      "text/markdown": [
       "## Page 23720 on en (trashed=1):"
      ],
      "text/plain": [
       "<IPython.core.display.Markdown object>"
      ]
     },
     "metadata": {},
     "output_type": "display_data"
    },
    {
     "name": "stdout",
     "output_type": "stream",
     "text": [
      "null\n"
     ]
    },
    {
     "data": {
      "text/markdown": [
       "## Page 25079 on en (trashed=1):"
      ],
      "text/plain": [
       "<IPython.core.display.Markdown object>"
      ]
     },
     "metadata": {},
     "output_type": "display_data"
    },
    {
     "name": "stdout",
     "output_type": "stream",
     "text": [
      "null\n"
     ]
    },
    {
     "data": {
      "text/markdown": [
       "## Page 25082 on en (trashed=1):"
      ],
      "text/plain": [
       "<IPython.core.display.Markdown object>"
      ]
     },
     "metadata": {},
     "output_type": "display_data"
    },
    {
     "name": "stdout",
     "output_type": "stream",
     "text": [
      "null\n"
     ]
    },
    {
     "data": {
      "text/markdown": [
       "## Page 32966 on en (trashed=1):"
      ],
      "text/plain": [
       "<IPython.core.display.Markdown object>"
      ]
     },
     "metadata": {},
     "output_type": "display_data"
    },
    {
     "name": "stdout",
     "output_type": "stream",
     "text": [
      "null\n"
     ]
    },
    {
     "data": {
      "text/markdown": [
       "## Page 35644 on en (trashed=1):"
      ],
      "text/plain": [
       "<IPython.core.display.Markdown object>"
      ]
     },
     "metadata": {},
     "output_type": "display_data"
    },
    {
     "name": "stdout",
     "output_type": "stream",
     "text": [
      "null\n"
     ]
    },
    {
     "data": {
      "text/markdown": [
       "## Page 35649 on en (trashed=1):"
      ],
      "text/plain": [
       "<IPython.core.display.Markdown object>"
      ]
     },
     "metadata": {},
     "output_type": "display_data"
    },
    {
     "name": "stdout",
     "output_type": "stream",
     "text": [
      "null\n"
     ]
    },
    {
     "data": {
      "text/markdown": [
       "## Page 35653 on en (trashed=1):"
      ],
      "text/plain": [
       "<IPython.core.display.Markdown object>"
      ]
     },
     "metadata": {},
     "output_type": "display_data"
    },
    {
     "name": "stdout",
     "output_type": "stream",
     "text": [
      "null\n"
     ]
    },
    {
     "data": {
      "text/markdown": [
       "## Page 35655 on en (trashed=1):"
      ],
      "text/plain": [
       "<IPython.core.display.Markdown object>"
      ]
     },
     "metadata": {},
     "output_type": "display_data"
    },
    {
     "name": "stdout",
     "output_type": "stream",
     "text": [
      "null\n"
     ]
    },
    {
     "data": {
      "text/markdown": [
       "## Page 35659 on en (trashed=1):"
      ],
      "text/plain": [
       "<IPython.core.display.Markdown object>"
      ]
     },
     "metadata": {},
     "output_type": "display_data"
    },
    {
     "name": "stdout",
     "output_type": "stream",
     "text": [
      "null\n"
     ]
    },
    {
     "data": {
      "text/markdown": [
       "## Page 35661 on en (trashed=1):"
      ],
      "text/plain": [
       "<IPython.core.display.Markdown object>"
      ]
     },
     "metadata": {},
     "output_type": "display_data"
    },
    {
     "name": "stdout",
     "output_type": "stream",
     "text": [
      "null\n"
     ]
    },
    {
     "data": {
      "text/markdown": [
       "## Page 35668 on en (trashed=1):"
      ],
      "text/plain": [
       "<IPython.core.display.Markdown object>"
      ]
     },
     "metadata": {},
     "output_type": "display_data"
    },
    {
     "name": "stdout",
     "output_type": "stream",
     "text": [
      "null\n"
     ]
    },
    {
     "data": {
      "text/markdown": [
       "## Page 35670 on en (trashed=1):"
      ],
      "text/plain": [
       "<IPython.core.display.Markdown object>"
      ]
     },
     "metadata": {},
     "output_type": "display_data"
    },
    {
     "name": "stdout",
     "output_type": "stream",
     "text": [
      "null\n"
     ]
    },
    {
     "data": {
      "text/markdown": [
       "## Page 39582 on en (trashed=1):"
      ],
      "text/plain": [
       "<IPython.core.display.Markdown object>"
      ]
     },
     "metadata": {},
     "output_type": "display_data"
    },
    {
     "name": "stdout",
     "output_type": "stream",
     "text": [
      "null\n"
     ]
    },
    {
     "data": {
      "text/markdown": [
       "## Page 39584 on en (trashed=1):"
      ],
      "text/plain": [
       "<IPython.core.display.Markdown object>"
      ]
     },
     "metadata": {},
     "output_type": "display_data"
    },
    {
     "name": "stdout",
     "output_type": "stream",
     "text": [
      "null\n"
     ]
    },
    {
     "data": {
      "text/markdown": [
       "## Page 39837 on en (trashed=1):"
      ],
      "text/plain": [
       "<IPython.core.display.Markdown object>"
      ]
     },
     "metadata": {},
     "output_type": "display_data"
    },
    {
     "name": "stdout",
     "output_type": "stream",
     "text": [
      "null\n"
     ]
    },
    {
     "data": {
      "text/markdown": [
       "## Page 48294 on en (trashed=1):"
      ],
      "text/plain": [
       "<IPython.core.display.Markdown object>"
      ]
     },
     "metadata": {},
     "output_type": "display_data"
    },
    {
     "name": "stdout",
     "output_type": "stream",
     "text": [
      "null\n"
     ]
    },
    {
     "data": {
      "text/markdown": [
       "## Page 48341 on en (trashed=1):"
      ],
      "text/plain": [
       "<IPython.core.display.Markdown object>"
      ]
     },
     "metadata": {},
     "output_type": "display_data"
    },
    {
     "name": "stdout",
     "output_type": "stream",
     "text": [
      "null\n"
     ]
    },
    {
     "data": {
      "text/markdown": [
       "## Page 48411 on en (trashed=1):"
      ],
      "text/plain": [
       "<IPython.core.display.Markdown object>"
      ]
     },
     "metadata": {},
     "output_type": "display_data"
    },
    {
     "name": "stdout",
     "output_type": "stream",
     "text": [
      "null\n"
     ]
    },
    {
     "data": {
      "text/markdown": [
       "## Page 48413 on en (trashed=1):"
      ],
      "text/plain": [
       "<IPython.core.display.Markdown object>"
      ]
     },
     "metadata": {},
     "output_type": "display_data"
    },
    {
     "name": "stdout",
     "output_type": "stream",
     "text": [
      "null\n"
     ]
    },
    {
     "data": {
      "text/markdown": [
       "## Page 48677 on en (trashed=1):"
      ],
      "text/plain": [
       "<IPython.core.display.Markdown object>"
      ]
     },
     "metadata": {},
     "output_type": "display_data"
    },
    {
     "name": "stdout",
     "output_type": "stream",
     "text": [
      "null\n"
     ]
    },
    {
     "data": {
      "text/markdown": [
       "## Page 48678 on en (trashed=1):"
      ],
      "text/plain": [
       "<IPython.core.display.Markdown object>"
      ]
     },
     "metadata": {},
     "output_type": "display_data"
    },
    {
     "name": "stdout",
     "output_type": "stream",
     "text": [
      "null\n"
     ]
    },
    {
     "data": {
      "text/markdown": [
       "## Page 48680 on en (trashed=1):"
      ],
      "text/plain": [
       "<IPython.core.display.Markdown object>"
      ]
     },
     "metadata": {},
     "output_type": "display_data"
    },
    {
     "name": "stdout",
     "output_type": "stream",
     "text": [
      "null\n"
     ]
    },
    {
     "data": {
      "text/markdown": [
       "## Page 49587 on en (trashed=1):"
      ],
      "text/plain": [
       "<IPython.core.display.Markdown object>"
      ]
     },
     "metadata": {},
     "output_type": "display_data"
    },
    {
     "name": "stdout",
     "output_type": "stream",
     "text": [
      "null\n"
     ]
    },
    {
     "data": {
      "text/markdown": [
       "## Page 50284 on en (trashed=1):"
      ],
      "text/plain": [
       "<IPython.core.display.Markdown object>"
      ]
     },
     "metadata": {},
     "output_type": "display_data"
    },
    {
     "name": "stdout",
     "output_type": "stream",
     "text": [
      "null\n"
     ]
    },
    {
     "data": {
      "text/markdown": [
       "## Page 50288 on en (trashed=1):"
      ],
      "text/plain": [
       "<IPython.core.display.Markdown object>"
      ]
     },
     "metadata": {},
     "output_type": "display_data"
    },
    {
     "name": "stdout",
     "output_type": "stream",
     "text": [
      "null\n"
     ]
    },
    {
     "data": {
      "text/markdown": [
       "## Page 50293 on en (trashed=1):"
      ],
      "text/plain": [
       "<IPython.core.display.Markdown object>"
      ]
     },
     "metadata": {},
     "output_type": "display_data"
    },
    {
     "name": "stdout",
     "output_type": "stream",
     "text": [
      "null\n"
     ]
    },
    {
     "data": {
      "text/markdown": [
       "## Page 50299 on en (trashed=1):"
      ],
      "text/plain": [
       "<IPython.core.display.Markdown object>"
      ]
     },
     "metadata": {},
     "output_type": "display_data"
    },
    {
     "name": "stdout",
     "output_type": "stream",
     "text": [
      "null\n"
     ]
    },
    {
     "data": {
      "text/markdown": [
       "## Page 50306 on en (trashed=1):"
      ],
      "text/plain": [
       "<IPython.core.display.Markdown object>"
      ]
     },
     "metadata": {},
     "output_type": "display_data"
    },
    {
     "name": "stdout",
     "output_type": "stream",
     "text": [
      "null\n"
     ]
    },
    {
     "data": {
      "text/markdown": [
       "## Page 50308 on en (trashed=1):"
      ],
      "text/plain": [
       "<IPython.core.display.Markdown object>"
      ]
     },
     "metadata": {},
     "output_type": "display_data"
    },
    {
     "name": "stdout",
     "output_type": "stream",
     "text": [
      "null\n"
     ]
    },
    {
     "data": {
      "text/markdown": [
       "## Page 50318 on en (trashed=1):"
      ],
      "text/plain": [
       "<IPython.core.display.Markdown object>"
      ]
     },
     "metadata": {},
     "output_type": "display_data"
    },
    {
     "name": "stdout",
     "output_type": "stream",
     "text": [
      "null\n"
     ]
    },
    {
     "data": {
      "text/markdown": [
       "## Page 50347 on en (trashed=1):"
      ],
      "text/plain": [
       "<IPython.core.display.Markdown object>"
      ]
     },
     "metadata": {},
     "output_type": "display_data"
    },
    {
     "name": "stdout",
     "output_type": "stream",
     "text": [
      "null\n"
     ]
    },
    {
     "data": {
      "text/markdown": [
       "## Page 50359 on en (trashed=1):"
      ],
      "text/plain": [
       "<IPython.core.display.Markdown object>"
      ]
     },
     "metadata": {},
     "output_type": "display_data"
    },
    {
     "name": "stdout",
     "output_type": "stream",
     "text": [
      "null\n"
     ]
    },
    {
     "data": {
      "text/markdown": [
       "## Page 50371 on en (trashed=1):"
      ],
      "text/plain": [
       "<IPython.core.display.Markdown object>"
      ]
     },
     "metadata": {},
     "output_type": "display_data"
    },
    {
     "name": "stdout",
     "output_type": "stream",
     "text": [
      "null\n"
     ]
    },
    {
     "data": {
      "text/markdown": [
       "## Page 50561 on en (trashed=1):"
      ],
      "text/plain": [
       "<IPython.core.display.Markdown object>"
      ]
     },
     "metadata": {},
     "output_type": "display_data"
    },
    {
     "name": "stdout",
     "output_type": "stream",
     "text": [
      "null\n"
     ]
    },
    {
     "data": {
      "text/markdown": [
       "## Page 50563 on en (trashed=1):"
      ],
      "text/plain": [
       "<IPython.core.display.Markdown object>"
      ]
     },
     "metadata": {},
     "output_type": "display_data"
    },
    {
     "name": "stdout",
     "output_type": "stream",
     "text": [
      "null\n"
     ]
    },
    {
     "data": {
      "text/markdown": [
       "## Page 51178 on en (trashed=1):"
      ],
      "text/plain": [
       "<IPython.core.display.Markdown object>"
      ]
     },
     "metadata": {},
     "output_type": "display_data"
    },
    {
     "name": "stdout",
     "output_type": "stream",
     "text": [
      "null\n"
     ]
    },
    {
     "data": {
      "text/markdown": [
       "## Page 51180 on en (trashed=1):"
      ],
      "text/plain": [
       "<IPython.core.display.Markdown object>"
      ]
     },
     "metadata": {},
     "output_type": "display_data"
    },
    {
     "name": "stdout",
     "output_type": "stream",
     "text": [
      "null\n"
     ]
    },
    {
     "data": {
      "text/markdown": [
       "## Page 51182 on en (trashed=1):"
      ],
      "text/plain": [
       "<IPython.core.display.Markdown object>"
      ]
     },
     "metadata": {},
     "output_type": "display_data"
    },
    {
     "name": "stdout",
     "output_type": "stream",
     "text": [
      "null\n"
     ]
    },
    {
     "data": {
      "text/markdown": [
       "## Page 51184 on en (trashed=1):"
      ],
      "text/plain": [
       "<IPython.core.display.Markdown object>"
      ]
     },
     "metadata": {},
     "output_type": "display_data"
    },
    {
     "name": "stdout",
     "output_type": "stream",
     "text": [
      "null\n"
     ]
    },
    {
     "data": {
      "text/markdown": [
       "## Page 67933 on en (trashed=1):"
      ],
      "text/plain": [
       "<IPython.core.display.Markdown object>"
      ]
     },
     "metadata": {},
     "output_type": "display_data"
    },
    {
     "name": "stdout",
     "output_type": "stream",
     "text": [
      "null\n"
     ]
    },
    {
     "data": {
      "text/markdown": [
       "## Page 91062 on en (trashed=1):"
      ],
      "text/plain": [
       "<IPython.core.display.Markdown object>"
      ]
     },
     "metadata": {},
     "output_type": "display_data"
    },
    {
     "name": "stdout",
     "output_type": "stream",
     "text": [
      "{\n",
      "  \"label\": \"test area\",\n",
      "  \"id\": 91062,\n",
      "  \"children\": [\n",
      "    {\n",
      "      \"label\": \"Overview\",\n",
      "      \"id\": 93277\n",
      "    },\n",
      "    {\n",
      "      \"label\": \"Unreviewed Edits\",\n",
      "      \"url\": \"/test%20area/entity/trash-bin\"\n",
      "    }\n",
      "  ]\n",
      "}\n"
     ]
    },
    {
     "data": {
      "text/markdown": [
       "## Page 108409 on en (trashed=1):"
      ],
      "text/plain": [
       "<IPython.core.display.Markdown object>"
      ]
     },
     "metadata": {},
     "output_type": "display_data"
    },
    {
     "name": "stdout",
     "output_type": "stream",
     "text": [
      "null\n"
     ]
    },
    {
     "data": {
      "text/markdown": [
       "## Page 108410 on en (trashed=1):"
      ],
      "text/plain": [
       "<IPython.core.display.Markdown object>"
      ]
     },
     "metadata": {},
     "output_type": "display_data"
    },
    {
     "name": "stdout",
     "output_type": "stream",
     "text": [
      "null\n"
     ]
    },
    {
     "data": {
      "text/markdown": [
       "## Page 108411 on en (trashed=1):"
      ],
      "text/plain": [
       "<IPython.core.display.Markdown object>"
      ]
     },
     "metadata": {},
     "output_type": "display_data"
    },
    {
     "name": "stdout",
     "output_type": "stream",
     "text": [
      "null\n"
     ]
    },
    {
     "data": {
      "text/markdown": [
       "## Page 108718 on en (trashed=1):"
      ],
      "text/plain": [
       "<IPython.core.display.Markdown object>"
      ]
     },
     "metadata": {},
     "output_type": "display_data"
    },
    {
     "name": "stdout",
     "output_type": "stream",
     "text": [
      "null\n"
     ]
    },
    {
     "data": {
      "text/markdown": [
       "## Page 110340 on en (trashed=1):"
      ],
      "text/plain": [
       "<IPython.core.display.Markdown object>"
      ]
     },
     "metadata": {},
     "output_type": "display_data"
    },
    {
     "name": "stdout",
     "output_type": "stream",
     "text": [
      "null\n"
     ]
    },
    {
     "data": {
      "text/markdown": [
       "## Page 110341 on en (trashed=1):"
      ],
      "text/plain": [
       "<IPython.core.display.Markdown object>"
      ]
     },
     "metadata": {},
     "output_type": "display_data"
    },
    {
     "name": "stdout",
     "output_type": "stream",
     "text": [
      "null\n"
     ]
    },
    {
     "data": {
      "text/markdown": [
       "## Page 164232 on es (trashed=1):"
      ],
      "text/plain": [
       "<IPython.core.display.Markdown object>"
      ]
     },
     "metadata": {},
     "output_type": "display_data"
    },
    {
     "name": "stdout",
     "output_type": "stream",
     "text": [
      "null\n"
     ]
    },
    {
     "data": {
      "text/markdown": [
       "## Page 181370 on es (trashed=1):"
      ],
      "text/plain": [
       "<IPython.core.display.Markdown object>"
      ]
     },
     "metadata": {},
     "output_type": "display_data"
    },
    {
     "name": "stdout",
     "output_type": "stream",
     "text": [
      "null\n"
     ]
    },
    {
     "data": {
      "text/markdown": [
       "## Page 181378 on es (trashed=1):"
      ],
      "text/plain": [
       "<IPython.core.display.Markdown object>"
      ]
     },
     "metadata": {},
     "output_type": "display_data"
    },
    {
     "name": "stdout",
     "output_type": "stream",
     "text": [
      "null\n"
     ]
    },
    {
     "data": {
      "text/markdown": [
       "## Page 112522 on hi (trashed=1):"
      ],
      "text/plain": [
       "<IPython.core.display.Markdown object>"
      ]
     },
     "metadata": {},
     "output_type": "display_data"
    },
    {
     "name": "stdout",
     "output_type": "stream",
     "text": [
      "null\n"
     ]
    },
    {
     "data": {
      "text/markdown": [
       "## Page 197280 on hi (trashed=1):"
      ],
      "text/plain": [
       "<IPython.core.display.Markdown object>"
      ]
     },
     "metadata": {},
     "output_type": "display_data"
    },
    {
     "name": "stdout",
     "output_type": "stream",
     "text": [
      "null\n"
     ]
    },
    {
     "data": {
      "text/markdown": [
       "## Page 201595 on hi (trashed=1):"
      ],
      "text/plain": [
       "<IPython.core.display.Markdown object>"
      ]
     },
     "metadata": {},
     "output_type": "display_data"
    },
    {
     "name": "stdout",
     "output_type": "stream",
     "text": [
      "null\n"
     ]
    },
    {
     "data": {
      "text/markdown": [
       "## Page 140515 on ta (trashed=1):"
      ],
      "text/plain": [
       "<IPython.core.display.Markdown object>"
      ]
     },
     "metadata": {},
     "output_type": "display_data"
    },
    {
     "name": "stdout",
     "output_type": "stream",
     "text": [
      "null\n"
     ]
    },
    {
     "data": {
      "text/markdown": [
       "## Page 140519 on ta (trashed=1):"
      ],
      "text/plain": [
       "<IPython.core.display.Markdown object>"
      ]
     },
     "metadata": {},
     "output_type": "display_data"
    },
    {
     "name": "stdout",
     "output_type": "stream",
     "text": [
      "null\n"
     ]
    },
    {
     "data": {
      "text/markdown": [
       "## Page 140561 on ta (trashed=1):"
      ],
      "text/plain": [
       "<IPython.core.display.Markdown object>"
      ]
     },
     "metadata": {},
     "output_type": "display_data"
    },
    {
     "name": "stdout",
     "output_type": "stream",
     "text": [
      "null\n"
     ]
    },
    {
     "data": {
      "text/markdown": [
       "## Page 140563 on ta (trashed=1):"
      ],
      "text/plain": [
       "<IPython.core.display.Markdown object>"
      ]
     },
     "metadata": {},
     "output_type": "display_data"
    },
    {
     "name": "stdout",
     "output_type": "stream",
     "text": [
      "null\n"
     ]
    },
    {
     "data": {
      "text/markdown": [
       "## Page 140565 on ta (trashed=1):"
      ],
      "text/plain": [
       "<IPython.core.display.Markdown object>"
      ]
     },
     "metadata": {},
     "output_type": "display_data"
    },
    {
     "name": "stdout",
     "output_type": "stream",
     "text": [
      "null\n"
     ]
    },
    {
     "data": {
      "text/markdown": [
       "## Page 140567 on ta (trashed=1):"
      ],
      "text/plain": [
       "<IPython.core.display.Markdown object>"
      ]
     },
     "metadata": {},
     "output_type": "display_data"
    },
    {
     "name": "stdout",
     "output_type": "stream",
     "text": [
      "null\n"
     ]
    },
    {
     "data": {
      "text/markdown": [
       "## Page 140569 on ta (trashed=1):"
      ],
      "text/plain": [
       "<IPython.core.display.Markdown object>"
      ]
     },
     "metadata": {},
     "output_type": "display_data"
    },
    {
     "name": "stdout",
     "output_type": "stream",
     "text": [
      "null\n"
     ]
    },
    {
     "data": {
      "text/markdown": [
       "## Page 140645 on ta (trashed=1):"
      ],
      "text/plain": [
       "<IPython.core.display.Markdown object>"
      ]
     },
     "metadata": {},
     "output_type": "display_data"
    },
    {
     "name": "stdout",
     "output_type": "stream",
     "text": [
      "null\n"
     ]
    },
    {
     "data": {
      "text/markdown": [
       "## Page 140818 on ta (trashed=1):"
      ],
      "text/plain": [
       "<IPython.core.display.Markdown object>"
      ]
     },
     "metadata": {},
     "output_type": "display_data"
    },
    {
     "name": "stdout",
     "output_type": "stream",
     "text": [
      "null\n"
     ]
    },
    {
     "data": {
      "text/markdown": [
       "## Page 140859 on ta (trashed=1):"
      ],
      "text/plain": [
       "<IPython.core.display.Markdown object>"
      ]
     },
     "metadata": {},
     "output_type": "display_data"
    },
    {
     "name": "stdout",
     "output_type": "stream",
     "text": [
      "null\n"
     ]
    },
    {
     "data": {
      "text/markdown": [
       "## Page 141123 on ta (trashed=1):"
      ],
      "text/plain": [
       "<IPython.core.display.Markdown object>"
      ]
     },
     "metadata": {},
     "output_type": "display_data"
    },
    {
     "name": "stdout",
     "output_type": "stream",
     "text": [
      "null\n"
     ]
    },
    {
     "data": {
      "text/markdown": [
       "## Page 141124 on ta (trashed=1):"
      ],
      "text/plain": [
       "<IPython.core.display.Markdown object>"
      ]
     },
     "metadata": {},
     "output_type": "display_data"
    },
    {
     "name": "stdout",
     "output_type": "stream",
     "text": [
      "null\n"
     ]
    },
    {
     "data": {
      "text/markdown": [
       "## Page 149156 on ta (trashed=1):"
      ],
      "text/plain": [
       "<IPython.core.display.Markdown object>"
      ]
     },
     "metadata": {},
     "output_type": "display_data"
    },
    {
     "name": "stdout",
     "output_type": "stream",
     "text": [
      "null\n"
     ]
    },
    {
     "data": {
      "text/markdown": [
       "## Page 149154 on fr (trashed=1):"
      ],
      "text/plain": [
       "<IPython.core.display.Markdown object>"
      ]
     },
     "metadata": {},
     "output_type": "display_data"
    },
    {
     "name": "stdout",
     "output_type": "stream",
     "text": [
      "null\n"
     ]
    }
   ],
   "source": [
    "display(Markdown(\"# Trashed pages\"))\n",
    "\n",
    "for (page_id, instance, trashed) in page_ids:\n",
    "    if trashed:\n",
    "        display(Markdown(f\"## Page {page_id} on {instance} (trashed={trashed}):\"))\n",
    "        print_json(navigation_of_page(page_id))"
   ]
  },
  {
   "cell_type": "code",
   "execution_count": 31,
   "id": "authorized-burden",
   "metadata": {},
   "outputs": [
    {
     "data": {
      "text/plain": [
       "[(5, 'Mathe', 'de'),\n",
       " (8, 'Blog', 'de'),\n",
       " (15465, 'Mathematik Forum', 'de'),\n",
       " (17744, 'Nachhaltigkeit', 'de'),\n",
       " (17746, 'Permakultur Forum', 'de')]"
      ]
     },
     "execution_count": 31,
     "metadata": {},
     "output_type": "execute_result"
    }
   ],
   "source": [
    "taxonomy_terms = query(\"\"\"\n",
    "    select\n",
    "        subject.id, term.name, instance.subdomain\n",
    "    from term_taxonomy as subject\n",
    "        join term_taxonomy as root on root.id = subject.parent_id\n",
    "        join term on term.id = subject.term_id\n",
    "        join instance on term.instance_id = instance.id\n",
    "    where root.parent_id is null;\n",
    "\"\"\")\n",
    "taxonomy_terms[0:5]"
   ]
  },
  {
   "cell_type": "code",
   "execution_count": 32,
   "id": "acting-position",
   "metadata": {},
   "outputs": [
    {
     "name": "stdout",
     "output_type": "stream",
     "text": [
      "{\n",
      "  \"label\": \"Mathematik\",\n",
      "  \"id\": 19767,\n",
      "  \"children\": [\n",
      "    {\n",
      "      \"label\": \"Alle Themen\",\n",
      "      \"id\": 5\n",
      "    },\n",
      "    {\n",
      "      \"label\": \"Gymnasium\",\n",
      "      \"id\": 16042\n",
      "    },\n",
      "    {\n",
      "      \"label\": \"Realschule\",\n",
      "      \"id\": 16157\n",
      "    },\n",
      "    {\n",
      "      \"label\": \"Mittelschule (Hauptschule)\",\n",
      "      \"id\": 16259\n",
      "    },\n",
      "    {\n",
      "      \"label\": \"FOS & BOS\",\n",
      "      \"id\": 201593\n",
      "    },\n",
      "    {\n",
      "      \"label\": \"Hochschule\",\n",
      "      \"id\": 44323\n",
      "    },\n",
      "    {\n",
      "      \"label\": \"Pr\\u00fcfungen\",\n",
      "      \"id\": 83249\n",
      "    },\n",
      "    {\n",
      "      \"label\": \"Inhalte bearbeiten und neue Inhalte hinzuf\\u00fcgen\",\n",
      "      \"id\": 19880\n",
      "    },\n",
      "    {\n",
      "      \"label\": \"Chat f\\u00fcr Mathe-AutorInnen\",\n",
      "      \"url\": \"https://community.serlo.org/channel/mathe\"\n",
      "    }\n",
      "  ]\n",
      "}\n"
     ]
    }
   ],
   "source": [
    "def taxonomy_nav(taxonomy_term_id):\n",
    "    uuid = api_call(\"\"\"\n",
    "        query($id: Int) {\n",
    "            uuid(id: $id) {\n",
    "                ... on TaxonomyTerm {\n",
    "                    navigation {\n",
    "                        data\n",
    "                    }\n",
    "                }\n",
    "            }\n",
    "        }\n",
    "    \"\"\", { \"id\": taxonomy_term_id})[\"uuid\"]\n",
    "    \n",
    "    return get(get(uuid, \"navigation\"), \"data\")\n",
    "\n",
    "print_json(taxonomy_nav(5))"
   ]
  },
  {
   "cell_type": "markdown",
   "id": "thirty-holmes",
   "metadata": {},
   "source": [
    "# Navigation of TaxonomyTerms"
   ]
  },
  {
   "cell_type": "code",
   "execution_count": 33,
   "id": "recognized-twins",
   "metadata": {
    "scrolled": false
   },
   "outputs": [
    {
     "data": {
      "text/markdown": [
       "## Taxonomy 'de:Mathe' with id 5"
      ],
      "text/plain": [
       "<IPython.core.display.Markdown object>"
      ]
     },
     "metadata": {},
     "output_type": "display_data"
    },
    {
     "name": "stdout",
     "output_type": "stream",
     "text": [
      "{\n",
      "  \"label\": \"Mathematik\",\n",
      "  \"id\": 19767,\n",
      "  \"children\": [\n",
      "    {\n",
      "      \"label\": \"Alle Themen\",\n",
      "      \"id\": 5\n",
      "    },\n",
      "    {\n",
      "      \"label\": \"Gymnasium\",\n",
      "      \"id\": 16042\n",
      "    },\n",
      "    {\n",
      "      \"label\": \"Realschule\",\n",
      "      \"id\": 16157\n",
      "    },\n",
      "    {\n",
      "      \"label\": \"Mittelschule (Hauptschule)\",\n",
      "      \"id\": 16259\n",
      "    },\n",
      "    {\n",
      "      \"label\": \"FOS & BOS\",\n",
      "      \"id\": 201593\n",
      "    },\n",
      "    {\n",
      "      \"label\": \"Hochschule\",\n",
      "      \"id\": 44323\n",
      "    },\n",
      "    {\n",
      "      \"label\": \"Pr\\u00fcfungen\",\n",
      "      \"id\": 83249\n",
      "    },\n",
      "    {\n",
      "      \"label\": \"Inhalte bearbeiten und neue Inhalte hinzuf\\u00fcgen\",\n",
      "      \"id\": 19880\n",
      "    },\n",
      "    {\n",
      "      \"label\": \"Chat f\\u00fcr Mathe-AutorInnen\",\n",
      "      \"url\": \"https://community.serlo.org/channel/mathe\"\n",
      "    }\n",
      "  ]\n",
      "}\n"
     ]
    },
    {
     "data": {
      "text/markdown": [
       "## Taxonomy 'de:Blog' with id 8"
      ],
      "text/plain": [
       "<IPython.core.display.Markdown object>"
      ]
     },
     "metadata": {},
     "output_type": "display_data"
    },
    {
     "name": "stdout",
     "output_type": "stream",
     "text": [
      "null\n"
     ]
    },
    {
     "data": {
      "text/markdown": [
       "## Taxonomy 'de:Mathematik Forum' with id 15465"
      ],
      "text/plain": [
       "<IPython.core.display.Markdown object>"
      ]
     },
     "metadata": {},
     "output_type": "display_data"
    },
    {
     "name": "stdout",
     "output_type": "stream",
     "text": [
      "null\n"
     ]
    },
    {
     "data": {
      "text/markdown": [
       "## Taxonomy 'de:Nachhaltigkeit' with id 17744"
      ],
      "text/plain": [
       "<IPython.core.display.Markdown object>"
      ]
     },
     "metadata": {},
     "output_type": "display_data"
    },
    {
     "name": "stdout",
     "output_type": "stream",
     "text": [
      "{\n",
      "  \"label\": \"Angewandte Nachhaltigkeit\",\n",
      "  \"id\": 58771,\n",
      "  \"children\": [\n",
      "    {\n",
      "      \"label\": \"Alle Themen\",\n",
      "      \"id\": 17744\n",
      "    },\n",
      "    {\n",
      "      \"label\": \"Bei Serlo-Nachhaltigkeit mitmachen\",\n",
      "      \"id\": 25294\n",
      "    },\n",
      "    {\n",
      "      \"label\": \"Chat f\\u00fcr Nachhaltigkeits-AutorInnen\",\n",
      "      \"url\": \"https://community.serlo.org/channel/nachhaltigkeit\"\n",
      "    }\n",
      "  ]\n",
      "}\n"
     ]
    },
    {
     "data": {
      "text/markdown": [
       "## Taxonomy 'de:Permakultur Forum' with id 17746"
      ],
      "text/plain": [
       "<IPython.core.display.Markdown object>"
      ]
     },
     "metadata": {},
     "output_type": "display_data"
    },
    {
     "name": "stdout",
     "output_type": "stream",
     "text": [
      "null\n"
     ]
    },
    {
     "data": {
      "text/markdown": [
       "## Taxonomy 'de:Chemie' with id 18230"
      ],
      "text/plain": [
       "<IPython.core.display.Markdown object>"
      ]
     },
     "metadata": {},
     "output_type": "display_data"
    },
    {
     "name": "stdout",
     "output_type": "stream",
     "text": [
      "{\n",
      "  \"label\": \"Chemie\",\n",
      "  \"id\": 24706,\n",
      "  \"children\": [\n",
      "    {\n",
      "      \"label\": \"Themen\",\n",
      "      \"id\": 18230\n",
      "    },\n",
      "    {\n",
      "      \"label\": \"Bei Serlo-Chemie mitarbeiten\",\n",
      "      \"id\": 26633\n",
      "    }\n",
      "  ]\n",
      "}\n"
     ]
    },
    {
     "data": {
      "text/markdown": [
       "## Taxonomy 'de:Chemie Forum' with id 18234"
      ],
      "text/plain": [
       "<IPython.core.display.Markdown object>"
      ]
     },
     "metadata": {},
     "output_type": "display_data"
    },
    {
     "name": "stdout",
     "output_type": "stream",
     "text": [
      "null\n"
     ]
    },
    {
     "data": {
      "text/markdown": [
       "## Taxonomy 'de:Nutzerprofile, Hilfe, Community und Allgemeines' with id 20605"
      ],
      "text/plain": [
       "<IPython.core.display.Markdown object>"
      ]
     },
     "metadata": {},
     "output_type": "display_data"
    },
    {
     "name": "stdout",
     "output_type": "stream",
     "text": [
      "null\n"
     ]
    },
    {
     "data": {
      "text/markdown": [
       "## Taxonomy 'de:Communityseiten - faecheruebergreifend' with id 20769"
      ],
      "text/plain": [
       "<IPython.core.display.Markdown object>"
      ]
     },
     "metadata": {},
     "output_type": "display_data"
    },
    {
     "name": "stdout",
     "output_type": "stream",
     "text": [
      "null\n"
     ]
    },
    {
     "data": {
      "text/markdown": [
       "## Taxonomy 'de:Biologie' with id 23362"
      ],
      "text/plain": [
       "<IPython.core.display.Markdown object>"
      ]
     },
     "metadata": {},
     "output_type": "display_data"
    },
    {
     "name": "stdout",
     "output_type": "stream",
     "text": [
      "{\n",
      "  \"label\": \"Biologie\",\n",
      "  \"id\": 23950,\n",
      "  \"children\": [\n",
      "    {\n",
      "      \"label\": \"Themen\",\n",
      "      \"id\": 23362\n",
      "    },\n",
      "    {\n",
      "      \"label\": \"Bei Serlo-Biologie mitarbeiten\",\n",
      "      \"id\": 25017\n",
      "    }\n",
      "  ]\n",
      "}\n"
     ]
    },
    {
     "data": {
      "text/markdown": [
       "## Taxonomy 'de:Biologie Forum' with id 23382"
      ],
      "text/plain": [
       "<IPython.core.display.Markdown object>"
      ]
     },
     "metadata": {},
     "output_type": "display_data"
    },
    {
     "name": "stdout",
     "output_type": "stream",
     "text": [
      "null\n"
     ]
    },
    {
     "data": {
      "text/markdown": [
       "## Taxonomy 'de:Mathematik Forum - test' with id 23778"
      ],
      "text/plain": [
       "<IPython.core.display.Markdown object>"
      ]
     },
     "metadata": {},
     "output_type": "display_data"
    },
    {
     "name": "stdout",
     "output_type": "stream",
     "text": [
      "null\n"
     ]
    },
    {
     "data": {
      "text/markdown": [
       "## Taxonomy 'de:dev:blog' with id 24798"
      ],
      "text/plain": [
       "<IPython.core.display.Markdown object>"
      ]
     },
     "metadata": {},
     "output_type": "display_data"
    },
    {
     "name": "stdout",
     "output_type": "stream",
     "text": [
      "null\n"
     ]
    },
    {
     "data": {
      "text/markdown": [
       "## Taxonomy 'de:Mathematik Blog' with id 25078"
      ],
      "text/plain": [
       "<IPython.core.display.Markdown object>"
      ]
     },
     "metadata": {},
     "output_type": "display_data"
    },
    {
     "name": "stdout",
     "output_type": "stream",
     "text": [
      "null\n"
     ]
    },
    {
     "data": {
      "text/markdown": [
       "## Taxonomy 'de:Deutsch als Fremdsprache' with id 25712"
      ],
      "text/plain": [
       "<IPython.core.display.Markdown object>"
      ]
     },
     "metadata": {},
     "output_type": "display_data"
    },
    {
     "name": "stdout",
     "output_type": "stream",
     "text": [
      "null\n"
     ]
    },
    {
     "data": {
      "text/markdown": [
       "## Taxonomy 'de:Englisch' with id 25979"
      ],
      "text/plain": [
       "<IPython.core.display.Markdown object>"
      ]
     },
     "metadata": {},
     "output_type": "display_data"
    },
    {
     "name": "stdout",
     "output_type": "stream",
     "text": [
      "{\n",
      "  \"label\": \"Englisch\",\n",
      "  \"id\": 25985,\n",
      "  \"children\": [\n",
      "    {\n",
      "      \"label\": \"Themen\",\n",
      "      \"id\": 25979\n",
      "    },\n",
      "    {\n",
      "      \"label\": \"Bei Serlo-Englisch mitarbeiten\",\n",
      "      \"children\": [\n",
      "        {\n",
      "          \"label\": \"Neu hier?\",\n",
      "          \"id\": 26874\n",
      "        },\n",
      "        {\n",
      "          \"label\": \"Taxonomy bearbeiten\",\n",
      "          \"url\": \"/taxonomy/term/organize/25979\"\n",
      "        }\n",
      "      ]\n",
      "    }\n",
      "  ]\n",
      "}\n"
     ]
    },
    {
     "data": {
      "text/markdown": [
       "## Taxonomy 'de:Betriebswirtschaftslehre mit Rechnungswesen' with id 26523"
      ],
      "text/plain": [
       "<IPython.core.display.Markdown object>"
      ]
     },
     "metadata": {},
     "output_type": "display_data"
    },
    {
     "name": "stdout",
     "output_type": "stream",
     "text": [
      "null\n"
     ]
    },
    {
     "data": {
      "text/markdown": [
       "## Taxonomy 'de:Englisch Forum' with id 26876"
      ],
      "text/plain": [
       "<IPython.core.display.Markdown object>"
      ]
     },
     "metadata": {},
     "output_type": "display_data"
    },
    {
     "name": "stdout",
     "output_type": "stream",
     "text": [
      "null\n"
     ]
    },
    {
     "data": {
      "text/markdown": [
       "## Taxonomy 'de:Deutsch als Fremdsprache Forum' with id 26882"
      ],
      "text/plain": [
       "<IPython.core.display.Markdown object>"
      ]
     },
     "metadata": {},
     "output_type": "display_data"
    },
    {
     "name": "stdout",
     "output_type": "stream",
     "text": [
      "null\n"
     ]
    },
    {
     "data": {
      "text/markdown": [
       "## Taxonomy 'de:Latein' with id 33894"
      ],
      "text/plain": [
       "<IPython.core.display.Markdown object>"
      ]
     },
     "metadata": {},
     "output_type": "display_data"
    },
    {
     "name": "stdout",
     "output_type": "stream",
     "text": [
      "null\n"
     ]
    },
    {
     "data": {
      "text/markdown": [
       "## Taxonomy 'de:Physik Forum' with id 41115"
      ],
      "text/plain": [
       "<IPython.core.display.Markdown object>"
      ]
     },
     "metadata": {},
     "output_type": "display_data"
    },
    {
     "name": "stdout",
     "output_type": "stream",
     "text": [
      "null\n"
     ]
    },
    {
     "data": {
      "text/markdown": [
       "## Taxonomy 'de:Informatik' with id 47899"
      ],
      "text/plain": [
       "<IPython.core.display.Markdown object>"
      ]
     },
     "metadata": {},
     "output_type": "display_data"
    },
    {
     "name": "stdout",
     "output_type": "stream",
     "text": [
      "{\n",
      "  \"label\": \"Informatik\",\n",
      "  \"id\": 48492,\n",
      "  \"children\": [\n",
      "    {\n",
      "      \"label\": \"Alle Themen\",\n",
      "      \"id\": 47899\n",
      "    },\n",
      "    {\n",
      "      \"label\": \"Programmieren lernen\",\n",
      "      \"id\": 75274\n",
      "    },\n",
      "    {\n",
      "      \"label\": \"Gymnasium\",\n",
      "      \"id\": 60396\n",
      "    },\n",
      "    {\n",
      "      \"label\": \"Bei Serlo-Informatik mitarbeiten\",\n",
      "      \"id\": 49982\n",
      "    }\n",
      "  ]\n",
      "}\n"
     ]
    },
    {
     "data": {
      "text/markdown": [
       "## Taxonomy 'de:Musik' with id 59918"
      ],
      "text/plain": [
       "<IPython.core.display.Markdown object>"
      ]
     },
     "metadata": {},
     "output_type": "display_data"
    },
    {
     "name": "stdout",
     "output_type": "stream",
     "text": [
      "null\n"
     ]
    },
    {
     "data": {
      "text/markdown": [
       "## Taxonomy 'de:Politik' with id 79159"
      ],
      "text/plain": [
       "<IPython.core.display.Markdown object>"
      ]
     },
     "metadata": {},
     "output_type": "display_data"
    },
    {
     "name": "stdout",
     "output_type": "stream",
     "text": [
      "{\n",
      "  \"label\": \"Politik\",\n",
      "  \"id\": 79157,\n",
      "  \"children\": [\n",
      "    {\n",
      "      \"label\": \"Alle Themen\",\n",
      "      \"id\": 79159\n",
      "    }\n",
      "  ]\n",
      "}\n"
     ]
    },
    {
     "data": {
      "text/markdown": [
       "## Taxonomy 'de:Community' with id 87993"
      ],
      "text/plain": [
       "<IPython.core.display.Markdown object>"
      ]
     },
     "metadata": {},
     "output_type": "display_data"
    },
    {
     "name": "stdout",
     "output_type": "stream",
     "text": [
      "{\n",
      "  \"label\": \"Community\",\n",
      "  \"id\": 19882,\n",
      "  \"children\": [\n",
      "    {\n",
      "      \"label\": \"Hilfeseiten\",\n",
      "      \"id\": 88059\n",
      "    },\n",
      "    {\n",
      "      \"label\": \"Werte und Entscheidungen\",\n",
      "      \"id\": 181028\n",
      "    },\n",
      "    {\n",
      "      \"label\": \"Sandkasten f\\u00fcr AutorInnen\",\n",
      "      \"id\": 106082\n",
      "    },\n",
      "    {\n",
      "      \"label\": \"Ressourcen f\\u00fcr P\\u00e4dagogInnen\",\n",
      "      \"id\": 88061\n",
      "    },\n",
      "    {\n",
      "      \"label\": \"Veranstaltungen f\\u00fcr AutorInnen\",\n",
      "      \"id\": 145470\n",
      "    },\n",
      "    {\n",
      "      \"label\": \"Alle Aktivit\\u00e4ten auf serlo.org\",\n",
      "      \"url\": \"/event/history\"\n",
      "    },\n",
      "    {\n",
      "      \"label\": \"\\u00dcbersicht aller Kommentare\",\n",
      "      \"url\": \"/discussions\"\n",
      "    },\n",
      "    {\n",
      "      \"label\": \"Ungepr\\u00fcfte Bearbeitungen\",\n",
      "      \"url\": \"/entity/unrevised\"\n",
      "    },\n",
      "    {\n",
      "      \"label\": \"Community \\u00dcbersicht\",\n",
      "      \"id\": 87993\n",
      "    }\n",
      "  ]\n",
      "}\n"
     ]
    },
    {
     "data": {
      "text/markdown": [
       "## Taxonomy 'de:Testbereich' with id 93176"
      ],
      "text/plain": [
       "<IPython.core.display.Markdown object>"
      ]
     },
     "metadata": {},
     "output_type": "display_data"
    },
    {
     "name": "stdout",
     "output_type": "stream",
     "text": [
      "null\n"
     ]
    },
    {
     "data": {
      "text/markdown": [
       "## Taxonomy 'de:Lerntipps' with id 181883"
      ],
      "text/plain": [
       "<IPython.core.display.Markdown object>"
      ]
     },
     "metadata": {},
     "output_type": "display_data"
    },
    {
     "name": "stdout",
     "output_type": "stream",
     "text": [
      "{\n",
      "  \"label\": \"Lerntipps\",\n",
      "  \"id\": 182154,\n",
      "  \"children\": [\n",
      "    {\n",
      "      \"label\": \"Alle Themen\",\n",
      "      \"id\": 181883\n",
      "    },\n",
      "    {\n",
      "      \"label\": \"Bei Serlo-Lerntipps mitarbeiten\",\n",
      "      \"id\": 242472\n",
      "    }\n",
      "  ]\n",
      "}\n"
     ]
    },
    {
     "data": {
      "text/markdown": [
       "## Taxonomy 'en:Math' with id 23593"
      ],
      "text/plain": [
       "<IPython.core.display.Markdown object>"
      ]
     },
     "metadata": {},
     "output_type": "display_data"
    },
    {
     "name": "stdout",
     "output_type": "stream",
     "text": [
      "{\n",
      "  \"label\": \"Math\",\n",
      "  \"id\": 23591,\n",
      "  \"children\": [\n",
      "    {\n",
      "      \"label\": \"Topics\",\n",
      "      \"id\": 23593\n",
      "    },\n",
      "    {\n",
      "      \"label\": \"Contribute to Serlo-Math\",\n",
      "      \"children\": [\n",
      "        {\n",
      "          \"label\": \"New here?\",\n",
      "          \"id\": 49386\n",
      "        },\n",
      "        {\n",
      "          \"label\": \"Guidelines\",\n",
      "          \"id\": 48345\n",
      "        },\n",
      "        {\n",
      "          \"label\": \"Edit Taxonomy\",\n",
      "          \"url\": \"/taxonomy/term/organize/23593\"\n",
      "        }\n",
      "      ]\n",
      "    }\n",
      "  ]\n",
      "}\n"
     ]
    },
    {
     "data": {
      "text/markdown": [
       "## Taxonomy 'en:Music' with id 48415"
      ],
      "text/plain": [
       "<IPython.core.display.Markdown object>"
      ]
     },
     "metadata": {},
     "output_type": "display_data"
    },
    {
     "name": "stdout",
     "output_type": "stream",
     "text": [
      "{\n",
      "  \"label\": \"Music\",\n",
      "  \"id\": 48404,\n",
      "  \"children\": [\n",
      "    {\n",
      "      \"label\": \"Topics\",\n",
      "      \"id\": 48415\n",
      "    }\n",
      "  ]\n",
      "}\n"
     ]
    },
    {
     "data": {
      "text/markdown": [
       "## Taxonomy 'en:Sustainability' with id 48416"
      ],
      "text/plain": [
       "<IPython.core.display.Markdown object>"
      ]
     },
     "metadata": {},
     "output_type": "display_data"
    },
    {
     "name": "stdout",
     "output_type": "stream",
     "text": [
      "null\n"
     ]
    },
    {
     "data": {
      "text/markdown": [
       "## Taxonomy 'en:Community' with id 48537"
      ],
      "text/plain": [
       "<IPython.core.display.Markdown object>"
      ]
     },
     "metadata": {},
     "output_type": "display_data"
    },
    {
     "name": "stdout",
     "output_type": "stream",
     "text": [
      "{\n",
      "  \"label\": \"Community\",\n",
      "  \"id\": 35587,\n",
      "  \"children\": [\n",
      "    {\n",
      "      \"label\": \"Help for Editors\",\n",
      "      \"id\": 84500\n",
      "    },\n",
      "    {\n",
      "      \"label\": \"New Subjects and Topics\",\n",
      "      \"id\": 106103\n",
      "    },\n",
      "    {\n",
      "      \"label\": \"Sandbox for Authors\",\n",
      "      \"id\": 106102\n",
      "    },\n",
      "    {\n",
      "      \"label\": \"All Activities on Serlo\",\n",
      "      \"url\": \"/event/history\"\n",
      "    },\n",
      "    {\n",
      "      \"label\": \"All Discussions\",\n",
      "      \"url\": \"/discussions\"\n",
      "    },\n",
      "    {\n",
      "      \"label\": \"Start new Serlo teams\",\n",
      "      \"id\": 48538\n",
      "    },\n",
      "    {\n",
      "      \"label\": \"Community Values\",\n",
      "      \"id\": 48210\n",
      "    },\n",
      "    {\n",
      "      \"label\": \"Community Overview\",\n",
      "      \"id\": 48537\n",
      "    }\n",
      "  ]\n",
      "}\n"
     ]
    },
    {
     "data": {
      "text/markdown": [
       "## Taxonomy 'en:Test' with id 48703"
      ],
      "text/plain": [
       "<IPython.core.display.Markdown object>"
      ]
     },
     "metadata": {},
     "output_type": "display_data"
    },
    {
     "name": "stdout",
     "output_type": "stream",
     "text": [
      "null\n"
     ]
    },
    {
     "data": {
      "text/markdown": [
       "## Taxonomy 'en:Sex Education' with id 78339"
      ],
      "text/plain": [
       "<IPython.core.display.Markdown object>"
      ]
     },
     "metadata": {},
     "output_type": "display_data"
    },
    {
     "name": "stdout",
     "output_type": "stream",
     "text": [
      "{\n",
      "  \"label\": \"Sex Education\",\n",
      "  \"id\": 78337,\n",
      "  \"children\": [\n",
      "    {\n",
      "      \"label\": \"Topics\",\n",
      "      \"id\": 78339\n",
      "    }\n",
      "  ]\n",
      "}\n"
     ]
    },
    {
     "data": {
      "text/markdown": [
       "## Taxonomy 'en:test area' with id 93277"
      ],
      "text/plain": [
       "<IPython.core.display.Markdown object>"
      ]
     },
     "metadata": {},
     "output_type": "display_data"
    },
    {
     "name": "stdout",
     "output_type": "stream",
     "text": [
      "{\n",
      "  \"label\": \"test area\",\n",
      "  \"id\": 91062,\n",
      "  \"children\": [\n",
      "    {\n",
      "      \"label\": \"Overview\",\n",
      "      \"id\": 93277\n",
      "    },\n",
      "    {\n",
      "      \"label\": \"Unreviewed Edits\",\n",
      "      \"url\": \"/test%20area/entity/trash-bin\"\n",
      "    }\n",
      "  ]\n",
      "}\n"
     ]
    },
    {
     "data": {
      "text/markdown": [
       "## Taxonomy 'ta:Community' with id 140526"
      ],
      "text/plain": [
       "<IPython.core.display.Markdown object>"
      ]
     },
     "metadata": {},
     "output_type": "display_data"
    },
    {
     "name": "stdout",
     "output_type": "stream",
     "text": [
      "null\n"
     ]
    },
    {
     "data": {
      "text/markdown": [
       "## Taxonomy 'ta:à®‡à®²à®•à¯à®•à®£à®®à¯' with id 140527"
      ],
      "text/plain": [
       "<IPython.core.display.Markdown object>"
      ]
     },
     "metadata": {},
     "output_type": "display_data"
    },
    {
     "name": "stdout",
     "output_type": "stream",
     "text": [
      "{\n",
      "  \"label\": \"\\u0b87\\u0bb2\\u0b95\\u0bcd\\u0b95\\u0ba3\\u0bae\\u0bcd\",\n",
      "  \"id\": 140522,\n",
      "  \"children\": [\n",
      "    {\n",
      "      \"label\": \"\\u0baa\\u0bbe\\u0b9f\\u0b99\\u0bcd\\u0b95\\u0bb3\\u0bcd\",\n",
      "      \"id\": 140527\n",
      "    }\n",
      "  ]\n",
      "}\n"
     ]
    },
    {
     "data": {
      "text/markdown": [
       "## Taxonomy 'ta:à®µà®°à®²à®¾à®±à¯' with id 140528"
      ],
      "text/plain": [
       "<IPython.core.display.Markdown object>"
      ]
     },
     "metadata": {},
     "output_type": "display_data"
    },
    {
     "name": "stdout",
     "output_type": "stream",
     "text": [
      "null\n"
     ]
    },
    {
     "data": {
      "text/markdown": [
       "## Taxonomy 'ta:à®…à®•à®°à®¾à®¤à®¿' with id 148669"
      ],
      "text/plain": [
       "<IPython.core.display.Markdown object>"
      ]
     },
     "metadata": {},
     "output_type": "display_data"
    },
    {
     "name": "stdout",
     "output_type": "stream",
     "text": [
      "null\n"
     ]
    },
    {
     "data": {
      "text/markdown": [
       "## Taxonomy 'es:Community' with id 164234"
      ],
      "text/plain": [
       "<IPython.core.display.Markdown object>"
      ]
     },
     "metadata": {},
     "output_type": "display_data"
    },
    {
     "name": "stdout",
     "output_type": "stream",
     "text": [
      "null\n"
     ]
    },
    {
     "data": {
      "text/markdown": [
       "## Taxonomy 'es:Forum category ensayo' with id 166741"
      ],
      "text/plain": [
       "<IPython.core.display.Markdown object>"
      ]
     },
     "metadata": {},
     "output_type": "display_data"
    },
    {
     "name": "stdout",
     "output_type": "stream",
     "text": [
      "null\n"
     ]
    },
    {
     "data": {
      "text/markdown": [
       "## Taxonomy 'es:Blog ensayo' with id 166742"
      ],
      "text/plain": [
       "<IPython.core.display.Markdown object>"
      ]
     },
     "metadata": {},
     "output_type": "display_data"
    },
    {
     "name": "stdout",
     "output_type": "stream",
     "text": [
      "null\n"
     ]
    },
    {
     "data": {
      "text/markdown": [
       "## Taxonomy 'es:MatemÃ¡ticas' with id 169580"
      ],
      "text/plain": [
       "<IPython.core.display.Markdown object>"
      ]
     },
     "metadata": {},
     "output_type": "display_data"
    },
    {
     "name": "stdout",
     "output_type": "stream",
     "text": [
      "{\n",
      "  \"label\": \"Matem\\u00e1ticas\",\n",
      "  \"id\": 169578,\n",
      "  \"children\": [\n",
      "    {\n",
      "      \"label\": \"Todos los temas\",\n",
      "      \"id\": 169580\n",
      "    },\n",
      "    {\n",
      "      \"label\": \" \\u00bfEres nuevo aqu\\u00ed?\",\n",
      "      \"id\": 180775\n",
      "    }\n",
      "  ]\n",
      "}\n"
     ]
    },
    {
     "data": {
      "text/markdown": [
       "## Taxonomy 'es:Estudios en DiÃ¡sporas Africanas' with id 242308"
      ],
      "text/plain": [
       "<IPython.core.display.Markdown object>"
      ]
     },
     "metadata": {},
     "output_type": "display_data"
    },
    {
     "name": "stdout",
     "output_type": "stream",
     "text": [
      "{\n",
      "  \"label\": \"Estudios en Di\\u00e1sporas Africanas para la Escuela\",\n",
      "  \"id\": 229701,\n",
      "  \"children\": [\n",
      "    {\n",
      "      \"label\": \"Todos los temas\",\n",
      "      \"id\": 242308\n",
      "    },\n",
      "    {\n",
      "      \"label\": \"\\u00bfEres nuevo aqu\\u00ed?\",\n",
      "      \"id\": 180775\n",
      "    }\n",
      "  ]\n",
      "}\n"
     ]
    },
    {
     "data": {
      "text/markdown": [
       "## Taxonomy 'es:Sostenibilidad aplicada' with id 242851"
      ],
      "text/plain": [
       "<IPython.core.display.Markdown object>"
      ]
     },
     "metadata": {},
     "output_type": "display_data"
    },
    {
     "name": "stdout",
     "output_type": "stream",
     "text": [
      "{\n",
      "  \"label\": \"Sostenibilidad Aplicada\",\n",
      "  \"id\": 242851,\n",
      "  \"children\": [\n",
      "    {\n",
      "      \"label\": \"\\u00bfEres nuevo aqu\\u00ed?\",\n",
      "      \"id\": 180775\n",
      "    }\n",
      "  ]\n",
      "}\n"
     ]
    },
    {
     "data": {
      "text/markdown": [
       "## Taxonomy 'hi:à¤¸à¤®à¥à¤¦à¤¾à¤¯' with id 167836"
      ],
      "text/plain": [
       "<IPython.core.display.Markdown object>"
      ]
     },
     "metadata": {},
     "output_type": "display_data"
    },
    {
     "name": "stdout",
     "output_type": "stream",
     "text": [
      "null\n"
     ]
    },
    {
     "data": {
      "text/markdown": [
       "## Taxonomy 'hi:Community' with id 167883"
      ],
      "text/plain": [
       "<IPython.core.display.Markdown object>"
      ]
     },
     "metadata": {},
     "output_type": "display_data"
    },
    {
     "name": "stdout",
     "output_type": "stream",
     "text": [
      "null\n"
     ]
    },
    {
     "data": {
      "text/markdown": [
       "## Taxonomy 'fr:mathÃ©matiques' with id 141587"
      ],
      "text/plain": [
       "<IPython.core.display.Markdown object>"
      ]
     },
     "metadata": {},
     "output_type": "display_data"
    },
    {
     "name": "stdout",
     "output_type": "stream",
     "text": [
      "null\n"
     ]
    },
    {
     "data": {
      "text/markdown": [
       "## Taxonomy 'fr:community' with id 141588"
      ],
      "text/plain": [
       "<IPython.core.display.Markdown object>"
      ]
     },
     "metadata": {},
     "output_type": "display_data"
    },
    {
     "name": "stdout",
     "output_type": "stream",
     "text": [
      "null\n"
     ]
    },
    {
     "data": {
      "text/markdown": [
       "## Taxonomy 'fr:nouvelles matiÃ¨res' with id 141607"
      ],
      "text/plain": [
       "<IPython.core.display.Markdown object>"
      ]
     },
     "metadata": {},
     "output_type": "display_data"
    },
    {
     "name": "stdout",
     "output_type": "stream",
     "text": [
      "null\n"
     ]
    },
    {
     "data": {
      "text/markdown": [
       "## Taxonomy 'fr:Conseils pour apprendre' with id 148619"
      ],
      "text/plain": [
       "<IPython.core.display.Markdown object>"
      ]
     },
     "metadata": {},
     "output_type": "display_data"
    },
    {
     "name": "stdout",
     "output_type": "stream",
     "text": [
      "null\n"
     ]
    }
   ],
   "source": [
    "for (taxonomy_term_id, name, subdomain) in taxonomy_terms:\n",
    "    display(Markdown(f\"## Taxonomy '{subdomain}:{name}' with id {taxonomy_term_id}\"))\n",
    "    print_json(taxonomy_nav(taxonomy_term_id))"
   ]
  }
 ],
 "metadata": {
  "kernelspec": {
   "display_name": "Python 3",
   "language": "python",
   "name": "python3"
  },
  "language_info": {
   "codemirror_mode": {
    "name": "ipython",
    "version": 3
   },
   "file_extension": ".py",
   "mimetype": "text/x-python",
   "name": "python",
   "nbconvert_exporter": "python",
   "pygments_lexer": "ipython3",
   "version": "3.9.1"
  }
 },
 "nbformat": 4,
 "nbformat_minor": 5
}
