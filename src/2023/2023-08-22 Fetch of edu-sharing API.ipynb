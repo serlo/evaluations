{
 "cells": [
  {
   "cell_type": "code",
   "execution_count": 9,
   "id": "92804a6b",
   "metadata": {},
   "outputs": [
    {
     "name": "stdout",
     "output_type": "stream",
     "text": [
      "[\n",
      "  {\n",
      "    \"identifier\": \"a8f3b03d-ea3b-480c-823f-50bf1c16f870\",\n",
      "    \"keywords\": [\n",
      "      \"Community\",\n",
      "      \"Sandkasten\"\n",
      "    ],\n",
      "    \"@type\": [\n",
      "      \"CreativeWork\",\n",
      "      \"MediaObject\"\n",
      "    ],\n",
      "    \"description\": \"erstens: schreibe etwaszweitens: mach ausversehen einen nicht gesch\\u00fctzten zeilenumbruchzweitens: mach ausversehen einen nicht gesch\\u00fctzten zeilenumbruchdrittens:l\\u00f6sche den zeilenumbruchviertens:dr\\u00fccke enter\\ufeffergebnis:eine zeile wird kopiert\",\n",
      "    \"dateModified\": \"2020-07-22T11:00:34Z\",\n",
      "    \"@context\": \"http://schema.org/\",\n",
      "    \"ContentSize\": \"401\",\n",
      "    \"version\": \"1.0\",\n",
      "    \"url\": \"https://repository.staging.openeduhub.net/edu-sharing/components/render/a8f3b03d-ea3b-480c-823f-50bf1c16f870\",\n",
      "    \"sourceUrl\": \"https://de.serlo.org/community/sandkasten/zeilenglitch?contentOnly\",\n",
      "    \"license\": \"https://creativecommons.org/licenses/by-sa/4.0/deed.en\",\n",
      "    \"dateCreated\": \"2020-07-15T15:53:49Z\",\n",
      "    \"name\": \"Zeilenglitch\",\n",
      "    \"thumbnailUrl\": \"https://repository.staging.openeduhub.net/edu-sharing/preview?nodeId=a8f3b03d-ea3b-480c-823f-50bf1c16f870&storeProtocol=workspace&storeId=SpacesStore&dontcache=1692731041702\"\n",
      "  }\n",
      "]\n"
     ]
    }
   ],
   "source": [
    "import json\n",
    "import requests\n",
    "\n",
    "SEARCH_URL=\"https://repository.staging.openeduhub.net/edu-sharing/rest/search/v1/queries/-home-/mds_oeh/ngsearch/lrmi\"\n",
    "\n",
    "def pretty_print(data):\n",
    "    return print(json.dumps(data, indent=2))\n",
    "\n",
    "def search_lrmi(skipCount=0, maxItems=1):\n",
    "    response = requests.post(SEARCH_URL, params={\n",
    "        \"maxItems\": maxItems,\n",
    "        \"skipCount\": skipCount,\n",
    "        \"propertyFilter\": '-all-'\n",
    "    }, headers={\n",
    "        \"Content-Type\": \"application/json\",\n",
    "        \"accept\": \"application/json\"\n",
    "    }, json={\n",
    "      \"criteria\": [\n",
    "        {\n",
    "          \"property\": \"ccm:replicationsource\",\n",
    "          \"values\": [\n",
    "            \"serlo_spider\"\n",
    "          ]\n",
    "        }\n",
    "      ]\n",
    "    })\n",
    "    \n",
    "    nodes = response.json()[\"nodes\"]\n",
    "    \n",
    "    return [json.loads(node) for node in nodes]\n",
    "\n",
    "pretty_print(search_lrmi(skipCount=1))"
   ]
  },
  {
   "cell_type": "code",
   "execution_count": 12,
   "id": "81253b03",
   "metadata": {},
   "outputs": [
    {
     "name": "stdout",
     "output_type": "stream",
     "text": [
      "Execution time: 774.1822485923767 seconds\n",
      "Number of fetched elements: 9781\n"
     ]
    }
   ],
   "source": [
    "import time\n",
    "\n",
    "def load_serlo_lrmis():\n",
    "    skipCount = 0\n",
    "    \n",
    "    while True:\n",
    "        results = search_lrmi(skipCount=skipCount, maxItems=300)\n",
    "        \n",
    "        yield from results\n",
    "        \n",
    "        skipCount += len(results)\n",
    "        \n",
    "        if len(results) < 1:\n",
    "            break\n",
    "\n",
    "start_time = time.time()\n",
    "\n",
    "lrmis = list(load_serlo_lrmis())\n",
    "\n",
    "end_time = time.time()\n",
    "\n",
    "execution_time = end_time - start_time\n",
    "\n",
    "print(\"Execution time:\", execution_time, \"seconds\")\n",
    "print(f\"Number of fetched elements: {len(lrmis)}\")"
   ]
  },
  {
   "cell_type": "code",
   "execution_count": 22,
   "id": "04de4f32",
   "metadata": {},
   "outputs": [
    {
     "name": "stdout",
     "output_type": "stream",
     "text": [
      "[]\n",
      "[]\n",
      "[]\n",
      "None\n",
      "['Plastik', 'Müll']\n"
     ]
    }
   ],
   "source": [
    "def get_keywords(uuid):\n",
    "    return get_keywords_by_url(f\"https://serlo.org/{uuid}\")\n",
    "\n",
    "def get_keywords_by_url(url):\n",
    "    response = requests.post(SEARCH_URL, params={\n",
    "        \"maxItems\": 1,\n",
    "        \"skipCount\": 0,\n",
    "        \"propertyFilter\": '-all-'\n",
    "    }, headers={\n",
    "        \"Content-Type\": \"application/json\",\n",
    "        \"accept\": \"application/json\"\n",
    "    }, json={\n",
    "      \"criteria\": [\n",
    "        {\n",
    "          \"property\": \"ccm:wwwurl\",\n",
    "          \"values\": [\n",
    "            url\n",
    "          ]\n",
    "        }\n",
    "      ]\n",
    "    })\n",
    "    \n",
    "    nodes = response.json()[\"nodes\"]\n",
    "    \n",
    "    if len(nodes) == 0:\n",
    "        return None\n",
    "    \n",
    "    return json.loads(nodes[0]).get(\"keywords\", [])\n",
    "\n",
    "print(get_keywords(1515))\n",
    "print(get_keywords(1707))\n",
    "print(get_keywords(120925))\n",
    "print(get_keywords(102789))\n",
    "print(get_keywords_by_url(\"https://de.serlo.org/nachhaltigkeit/102789/plastik\"))"
   ]
  },
  {
   "cell_type": "code",
   "execution_count": 24,
   "id": "3e456494",
   "metadata": {},
   "outputs": [
    {
     "name": "stdout",
     "output_type": "stream",
     "text": [
      "{\n",
      "  \"identifier\": \"47a55896-817a-4383-b0d7-63e8d638ab04\",\n",
      "  \"keywords\": [\n",
      "    \"Verarbeitung\",\n",
      "    \"Permakultur und Urbane G\\u00e4rten\",\n",
      "    \"Ernte und Verarbeitung\",\n",
      "    \"Nachhaltigkeit\"\n",
      "  ],\n",
      "  \"@type\": [\n",
      "    \"CreativeWork\",\n",
      "    \"MediaObject\"\n",
      "  ],\n",
      "  \"description\": \"Kastanien Rosskastanien werden fein zerkleinert oder zerquetscht und in einem Stoffbeutel mit der W\\u00e4sche gewaschen. Seifenkraut Seifenkraut findet sich an B\\u00f6schungen von Fl\\u00fcssen und Teichen. Seine Wurzeln enthalten Saponine, aus denen sich eine Waschlauge herstellen l\\u00e4sst. Daf\\u00fcr werden 15 ...\",\n",
      "  \"dateModified\": \"2020-07-22T14:01:27Z\",\n",
      "  \"@context\": \"http://schema.org/\",\n",
      "  \"ContentSize\": \"701\",\n",
      "  \"version\": \"1.0\",\n",
      "  \"url\": \"https://repository.staging.openeduhub.net/edu-sharing/components/render/47a55896-817a-4383-b0d7-63e8d638ab04\",\n",
      "  \"sourceUrl\": \"https://de.serlo.org/permakultur/verwertung-veredelung-ernteertraegen/verarbeitung/weitere-produkte/waschmittel?contentOnly\",\n",
      "  \"license\": \"https://creativecommons.org/licenses/by-sa/4.0/deed.en\",\n",
      "  \"dateCreated\": \"2020-07-15T18:05:06Z\",\n",
      "  \"name\": \"Waschmittel\",\n",
      "  \"thumbnailUrl\": \"https://repository.staging.openeduhub.net/edu-sharing/preview?nodeId=47a55896-817a-4383-b0d7-63e8d638ab04&storeProtocol=workspace&storeId=SpacesStore&dontcache=1692731406482\"\n",
      "}\n"
     ]
    }
   ],
   "source": [
    "pretty_print(lrmis[42])"
   ]
  },
  {
   "cell_type": "code",
   "execution_count": 33,
   "id": "a344cecd",
   "metadata": {},
   "outputs": [
    {
     "data": {
      "text/plain": [
       "'https://serlo.org/1565'"
      ]
     },
     "execution_count": 33,
     "metadata": {},
     "output_type": "execute_result"
    }
   ],
   "source": [
    "import re\n",
    "\n",
    "def get_uuid(url):\n",
    "    try:\n",
    "        response = requests.get(url.rstrip(\"?contentOnly\"), timeout=60)\n",
    "    except requests.exceptions.ReadTimeout:\n",
    "        return None\n",
    "\n",
    "    if not response.ok:\n",
    "        return None\n",
    "\n",
    "    pattern = r'<script type=\"application/ld\\+json\">(.*?)</script>'\n",
    "    matches = re.findall(pattern, response.text, re.DOTALL)\n",
    "\n",
    "    if len(matches) == 0:\n",
    "        return None\n",
    "\n",
    "    match = matches[0]\n",
    "\n",
    "    try:\n",
    "        data = json.loads(match.strip())\n",
    "        \n",
    "        if \"id\" in data and isinstance(data[\"id\"], str):\n",
    "            return data[\"id\"]\n",
    "    except (TypeError, json.JSONDecodeError):\n",
    "        pass\n",
    "    \n",
    "get_uuid(\"https://de.serlo.org/community/sandkasten/zeilenglitch?contentOnly\")\n",
    "get_uuid(\"https://de.serlo.org/1565\")"
   ]
  },
  {
   "cell_type": "code",
   "execution_count": 35,
   "id": "b91255ac",
   "metadata": {},
   "outputs": [
    {
     "data": {
      "text/plain": [
       "101"
      ]
     },
     "execution_count": 35,
     "metadata": {},
     "output_type": "execute_result"
    }
   ],
   "source": [
    "len([l for l in lrmis if \"keywords\" in l])"
   ]
  }
 ],
 "metadata": {
  "kernelspec": {
   "display_name": "Python 3",
   "language": "python",
   "name": "python3"
  },
  "language_info": {
   "codemirror_mode": {
    "name": "ipython",
    "version": 3
   },
   "file_extension": ".py",
   "mimetype": "text/x-python",
   "name": "python",
   "nbconvert_exporter": "python",
   "pygments_lexer": "ipython3",
   "version": "3.9.1"
  }
 },
 "nbformat": 4,
 "nbformat_minor": 5
}
