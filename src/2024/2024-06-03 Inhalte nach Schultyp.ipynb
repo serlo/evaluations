{
 "cells": [
  {
   "cell_type": "code",
   "execution_count": 6,
   "id": "5deab5d9",
   "metadata": {},
   "outputs": [],
   "source": [
    "# Welchen Anteil am Gesamtserlo Content nimmt Real/Mittelschule ggü. Gymansium ein?\n",
    "# Und gibt es weitere Kategorisierungen, nach denen wir unseren Content analysieren können?\n",
    "\n",
    "import mysql.connector\n",
    "from IPython.display import display, Markdown\n",
    "\n",
    "connection = mysql.connector.connect(\n",
    "    user=\"root\", password=\"secret\", host=\"localhost\", database=\"serlo\"\n",
    ")\n",
    "\n",
    "c = connection.cursor()\n",
    "\n",
    "def queryone(sql, parameters=[]):\n",
    "    c.execute(sql, parameters)\n",
    "    return c.fetchone()\n",
    "\n",
    "\n",
    "def queryall(sql, parameters=[]):\n",
    "    c.execute(sql, parameters)\n",
    "    return c.fetchall()\n",
    "\n",
    "\n",
    "def get_all_taxonomy_children(taxonomies, children=[]):\n",
    "    for taxonomy in taxonomies:\n",
    "        queried_children = queryall(\n",
    "            \"\"\"\n",
    "           SELECT term_taxonomy.id FROM term_taxonomy\n",
    "           JOIN uuid ON uuid.id = term_taxonomy.id\n",
    "           JOIN uuid parent ON parent.id = parent_id\n",
    "           WHERE parent_id = %s\n",
    "               AND uuid.trashed = 0\n",
    "               AND parent.trashed = 0\n",
    "        \"\"\",\n",
    "            [taxonomy],\n",
    "        )\n",
    "        queried_children = [child_row[0] for child_row in queried_children]\n",
    "        children += queried_children\n",
    "        if len(queried_children) > 0:\n",
    "            children = get_all_taxonomy_children(queried_children, children)\n",
    "    return children\n",
    "\n",
    "\n",
    "def get_all_entities_from_taxonomy(taxonomy):\n",
    "    entities = queryall(\n",
    "        \"\"\"\n",
    "        SELECT entity_id FROM term_taxonomy_entity\n",
    "        JOIN uuid ON uuid.id = entity_id\n",
    "        WHERE term_taxonomy_id = %s\n",
    "            AND trashed = 0\n",
    "    \"\"\",\n",
    "        [taxonomy],\n",
    "    )\n",
    "    entities = [entity_row[0] for entity_row in entities]\n",
    "    for entity in entities:\n",
    "        type_name = queryone(\n",
    "            \"\"\"\n",
    "            SELECT type.name FROM entity \n",
    "             JOIN type ON entity.type_id = type.id\n",
    "             WHERE entity.id = %s\n",
    "        \"\"\",\n",
    "            [entity],\n",
    "        )\n",
    "        if type_name[0] == \"course\":\n",
    "            entity_children = queryall(\n",
    "                \"\"\"\n",
    "             SELECT child_id FROM entity_link \n",
    "             WHERE parent_id = %s\n",
    "            \"\"\",\n",
    "                [entity],\n",
    "            )\n",
    "            entity_children = [entity_row[0] for entity_row in entity_children]\n",
    "            entities += entity_children\n",
    "    return entities\n",
    "\n",
    "\n",
    "def get_all_entities_from_taxonomy_tree(taxonomies):\n",
    "    all_taxonomies = list(set(get_all_taxonomy_children(taxonomies)))\n",
    "    all_entities = []\n",
    "    for taxonomy in all_taxonomies:\n",
    "        all_entities += get_all_entities_from_taxonomy(taxonomy)\n",
    "    all_entities = list(set(all_entities))\n",
    "    return all_entities"
   ]
  },
  {
   "cell_type": "code",
   "execution_count": 2,
   "id": "3811127f",
   "metadata": {},
   "outputs": [
    {
     "data": {
      "text/markdown": [
       "\n",
       "### Wir haben insgesamt 18187 Inhalte, die auf der Platform live sind.\n",
       "### 15749 sind in deutscher Version\n",
       "### Darunter sind 9266 im Bereich Mathematik\n",
       "\n",
       "Anm.: Als Inhalt verstehen wir nur Entitäten (z.B. Artikel, Kurse), keine Taxonomien (z.B. Aufgabenordner).\n",
       "\n",
       "### Limitierungen\n",
       "- Wir werden uns nur auf Mathe beschränken, weil es der einzige Bereich auf serlo.org,\n",
       "der nach Schultyp kategorisiert hat.\n",
       "- Wir basieren uns auf [https://de.serlo.org/mathe/16030/deutschland](https://de.serlo.org/mathe/16030/deutschland).\n",
       "Es gibt natürlich andere Inhalte, die für bestimmte Schultypen geeignet wären, nur können wir sie nicht einfach\n",
       "kategorisieren.\n"
      ],
      "text/plain": [
       "<IPython.core.display.Markdown object>"
      ]
     },
     "metadata": {},
     "output_type": "display_data"
    }
   ],
   "source": [
    "total_content = queryone(\n",
    "    f\"\"\"\n",
    "    SELECT COUNT(*) AS n FROM entity\n",
    "        JOIN uuid ON uuid.id = entity.id\n",
    "        WHERE trashed = 0\n",
    "    \"\"\"\n",
    ")[0]\n",
    "\n",
    "total_german = queryone(\n",
    "    f\"\"\"\n",
    "    SELECT COUNT(*) AS n FROM entity\n",
    "        JOIN uuid ON uuid.id = entity.id\n",
    "        WHERE trashed = 0\n",
    "            AND instance_id = 1 \n",
    "    \"\"\"\n",
    ")[0]\n",
    "\n",
    "MATHE = 5\n",
    "all_math_entities = get_all_entities_from_taxonomy_tree([MATHE])\n",
    "\n",
    "display(\n",
    "    Markdown(\n",
    "        f\"\"\"\n",
    "### Wir haben insgesamt {total_content} Inhalte, die auf der Platform live sind.\n",
    "### {total_german} sind in deutscher Version\n",
    "### Darunter sind {len(all_math_entities)} im Bereich Mathematik\n",
    "\n",
    "Anm.: Als Inhalt verstehen wir nur Entitäten (z.B. Artikel, Kurse), keine Taxonomien (z.B. Aufgabenordner).\n",
    "\n",
    "### Limitierungen\n",
    "- Wir werden uns nur auf Mathe beschränken, weil es der einzige Bereich auf serlo.org,\n",
    "der nach Schultyp kategorisiert hat.\n",
    "- Wir basieren uns auf [https://de.serlo.org/mathe/16030/deutschland](https://de.serlo.org/mathe/16030/deutschland).\n",
    "Es gibt natürlich andere Inhalte, die für bestimmte Schultypen geeignet wären, nur können wir sie nicht einfach\n",
    "kategorisieren.\n",
    "\"\"\"\n",
    "    )\n",
    ")"
   ]
  },
  {
   "cell_type": "code",
   "execution_count": 3,
   "id": "4f74af0f",
   "metadata": {},
   "outputs": [
    {
     "data": {
      "text/markdown": [
       "\n",
       "### Die folgenden Ordner werden als geeignet für Gymnasium betrachtet:\n"
      ],
      "text/plain": [
       "<IPython.core.display.Markdown object>"
      ]
     },
     "metadata": {},
     "output_type": "display_data"
    },
    {
     "data": {
      "text/markdown": [
       "[https://serlo.org/181782](https://serlo.org/181782)"
      ],
      "text/plain": [
       "<IPython.core.display.Markdown object>"
      ]
     },
     "metadata": {},
     "output_type": "display_data"
    },
    {
     "data": {
      "text/markdown": [
       "[https://serlo.org/16042](https://serlo.org/16042)"
      ],
      "text/plain": [
       "<IPython.core.display.Markdown object>"
      ]
     },
     "metadata": {},
     "output_type": "display_data"
    },
    {
     "data": {
      "text/markdown": [
       "[https://serlo.org/95753](https://serlo.org/95753)"
      ],
      "text/plain": [
       "<IPython.core.display.Markdown object>"
      ]
     },
     "metadata": {},
     "output_type": "display_data"
    },
    {
     "data": {
      "text/markdown": [
       "[https://serlo.org/172042](https://serlo.org/172042)"
      ],
      "text/plain": [
       "<IPython.core.display.Markdown object>"
      ]
     },
     "metadata": {},
     "output_type": "display_data"
    },
    {
     "data": {
      "text/markdown": [
       "[https://serlo.org/97947](https://serlo.org/97947)"
      ],
      "text/plain": [
       "<IPython.core.display.Markdown object>"
      ]
     },
     "metadata": {},
     "output_type": "display_data"
    },
    {
     "data": {
      "text/markdown": [
       "[https://serlo.org/307330](https://serlo.org/307330)"
      ],
      "text/plain": [
       "<IPython.core.display.Markdown object>"
      ]
     },
     "metadata": {},
     "output_type": "display_data"
    },
    {
     "data": {
      "text/markdown": [
       "[https://serlo.org/34199](https://serlo.org/34199)"
      ],
      "text/plain": [
       "<IPython.core.display.Markdown object>"
      ]
     },
     "metadata": {},
     "output_type": "display_data"
    },
    {
     "data": {
      "text/markdown": [
       "[https://serlo.org/34730](https://serlo.org/34730)"
      ],
      "text/plain": [
       "<IPython.core.display.Markdown object>"
      ]
     },
     "metadata": {},
     "output_type": "display_data"
    },
    {
     "data": {
      "text/markdown": [
       "\n",
       "### Die folgenden Ordner werden als geeignet für Real-, Mittel- oder Gesamtschule betrachtet:\n"
      ],
      "text/plain": [
       "<IPython.core.display.Markdown object>"
      ]
     },
     "metadata": {},
     "output_type": "display_data"
    },
    {
     "data": {
      "text/markdown": [
       "[https://serlo.org/223308](https://serlo.org/223308)"
      ],
      "text/plain": [
       "<IPython.core.display.Markdown object>"
      ]
     },
     "metadata": {},
     "output_type": "display_data"
    },
    {
     "data": {
      "text/markdown": [
       "[https://serlo.org/16259](https://serlo.org/16259)"
      ],
      "text/plain": [
       "<IPython.core.display.Markdown object>"
      ]
     },
     "metadata": {},
     "output_type": "display_data"
    },
    {
     "data": {
      "text/markdown": [
       "[https://serlo.org/16359](https://serlo.org/16359)"
      ],
      "text/plain": [
       "<IPython.core.display.Markdown object>"
      ]
     },
     "metadata": {},
     "output_type": "display_data"
    },
    {
     "data": {
      "text/markdown": [
       "[https://serlo.org/16157](https://serlo.org/16157)"
      ],
      "text/plain": [
       "<IPython.core.display.Markdown object>"
      ]
     },
     "metadata": {},
     "output_type": "display_data"
    },
    {
     "data": {
      "text/markdown": [
       "[https://serlo.org/305819](https://serlo.org/305819)"
      ],
      "text/plain": [
       "<IPython.core.display.Markdown object>"
      ]
     },
     "metadata": {},
     "output_type": "display_data"
    },
    {
     "data": {
      "text/markdown": [
       "[https://serlo.org/305843](https://serlo.org/305843)"
      ],
      "text/plain": [
       "<IPython.core.display.Markdown object>"
      ]
     },
     "metadata": {},
     "output_type": "display_data"
    },
    {
     "data": {
      "text/markdown": [
       "[https://serlo.org/95751](https://serlo.org/95751)"
      ],
      "text/plain": [
       "<IPython.core.display.Markdown object>"
      ]
     },
     "metadata": {},
     "output_type": "display_data"
    },
    {
     "data": {
      "text/markdown": [
       "[https://serlo.org/97943](https://serlo.org/97943)"
      ],
      "text/plain": [
       "<IPython.core.display.Markdown object>"
      ]
     },
     "metadata": {},
     "output_type": "display_data"
    },
    {
     "data": {
      "text/markdown": [
       "[https://serlo.org/97944](https://serlo.org/97944)"
      ],
      "text/plain": [
       "<IPython.core.display.Markdown object>"
      ]
     },
     "metadata": {},
     "output_type": "display_data"
    },
    {
     "data": {
      "text/markdown": [
       "[https://serlo.org/97945](https://serlo.org/97945)"
      ],
      "text/plain": [
       "<IPython.core.display.Markdown object>"
      ]
     },
     "metadata": {},
     "output_type": "display_data"
    },
    {
     "data": {
      "text/markdown": [
       "[https://serlo.org/97946](https://serlo.org/97946)"
      ],
      "text/plain": [
       "<IPython.core.display.Markdown object>"
      ]
     },
     "metadata": {},
     "output_type": "display_data"
    },
    {
     "data": {
      "text/markdown": [
       "[https://serlo.org/305760](https://serlo.org/305760)"
      ],
      "text/plain": [
       "<IPython.core.display.Markdown object>"
      ]
     },
     "metadata": {},
     "output_type": "display_data"
    },
    {
     "data": {
      "text/markdown": [
       "[https://serlo.org/34201](https://serlo.org/34201)"
      ],
      "text/plain": [
       "<IPython.core.display.Markdown object>"
      ]
     },
     "metadata": {},
     "output_type": "display_data"
    },
    {
     "data": {
      "text/markdown": [
       "Diese Ordner werden jetzt durchgesucht."
      ],
      "text/plain": [
       "<IPython.core.display.Markdown object>"
      ]
     },
     "metadata": {},
     "output_type": "display_data"
    }
   ],
   "source": [
    "first_level_gymnasium_taxonomies = [\n",
    "    181782,\n",
    "    16042,\n",
    "    95753,\n",
    "    172042,\n",
    "    97947,\n",
    "    307330,\n",
    "    34199,\n",
    "    34730,\n",
    "]\n",
    "\n",
    "display(\n",
    "    Markdown(\n",
    "        f\"\"\"\n",
    "### Die folgenden Ordner werden als geeignet für Gymnasium betrachtet:\n",
    "\"\"\"\n",
    "    )\n",
    ")\n",
    "for g in first_level_gymnasium_taxonomies:\n",
    "    display(Markdown(f\"[https://serlo.org/{g}](https://serlo.org/{g})\"))\n",
    "\n",
    "first_level_realmittel_taxonomies = [\n",
    "    223308,\n",
    "    16259,\n",
    "    16359,\n",
    "    16157,\n",
    "    305819,\n",
    "    305843,\n",
    "    95751,\n",
    "    97943,\n",
    "    97944,\n",
    "    97945,\n",
    "    97946,\n",
    "    305760,\n",
    "    34201,\n",
    "]\n",
    "\n",
    "display(\n",
    "    Markdown(\n",
    "        f\"\"\"\n",
    "### Die folgenden Ordner werden als geeignet für Real-, Mittel- oder Gesamtschule betrachtet:\n",
    "\"\"\"\n",
    "    )\n",
    ")\n",
    "for r in first_level_realmittel_taxonomies:\n",
    "    display(Markdown(f\"[https://serlo.org/{r}](https://serlo.org/{r})\"))\n",
    "\n",
    "display(Markdown(\"Diese Ordner werden jetzt durchgesucht.\"))"
   ]
  },
  {
   "cell_type": "code",
   "execution_count": 5,
   "id": "0f2780b5",
   "metadata": {},
   "outputs": [],
   "source": [
    "all_gymnasium_entities = get_all_entities_from_taxonomy_tree(\n",
    "    first_level_gymnasium_taxonomies\n",
    ")"
   ]
  },
  {
   "cell_type": "code",
   "execution_count": 7,
   "id": "3b95648c",
   "metadata": {},
   "outputs": [
    {
     "data": {
      "text/markdown": [
       "\n",
       "### Ergebnis\n",
       "2670 Inhalte sind für Gymnasium geeignet.  \n",
       "3936 Inhalte sind für Real-, Mittel- und Gesamtschule geeignet.\n"
      ],
      "text/plain": [
       "<IPython.core.display.Markdown object>"
      ]
     },
     "metadata": {},
     "output_type": "display_data"
    }
   ],
   "source": [
    "all_realmittel_entities = get_all_entities_from_taxonomy_tree(\n",
    "    first_level_realmittel_taxonomies\n",
    ")\n",
    "\n",
    "\n",
    "display(\n",
    "    Markdown(\n",
    "        f\"\"\"\n",
    "### Ergebnis\n",
    "{len(all_gymnasium_entities)} Inhalte sind für Gymnasium geeignet.  \n",
    "{len(all_realmittel_entities)} Inhalte sind für Real-, Mittel- und Gesamtschule geeignet.\n",
    "\"\"\"\n",
    "    )\n",
    ")\n",
    "# TODO: Prüfungen weren't systematically added."
   ]
  },
  {
   "cell_type": "code",
   "execution_count": 10,
   "id": "f83ee8ec",
   "metadata": {},
   "outputs": [
    {
     "data": {
      "text/markdown": [
       "\n",
       "890 Inhalte sind für alle Schultypen geeignet.  \n"
      ],
      "text/plain": [
       "<IPython.core.display.Markdown object>"
      ]
     },
     "metadata": {},
     "output_type": "display_data"
    }
   ],
   "source": [
    "from collections import Counter\n",
    "\n",
    "repeated = list((Counter(all_realmittel_entities) & Counter(all_gymnasium_entities)).elements())\n",
    "\n",
    "display(\n",
    "    Markdown(\n",
    "        f\"\"\"\n",
    "{len(repeated)} Inhalte sind für alle Schultypen geeignet.  \n",
    "\"\"\"\n",
    "    )\n",
    ")"
   ]
  }
 ],
 "metadata": {
  "kernelspec": {
   "display_name": "Python 3 (ipykernel)",
   "language": "python",
   "name": "python3"
  },
  "language_info": {
   "codemirror_mode": {
    "name": "ipython",
    "version": 3
   },
   "file_extension": ".py",
   "mimetype": "text/x-python",
   "name": "python",
   "nbconvert_exporter": "python",
   "pygments_lexer": "ipython3",
   "version": "3.8.10"
  }
 },
 "nbformat": 4,
 "nbformat_minor": 5
}
