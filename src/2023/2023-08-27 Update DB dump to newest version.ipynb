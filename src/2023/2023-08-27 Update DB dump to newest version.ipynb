{
 "cells": [
  {
   "cell_type": "code",
   "execution_count": 8,
   "id": "28c9f846",
   "metadata": {},
   "outputs": [
    {
     "name": "stdout",
     "output_type": "stream",
     "text": [
      "Staging MySQL Password: ········\n"
     ]
    }
   ],
   "source": [
    "from getpass import getpass\n",
    "\n",
    "PASSWORD=getpass(\"Staging MySQL Password: \")"
   ]
  },
  {
   "cell_type": "code",
   "execution_count": 9,
   "id": "2ddfa1d4",
   "metadata": {},
   "outputs": [],
   "source": [
    "PASSWORD_ARG=f\"--password={PASSWORD}\""
   ]
  },
  {
   "cell_type": "markdown",
   "id": "a2c7ae11",
   "metadata": {},
   "source": [
    "# Dump table definitions"
   ]
  },
  {
   "cell_type": "code",
   "execution_count": 11,
   "id": "59324116",
   "metadata": {},
   "outputs": [
    {
     "name": "stdout",
     "output_type": "stream",
     "text": [
      "mysqldump: [Warning] Using a password on the command line interface can be insecure.\r\n"
     ]
    }
   ],
   "source": [
    "!mysqldump --protocol tcp --port=7777 --user=serlo {PASSWORD_ARG} \\\n",
    "    --set-gtid-purged=OFF --lock-all-tables --no-data \\\n",
    "    --default-character-set=utf8mb4 serlo > /tmp/dump-table-definitions.sql"
   ]
  },
  {
   "cell_type": "code",
   "execution_count": 15,
   "id": "6323a84f",
   "metadata": {},
   "outputs": [
    {
     "name": "stdout",
     "output_type": "stream",
     "text": [
      "52K\t/tmp/dump-table-definitions.sql\r\n"
     ]
    }
   ],
   "source": [
    "!du -h /tmp/dump-table-definitions.sql"
   ]
  },
  {
   "cell_type": "code",
   "execution_count": 16,
   "id": "f308a19d",
   "metadata": {},
   "outputs": [
    {
     "name": "stdout",
     "output_type": "stream",
     "text": [
      "-- MySQL dump 10.13  Distrib 8.0.34, for Linux (x86_64)\r\n",
      "--\r\n",
      "-- Host: localhost    Database: serlo\r\n",
      "-- ------------------------------------------------------\r\n",
      "-- Server version\t8.0.26-google\r\n",
      "\r\n",
      "/*!40101 SET @OLD_CHARACTER_SET_CLIENT=@@CHARACTER_SET_CLIENT */;\r\n",
      "/*!40101 SET @OLD_CHARACTER_SET_RESULTS=@@CHARACTER_SET_RESULTS */;\r\n",
      "/*!40101 SET @OLD_COLLATION_CONNECTION=@@COLLATION_CONNECTION */;\r\n",
      "/*!50503 SET NAMES utf8mb4 */;\r\n"
     ]
    }
   ],
   "source": [
    "!head /tmp/dump-table-definitions.sql"
   ]
  },
  {
   "cell_type": "markdown",
   "id": "1f6ebc3a",
   "metadata": {},
   "source": [
    "# Dump Data of local DB"
   ]
  },
  {
   "cell_type": "code",
   "execution_count": 34,
   "id": "d44bc00d",
   "metadata": {},
   "outputs": [
    {
     "name": "stdout",
     "output_type": "stream",
     "text": [
      "mysqldump: [Warning] Using a password on the command line interface can be insecure.\r\n"
     ]
    }
   ],
   "source": [
    "!mysqldump --protocol tcp --port=3306 --user=root --password=secret \\\n",
    "    --set-gtid-purged=OFF --lock-all-tables --no-create-info \\\n",
    "    --default-character-set=latin1 serlo > /tmp/dump-data.sql"
   ]
  },
  {
   "cell_type": "code",
   "execution_count": 35,
   "id": "8c8666b8",
   "metadata": {},
   "outputs": [
    {
     "name": "stdout",
     "output_type": "stream",
     "text": [
      "44M\t/tmp/dump-data.sql\r\n"
     ]
    }
   ],
   "source": [
    "!du -h /tmp/dump-data.sql"
   ]
  },
  {
   "cell_type": "code",
   "execution_count": 36,
   "id": "2a505238",
   "metadata": {},
   "outputs": [
    {
     "name": "stdout",
     "output_type": "stream",
     "text": [
      "-- MySQL dump 10.13  Distrib 8.0.34, for Linux (x86_64)\r\n",
      "--\r\n",
      "-- Host: localhost    Database: serlo\r\n",
      "-- ------------------------------------------------------\r\n",
      "-- Server version\t8.0.34\r\n",
      "\r\n",
      "/*!40101 SET @OLD_CHARACTER_SET_CLIENT=@@CHARACTER_SET_CLIENT */;\r\n",
      "/*!40101 SET @OLD_CHARACTER_SET_RESULTS=@@CHARACTER_SET_RESULTS */;\r\n",
      "/*!40101 SET @OLD_COLLATION_CONNECTION=@@COLLATION_CONNECTION */;\r\n",
      "/*!50503 SET NAMES latin1 */;\r\n",
      "/*!40103 SET @OLD_TIME_ZONE=@@TIME_ZONE */;\r\n",
      "/*!40103 SET TIME_ZONE='+00:00' */;\r\n",
      "/*!40014 SET @OLD_UNIQUE_CHECKS=@@UNIQUE_CHECKS, UNIQUE_CHECKS=0 */;\r\n",
      "/*!40014 SET @OLD_FOREIGN_KEY_CHECKS=@@FOREIGN_KEY_CHECKS, FOREIGN_KEY_CHECKS=0 */;\r\n",
      "/*!40101 SET @OLD_SQL_MODE=@@SQL_MODE, SQL_MODE='NO_AUTO_VALUE_ON_ZERO' */;\r\n",
      "/*!40111 SET @OLD_SQL_NOTES=@@SQL_NOTES, SQL_NOTES=0 */;\r\n",
      "\r\n",
      "--\r\n",
      "-- Dumping data for table `ad`\r\n",
      "--\r\n",
      "\r\n",
      "LOCK TABLES `ad` WRITE;\r\n",
      "/*!40000 ALTER TABLE `ad` DISABLE KEYS */;\r\n",
      "INSERT INTO `ad` VALUES (1,1,17471,10,'Weltspiegel','Im Weltspiegel zeigt die ARD wöchentlich Berichte und Geschichten aus aller Welt. Die ganze Sendung und einzelne Berichte können online gesehen werden.',3,1288,'http://www.daserste.de/information/politik-weltgeschehen/weltspiegel/index.html',0),(2,1,17473,10,'Auslandsjournal','Im Auslandsjournal zeigt das ZDF wöchentlich Berichte und Geschichten aus aller Welt. Die ganze Sendung und einzelne Berichte können online gesehen werden.',3,1205,'http://www.zdf.de/auslandsjournal/auslandsjournal-5988366.html',0),(3,1,17741,10,'Aspekte','Die Sendung oder einzelne Beiträge des kreativen ZDF Magazins zu Kunst, Kultur und Gesellschaft können online gesehen werden.',3,1319,'http://aspekte.zdf.de/',0),(4,1,17742,10,'Mit offenen Karten','Jede Woche bei arte liest Jean-Christophe Victor \\\"die politischen Kräfteverhältnisse in der ganzen Welt\\\" aus detaillierten geographischen Karten.',2,1150,'http://ddc.arte.tv/de',0),(5,1,17743,10,'Leschs Kosmos','Das Wissensmagazin moderiert von Harald Lesch, beleuchtet faszinierende Phänomene rund um die Abenteuer der Wissenschaft und Forschung.',2,1146,'http://leschskosmos.zdf.de',0),(6,1,19638,15480,'arte Afrika','Mit dieser großartigen Internet-Reportage wirft arte einen Blick auf 12 Länder des frankophonen Afrika - eine Einladung sich auf Reisen zu begeben.',1,170,'http://afrika.arte.tv/',0),(9,1,19662,15480,'BeWelcome','Lernen in Begegnung! Wohne als Gast an fast jedem Ort der Welt bei netten und interessanten Leuten und empfange auch selbst Reisende und Bildungshungrige bei Dir zu Hause.',2,1137,'http://www.bewelcome.org/',0),(10,1,19668,15480,'TED','TED is a small nonprofit devoted to Ideas Worth Spreading. On this page, are all the videos from   the big TED conferences where people from three worlds: Technology, Entertainment, Design come together.',2,852,'http://www.ted.com/',0),(11,1,19671,15480,'Europeana','Europeana hat den großen Anspruch, die Bestände in Europas Museen, Bibliotheken und Archiven also das kulturelle Erbe Europas zu digitalisieren und frei zur Verfügung zu stellen. Es gibt bereits ca. 15 Millionen Objekte online zu erkunden.',1,118,'http://www.europeana.eu/',0),(12,1,19673,15480,'Planet Schule','Planet Schule bietet Schulfernsehsendungen zum Ansehen und Herunterladen so wie weitere Lernangebote für Lehrer, Schüler und natürlich alle Bildungsinteressierten.',2,1524,'http://www.planet-schule.de/',0),(13,1,19677,15480,'TUNZA','The magazine by and for young environmentalists all over the world, published by the United Nations Environment Programme. Download all issues in English, Spanish and French for free.',1,169,'http://www.unep.org/Publications/contents/Tunza.asp',0);\r\n",
      "/*!40000 ALTER TABLE `ad` ENABLE KEYS */;\r\n",
      "UNLOCK TABLES;\r\n",
      "\r\n",
      "--\r\n",
      "-- Dumping data for table `ad_page`\r\n",
      "--\r\n",
      "\r\n",
      "LOCK TABLES `ad_page` WRITE;\r\n",
      "/*!40000 ALTER TABLE `ad_page` DISABLE KEYS */;\r\n",
      "/*!40000 ALTER TABLE `ad_page` ENABLE KEYS */;\r\n",
      "UNLOCK TABLES;\r\n",
      "\r\n",
      "--\r\n",
      "-- Dumping data for table `attachment_container`\r\n",
      "--\r\n",
      "\r\n"
     ]
    }
   ],
   "source": [
    "!head -n 40 /tmp/dump-data.sql"
   ]
  },
  {
   "cell_type": "markdown",
   "id": "c875a43a",
   "metadata": {},
   "source": [
    "# Fix /tmp/dump-data.sql"
   ]
  },
  {
   "cell_type": "code",
   "execution_count": 37,
   "id": "d76064a6",
   "metadata": {},
   "outputs": [],
   "source": [
    "with open(\"/tmp/dump-data.sql\", \"r\", encoding=\"utf8\", errors=\"replace\") as file:\n",
    "    content = file.read()\n",
    "\n",
    "with open(\"/tmp/dump-data-fixed.sql\", \"w\", encoding=\"utf8\") as file:\n",
    "    file.write(content)"
   ]
  },
  {
   "cell_type": "code",
   "execution_count": 43,
   "id": "de8ade9f",
   "metadata": {},
   "outputs": [],
   "source": [
    "!sed -i 's/latin1/utf8mb4/' /tmp/dump-data-fixed.sql"
   ]
  },
  {
   "cell_type": "markdown",
   "id": "df489472",
   "metadata": {},
   "source": [
    "# Drop all data"
   ]
  },
  {
   "cell_type": "code",
   "execution_count": 44,
   "id": "3a491a04",
   "metadata": {},
   "outputs": [
    {
     "name": "stdout",
     "output_type": "stream",
     "text": [
      "mysql: [Warning] Using a password on the command line interface can be insecure.\r\n"
     ]
    }
   ],
   "source": [
    "!mysql --protocol tcp --port=3306 --user=root --password=secret -e \"DROP database serlo\""
   ]
  },
  {
   "cell_type": "code",
   "execution_count": 45,
   "id": "7db68775",
   "metadata": {},
   "outputs": [
    {
     "name": "stdout",
     "output_type": "stream",
     "text": [
      "mysql: [Warning] Using a password on the command line interface can be insecure.\r\n"
     ]
    }
   ],
   "source": [
    "!mysql --protocol tcp --port=3306 --user=root --password=secret -e \"Create database serlo\""
   ]
  },
  {
   "cell_type": "code",
   "execution_count": 46,
   "id": "a11f9cce",
   "metadata": {},
   "outputs": [
    {
     "name": "stdout",
     "output_type": "stream",
     "text": [
      "mysql: [Warning] Using a password on the command line interface can be insecure.\r\n"
     ]
    }
   ],
   "source": [
    "!mysql --protocol tcp --port=3306 --user=root --password=secret serlo -e \"show tables;\""
   ]
  },
  {
   "cell_type": "markdown",
   "id": "3451e2c7",
   "metadata": {},
   "source": [
    "# Load table defintions"
   ]
  },
  {
   "cell_type": "code",
   "execution_count": 47,
   "id": "c6d371f9",
   "metadata": {},
   "outputs": [
    {
     "name": "stdout",
     "output_type": "stream",
     "text": [
      "mysql: [Warning] Using a password on the command line interface can be insecure.\r\n"
     ]
    }
   ],
   "source": [
    "!mysql --protocol tcp --port=3306 --user=root --password=secret serlo < /tmp/dump-table-definitions.sql"
   ]
  },
  {
   "cell_type": "markdown",
   "id": "43672d83",
   "metadata": {},
   "source": [
    "# Load table data"
   ]
  },
  {
   "cell_type": "code",
   "execution_count": 48,
   "id": "25e2bd43",
   "metadata": {},
   "outputs": [
    {
     "name": "stdout",
     "output_type": "stream",
     "text": [
      "mysql: [Warning] Using a password on the command line interface can be insecure.\r\n"
     ]
    }
   ],
   "source": [
    "!mysql --protocol tcp --port=3306 --user=root --password=secret serlo < /tmp/dump-data-fixed.sql"
   ]
  }
 ],
 "metadata": {
  "kernelspec": {
   "display_name": "Python 3",
   "language": "python",
   "name": "python3"
  },
  "language_info": {
   "codemirror_mode": {
    "name": "ipython",
    "version": 3
   },
   "file_extension": ".py",
   "mimetype": "text/x-python",
   "name": "python",
   "nbconvert_exporter": "python",
   "pygments_lexer": "ipython3",
   "version": "3.9.1"
  }
 },
 "nbformat": 4,
 "nbformat_minor": 5
}
