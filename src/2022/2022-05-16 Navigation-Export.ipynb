{
 "cells": [
  {
   "cell_type": "code",
   "execution_count": 1,
   "id": "acting-briefs",
   "metadata": {},
   "outputs": [
    {
     "name": "stderr",
     "output_type": "stream",
     "text": [
      "/home/kulla/.local/share/asdf/installs/python/3.9.1/lib/python3.9/site-packages/pandas/compat/__init__.py:97: UserWarning: Could not import the lzma module. Your installed Python is incomplete. Attempting to use lzma compression will result in a RuntimeError.\n",
      "  warnings.warn(msg)\n"
     ]
    }
   ],
   "source": [
    "import pandas as pd\n",
    "import mysql.connector\n",
    "\n",
    "from IPython.display import display, Markdown, HTML\n",
    "\n",
    "db = mysql.connector.connect(\n",
    "    host=\"localhost\",\n",
    "    user=\"root\",\n",
    "    password=\"secret\",\n",
    "    port=\"3306\",\n",
    "    database=\"serlo\"\n",
    ")\n",
    "\n",
    "def cached(func):\n",
    "    cache = dict()\n",
    "    \n",
    "    def return_func(arg):\n",
    "        if (arg in cache):\n",
    "            return cache[arg]\n",
    "        else:\n",
    "            result = func(arg)\n",
    "            cache[arg] = result\n",
    "            return result\n",
    "    \n",
    "    return return_func\n",
    "\n",
    "def query(sql):\n",
    "    c = db.cursor()\n",
    "    c.execute(sql)\n",
    "    \n",
    "    return c.fetchall()\n",
    "\n",
    "def querySingleton(sql):\n",
    "    return [ x[0] for x in query(sql) ]"
   ]
  },
  {
   "cell_type": "code",
   "execution_count": 2,
   "id": "apparent-grove",
   "metadata": {},
   "outputs": [
    {
     "data": {
      "text/plain": [
       "[(16256, 'de', 1),\n",
       " (16303, 'de', 1),\n",
       " (16306, 'de', 1),\n",
       " (16530, 'de', 1),\n",
       " (16569, 'de', 1),\n",
       " (16659, 'de', 1),\n",
       " (16816, 'de', 1),\n",
       " (18233, 'de', 1),\n",
       " (18340, 'de', 1),\n",
       " (18778, 'de', 1)]"
      ]
     },
     "execution_count": 2,
     "metadata": {},
     "output_type": "execute_result"
    }
   ],
   "source": [
    "page_ids = query(\"\"\"\n",
    "    select\n",
    "        page_repository.id,\n",
    "        instance.subdomain,\n",
    "        uuid.trashed\n",
    "    from page_repository\n",
    "        join uuid on uuid.id = page_repository.id\n",
    "        join instance on page_repository.instance_id = instance.id;\n",
    "\"\"\")\n",
    "page_ids[0:10]"
   ]
  },
  {
   "cell_type": "code",
   "execution_count": 3,
   "id": "considerable-geneva",
   "metadata": {},
   "outputs": [
    {
     "data": {
      "text/plain": [
       "{'uuid': {'__typename': 'User'}}"
      ]
     },
     "execution_count": 3,
     "metadata": {},
     "output_type": "execute_result"
    }
   ],
   "source": [
    "import requests\n",
    "\n",
    "def api_call(query, variables={}):\n",
    "    headers = { \"Content-Type\": \"application/json\" }\n",
    "\n",
    "    response = requests.post(\n",
    "            \"https://api.serlo.org/graphql\",\n",
    "            headers = headers,\n",
    "            json = { \"query\": query, \"variables\": variables })\n",
    "\n",
    "    if response.status_code not in [200, 400]:\n",
    "        response.raise_for_status()\n",
    "\n",
    "    try:\n",
    "        result = response.json()\n",
    "\n",
    "        if \"errors\" in result and result[\"errors\"]:\n",
    "            raise requests.HTTPError(result[\"errors\"][0][\"message\"],\n",
    "                                     response=response)\n",
    "\n",
    "        return result[\"data\"]\n",
    "    except e:\n",
    "        print(response.text)\n",
    "        raise e \n",
    "\n",
    "api_call(\"\"\"\n",
    "    query($id: Int) {\n",
    "        uuid(id: $id) {\n",
    "            __typename\n",
    "        }\n",
    "    }\n",
    "\"\"\", { \"id\": 1 })"
   ]
  },
  {
   "cell_type": "code",
   "execution_count": 5,
   "id": "bottom-seeker",
   "metadata": {},
   "outputs": [
    {
     "name": "stdout",
     "output_type": "stream",
     "text": [
      "{\n",
      "  \"label\": \"\\u00dcber Serlo\",\n",
      "  \"id\": 18922,\n",
      "  \"children\": [\n",
      "    {\n",
      "      \"label\": \"So funktioniert die Lernplattform\",\n",
      "      \"id\": 81862\n",
      "    },\n",
      "    {\n",
      "      \"label\": \"Wirkung\",\n",
      "      \"id\": 21406\n",
      "    },\n",
      "    {\n",
      "      \"label\": \"Team\",\n",
      "      \"id\": 21439\n",
      "    },\n",
      "    {\n",
      "      \"label\": \"Die Geschichte von Serlo\",\n",
      "      \"id\": 21413\n",
      "    },\n",
      "    {\n",
      "      \"label\": \"Partner und F\\u00f6rderer\",\n",
      "      \"id\": 21456\n",
      "    },\n",
      "    {\n",
      "      \"label\": \"Transparenz\",\n",
      "      \"id\": 21468\n",
      "    },\n",
      "    {\n",
      "      \"label\": \"Spenden\",\n",
      "      \"url\": \"/spenden\"\n",
      "    }\n",
      "  ]\n",
      "}\n"
     ]
    }
   ],
   "source": [
    "import json\n",
    "\n",
    "def print_json(j):\n",
    "    print(json.dumps(j, indent=2))\n",
    "\n",
    "def navigation_of_page(page_id):\n",
    "    n = api_call(\"\"\"\n",
    "        query {\n",
    "            uuid(id: %s) {\n",
    "                ... on Page {\n",
    "                    navigation {\n",
    "                        data\n",
    "                    }\n",
    "                }\n",
    "            }\n",
    "        }\n",
    "    \"\"\" % page_id)[\"uuid\"][\"navigation\"]\n",
    "    \n",
    "    return n[\"data\"] if n != None else None\n",
    "\n",
    "print_json(navigation_of_page(18922))"
   ]
  },
  {
   "cell_type": "code",
   "execution_count": 7,
   "id": "specialized-closing",
   "metadata": {
    "scrolled": false
   },
   "outputs": [
    {
     "data": {
      "text/markdown": [
       "# Not trashed pages"
      ],
      "text/plain": [
       "<IPython.core.display.Markdown object>"
      ]
     },
     "metadata": {},
     "output_type": "display_data"
    },
    {
     "data": {
      "text/markdown": [
       "## Page 18922 on de (trashed=0):"
      ],
      "text/plain": [
       "<IPython.core.display.Markdown object>"
      ]
     },
     "metadata": {},
     "output_type": "display_data"
    },
    {
     "name": "stdout",
     "output_type": "stream",
     "text": [
      "{\n",
      "  \"label\": \"\\u00dcber Serlo\",\n",
      "  \"id\": 18922,\n",
      "  \"children\": [\n",
      "    {\n",
      "      \"label\": \"So funktioniert die Lernplattform\",\n",
      "      \"id\": 81862\n",
      "    },\n",
      "    {\n",
      "      \"label\": \"Wirkung\",\n",
      "      \"id\": 21406\n",
      "    },\n",
      "    {\n",
      "      \"label\": \"Team\",\n",
      "      \"id\": 21439\n",
      "    },\n",
      "    {\n",
      "      \"label\": \"Die Geschichte von Serlo\",\n",
      "      \"id\": 21413\n",
      "    },\n",
      "    {\n",
      "      \"label\": \"Partner und F\\u00f6rderer\",\n",
      "      \"id\": 21456\n",
      "    },\n",
      "    {\n",
      "      \"label\": \"Transparenz\",\n",
      "      \"id\": 21468\n",
      "    },\n",
      "    {\n",
      "      \"label\": \"Spenden\",\n",
      "      \"url\": \"/spenden\"\n",
      "    }\n",
      "  ]\n",
      "}\n"
     ]
    },
    {
     "data": {
      "text/markdown": [
       "## Page 19767 on de (trashed=0):"
      ],
      "text/plain": [
       "<IPython.core.display.Markdown object>"
      ]
     },
     "metadata": {},
     "output_type": "display_data"
    },
    {
     "name": "stdout",
     "output_type": "stream",
     "text": [
      "{\n",
      "  \"label\": \"Mathematik\",\n",
      "  \"id\": 19767,\n",
      "  \"children\": [\n",
      "    {\n",
      "      \"label\": \"Alle Themen\",\n",
      "      \"id\": 5\n",
      "    },\n",
      "    {\n",
      "      \"label\": \"Gymnasium\",\n",
      "      \"id\": 16042\n",
      "    },\n",
      "    {\n",
      "      \"label\": \"Realschule\",\n",
      "      \"id\": 16157\n",
      "    },\n",
      "    {\n",
      "      \"label\": \"Mittelschule (Hauptschule)\",\n",
      "      \"id\": 16259\n",
      "    },\n",
      "    {\n",
      "      \"label\": \"FOS & BOS\",\n",
      "      \"id\": 201593\n",
      "    },\n",
      "    {\n",
      "      \"label\": \"Hochschule\",\n",
      "      \"id\": 44323\n",
      "    },\n",
      "    {\n",
      "      \"label\": \"Pr\\u00fcfungen\",\n",
      "      \"id\": 83249\n",
      "    },\n",
      "    {\n",
      "      \"label\": \"Inhalte bearbeiten und neue Inhalte hinzuf\\u00fcgen\",\n",
      "      \"id\": 19880\n",
      "    },\n",
      "    {\n",
      "      \"label\": \"Chat f\\u00fcr Mathe-AutorInnen\",\n",
      "      \"url\": \"https://community.serlo.org/channel/mathe\"\n",
      "    }\n",
      "  ]\n",
      "}\n"
     ]
    },
    {
     "data": {
      "text/markdown": [
       "## Page 19869 on de (trashed=0):"
      ],
      "text/plain": [
       "<IPython.core.display.Markdown object>"
      ]
     },
     "metadata": {},
     "output_type": "display_data"
    },
    {
     "name": "stdout",
     "output_type": "stream",
     "text": [
      "{\n",
      "  \"label\": \"Mitmachen\",\n",
      "  \"id\": 19869,\n",
      "  \"children\": [\n",
      "    {\n",
      "      \"label\": \"Engagement, Praktika & Jobs\",\n",
      "      \"id\": 21563\n",
      "    },\n",
      "    {\n",
      "      \"label\": \"Kontakt und Standorte\",\n",
      "      \"id\": 21657\n",
      "    },\n",
      "    {\n",
      "      \"label\": \"Spenden\",\n",
      "      \"url\": \"/spenden\"\n",
      "    }\n",
      "  ]\n",
      "}\n"
     ]
    },
    {
     "data": {
      "text/markdown": [
       "## Page 19871 on de (trashed=0):"
      ],
      "text/plain": [
       "<IPython.core.display.Markdown object>"
      ]
     },
     "metadata": {},
     "output_type": "display_data"
    },
    {
     "name": "stdout",
     "output_type": "stream",
     "text": [
      "null\n"
     ]
    },
    {
     "data": {
      "text/markdown": [
       "## Page 19875 on de (trashed=0):"
      ],
      "text/plain": [
       "<IPython.core.display.Markdown object>"
      ]
     },
     "metadata": {},
     "output_type": "display_data"
    },
    {
     "name": "stdout",
     "output_type": "stream",
     "text": [
      "null\n"
     ]
    },
    {
     "data": {
      "text/markdown": [
       "## Page 19880 on de (trashed=0):"
      ],
      "text/plain": [
       "<IPython.core.display.Markdown object>"
      ]
     },
     "metadata": {},
     "output_type": "display_data"
    },
    {
     "name": "stdout",
     "output_type": "stream",
     "text": [
      "{\n",
      "  \"label\": \"Mathematik\",\n",
      "  \"id\": 19767,\n",
      "  \"children\": [\n",
      "    {\n",
      "      \"label\": \"Alle Themen\",\n",
      "      \"id\": 5\n",
      "    },\n",
      "    {\n",
      "      \"label\": \"Gymnasium\",\n",
      "      \"id\": 16042\n",
      "    },\n",
      "    {\n",
      "      \"label\": \"Realschule\",\n",
      "      \"id\": 16157\n",
      "    },\n",
      "    {\n",
      "      \"label\": \"Mittelschule (Hauptschule)\",\n",
      "      \"id\": 16259\n",
      "    },\n",
      "    {\n",
      "      \"label\": \"FOS & BOS\",\n",
      "      \"id\": 201593\n",
      "    },\n",
      "    {\n",
      "      \"label\": \"Hochschule\",\n",
      "      \"id\": 44323\n",
      "    },\n",
      "    {\n",
      "      \"label\": \"Pr\\u00fcfungen\",\n",
      "      \"id\": 83249\n",
      "    },\n",
      "    {\n",
      "      \"label\": \"Inhalte bearbeiten und neue Inhalte hinzuf\\u00fcgen\",\n",
      "      \"id\": 19880\n",
      "    },\n",
      "    {\n",
      "      \"label\": \"Chat f\\u00fcr Mathe-AutorInnen\",\n",
      "      \"url\": \"https://community.serlo.org/channel/mathe\"\n",
      "    }\n",
      "  ]\n",
      "}\n"
     ]
    },
    {
     "data": {
      "text/markdown": [
       "## Page 19882 on de (trashed=0):"
      ],
      "text/plain": [
       "<IPython.core.display.Markdown object>"
      ]
     },
     "metadata": {},
     "output_type": "display_data"
    },
    {
     "name": "stdout",
     "output_type": "stream",
     "text": [
      "{\n",
      "  \"label\": \"Community\",\n",
      "  \"id\": 19882,\n",
      "  \"children\": [\n",
      "    {\n",
      "      \"label\": \"Hilfeseiten\",\n",
      "      \"id\": 88059\n",
      "    },\n",
      "    {\n",
      "      \"label\": \"Werte und Entscheidungen\",\n",
      "      \"id\": 181028\n",
      "    },\n",
      "    {\n",
      "      \"label\": \"Sandkasten f\\u00fcr AutorInnen\",\n",
      "      \"id\": 106082\n",
      "    },\n",
      "    {\n",
      "      \"label\": \"Ressourcen f\\u00fcr P\\u00e4dagogInnen\",\n",
      "      \"id\": 88061\n",
      "    },\n",
      "    {\n",
      "      \"label\": \"Veranstaltungen f\\u00fcr AutorInnen\",\n",
      "      \"id\": 145470\n",
      "    },\n",
      "    {\n",
      "      \"label\": \"Alle Aktivit\\u00e4ten auf serlo.org\",\n",
      "      \"url\": \"/event/history\"\n",
      "    },\n",
      "    {\n",
      "      \"label\": \"\\u00dcbersicht aller Kommentare\",\n",
      "      \"url\": \"/discussions\"\n",
      "    },\n",
      "    {\n",
      "      \"label\": \"Ungepr\\u00fcfte Bearbeitungen\",\n",
      "      \"url\": \"/entity/unrevised\"\n",
      "    },\n",
      "    {\n",
      "      \"label\": \"Community \\u00dcbersicht\",\n",
      "      \"id\": 87993\n",
      "    }\n",
      "  ]\n",
      "}\n"
     ]
    },
    {
     "data": {
      "text/markdown": [
       "## Page 21406 on de (trashed=0):"
      ],
      "text/plain": [
       "<IPython.core.display.Markdown object>"
      ]
     },
     "metadata": {},
     "output_type": "display_data"
    },
    {
     "name": "stdout",
     "output_type": "stream",
     "text": [
      "{\n",
      "  \"label\": \"\\u00dcber Serlo\",\n",
      "  \"id\": 18922,\n",
      "  \"children\": [\n",
      "    {\n",
      "      \"label\": \"So funktioniert die Lernplattform\",\n",
      "      \"id\": 81862\n",
      "    },\n",
      "    {\n",
      "      \"label\": \"Wirkung\",\n",
      "      \"id\": 21406\n",
      "    },\n",
      "    {\n",
      "      \"label\": \"Team\",\n",
      "      \"id\": 21439\n",
      "    },\n",
      "    {\n",
      "      \"label\": \"Die Geschichte von Serlo\",\n",
      "      \"id\": 21413\n",
      "    },\n",
      "    {\n",
      "      \"label\": \"Partner und F\\u00f6rderer\",\n",
      "      \"id\": 21456\n",
      "    },\n",
      "    {\n",
      "      \"label\": \"Transparenz\",\n",
      "      \"id\": 21468\n",
      "    },\n",
      "    {\n",
      "      \"label\": \"Spenden\",\n",
      "      \"url\": \"/spenden\"\n",
      "    }\n",
      "  ]\n",
      "}\n"
     ]
    },
    {
     "data": {
      "text/markdown": [
       "## Page 21408 on de (trashed=0):"
      ],
      "text/plain": [
       "<IPython.core.display.Markdown object>"
      ]
     },
     "metadata": {},
     "output_type": "display_data"
    },
    {
     "name": "stdout",
     "output_type": "stream",
     "text": [
      "null\n"
     ]
    },
    {
     "data": {
      "text/markdown": [
       "## Page 21413 on de (trashed=0):"
      ],
      "text/plain": [
       "<IPython.core.display.Markdown object>"
      ]
     },
     "metadata": {},
     "output_type": "display_data"
    },
    {
     "name": "stdout",
     "output_type": "stream",
     "text": [
      "{\n",
      "  \"label\": \"\\u00dcber Serlo\",\n",
      "  \"id\": 18922,\n",
      "  \"children\": [\n",
      "    {\n",
      "      \"label\": \"So funktioniert die Lernplattform\",\n",
      "      \"id\": 81862\n",
      "    },\n",
      "    {\n",
      "      \"label\": \"Wirkung\",\n",
      "      \"id\": 21406\n",
      "    },\n",
      "    {\n",
      "      \"label\": \"Team\",\n",
      "      \"id\": 21439\n",
      "    },\n",
      "    {\n",
      "      \"label\": \"Die Geschichte von Serlo\",\n",
      "      \"id\": 21413\n",
      "    },\n",
      "    {\n",
      "      \"label\": \"Partner und F\\u00f6rderer\",\n",
      "      \"id\": 21456\n",
      "    },\n",
      "    {\n",
      "      \"label\": \"Transparenz\",\n",
      "      \"id\": 21468\n",
      "    },\n",
      "    {\n",
      "      \"label\": \"Spenden\",\n",
      "      \"url\": \"/spenden\"\n",
      "    }\n",
      "  ]\n",
      "}\n"
     ]
    },
    {
     "data": {
      "text/markdown": [
       "## Page 21423 on de (trashed=0):"
      ],
      "text/plain": [
       "<IPython.core.display.Markdown object>"
      ]
     },
     "metadata": {},
     "output_type": "display_data"
    },
    {
     "name": "stdout",
     "output_type": "stream",
     "text": [
      "null\n"
     ]
    },
    {
     "data": {
      "text/markdown": [
       "## Page 21429 on de (trashed=0):"
      ],
      "text/plain": [
       "<IPython.core.display.Markdown object>"
      ]
     },
     "metadata": {},
     "output_type": "display_data"
    },
    {
     "name": "stdout",
     "output_type": "stream",
     "text": [
      "null\n"
     ]
    },
    {
     "data": {
      "text/markdown": [
       "## Page 21437 on de (trashed=0):"
      ],
      "text/plain": [
       "<IPython.core.display.Markdown object>"
      ]
     },
     "metadata": {},
     "output_type": "display_data"
    },
    {
     "name": "stdout",
     "output_type": "stream",
     "text": [
      "null\n"
     ]
    },
    {
     "data": {
      "text/markdown": [
       "## Page 21439 on de (trashed=0):"
      ],
      "text/plain": [
       "<IPython.core.display.Markdown object>"
      ]
     },
     "metadata": {},
     "output_type": "display_data"
    },
    {
     "name": "stdout",
     "output_type": "stream",
     "text": [
      "{\n",
      "  \"label\": \"\\u00dcber Serlo\",\n",
      "  \"id\": 18922,\n",
      "  \"children\": [\n",
      "    {\n",
      "      \"label\": \"So funktioniert die Lernplattform\",\n",
      "      \"id\": 81862\n",
      "    },\n",
      "    {\n",
      "      \"label\": \"Wirkung\",\n",
      "      \"id\": 21406\n",
      "    },\n",
      "    {\n",
      "      \"label\": \"Team\",\n",
      "      \"id\": 21439\n",
      "    },\n",
      "    {\n",
      "      \"label\": \"Die Geschichte von Serlo\",\n",
      "      \"id\": 21413\n",
      "    },\n",
      "    {\n",
      "      \"label\": \"Partner und F\\u00f6rderer\",\n",
      "      \"id\": 21456\n",
      "    },\n",
      "    {\n",
      "      \"label\": \"Transparenz\",\n",
      "      \"id\": 21468\n",
      "    },\n",
      "    {\n",
      "      \"label\": \"Spenden\",\n",
      "      \"url\": \"/spenden\"\n",
      "    }\n",
      "  ]\n",
      "}\n"
     ]
    },
    {
     "data": {
      "text/markdown": [
       "## Page 21456 on de (trashed=0):"
      ],
      "text/plain": [
       "<IPython.core.display.Markdown object>"
      ]
     },
     "metadata": {},
     "output_type": "display_data"
    },
    {
     "name": "stdout",
     "output_type": "stream",
     "text": [
      "{\n",
      "  \"label\": \"\\u00dcber Serlo\",\n",
      "  \"id\": 18922,\n",
      "  \"children\": [\n",
      "    {\n",
      "      \"label\": \"So funktioniert die Lernplattform\",\n",
      "      \"id\": 81862\n",
      "    },\n",
      "    {\n",
      "      \"label\": \"Wirkung\",\n",
      "      \"id\": 21406\n",
      "    },\n",
      "    {\n",
      "      \"label\": \"Team\",\n",
      "      \"id\": 21439\n",
      "    },\n",
      "    {\n",
      "      \"label\": \"Die Geschichte von Serlo\",\n",
      "      \"id\": 21413\n",
      "    },\n",
      "    {\n",
      "      \"label\": \"Partner und F\\u00f6rderer\",\n",
      "      \"id\": 21456\n",
      "    },\n",
      "    {\n",
      "      \"label\": \"Transparenz\",\n",
      "      \"id\": 21468\n",
      "    },\n",
      "    {\n",
      "      \"label\": \"Spenden\",\n",
      "      \"url\": \"/spenden\"\n",
      "    }\n",
      "  ]\n",
      "}\n"
     ]
    },
    {
     "data": {
      "text/markdown": [
       "## Page 21468 on de (trashed=0):"
      ],
      "text/plain": [
       "<IPython.core.display.Markdown object>"
      ]
     },
     "metadata": {},
     "output_type": "display_data"
    },
    {
     "name": "stdout",
     "output_type": "stream",
     "text": [
      "{\n",
      "  \"label\": \"\\u00dcber Serlo\",\n",
      "  \"id\": 18922,\n",
      "  \"children\": [\n",
      "    {\n",
      "      \"label\": \"So funktioniert die Lernplattform\",\n",
      "      \"id\": 81862\n",
      "    },\n",
      "    {\n",
      "      \"label\": \"Wirkung\",\n",
      "      \"id\": 21406\n",
      "    },\n",
      "    {\n",
      "      \"label\": \"Team\",\n",
      "      \"id\": 21439\n",
      "    },\n",
      "    {\n",
      "      \"label\": \"Die Geschichte von Serlo\",\n",
      "      \"id\": 21413\n",
      "    },\n",
      "    {\n",
      "      \"label\": \"Partner und F\\u00f6rderer\",\n",
      "      \"id\": 21456\n",
      "    },\n",
      "    {\n",
      "      \"label\": \"Transparenz\",\n",
      "      \"id\": 21468\n",
      "    },\n",
      "    {\n",
      "      \"label\": \"Spenden\",\n",
      "      \"url\": \"/spenden\"\n",
      "    }\n",
      "  ]\n",
      "}\n"
     ]
    },
    {
     "data": {
      "text/markdown": [
       "## Page 21470 on de (trashed=0):"
      ],
      "text/plain": [
       "<IPython.core.display.Markdown object>"
      ]
     },
     "metadata": {},
     "output_type": "display_data"
    },
    {
     "name": "stdout",
     "output_type": "stream",
     "text": [
      "null\n"
     ]
    },
    {
     "data": {
      "text/markdown": [
       "## Page 21541 on de (trashed=0):"
      ],
      "text/plain": [
       "<IPython.core.display.Markdown object>"
      ]
     },
     "metadata": {},
     "output_type": "display_data"
    },
    {
     "name": "stdout",
     "output_type": "stream",
     "text": [
      "null\n"
     ]
    },
    {
     "data": {
      "text/markdown": [
       "## Page 21563 on de (trashed=0):"
      ],
      "text/plain": [
       "<IPython.core.display.Markdown object>"
      ]
     },
     "metadata": {},
     "output_type": "display_data"
    },
    {
     "name": "stdout",
     "output_type": "stream",
     "text": [
      "{\n",
      "  \"label\": \"Mitmachen\",\n",
      "  \"id\": 19869,\n",
      "  \"children\": [\n",
      "    {\n",
      "      \"label\": \"Engagement, Praktika & Jobs\",\n",
      "      \"id\": 21563\n",
      "    },\n",
      "    {\n",
      "      \"label\": \"Kontakt und Standorte\",\n",
      "      \"id\": 21657\n",
      "    },\n",
      "    {\n",
      "      \"label\": \"Spenden\",\n",
      "      \"url\": \"/spenden\"\n",
      "    }\n",
      "  ]\n",
      "}\n"
     ]
    },
    {
     "data": {
      "text/markdown": [
       "## Page 21654 on de (trashed=0):"
      ],
      "text/plain": [
       "<IPython.core.display.Markdown object>"
      ]
     },
     "metadata": {},
     "output_type": "display_data"
    },
    {
     "name": "stdout",
     "output_type": "stream",
     "text": [
      "null\n"
     ]
    },
    {
     "data": {
      "text/markdown": [
       "## Page 21657 on de (trashed=0):"
      ],
      "text/plain": [
       "<IPython.core.display.Markdown object>"
      ]
     },
     "metadata": {},
     "output_type": "display_data"
    },
    {
     "name": "stdout",
     "output_type": "stream",
     "text": [
      "{\n",
      "  \"label\": \"Mitmachen\",\n",
      "  \"id\": 19869,\n",
      "  \"children\": [\n",
      "    {\n",
      "      \"label\": \"Engagement, Praktika & Jobs\",\n",
      "      \"id\": 21563\n",
      "    },\n",
      "    {\n",
      "      \"label\": \"Kontakt und Standorte\",\n",
      "      \"id\": 21657\n",
      "    },\n",
      "    {\n",
      "      \"label\": \"Spenden\",\n",
      "      \"url\": \"/spenden\"\n",
      "    }\n",
      "  ]\n",
      "}\n"
     ]
    },
    {
     "data": {
      "text/markdown": [
       "## Page 22964 on de (trashed=0):"
      ],
      "text/plain": [
       "<IPython.core.display.Markdown object>"
      ]
     },
     "metadata": {},
     "output_type": "display_data"
    },
    {
     "name": "stdout",
     "output_type": "stream",
     "text": [
      "null\n"
     ]
    },
    {
     "data": {
      "text/markdown": [
       "## Page 23950 on de (trashed=0):"
      ],
      "text/plain": [
       "<IPython.core.display.Markdown object>"
      ]
     },
     "metadata": {},
     "output_type": "display_data"
    },
    {
     "name": "stdout",
     "output_type": "stream",
     "text": [
      "{\n",
      "  \"label\": \"Biologie\",\n",
      "  \"id\": 23950,\n",
      "  \"children\": [\n",
      "    {\n",
      "      \"label\": \"Themen\",\n",
      "      \"id\": 23362\n",
      "    },\n",
      "    {\n",
      "      \"label\": \"Bei Serlo-Biologie mitarbeiten\",\n",
      "      \"id\": 25017\n",
      "    }\n",
      "  ]\n",
      "}\n"
     ]
    },
    {
     "data": {
      "text/markdown": [
       "## Page 24706 on de (trashed=0):"
      ],
      "text/plain": [
       "<IPython.core.display.Markdown object>"
      ]
     },
     "metadata": {},
     "output_type": "display_data"
    },
    {
     "name": "stdout",
     "output_type": "stream",
     "text": [
      "{\n",
      "  \"label\": \"Chemie\",\n",
      "  \"id\": 24706,\n",
      "  \"children\": [\n",
      "    {\n",
      "      \"label\": \"Themen\",\n",
      "      \"id\": 18230\n",
      "    },\n",
      "    {\n",
      "      \"label\": \"Bei Serlo-Chemie mitarbeiten\",\n",
      "      \"id\": 26633\n",
      "    }\n",
      "  ]\n",
      "}\n"
     ]
    },
    {
     "data": {
      "text/markdown": [
       "## Page 24887 on de (trashed=0):"
      ],
      "text/plain": [
       "<IPython.core.display.Markdown object>"
      ]
     },
     "metadata": {},
     "output_type": "display_data"
    },
    {
     "name": "stdout",
     "output_type": "stream",
     "text": [
      "null\n"
     ]
    },
    {
     "data": {
      "text/markdown": [
       "## Page 25017 on de (trashed=0):"
      ],
      "text/plain": [
       "<IPython.core.display.Markdown object>"
      ]
     },
     "metadata": {},
     "output_type": "display_data"
    },
    {
     "name": "stdout",
     "output_type": "stream",
     "text": [
      "{\n",
      "  \"label\": \"Biologie\",\n",
      "  \"id\": 23950,\n",
      "  \"children\": [\n",
      "    {\n",
      "      \"label\": \"Themen\",\n",
      "      \"id\": 23362\n",
      "    },\n",
      "    {\n",
      "      \"label\": \"Bei Serlo-Biologie mitarbeiten\",\n",
      "      \"id\": 25017\n",
      "    }\n",
      "  ]\n",
      "}\n"
     ]
    },
    {
     "data": {
      "text/markdown": [
       "## Page 25294 on de (trashed=0):"
      ],
      "text/plain": [
       "<IPython.core.display.Markdown object>"
      ]
     },
     "metadata": {},
     "output_type": "display_data"
    },
    {
     "name": "stdout",
     "output_type": "stream",
     "text": [
      "{\n",
      "  \"label\": \"Angewandte Nachhaltigkeit\",\n",
      "  \"id\": 58771,\n",
      "  \"children\": [\n",
      "    {\n",
      "      \"label\": \"Alle Themen\",\n",
      "      \"id\": 17744\n",
      "    },\n",
      "    {\n",
      "      \"label\": \"Bei Serlo-Nachhaltigkeit mitmachen\",\n",
      "      \"id\": 25294\n",
      "    },\n",
      "    {\n",
      "      \"label\": \"Chat f\\u00fcr Nachhaltigkeits-AutorInnen\",\n",
      "      \"url\": \"https://community.serlo.org/channel/nachhaltigkeit\"\n",
      "    }\n",
      "  ]\n",
      "}\n"
     ]
    },
    {
     "data": {
      "text/markdown": [
       "## Page 25598 on de (trashed=0):"
      ],
      "text/plain": [
       "<IPython.core.display.Markdown object>"
      ]
     },
     "metadata": {},
     "output_type": "display_data"
    },
    {
     "name": "stdout",
     "output_type": "stream",
     "text": [
      "null\n"
     ]
    },
    {
     "data": {
      "text/markdown": [
       "## Page 25713 on de (trashed=0):"
      ],
      "text/plain": [
       "<IPython.core.display.Markdown object>"
      ]
     },
     "metadata": {},
     "output_type": "display_data"
    },
    {
     "name": "stdout",
     "output_type": "stream",
     "text": [
      "null\n"
     ]
    },
    {
     "data": {
      "text/markdown": [
       "## Page 25985 on de (trashed=0):"
      ],
      "text/plain": [
       "<IPython.core.display.Markdown object>"
      ]
     },
     "metadata": {},
     "output_type": "display_data"
    },
    {
     "name": "stdout",
     "output_type": "stream",
     "text": [
      "{\n",
      "  \"label\": \"Englisch\",\n",
      "  \"id\": 25985,\n",
      "  \"children\": [\n",
      "    {\n",
      "      \"label\": \"Themen\",\n",
      "      \"id\": 25979\n",
      "    },\n",
      "    {\n",
      "      \"label\": \"Bei Serlo-Englisch mitarbeiten\",\n",
      "      \"children\": [\n",
      "        {\n",
      "          \"label\": \"Neu hier?\",\n",
      "          \"id\": 26874\n",
      "        },\n",
      "        {\n",
      "          \"label\": \"Taxonomy bearbeiten\",\n",
      "          \"url\": \"/taxonomy/term/organize/25979\"\n",
      "        }\n",
      "      ]\n",
      "    }\n",
      "  ]\n",
      "}\n"
     ]
    },
    {
     "data": {
      "text/markdown": [
       "## Page 26453 on de (trashed=0):"
      ],
      "text/plain": [
       "<IPython.core.display.Markdown object>"
      ]
     },
     "metadata": {},
     "output_type": "display_data"
    },
    {
     "name": "stdout",
     "output_type": "stream",
     "text": [
      "null\n"
     ]
    },
    {
     "data": {
      "text/markdown": [
       "## Page 26473 on de (trashed=0):"
      ],
      "text/plain": [
       "<IPython.core.display.Markdown object>"
      ]
     },
     "metadata": {},
     "output_type": "display_data"
    },
    {
     "name": "stdout",
     "output_type": "stream",
     "text": [
      "null\n"
     ]
    },
    {
     "data": {
      "text/markdown": [
       "## Page 26633 on de (trashed=0):"
      ],
      "text/plain": [
       "<IPython.core.display.Markdown object>"
      ]
     },
     "metadata": {},
     "output_type": "display_data"
    },
    {
     "name": "stdout",
     "output_type": "stream",
     "text": [
      "{\n",
      "  \"label\": \"Chemie\",\n",
      "  \"id\": 24706,\n",
      "  \"children\": [\n",
      "    {\n",
      "      \"label\": \"Themen\",\n",
      "      \"id\": 18230\n",
      "    },\n",
      "    {\n",
      "      \"label\": \"Bei Serlo-Chemie mitarbeiten\",\n",
      "      \"id\": 26633\n",
      "    }\n",
      "  ]\n",
      "}\n"
     ]
    },
    {
     "data": {
      "text/markdown": [
       "## Page 31996 on de (trashed=0):"
      ],
      "text/plain": [
       "<IPython.core.display.Markdown object>"
      ]
     },
     "metadata": {},
     "output_type": "display_data"
    },
    {
     "name": "stdout",
     "output_type": "stream",
     "text": [
      "null\n"
     ]
    },
    {
     "data": {
      "text/markdown": [
       "## Page 41144 on de (trashed=0):"
      ],
      "text/plain": [
       "<IPython.core.display.Markdown object>"
      ]
     },
     "metadata": {},
     "output_type": "display_data"
    },
    {
     "name": "stdout",
     "output_type": "stream",
     "text": [
      "null\n"
     ]
    },
    {
     "data": {
      "text/markdown": [
       "## Page 48492 on de (trashed=0):"
      ],
      "text/plain": [
       "<IPython.core.display.Markdown object>"
      ]
     },
     "metadata": {},
     "output_type": "display_data"
    },
    {
     "name": "stdout",
     "output_type": "stream",
     "text": [
      "{\n",
      "  \"label\": \"Informatik\",\n",
      "  \"id\": 48492,\n",
      "  \"children\": [\n",
      "    {\n",
      "      \"label\": \"Alle Themen\",\n",
      "      \"id\": 47899\n",
      "    },\n",
      "    {\n",
      "      \"label\": \"Programmieren lernen\",\n",
      "      \"id\": 75274\n",
      "    },\n",
      "    {\n",
      "      \"label\": \"Gymnasium\",\n",
      "      \"id\": 60396\n",
      "    },\n",
      "    {\n",
      "      \"label\": \"Bei Serlo-Informatik mitarbeiten\",\n",
      "      \"id\": 49982\n",
      "    }\n",
      "  ]\n",
      "}\n"
     ]
    },
    {
     "data": {
      "text/markdown": [
       "## Page 48700 on de (trashed=0):"
      ],
      "text/plain": [
       "<IPython.core.display.Markdown object>"
      ]
     },
     "metadata": {},
     "output_type": "display_data"
    },
    {
     "name": "stdout",
     "output_type": "stream",
     "text": [
      "null\n"
     ]
    },
    {
     "data": {
      "text/markdown": [
       "## Page 49201 on de (trashed=0):"
      ],
      "text/plain": [
       "<IPython.core.display.Markdown object>"
      ]
     },
     "metadata": {},
     "output_type": "display_data"
    },
    {
     "name": "stdout",
     "output_type": "stream",
     "text": [
      "null\n"
     ]
    },
    {
     "data": {
      "text/markdown": [
       "## Page 49982 on de (trashed=0):"
      ],
      "text/plain": [
       "<IPython.core.display.Markdown object>"
      ]
     },
     "metadata": {},
     "output_type": "display_data"
    },
    {
     "name": "stdout",
     "output_type": "stream",
     "text": [
      "{\n",
      "  \"label\": \"Informatik\",\n",
      "  \"id\": 48492,\n",
      "  \"children\": [\n",
      "    {\n",
      "      \"label\": \"Alle Themen\",\n",
      "      \"id\": 47899\n",
      "    },\n",
      "    {\n",
      "      \"label\": \"Programmieren lernen\",\n",
      "      \"id\": 75274\n",
      "    },\n",
      "    {\n",
      "      \"label\": \"Gymnasium\",\n",
      "      \"id\": 60396\n",
      "    },\n",
      "    {\n",
      "      \"label\": \"Bei Serlo-Informatik mitarbeiten\",\n",
      "      \"id\": 49982\n",
      "    }\n",
      "  ]\n",
      "}\n"
     ]
    },
    {
     "data": {
      "text/markdown": [
       "## Page 51886 on de (trashed=0):"
      ],
      "text/plain": [
       "<IPython.core.display.Markdown object>"
      ]
     },
     "metadata": {},
     "output_type": "display_data"
    },
    {
     "name": "stdout",
     "output_type": "stream",
     "text": [
      "null\n"
     ]
    },
    {
     "data": {
      "text/markdown": [
       "## Page 56930 on de (trashed=0):"
      ],
      "text/plain": [
       "<IPython.core.display.Markdown object>"
      ]
     },
     "metadata": {},
     "output_type": "display_data"
    },
    {
     "name": "stdout",
     "output_type": "stream",
     "text": [
      "null\n"
     ]
    },
    {
     "data": {
      "text/markdown": [
       "## Page 58771 on de (trashed=0):"
      ],
      "text/plain": [
       "<IPython.core.display.Markdown object>"
      ]
     },
     "metadata": {},
     "output_type": "display_data"
    },
    {
     "name": "stdout",
     "output_type": "stream",
     "text": [
      "{\n",
      "  \"label\": \"Angewandte Nachhaltigkeit\",\n",
      "  \"id\": 58771,\n",
      "  \"children\": [\n",
      "    {\n",
      "      \"label\": \"Alle Themen\",\n",
      "      \"id\": 17744\n",
      "    },\n",
      "    {\n",
      "      \"label\": \"Bei Serlo-Nachhaltigkeit mitmachen\",\n",
      "      \"id\": 25294\n",
      "    },\n",
      "    {\n",
      "      \"label\": \"Chat f\\u00fcr Nachhaltigkeits-AutorInnen\",\n",
      "      \"url\": \"https://community.serlo.org/channel/nachhaltigkeit\"\n",
      "    }\n",
      "  ]\n",
      "}\n"
     ]
    },
    {
     "data": {
      "text/markdown": [
       "## Page 73195 on de (trashed=0):"
      ],
      "text/plain": [
       "<IPython.core.display.Markdown object>"
      ]
     },
     "metadata": {},
     "output_type": "display_data"
    },
    {
     "name": "stdout",
     "output_type": "stream",
     "text": [
      "null\n"
     ]
    },
    {
     "data": {
      "text/markdown": [
       "## Page 75274 on de (trashed=0):"
      ],
      "text/plain": [
       "<IPython.core.display.Markdown object>"
      ]
     },
     "metadata": {},
     "output_type": "display_data"
    },
    {
     "name": "stdout",
     "output_type": "stream",
     "text": [
      "{\n",
      "  \"label\": \"Informatik\",\n",
      "  \"id\": 48492,\n",
      "  \"children\": [\n",
      "    {\n",
      "      \"label\": \"Alle Themen\",\n",
      "      \"id\": 47899\n",
      "    },\n",
      "    {\n",
      "      \"label\": \"Programmieren lernen\",\n",
      "      \"id\": 75274\n",
      "    },\n",
      "    {\n",
      "      \"label\": \"Gymnasium\",\n",
      "      \"id\": 60396\n",
      "    },\n",
      "    {\n",
      "      \"label\": \"Bei Serlo-Informatik mitarbeiten\",\n",
      "      \"id\": 49982\n",
      "    }\n",
      "  ]\n",
      "}\n"
     ]
    },
    {
     "data": {
      "text/markdown": [
       "## Page 75578 on de (trashed=0):"
      ],
      "text/plain": [
       "<IPython.core.display.Markdown object>"
      ]
     },
     "metadata": {},
     "output_type": "display_data"
    },
    {
     "name": "stdout",
     "output_type": "stream",
     "text": [
      "null\n"
     ]
    },
    {
     "data": {
      "text/markdown": [
       "## Page 79157 on de (trashed=0):"
      ],
      "text/plain": [
       "<IPython.core.display.Markdown object>"
      ]
     },
     "metadata": {},
     "output_type": "display_data"
    },
    {
     "name": "stdout",
     "output_type": "stream",
     "text": [
      "{\n",
      "  \"label\": \"Politik\",\n",
      "  \"id\": 79157,\n",
      "  \"children\": [\n",
      "    {\n",
      "      \"label\": \"Alle Themen\",\n",
      "      \"id\": 79159\n",
      "    }\n",
      "  ]\n",
      "}\n"
     ]
    },
    {
     "data": {
      "text/markdown": [
       "## Page 81353 on de (trashed=0):"
      ],
      "text/plain": [
       "<IPython.core.display.Markdown object>"
      ]
     },
     "metadata": {},
     "output_type": "display_data"
    },
    {
     "name": "stdout",
     "output_type": "stream",
     "text": [
      "null\n"
     ]
    },
    {
     "data": {
      "text/markdown": [
       "## Page 81355 on de (trashed=0):"
      ],
      "text/plain": [
       "<IPython.core.display.Markdown object>"
      ]
     },
     "metadata": {},
     "output_type": "display_data"
    },
    {
     "name": "stdout",
     "output_type": "stream",
     "text": [
      "null\n"
     ]
    },
    {
     "data": {
      "text/markdown": [
       "## Page 81862 on de (trashed=0):"
      ],
      "text/plain": [
       "<IPython.core.display.Markdown object>"
      ]
     },
     "metadata": {},
     "output_type": "display_data"
    },
    {
     "name": "stdout",
     "output_type": "stream",
     "text": [
      "{\n",
      "  \"label\": \"\\u00dcber Serlo\",\n",
      "  \"id\": 18922,\n",
      "  \"children\": [\n",
      "    {\n",
      "      \"label\": \"So funktioniert die Lernplattform\",\n",
      "      \"id\": 81862\n",
      "    },\n",
      "    {\n",
      "      \"label\": \"Wirkung\",\n",
      "      \"id\": 21406\n",
      "    },\n",
      "    {\n",
      "      \"label\": \"Team\",\n",
      "      \"id\": 21439\n",
      "    },\n",
      "    {\n",
      "      \"label\": \"Die Geschichte von Serlo\",\n",
      "      \"id\": 21413\n",
      "    },\n",
      "    {\n",
      "      \"label\": \"Partner und F\\u00f6rderer\",\n",
      "      \"id\": 21456\n",
      "    },\n",
      "    {\n",
      "      \"label\": \"Transparenz\",\n",
      "      \"id\": 21468\n",
      "    },\n",
      "    {\n",
      "      \"label\": \"Spenden\",\n",
      "      \"url\": \"/spenden\"\n",
      "    }\n",
      "  ]\n",
      "}\n"
     ]
    },
    {
     "data": {
      "text/markdown": [
       "## Page 83249 on de (trashed=0):"
      ],
      "text/plain": [
       "<IPython.core.display.Markdown object>"
      ]
     },
     "metadata": {},
     "output_type": "display_data"
    },
    {
     "name": "stdout",
     "output_type": "stream",
     "text": [
      "{\n",
      "  \"label\": \"Mathematik\",\n",
      "  \"id\": 19767,\n",
      "  \"children\": [\n",
      "    {\n",
      "      \"label\": \"Alle Themen\",\n",
      "      \"id\": 5\n",
      "    },\n",
      "    {\n",
      "      \"label\": \"Gymnasium\",\n",
      "      \"id\": 16042\n",
      "    },\n",
      "    {\n",
      "      \"label\": \"Realschule\",\n",
      "      \"id\": 16157\n",
      "    },\n",
      "    {\n",
      "      \"label\": \"Mittelschule (Hauptschule)\",\n",
      "      \"id\": 16259\n",
      "    },\n",
      "    {\n",
      "      \"label\": \"FOS & BOS\",\n",
      "      \"id\": 201593\n",
      "    },\n",
      "    {\n",
      "      \"label\": \"Hochschule\",\n",
      "      \"id\": 44323\n",
      "    },\n",
      "    {\n",
      "      \"label\": \"Pr\\u00fcfungen\",\n",
      "      \"id\": 83249\n",
      "    },\n",
      "    {\n",
      "      \"label\": \"Inhalte bearbeiten und neue Inhalte hinzuf\\u00fcgen\",\n",
      "      \"id\": 19880\n",
      "    },\n",
      "    {\n",
      "      \"label\": \"Chat f\\u00fcr Mathe-AutorInnen\",\n",
      "      \"url\": \"https://community.serlo.org/channel/mathe\"\n",
      "    }\n",
      "  ]\n",
      "}\n"
     ]
    },
    {
     "data": {
      "text/markdown": [
       "## Page 93434 on de (trashed=0):"
      ],
      "text/plain": [
       "<IPython.core.display.Markdown object>"
      ]
     },
     "metadata": {},
     "output_type": "display_data"
    },
    {
     "name": "stdout",
     "output_type": "stream",
     "text": [
      "null\n"
     ]
    },
    {
     "data": {
      "text/markdown": [
       "## Page 182154 on de (trashed=0):"
      ],
      "text/plain": [
       "<IPython.core.display.Markdown object>"
      ]
     },
     "metadata": {},
     "output_type": "display_data"
    },
    {
     "name": "stdout",
     "output_type": "stream",
     "text": [
      "{\n",
      "  \"label\": \"Lerntipps\",\n",
      "  \"id\": 182154,\n",
      "  \"children\": [\n",
      "    {\n",
      "      \"label\": \"Alle Themen\",\n",
      "      \"id\": 181883\n",
      "    },\n",
      "    {\n",
      "      \"label\": \"Bei Serlo-Lerntipps mitarbeiten\",\n",
      "      \"id\": 242472\n",
      "    }\n",
      "  ]\n",
      "}\n"
     ]
    },
    {
     "data": {
      "text/markdown": [
       "## Page 242472 on de (trashed=0):"
      ],
      "text/plain": [
       "<IPython.core.display.Markdown object>"
      ]
     },
     "metadata": {},
     "output_type": "display_data"
    },
    {
     "name": "stdout",
     "output_type": "stream",
     "text": [
      "{\n",
      "  \"label\": \"Lerntipps\",\n",
      "  \"id\": 182154,\n",
      "  \"children\": [\n",
      "    {\n",
      "      \"label\": \"Alle Themen\",\n",
      "      \"id\": 181883\n",
      "    },\n",
      "    {\n",
      "      \"label\": \"Bei Serlo-Lerntipps mitarbeiten\",\n",
      "      \"id\": 242472\n",
      "    }\n",
      "  ]\n",
      "}\n"
     ]
    },
    {
     "data": {
      "text/markdown": [
       "## Page 23580 on en (trashed=0):"
      ],
      "text/plain": [
       "<IPython.core.display.Markdown object>"
      ]
     },
     "metadata": {},
     "output_type": "display_data"
    },
    {
     "name": "stdout",
     "output_type": "stream",
     "text": [
      "null\n"
     ]
    },
    {
     "data": {
      "text/markdown": [
       "## Page 23591 on en (trashed=0):"
      ],
      "text/plain": [
       "<IPython.core.display.Markdown object>"
      ]
     },
     "metadata": {},
     "output_type": "display_data"
    },
    {
     "name": "stdout",
     "output_type": "stream",
     "text": [
      "{\n",
      "  \"label\": \"Math\",\n",
      "  \"id\": 23591,\n",
      "  \"children\": [\n",
      "    {\n",
      "      \"label\": \"Topics\",\n",
      "      \"id\": 23593\n",
      "    },\n",
      "    {\n",
      "      \"label\": \"Contribute to Serlo-Math\",\n",
      "      \"children\": [\n",
      "        {\n",
      "          \"label\": \"New here?\",\n",
      "          \"id\": 49386\n",
      "        },\n",
      "        {\n",
      "          \"label\": \"Guidelines\",\n",
      "          \"id\": 48345\n",
      "        },\n",
      "        {\n",
      "          \"label\": \"Edit Taxonomy\",\n",
      "          \"url\": \"/taxonomy/term/organize/23593\"\n",
      "        }\n",
      "      ]\n",
      "    }\n",
      "  ]\n",
      "}\n"
     ]
    },
    {
     "data": {
      "text/markdown": [
       "## Page 23727 on en (trashed=0):"
      ],
      "text/plain": [
       "<IPython.core.display.Markdown object>"
      ]
     },
     "metadata": {},
     "output_type": "display_data"
    },
    {
     "name": "stdout",
     "output_type": "stream",
     "text": [
      "{\n",
      "  \"label\": \"About Serlo\",\n",
      "  \"id\": 23727,\n",
      "  \"children\": [\n",
      "    {\n",
      "      \"label\": \"How to learn with serlo.org\",\n",
      "      \"id\": 110332\n",
      "    },\n",
      "    {\n",
      "      \"label\": \"Impact\",\n",
      "      \"id\": 110335\n",
      "    },\n",
      "    {\n",
      "      \"label\": \"Team\",\n",
      "      \"id\": 32840\n",
      "    },\n",
      "    {\n",
      "      \"label\": \"Partners and Donors\",\n",
      "      \"id\": 110337\n",
      "    },\n",
      "    {\n",
      "      \"label\": \"Serlo.org in other languages\",\n",
      "      \"id\": 93321\n",
      "    }\n",
      "  ]\n",
      "}\n"
     ]
    },
    {
     "data": {
      "text/markdown": [
       "## Page 27469 on en (trashed=0):"
      ],
      "text/plain": [
       "<IPython.core.display.Markdown object>"
      ]
     },
     "metadata": {},
     "output_type": "display_data"
    },
    {
     "name": "stdout",
     "output_type": "stream",
     "text": [
      "{\n",
      "  \"label\": \"Get Involved!\",\n",
      "  \"id\": 27469,\n",
      "  \"children\": [\n",
      "    {\n",
      "      \"label\": \"Contact\",\n",
      "      \"id\": 41043\n",
      "    }\n",
      "  ]\n",
      "}\n"
     ]
    },
    {
     "data": {
      "text/markdown": [
       "## Page 32840 on en (trashed=0):"
      ],
      "text/plain": [
       "<IPython.core.display.Markdown object>"
      ]
     },
     "metadata": {},
     "output_type": "display_data"
    },
    {
     "name": "stdout",
     "output_type": "stream",
     "text": [
      "{\n",
      "  \"label\": \"About Serlo\",\n",
      "  \"id\": 23727,\n",
      "  \"children\": [\n",
      "    {\n",
      "      \"label\": \"How to learn with serlo.org\",\n",
      "      \"id\": 110332\n",
      "    },\n",
      "    {\n",
      "      \"label\": \"Impact\",\n",
      "      \"id\": 110335\n",
      "    },\n",
      "    {\n",
      "      \"label\": \"Team\",\n",
      "      \"id\": 32840\n",
      "    },\n",
      "    {\n",
      "      \"label\": \"Partners and Donors\",\n",
      "      \"id\": 110337\n",
      "    },\n",
      "    {\n",
      "      \"label\": \"Serlo.org in other languages\",\n",
      "      \"id\": 93321\n",
      "    }\n",
      "  ]\n",
      "}\n"
     ]
    },
    {
     "data": {
      "text/markdown": [
       "## Page 35587 on en (trashed=0):"
      ],
      "text/plain": [
       "<IPython.core.display.Markdown object>"
      ]
     },
     "metadata": {},
     "output_type": "display_data"
    },
    {
     "name": "stdout",
     "output_type": "stream",
     "text": [
      "{\n",
      "  \"label\": \"Community\",\n",
      "  \"id\": 35587,\n",
      "  \"children\": [\n",
      "    {\n",
      "      \"label\": \"Help for Editors\",\n",
      "      \"id\": 84500\n",
      "    },\n",
      "    {\n",
      "      \"label\": \"New Subjects and Topics\",\n",
      "      \"id\": 106103\n",
      "    },\n",
      "    {\n",
      "      \"label\": \"Sandbox for Authors\",\n",
      "      \"id\": 106102\n",
      "    },\n",
      "    {\n",
      "      \"label\": \"All Activities on Serlo\",\n",
      "      \"url\": \"/event/history\"\n",
      "    },\n",
      "    {\n",
      "      \"label\": \"All Discussions\",\n",
      "      \"url\": \"/discussions\"\n",
      "    },\n",
      "    {\n",
      "      \"label\": \"Start new Serlo teams\",\n",
      "      \"id\": 48538\n",
      "    },\n",
      "    {\n",
      "      \"label\": \"Community Values\",\n",
      "      \"id\": 48210\n",
      "    },\n",
      "    {\n",
      "      \"label\": \"Community Overview\",\n",
      "      \"id\": 48537\n",
      "    }\n",
      "  ]\n",
      "}\n"
     ]
    },
    {
     "data": {
      "text/markdown": [
       "## Page 35589 on en (trashed=0):"
      ],
      "text/plain": [
       "<IPython.core.display.Markdown object>"
      ]
     },
     "metadata": {},
     "output_type": "display_data"
    },
    {
     "name": "stdout",
     "output_type": "stream",
     "text": [
      "null\n"
     ]
    },
    {
     "data": {
      "text/markdown": [
       "## Page 35617 on en (trashed=0):"
      ],
      "text/plain": [
       "<IPython.core.display.Markdown object>"
      ]
     },
     "metadata": {},
     "output_type": "display_data"
    },
    {
     "name": "stdout",
     "output_type": "stream",
     "text": [
      "null\n"
     ]
    },
    {
     "data": {
      "text/markdown": [
       "## Page 35647 on en (trashed=0):"
      ],
      "text/plain": [
       "<IPython.core.display.Markdown object>"
      ]
     },
     "metadata": {},
     "output_type": "display_data"
    },
    {
     "name": "stdout",
     "output_type": "stream",
     "text": [
      "null\n"
     ]
    },
    {
     "data": {
      "text/markdown": [
       "## Page 39396 on en (trashed=0):"
      ],
      "text/plain": [
       "<IPython.core.display.Markdown object>"
      ]
     },
     "metadata": {},
     "output_type": "display_data"
    },
    {
     "name": "stdout",
     "output_type": "stream",
     "text": [
      "null\n"
     ]
    },
    {
     "data": {
      "text/markdown": [
       "## Page 41043 on en (trashed=0):"
      ],
      "text/plain": [
       "<IPython.core.display.Markdown object>"
      ]
     },
     "metadata": {},
     "output_type": "display_data"
    },
    {
     "name": "stdout",
     "output_type": "stream",
     "text": [
      "{\n",
      "  \"label\": \"Get Involved!\",\n",
      "  \"id\": 27469,\n",
      "  \"children\": [\n",
      "    {\n",
      "      \"label\": \"Contact\",\n",
      "      \"id\": 41043\n",
      "    }\n",
      "  ]\n",
      "}\n"
     ]
    },
    {
     "data": {
      "text/markdown": [
       "## Page 41046 on en (trashed=0):"
      ],
      "text/plain": [
       "<IPython.core.display.Markdown object>"
      ]
     },
     "metadata": {},
     "output_type": "display_data"
    },
    {
     "name": "stdout",
     "output_type": "stream",
     "text": [
      "null\n"
     ]
    },
    {
     "data": {
      "text/markdown": [
       "## Page 48210 on en (trashed=0):"
      ],
      "text/plain": [
       "<IPython.core.display.Markdown object>"
      ]
     },
     "metadata": {},
     "output_type": "display_data"
    },
    {
     "name": "stdout",
     "output_type": "stream",
     "text": [
      "{\n",
      "  \"label\": \"Community\",\n",
      "  \"id\": 35587,\n",
      "  \"children\": [\n",
      "    {\n",
      "      \"label\": \"Help for Editors\",\n",
      "      \"id\": 84500\n",
      "    },\n",
      "    {\n",
      "      \"label\": \"New Subjects and Topics\",\n",
      "      \"id\": 106103\n",
      "    },\n",
      "    {\n",
      "      \"label\": \"Sandbox for Authors\",\n",
      "      \"id\": 106102\n",
      "    },\n",
      "    {\n",
      "      \"label\": \"All Activities on Serlo\",\n",
      "      \"url\": \"/event/history\"\n",
      "    },\n",
      "    {\n",
      "      \"label\": \"All Discussions\",\n",
      "      \"url\": \"/discussions\"\n",
      "    },\n",
      "    {\n",
      "      \"label\": \"Start new Serlo teams\",\n",
      "      \"id\": 48538\n",
      "    },\n",
      "    {\n",
      "      \"label\": \"Community Values\",\n",
      "      \"id\": 48210\n",
      "    },\n",
      "    {\n",
      "      \"label\": \"Community Overview\",\n",
      "      \"id\": 48537\n",
      "    }\n",
      "  ]\n",
      "}\n"
     ]
    },
    {
     "data": {
      "text/markdown": [
       "## Page 48310 on en (trashed=0):"
      ],
      "text/plain": [
       "<IPython.core.display.Markdown object>"
      ]
     },
     "metadata": {},
     "output_type": "display_data"
    },
    {
     "name": "stdout",
     "output_type": "stream",
     "text": [
      "null\n"
     ]
    },
    {
     "data": {
      "text/markdown": [
       "## Page 48315 on en (trashed=0):"
      ],
      "text/plain": [
       "<IPython.core.display.Markdown object>"
      ]
     },
     "metadata": {},
     "output_type": "display_data"
    },
    {
     "name": "stdout",
     "output_type": "stream",
     "text": [
      "null\n"
     ]
    },
    {
     "data": {
      "text/markdown": [
       "## Page 48331 on en (trashed=0):"
      ],
      "text/plain": [
       "<IPython.core.display.Markdown object>"
      ]
     },
     "metadata": {},
     "output_type": "display_data"
    },
    {
     "name": "stdout",
     "output_type": "stream",
     "text": [
      "null\n"
     ]
    },
    {
     "data": {
      "text/markdown": [
       "## Page 48345 on en (trashed=0):"
      ],
      "text/plain": [
       "<IPython.core.display.Markdown object>"
      ]
     },
     "metadata": {},
     "output_type": "display_data"
    },
    {
     "name": "stdout",
     "output_type": "stream",
     "text": [
      "{\n",
      "  \"label\": \"Math\",\n",
      "  \"id\": 23591,\n",
      "  \"children\": [\n",
      "    {\n",
      "      \"label\": \"Topics\",\n",
      "      \"id\": 23593\n",
      "    },\n",
      "    {\n",
      "      \"label\": \"Contribute to Serlo-Math\",\n",
      "      \"children\": [\n",
      "        {\n",
      "          \"label\": \"New here?\",\n",
      "          \"id\": 49386\n",
      "        },\n",
      "        {\n",
      "          \"label\": \"Guidelines\",\n",
      "          \"id\": 48345\n",
      "        },\n",
      "        {\n",
      "          \"label\": \"Edit Taxonomy\",\n",
      "          \"url\": \"/taxonomy/term/organize/23593\"\n",
      "        }\n",
      "      ]\n",
      "    }\n",
      "  ]\n",
      "}\n"
     ]
    },
    {
     "data": {
      "text/markdown": [
       "## Page 48347 on en (trashed=0):"
      ],
      "text/plain": [
       "<IPython.core.display.Markdown object>"
      ]
     },
     "metadata": {},
     "output_type": "display_data"
    },
    {
     "name": "stdout",
     "output_type": "stream",
     "text": [
      "null\n"
     ]
    },
    {
     "data": {
      "text/markdown": [
       "## Page 48404 on en (trashed=0):"
      ],
      "text/plain": [
       "<IPython.core.display.Markdown object>"
      ]
     },
     "metadata": {},
     "output_type": "display_data"
    },
    {
     "name": "stdout",
     "output_type": "stream",
     "text": [
      "{\n",
      "  \"label\": \"Music\",\n",
      "  \"id\": 48404,\n",
      "  \"children\": [\n",
      "    {\n",
      "      \"label\": \"Topics\",\n",
      "      \"id\": 48415\n",
      "    }\n",
      "  ]\n",
      "}\n"
     ]
    },
    {
     "data": {
      "text/markdown": [
       "## Page 48408 on en (trashed=0):"
      ],
      "text/plain": [
       "<IPython.core.display.Markdown object>"
      ]
     },
     "metadata": {},
     "output_type": "display_data"
    },
    {
     "name": "stdout",
     "output_type": "stream",
     "text": [
      "null\n"
     ]
    },
    {
     "data": {
      "text/markdown": [
       "## Page 48489 on en (trashed=0):"
      ],
      "text/plain": [
       "<IPython.core.display.Markdown object>"
      ]
     },
     "metadata": {},
     "output_type": "display_data"
    },
    {
     "name": "stdout",
     "output_type": "stream",
     "text": [
      "null\n"
     ]
    },
    {
     "data": {
      "text/markdown": [
       "## Page 49030 on en (trashed=0):"
      ],
      "text/plain": [
       "<IPython.core.display.Markdown object>"
      ]
     },
     "metadata": {},
     "output_type": "display_data"
    },
    {
     "name": "stdout",
     "output_type": "stream",
     "text": [
      "null\n"
     ]
    },
    {
     "data": {
      "text/markdown": [
       "## Page 49386 on en (trashed=0):"
      ],
      "text/plain": [
       "<IPython.core.display.Markdown object>"
      ]
     },
     "metadata": {},
     "output_type": "display_data"
    },
    {
     "name": "stdout",
     "output_type": "stream",
     "text": [
      "{\n",
      "  \"label\": \"Math\",\n",
      "  \"id\": 23591,\n",
      "  \"children\": [\n",
      "    {\n",
      "      \"label\": \"Topics\",\n",
      "      \"id\": 23593\n",
      "    },\n",
      "    {\n",
      "      \"label\": \"Contribute to Serlo-Math\",\n",
      "      \"children\": [\n",
      "        {\n",
      "          \"label\": \"New here?\",\n",
      "          \"id\": 49386\n",
      "        },\n",
      "        {\n",
      "          \"label\": \"Guidelines\",\n",
      "          \"id\": 48345\n",
      "        },\n",
      "        {\n",
      "          \"label\": \"Edit Taxonomy\",\n",
      "          \"url\": \"/taxonomy/term/organize/23593\"\n",
      "        }\n",
      "      ]\n",
      "    }\n",
      "  ]\n",
      "}\n"
     ]
    },
    {
     "data": {
      "text/markdown": [
       "## Page 50275 on en (trashed=0):"
      ],
      "text/plain": [
       "<IPython.core.display.Markdown object>"
      ]
     },
     "metadata": {},
     "output_type": "display_data"
    },
    {
     "name": "stdout",
     "output_type": "stream",
     "text": [
      "null\n"
     ]
    },
    {
     "data": {
      "text/markdown": [
       "## Page 50282 on en (trashed=0):"
      ],
      "text/plain": [
       "<IPython.core.display.Markdown object>"
      ]
     },
     "metadata": {},
     "output_type": "display_data"
    },
    {
     "ename": "TypeError",
     "evalue": "'NoneType' object is not subscriptable",
     "output_type": "error",
     "traceback": [
      "\u001b[0;31m---------------------------------------------------------------------------\u001b[0m",
      "\u001b[0;31mTypeError\u001b[0m                                 Traceback (most recent call last)",
      "\u001b[0;32m<ipython-input-7-40324855dc93>\u001b[0m in \u001b[0;36m<module>\u001b[0;34m\u001b[0m\n\u001b[1;32m      4\u001b[0m     \u001b[0;32mif\u001b[0m \u001b[0;32mnot\u001b[0m \u001b[0mtrashed\u001b[0m\u001b[0;34m:\u001b[0m\u001b[0;34m\u001b[0m\u001b[0;34m\u001b[0m\u001b[0m\n\u001b[1;32m      5\u001b[0m         \u001b[0mdisplay\u001b[0m\u001b[0;34m(\u001b[0m\u001b[0mMarkdown\u001b[0m\u001b[0;34m(\u001b[0m\u001b[0;34mf\"## Page {page_id} on {instance} (trashed={trashed}):\"\u001b[0m\u001b[0;34m)\u001b[0m\u001b[0;34m)\u001b[0m\u001b[0;34m\u001b[0m\u001b[0;34m\u001b[0m\u001b[0m\n\u001b[0;32m----> 6\u001b[0;31m         \u001b[0mprint_json\u001b[0m\u001b[0;34m(\u001b[0m\u001b[0mnavigation_of_page\u001b[0m\u001b[0;34m(\u001b[0m\u001b[0mpage_id\u001b[0m\u001b[0;34m)\u001b[0m\u001b[0;34m)\u001b[0m\u001b[0;34m\u001b[0m\u001b[0;34m\u001b[0m\u001b[0m\n\u001b[0m",
      "\u001b[0;32m<ipython-input-5-45593c382642>\u001b[0m in \u001b[0;36mnavigation_of_page\u001b[0;34m(page_id)\u001b[0m\n\u001b[1;32m      5\u001b[0m \u001b[0;34m\u001b[0m\u001b[0m\n\u001b[1;32m      6\u001b[0m \u001b[0;32mdef\u001b[0m \u001b[0mnavigation_of_page\u001b[0m\u001b[0;34m(\u001b[0m\u001b[0mpage_id\u001b[0m\u001b[0;34m)\u001b[0m\u001b[0;34m:\u001b[0m\u001b[0;34m\u001b[0m\u001b[0;34m\u001b[0m\u001b[0m\n\u001b[0;32m----> 7\u001b[0;31m     n = api_call(\"\"\"\n\u001b[0m\u001b[1;32m      8\u001b[0m         query {\n\u001b[1;32m      9\u001b[0m             uuid(id: %s) {\n",
      "\u001b[0;31mTypeError\u001b[0m: 'NoneType' object is not subscriptable"
     ]
    }
   ],
   "source": [
    "display(Markdown(\"# Not trashed pages\"))\n",
    "\n",
    "for (page_id, instance, trashed) in page_ids:\n",
    "    if not trashed:\n",
    "        display(Markdown(f\"## Page {page_id} on {instance} (trashed={trashed}):\"))\n",
    "        print_json(navigation_of_page(page_id))"
   ]
  },
  {
   "cell_type": "code",
   "execution_count": null,
   "id": "indirect-albert",
   "metadata": {},
   "outputs": [],
   "source": [
    "display(Markdown(\"# Trashed pages\"))\n",
    "\n",
    "for (page_id, instance, trashed) in page_ids:\n",
    "    if trashed:\n",
    "        display(Markdown(f\"## Page {page_id} on {instance} (trashed={trashed}):\"))\n",
    "        print_json(navigation_of_page(page_id))"
   ]
  }
 ],
 "metadata": {
  "kernelspec": {
   "display_name": "Python 3",
   "language": "python",
   "name": "python3"
  },
  "language_info": {
   "codemirror_mode": {
    "name": "ipython",
    "version": 3
   },
   "file_extension": ".py",
   "mimetype": "text/x-python",
   "name": "python",
   "nbconvert_exporter": "python",
   "pygments_lexer": "ipython3",
   "version": "3.9.1"
  }
 },
 "nbformat": 4,
 "nbformat_minor": 5
}
